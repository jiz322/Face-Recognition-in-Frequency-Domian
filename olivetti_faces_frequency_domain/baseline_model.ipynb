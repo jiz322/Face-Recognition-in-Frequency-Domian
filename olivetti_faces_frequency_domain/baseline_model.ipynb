{
 "cells": [
  {
   "cell_type": "code",
   "execution_count": 1,
   "metadata": {},
   "outputs": [
    {
     "name": "stderr",
     "output_type": "stream",
     "text": [
      "/home/jupyter-zhw622/DeepLearning/preprocessing.py:41: UserWarning: Creating a tensor from a list of numpy.ndarrays is extremely slow. Please consider converting the list to a single numpy.ndarray with numpy.array() before converting to a tensor. (Triggered internally at  ../torch/csrc/utils/tensor_new.cpp:201.)\n",
      "  train_data = torch.tensor(train_data)\n"
     ]
    }
   ],
   "source": [
    "import torch\n",
    "from torch import embedding, nn\n",
    "import torch.nn.functional as F\n",
    "import torch.optim as optim\n",
    "import random\n",
    "import time\n",
    "from tqdm import tqdm\n",
    "from preprocessing import *\n",
    "from baseline import FaceRecognizer\n",
    "# train_data: tuple of length 320, each is a matrix represents a picture\n",
    "# train_target: tuple of length 320, each is a label\n",
    "# For training, there are 40 classes, each has 8 pictures\n",
    "# For testing, there are 40 classes, each has 2 pictures"
   ]
  },
  {
   "cell_type": "code",
   "execution_count": 2,
   "metadata": {},
   "outputs": [
    {
     "name": "stdout",
     "output_type": "stream",
     "text": [
      "torch.Size([1, 1, 64, 64])\n"
     ]
    }
   ],
   "source": [
    "fr = FaceRecognizer()\n",
    "fr.forward(train_data[1])\n",
    "print(train_data[1].shape)"
   ]
  },
  {
   "cell_type": "code",
   "execution_count": 3,
   "metadata": {},
   "outputs": [],
   "source": [
    "import torch_dct as dct"
   ]
  },
  {
   "cell_type": "code",
   "execution_count": 4,
   "metadata": {},
   "outputs": [],
   "source": [
    "epsilon = 1e-8"
   ]
  },
  {
   "cell_type": "code",
   "execution_count": 5,
   "metadata": {},
   "outputs": [
    {
     "name": "stdout",
     "output_type": "stream",
     "text": [
      "tensor([[-1.8057, -1.1350, -0.5841,  ..., -0.6799, -0.6799, -0.9434],\n",
      "        [-1.7578, -1.2308, -0.7278,  ..., -0.6080, -0.7278, -0.8715],\n",
      "        [-1.7099, -1.3027, -0.7996,  ..., -0.6320, -0.7517, -0.9194],\n",
      "        ...,\n",
      "        [ 1.7633,  1.6675,  1.7154,  ..., -0.5601, -0.5601, -0.4883],\n",
      "        [ 1.7873,  1.6675,  1.7394,  ..., -0.5601, -0.5601, -0.4643],\n",
      "        [ 1.7633,  1.7394,  1.7154,  ..., -0.5362, -0.5122, -0.4883]])\n"
     ]
    }
   ],
   "source": [
    "print(train_data[1][0][0])"
   ]
  },
  {
   "cell_type": "code",
   "execution_count": 6,
   "metadata": {},
   "outputs": [
    {
     "name": "stdout",
     "output_type": "stream",
     "text": [
      "tensor([[-1.8057, -1.1350, -0.5841,  ..., -0.6799, -0.6799, -0.9434],\n",
      "        [-1.7578, -1.2308, -0.7278,  ..., -0.6080, -0.7278, -0.8715],\n",
      "        [-1.7099, -1.3027, -0.7996,  ..., -0.6320, -0.7517, -0.9194],\n",
      "        ...,\n",
      "        [ 1.7633,  1.6675,  1.7154,  ..., -0.5601, -0.5601, -0.4883],\n",
      "        [ 1.7873,  1.6675,  1.7394,  ..., -0.5601, -0.5601, -0.4643],\n",
      "        [ 1.7633,  1.7394,  1.7154,  ..., -0.5362, -0.5122, -0.4883]])\n"
     ]
    }
   ],
   "source": [
    "print(train_data[1][0][0]+epsilon)"
   ]
  },
  {
   "cell_type": "code",
   "execution_count": 7,
   "metadata": {},
   "outputs": [],
   "source": [
    "for i in range(train_data.shape[0]):\n",
    "    train_data[i] = dct.dct_2d(train_data[i])\n",
    "    train_data[i][0][0] += epsilon\n",
    "for j in range(test_data.shape[0]):\n",
    "    test_data[j] = dct.dct_2d(test_data[j])"
   ]
  },
  {
   "cell_type": "code",
   "execution_count": 8,
   "metadata": {},
   "outputs": [],
   "source": [
    "\n",
    "\n",
    "num_epochs_train = 0\n",
    "\n",
    "def train(model, data, targets, optimizer, criterion,  num_epochs=0):  \n",
    "    global num_epochs_train \n",
    "#     if num_epochs_train == 1:\n",
    "#         tmp = optimizer.state_dict()\n",
    "#         tmp[\"param_groups\"][0][\"lr\"] = 0.0005\n",
    "    model.train()\n",
    "    epoch_loss = 0\n",
    "    sampling = list(range(train_data.shape[0]))\n",
    "    random.shuffle(sampling)\n",
    "    print(\"training ...\")\n",
    "    for i, selected_batch_index in tqdm(enumerate(sampling)):\n",
    "        optimizer.zero_grad()\n",
    "        z = fr.forward(data[selected_batch_index])\n",
    "        loss = 0       \n",
    "        loss=criterion(z,targets[selected_batch_index].long())\n",
    "        loss.backward()\n",
    "        optimizer.step()\n",
    "        epoch_loss += loss.item()\n",
    "    num_epochs_train += 1\n",
    "    return epoch_loss\n",
    "\n",
    "confusion_matrix = []\n",
    "num_epochs = 0\n",
    "def evaluate(model, data, targets, criterion, num_targets): \n",
    "    model.eval()\n",
    "    epoch_loss = 0\n",
    "    sampling = list(range(data.shape[0]))\n",
    "    random.shuffle(sampling)\n",
    "    confusion_matrix.append(torch.zeros(num_targets,num_targets))\n",
    "    global num_epochs\n",
    "    for i, selected_batch_index in tqdm(enumerate(sampling)):\n",
    "        z = fr.forward(data[selected_batch_index])\n",
    "        loss = 0\n",
    "        loss=criterion(z,targets[selected_batch_index].long())\n",
    "        # print(targets[selected_batch_index].long())\n",
    "        epoch_loss += loss.item()\n",
    "        # Load in confusion_matrix\n",
    "        for i in range(data[selected_batch_index].shape[0]):\n",
    "            row = targets[selected_batch_index].long()\n",
    "            col = torch.argmax(z[i])\n",
    "            \n",
    "#             print(num_epochs,row.item(),col.item())\n",
    "#             print(confusion_matrix)\n",
    "            confusion_matrix[num_epochs][row.item()][col.item()] += 1\n",
    "     \n",
    "    num_epochs += 1\n",
    "        \n",
    "    return epoch_loss\n",
    "def epoch_time(start_time, end_time):\n",
    "    elapsed_time = end_time - start_time\n",
    "    elapsed_mins = int(elapsed_time / 60)\n",
    "    elapsed_secs = int(elapsed_time - (elapsed_mins * 60))\n",
    "    return elapsed_mins, elapsed_secs"
   ]
  },
  {
   "cell_type": "code",
   "execution_count": 9,
   "metadata": {},
   "outputs": [],
   "source": [
    "# optimizer = optim.Adam(fr.parameters())\n",
    "# criterion = nn.CrossEntropyLoss(reduction = 'sum')\n",
    "training_losses = []\n",
    "test_losses = []"
   ]
  },
  {
   "cell_type": "code",
   "execution_count": 10,
   "metadata": {},
   "outputs": [],
   "source": [
    "def train_eps(ep, lr, reg):\n",
    "    optimizer = optim.SGD(fr.parameters(), lr=lr, momentum=0.9, weight_decay=reg, nesterov=False)\n",
    "    criterion = nn.CrossEntropyLoss(reduction = 'sum')\n",
    "    N_EPOCHS = ep\n",
    "    best_test_loss = 999999\n",
    "    for epoch in range(N_EPOCHS):  \n",
    "        print(\"epoch start: \", epoch)  \n",
    "        start_time = time.time()\n",
    "        training_loss = train(fr, train_data, train_target, optimizer, criterion)\n",
    "        training_losses.append(training_loss)\n",
    "        test_loss = evaluate(fr, test_data, test_target, criterion, 40)\n",
    "        test_losses.append(test_loss)  \n",
    "        end_time = time.time()\n",
    "        epoch_mins, epoch_secs = epoch_time(start_time, end_time)\n",
    "        if test_loss < best_test_loss:\n",
    "            best_test_loss = test_loss \n",
    "            torch.save(fr.state_dict(), 'model_1e-8_1e-4_1e-2_new_2.pt')\n",
    "\n",
    "\n",
    "        print(f'Epoch: {epoch+1:02} | Time: {epoch_mins}m {epoch_secs}s', end='')\n",
    "        print(f'\\tTrain Loss: {training_loss:.3f} | Test Loss: {test_loss:.3f}')"
   ]
  },
  {
   "cell_type": "code",
   "execution_count": 11,
   "metadata": {
    "scrolled": true
   },
   "outputs": [
    {
     "name": "stderr",
     "output_type": "stream",
     "text": [
      "\r",
      "0it [00:00, ?it/s]"
     ]
    },
    {
     "name": "stdout",
     "output_type": "stream",
     "text": [
      "epoch start:  0\n",
      "training ...\n"
     ]
    },
    {
     "name": "stderr",
     "output_type": "stream",
     "text": [
      "280it [00:04, 57.83it/s]\n",
      "120it [00:00, 1624.26it/s]\n",
      "16it [00:00, 154.20it/s]"
     ]
    },
    {
     "name": "stdout",
     "output_type": "stream",
     "text": [
      "Epoch: 01 | Time: 0m 4s\tTrain Loss: 1421.258 | Test Loss: 441.087\n",
      "epoch start:  1\n",
      "training ...\n"
     ]
    },
    {
     "name": "stderr",
     "output_type": "stream",
     "text": [
      "280it [00:01, 149.77it/s]\n",
      "120it [00:00, 1385.43it/s]\n",
      "17it [00:00, 168.70it/s]"
     ]
    },
    {
     "name": "stdout",
     "output_type": "stream",
     "text": [
      "Epoch: 02 | Time: 0m 1s\tTrain Loss: 1033.148 | Test Loss: 441.070\n",
      "epoch start:  2\n",
      "training ...\n"
     ]
    },
    {
     "name": "stderr",
     "output_type": "stream",
     "text": [
      "280it [00:01, 151.66it/s]\n",
      "120it [00:00, 2001.12it/s]\n",
      "22it [00:00, 213.61it/s]"
     ]
    },
    {
     "name": "stdout",
     "output_type": "stream",
     "text": [
      "Epoch: 03 | Time: 0m 1s\tTrain Loss: 1033.142 | Test Loss: 441.016\n",
      "epoch start:  3\n",
      "training ...\n"
     ]
    },
    {
     "name": "stderr",
     "output_type": "stream",
     "text": [
      "280it [00:01, 231.17it/s]\n",
      "120it [00:00, 1631.12it/s]\n",
      "18it [00:00, 167.45it/s]"
     ]
    },
    {
     "name": "stdout",
     "output_type": "stream",
     "text": [
      "Epoch: 04 | Time: 0m 1s\tTrain Loss: 1033.131 | Test Loss: 440.948\n",
      "epoch start:  4\n",
      "training ...\n"
     ]
    },
    {
     "name": "stderr",
     "output_type": "stream",
     "text": [
      "280it [00:01, 151.83it/s]\n",
      "120it [00:00, 1677.26it/s]\n",
      "16it [00:00, 148.93it/s]"
     ]
    },
    {
     "name": "stdout",
     "output_type": "stream",
     "text": [
      "Epoch: 05 | Time: 0m 1s\tTrain Loss: 1033.130 | Test Loss: 440.913\n",
      "epoch start:  5\n",
      "training ...\n"
     ]
    },
    {
     "name": "stderr",
     "output_type": "stream",
     "text": [
      "280it [00:01, 149.53it/s]\n",
      "120it [00:00, 1335.67it/s]\n",
      "19it [00:00, 186.71it/s]"
     ]
    },
    {
     "name": "stdout",
     "output_type": "stream",
     "text": [
      "Epoch: 06 | Time: 0m 1s\tTrain Loss: 1033.117 | Test Loss: 440.862\n",
      "epoch start:  6\n",
      "training ...\n"
     ]
    },
    {
     "name": "stderr",
     "output_type": "stream",
     "text": [
      "280it [00:01, 152.30it/s]\n",
      "120it [00:00, 1637.44it/s]\n",
      "14it [00:00, 137.86it/s]"
     ]
    },
    {
     "name": "stdout",
     "output_type": "stream",
     "text": [
      "Epoch: 07 | Time: 0m 1s\tTrain Loss: 1033.123 | Test Loss: 440.827\n",
      "epoch start:  7\n",
      "training ...\n"
     ]
    },
    {
     "name": "stderr",
     "output_type": "stream",
     "text": [
      "280it [00:01, 148.80it/s]\n",
      "120it [00:00, 1595.03it/s]\n",
      "15it [00:00, 148.46it/s]"
     ]
    },
    {
     "name": "stdout",
     "output_type": "stream",
     "text": [
      "Epoch: 08 | Time: 0m 1s\tTrain Loss: 1033.100 | Test Loss: 440.778\n",
      "epoch start:  8\n",
      "training ...\n"
     ]
    },
    {
     "name": "stderr",
     "output_type": "stream",
     "text": [
      "280it [00:01, 148.43it/s]\n",
      "120it [00:00, 1630.45it/s]\n",
      "16it [00:00, 157.18it/s]"
     ]
    },
    {
     "name": "stdout",
     "output_type": "stream",
     "text": [
      "Epoch: 09 | Time: 0m 1s\tTrain Loss: 1033.113 | Test Loss: 440.666\n",
      "epoch start:  9\n",
      "training ...\n"
     ]
    },
    {
     "name": "stderr",
     "output_type": "stream",
     "text": [
      "280it [00:01, 156.09it/s]\n",
      "120it [00:00, 1769.00it/s]\n",
      "14it [00:00, 133.65it/s]"
     ]
    },
    {
     "name": "stdout",
     "output_type": "stream",
     "text": [
      "Epoch: 10 | Time: 0m 1s\tTrain Loss: 1033.086 | Test Loss: 440.583\n",
      "epoch start:  10\n",
      "training ...\n"
     ]
    },
    {
     "name": "stderr",
     "output_type": "stream",
     "text": [
      "280it [00:01, 152.57it/s]\n",
      "120it [00:00, 1672.12it/s]\n",
      "17it [00:00, 160.30it/s]"
     ]
    },
    {
     "name": "stdout",
     "output_type": "stream",
     "text": [
      "Epoch: 11 | Time: 0m 1s\tTrain Loss: 1033.075 | Test Loss: 440.508\n",
      "epoch start:  11\n",
      "training ...\n"
     ]
    },
    {
     "name": "stderr",
     "output_type": "stream",
     "text": [
      "280it [00:01, 148.70it/s]\n",
      "120it [00:00, 1894.25it/s]\n",
      "16it [00:00, 153.53it/s]"
     ]
    },
    {
     "name": "stdout",
     "output_type": "stream",
     "text": [
      "Epoch: 12 | Time: 0m 1s\tTrain Loss: 1033.063 | Test Loss: 440.387\n",
      "epoch start:  12\n",
      "training ...\n"
     ]
    },
    {
     "name": "stderr",
     "output_type": "stream",
     "text": [
      "280it [00:01, 191.57it/s]\n",
      "120it [00:00, 1628.86it/s]\n",
      "16it [00:00, 152.51it/s]"
     ]
    },
    {
     "name": "stdout",
     "output_type": "stream",
     "text": [
      "Epoch: 13 | Time: 0m 1s\tTrain Loss: 1033.054 | Test Loss: 440.293\n",
      "epoch start:  13\n",
      "training ...\n"
     ]
    },
    {
     "name": "stderr",
     "output_type": "stream",
     "text": [
      "280it [00:01, 150.46it/s]\n",
      "120it [00:00, 1761.04it/s]\n",
      "17it [00:00, 159.28it/s]"
     ]
    },
    {
     "name": "stdout",
     "output_type": "stream",
     "text": [
      "Epoch: 14 | Time: 0m 1s\tTrain Loss: 1040.262 | Test Loss: 442.704\n",
      "epoch start:  14\n",
      "training ...\n"
     ]
    },
    {
     "name": "stderr",
     "output_type": "stream",
     "text": [
      "280it [00:01, 149.35it/s]\n",
      "120it [00:00, 1330.87it/s]\n",
      "15it [00:00, 149.13it/s]"
     ]
    },
    {
     "name": "stdout",
     "output_type": "stream",
     "text": [
      "Epoch: 15 | Time: 0m 1s\tTrain Loss: 1033.006 | Test Loss: 442.704\n",
      "epoch start:  15\n",
      "training ...\n"
     ]
    },
    {
     "name": "stderr",
     "output_type": "stream",
     "text": [
      "280it [00:01, 157.59it/s]\n",
      "120it [00:00, 1579.09it/s]\n",
      "16it [00:00, 156.51it/s]"
     ]
    },
    {
     "name": "stdout",
     "output_type": "stream",
     "text": [
      "Epoch: 16 | Time: 0m 1s\tTrain Loss: 1032.996 | Test Loss: 442.703\n",
      "epoch start:  16\n",
      "training ...\n"
     ]
    },
    {
     "name": "stderr",
     "output_type": "stream",
     "text": [
      "280it [00:01, 158.95it/s]\n",
      "120it [00:00, 1669.82it/s]\n",
      "19it [00:00, 188.69it/s]"
     ]
    },
    {
     "name": "stdout",
     "output_type": "stream",
     "text": [
      "Epoch: 17 | Time: 0m 1s\tTrain Loss: 1032.929 | Test Loss: 442.638\n",
      "epoch start:  17\n",
      "training ...\n"
     ]
    },
    {
     "name": "stderr",
     "output_type": "stream",
     "text": [
      "280it [00:01, 153.02it/s]\n",
      "120it [00:00, 1630.41it/s]\n",
      "15it [00:00, 147.46it/s]"
     ]
    },
    {
     "name": "stdout",
     "output_type": "stream",
     "text": [
      "Epoch: 18 | Time: 0m 1s\tTrain Loss: 1032.845 | Test Loss: 442.520\n",
      "epoch start:  18\n",
      "training ...\n"
     ]
    },
    {
     "name": "stderr",
     "output_type": "stream",
     "text": [
      "280it [00:01, 149.99it/s]\n",
      "120it [00:00, 1716.31it/s]\n",
      "16it [00:00, 150.87it/s]"
     ]
    },
    {
     "name": "stdout",
     "output_type": "stream",
     "text": [
      "Epoch: 19 | Time: 0m 1s\tTrain Loss: 1032.778 | Test Loss: 442.492\n",
      "epoch start:  19\n",
      "training ...\n"
     ]
    },
    {
     "name": "stderr",
     "output_type": "stream",
     "text": [
      "280it [00:01, 151.37it/s]\n",
      "120it [00:00, 1314.71it/s]\n",
      "15it [00:00, 148.07it/s]"
     ]
    },
    {
     "name": "stdout",
     "output_type": "stream",
     "text": [
      "Epoch: 20 | Time: 0m 1s\tTrain Loss: 1033.928 | Test Loss: 442.706\n",
      "epoch start:  20\n",
      "training ...\n"
     ]
    },
    {
     "name": "stderr",
     "output_type": "stream",
     "text": [
      "280it [00:01, 151.96it/s]\n",
      "120it [00:00, 1717.49it/s]\n",
      "15it [00:00, 149.50it/s]"
     ]
    },
    {
     "name": "stdout",
     "output_type": "stream",
     "text": [
      "Epoch: 21 | Time: 0m 1s\tTrain Loss: 1032.956 | Test Loss: 442.708\n",
      "epoch start:  21\n",
      "training ...\n"
     ]
    },
    {
     "name": "stderr",
     "output_type": "stream",
     "text": [
      "280it [00:01, 152.33it/s]\n",
      "120it [00:00, 1345.21it/s]\n",
      "15it [00:00, 147.76it/s]"
     ]
    },
    {
     "name": "stdout",
     "output_type": "stream",
     "text": [
      "Epoch: 22 | Time: 0m 1s\tTrain Loss: 1032.940 | Test Loss: 442.708\n",
      "epoch start:  22\n",
      "training ...\n"
     ]
    },
    {
     "name": "stderr",
     "output_type": "stream",
     "text": [
      "280it [00:01, 152.26it/s]\n",
      "120it [00:00, 1325.68it/s]\n",
      "15it [00:00, 140.55it/s]"
     ]
    },
    {
     "name": "stdout",
     "output_type": "stream",
     "text": [
      "Epoch: 23 | Time: 0m 1s\tTrain Loss: 1032.896 | Test Loss: 442.710\n",
      "epoch start:  23\n",
      "training ...\n"
     ]
    },
    {
     "name": "stderr",
     "output_type": "stream",
     "text": [
      "280it [00:01, 147.88it/s]\n",
      "120it [00:00, 1681.81it/s]\n",
      "16it [00:00, 157.28it/s]"
     ]
    },
    {
     "name": "stdout",
     "output_type": "stream",
     "text": [
      "Epoch: 24 | Time: 0m 1s\tTrain Loss: 1032.865 | Test Loss: 442.710\n",
      "epoch start:  24\n",
      "training ...\n"
     ]
    },
    {
     "name": "stderr",
     "output_type": "stream",
     "text": [
      "280it [00:01, 147.29it/s]\n",
      "120it [00:00, 1370.00it/s]\n",
      "15it [00:00, 147.60it/s]"
     ]
    },
    {
     "name": "stdout",
     "output_type": "stream",
     "text": [
      "Epoch: 25 | Time: 0m 1s\tTrain Loss: 1032.817 | Test Loss: 442.713\n",
      "epoch start:  25\n",
      "training ...\n"
     ]
    },
    {
     "name": "stderr",
     "output_type": "stream",
     "text": [
      "280it [00:01, 155.73it/s]\n",
      "120it [00:00, 1753.35it/s]\n",
      "16it [00:00, 159.40it/s]"
     ]
    },
    {
     "name": "stdout",
     "output_type": "stream",
     "text": [
      "Epoch: 26 | Time: 0m 1s\tTrain Loss: 1032.750 | Test Loss: 442.721\n",
      "epoch start:  26\n",
      "training ...\n"
     ]
    },
    {
     "name": "stderr",
     "output_type": "stream",
     "text": [
      "280it [00:01, 150.22it/s]\n",
      "120it [00:00, 1715.99it/s]\n",
      "16it [00:00, 155.76it/s]"
     ]
    },
    {
     "name": "stdout",
     "output_type": "stream",
     "text": [
      "Epoch: 27 | Time: 0m 1s\tTrain Loss: 1032.653 | Test Loss: 442.725\n",
      "epoch start:  27\n",
      "training ...\n"
     ]
    },
    {
     "name": "stderr",
     "output_type": "stream",
     "text": [
      "280it [00:01, 158.12it/s]\n",
      "120it [00:00, 1421.06it/s]\n",
      "16it [00:00, 151.05it/s]"
     ]
    },
    {
     "name": "stdout",
     "output_type": "stream",
     "text": [
      "Epoch: 28 | Time: 0m 1s\tTrain Loss: 1032.537 | Test Loss: 442.728\n",
      "epoch start:  28\n",
      "training ...\n"
     ]
    },
    {
     "name": "stderr",
     "output_type": "stream",
     "text": [
      "280it [00:01, 151.68it/s]\n",
      "120it [00:00, 1735.27it/s]\n",
      "16it [00:00, 154.40it/s]"
     ]
    },
    {
     "name": "stdout",
     "output_type": "stream",
     "text": [
      "Epoch: 29 | Time: 0m 1s\tTrain Loss: 1032.304 | Test Loss: 442.722\n",
      "epoch start:  29\n",
      "training ...\n"
     ]
    },
    {
     "name": "stderr",
     "output_type": "stream",
     "text": [
      "280it [00:01, 152.48it/s]\n",
      "120it [00:00, 1664.13it/s]\n",
      "16it [00:00, 159.44it/s]"
     ]
    },
    {
     "name": "stdout",
     "output_type": "stream",
     "text": [
      "Epoch: 30 | Time: 0m 1s\tTrain Loss: 1031.902 | Test Loss: 442.724\n",
      "epoch start:  30\n",
      "training ...\n"
     ]
    },
    {
     "name": "stderr",
     "output_type": "stream",
     "text": [
      "280it [00:01, 189.78it/s]\n",
      "120it [00:00, 1639.84it/s]\n",
      "24it [00:00, 238.46it/s]"
     ]
    },
    {
     "name": "stdout",
     "output_type": "stream",
     "text": [
      "Epoch: 31 | Time: 0m 1s\tTrain Loss: 1031.086 | Test Loss: 442.811\n",
      "epoch start:  31\n",
      "training ...\n"
     ]
    },
    {
     "name": "stderr",
     "output_type": "stream",
     "text": [
      "280it [00:01, 218.52it/s]\n",
      "120it [00:00, 1710.62it/s]\n",
      "18it [00:00, 173.25it/s]"
     ]
    },
    {
     "name": "stdout",
     "output_type": "stream",
     "text": [
      "Epoch: 32 | Time: 0m 1s\tTrain Loss: 1028.281 | Test Loss: 449.102\n",
      "epoch start:  32\n",
      "training ...\n"
     ]
    },
    {
     "name": "stderr",
     "output_type": "stream",
     "text": [
      "280it [00:01, 161.98it/s]\n",
      "120it [00:00, 1586.82it/s]\n",
      "16it [00:00, 153.43it/s]"
     ]
    },
    {
     "name": "stdout",
     "output_type": "stream",
     "text": [
      "Epoch: 33 | Time: 0m 1s\tTrain Loss: 1018.845 | Test Loss: 442.767\n",
      "epoch start:  33\n",
      "training ...\n"
     ]
    },
    {
     "name": "stderr",
     "output_type": "stream",
     "text": [
      "280it [00:01, 213.97it/s]\n",
      "120it [00:00, 1594.98it/s]\n",
      "16it [00:00, 153.47it/s]"
     ]
    },
    {
     "name": "stdout",
     "output_type": "stream",
     "text": [
      "Epoch: 34 | Time: 0m 1s\tTrain Loss: 993.565 | Test Loss: 433.992\n",
      "epoch start:  34\n",
      "training ...\n"
     ]
    },
    {
     "name": "stderr",
     "output_type": "stream",
     "text": [
      "280it [00:01, 155.11it/s]\n",
      "120it [00:00, 1673.66it/s]\n",
      "14it [00:00, 138.41it/s]"
     ]
    },
    {
     "name": "stdout",
     "output_type": "stream",
     "text": [
      "Epoch: 35 | Time: 0m 1s\tTrain Loss: 920.057 | Test Loss: 397.822\n",
      "epoch start:  35\n",
      "training ...\n"
     ]
    },
    {
     "name": "stderr",
     "output_type": "stream",
     "text": [
      "280it [00:01, 161.67it/s]\n",
      "120it [00:00, 1535.88it/s]\n",
      "18it [00:00, 169.81it/s]"
     ]
    },
    {
     "name": "stdout",
     "output_type": "stream",
     "text": [
      "Epoch: 36 | Time: 0m 1s\tTrain Loss: 828.983 | Test Loss: 383.100\n",
      "epoch start:  36\n",
      "training ...\n"
     ]
    },
    {
     "name": "stderr",
     "output_type": "stream",
     "text": [
      "280it [00:01, 168.26it/s]\n",
      "120it [00:00, 1586.90it/s]\n",
      "17it [00:00, 167.72it/s]"
     ]
    },
    {
     "name": "stdout",
     "output_type": "stream",
     "text": [
      "Epoch: 37 | Time: 0m 1s\tTrain Loss: 643.419 | Test Loss: 364.198\n",
      "epoch start:  37\n",
      "training ...\n"
     ]
    },
    {
     "name": "stderr",
     "output_type": "stream",
     "text": [
      "280it [00:01, 166.40it/s]\n",
      "120it [00:00, 1609.51it/s]\n",
      "21it [00:00, 202.17it/s]"
     ]
    },
    {
     "name": "stdout",
     "output_type": "stream",
     "text": [
      "Epoch: 38 | Time: 0m 1s\tTrain Loss: 500.935 | Test Loss: 372.176\n",
      "epoch start:  38\n",
      "training ...\n"
     ]
    },
    {
     "name": "stderr",
     "output_type": "stream",
     "text": [
      "280it [00:01, 173.22it/s]\n",
      "120it [00:00, 1523.15it/s]\n",
      "19it [00:00, 178.08it/s]"
     ]
    },
    {
     "name": "stdout",
     "output_type": "stream",
     "text": [
      "Epoch: 39 | Time: 0m 1s\tTrain Loss: 341.398 | Test Loss: 411.302\n",
      "epoch start:  39\n",
      "training ...\n"
     ]
    },
    {
     "name": "stderr",
     "output_type": "stream",
     "text": [
      "280it [00:01, 168.20it/s]\n",
      "120it [00:00, 1747.01it/s]\n",
      "18it [00:00, 168.43it/s]"
     ]
    },
    {
     "name": "stdout",
     "output_type": "stream",
     "text": [
      "Epoch: 40 | Time: 0m 1s\tTrain Loss: 276.418 | Test Loss: 401.867\n",
      "epoch start:  40\n",
      "training ...\n"
     ]
    },
    {
     "name": "stderr",
     "output_type": "stream",
     "text": [
      "280it [00:01, 154.50it/s]\n",
      "120it [00:00, 1671.64it/s]\n",
      "23it [00:00, 226.57it/s]"
     ]
    },
    {
     "name": "stdout",
     "output_type": "stream",
     "text": [
      "Epoch: 41 | Time: 0m 1s\tTrain Loss: 152.160 | Test Loss: 409.324\n",
      "epoch start:  41\n",
      "training ...\n"
     ]
    },
    {
     "name": "stderr",
     "output_type": "stream",
     "text": [
      "280it [00:01, 233.15it/s]\n",
      "120it [00:00, 1574.78it/s]\n",
      "24it [00:00, 234.39it/s]"
     ]
    },
    {
     "name": "stdout",
     "output_type": "stream",
     "text": [
      "Epoch: 42 | Time: 0m 1s\tTrain Loss: 129.794 | Test Loss: 401.562\n",
      "epoch start:  42\n",
      "training ...\n"
     ]
    },
    {
     "name": "stderr",
     "output_type": "stream",
     "text": [
      "280it [00:01, 233.12it/s]\n",
      "120it [00:00, 1484.66it/s]\n",
      "24it [00:00, 232.17it/s]"
     ]
    },
    {
     "name": "stdout",
     "output_type": "stream",
     "text": [
      "Epoch: 43 | Time: 0m 1s\tTrain Loss: 161.467 | Test Loss: 638.087\n",
      "epoch start:  43\n",
      "training ...\n"
     ]
    },
    {
     "name": "stderr",
     "output_type": "stream",
     "text": [
      "280it [00:01, 238.68it/s]\n",
      "120it [00:00, 1426.00it/s]\n",
      "24it [00:00, 229.91it/s]"
     ]
    },
    {
     "name": "stdout",
     "output_type": "stream",
     "text": [
      "Epoch: 44 | Time: 0m 1s\tTrain Loss: 201.024 | Test Loss: 544.835\n",
      "epoch start:  44\n",
      "training ...\n"
     ]
    },
    {
     "name": "stderr",
     "output_type": "stream",
     "text": [
      "280it [00:01, 167.01it/s]\n",
      "120it [00:00, 1775.65it/s]\n",
      "15it [00:00, 143.86it/s]"
     ]
    },
    {
     "name": "stdout",
     "output_type": "stream",
     "text": [
      "Epoch: 45 | Time: 0m 1s\tTrain Loss: 70.434 | Test Loss: 648.792\n",
      "epoch start:  45\n",
      "training ...\n"
     ]
    },
    {
     "name": "stderr",
     "output_type": "stream",
     "text": [
      "280it [00:01, 194.10it/s]\n",
      "120it [00:00, 1594.37it/s]\n",
      "17it [00:00, 162.95it/s]"
     ]
    },
    {
     "name": "stdout",
     "output_type": "stream",
     "text": [
      "Epoch: 46 | Time: 0m 1s\tTrain Loss: 42.109 | Test Loss: 444.964\n",
      "epoch start:  46\n",
      "training ...\n"
     ]
    },
    {
     "name": "stderr",
     "output_type": "stream",
     "text": [
      "280it [00:01, 175.33it/s]\n",
      "120it [00:00, 1590.49it/s]\n",
      "16it [00:00, 159.89it/s]"
     ]
    },
    {
     "name": "stdout",
     "output_type": "stream",
     "text": [
      "Epoch: 47 | Time: 0m 1s\tTrain Loss: 2.384 | Test Loss: 450.693\n",
      "epoch start:  47\n",
      "training ...\n"
     ]
    },
    {
     "name": "stderr",
     "output_type": "stream",
     "text": [
      "280it [00:01, 160.52it/s]\n",
      "120it [00:00, 1654.76it/s]\n",
      "14it [00:00, 135.36it/s]"
     ]
    },
    {
     "name": "stdout",
     "output_type": "stream",
     "text": [
      "Epoch: 48 | Time: 0m 1s\tTrain Loss: 0.684 | Test Loss: 449.594\n",
      "epoch start:  48\n",
      "training ...\n"
     ]
    },
    {
     "name": "stderr",
     "output_type": "stream",
     "text": [
      "280it [00:01, 184.59it/s]\n",
      "120it [00:00, 1603.01it/s]\n",
      "16it [00:00, 159.39it/s]"
     ]
    },
    {
     "name": "stdout",
     "output_type": "stream",
     "text": [
      "Epoch: 49 | Time: 0m 1s\tTrain Loss: 0.550 | Test Loss: 449.976\n",
      "epoch start:  49\n",
      "training ...\n"
     ]
    },
    {
     "name": "stderr",
     "output_type": "stream",
     "text": [
      "280it [00:01, 153.18it/s]\n",
      "120it [00:00, 1644.89it/s]\n",
      "17it [00:00, 162.30it/s]"
     ]
    },
    {
     "name": "stdout",
     "output_type": "stream",
     "text": [
      "Epoch: 50 | Time: 0m 1s\tTrain Loss: 0.480 | Test Loss: 449.650\n",
      "epoch start:  50\n",
      "training ...\n"
     ]
    },
    {
     "name": "stderr",
     "output_type": "stream",
     "text": [
      "280it [00:01, 152.66it/s]\n",
      "120it [00:00, 1655.86it/s]\n",
      "16it [00:00, 156.51it/s]"
     ]
    },
    {
     "name": "stdout",
     "output_type": "stream",
     "text": [
      "Epoch: 51 | Time: 0m 1s\tTrain Loss: 0.433 | Test Loss: 448.680\n",
      "epoch start:  51\n",
      "training ...\n"
     ]
    },
    {
     "name": "stderr",
     "output_type": "stream",
     "text": [
      "280it [00:01, 148.00it/s]\n",
      "120it [00:00, 1749.91it/s]\n",
      "15it [00:00, 149.98it/s]"
     ]
    },
    {
     "name": "stdout",
     "output_type": "stream",
     "text": [
      "Epoch: 52 | Time: 0m 1s\tTrain Loss: 0.402 | Test Loss: 447.630\n",
      "epoch start:  52\n",
      "training ...\n"
     ]
    },
    {
     "name": "stderr",
     "output_type": "stream",
     "text": [
      "280it [00:01, 152.59it/s]\n",
      "120it [00:00, 1709.13it/s]\n",
      "15it [00:00, 142.52it/s]"
     ]
    },
    {
     "name": "stdout",
     "output_type": "stream",
     "text": [
      "Epoch: 53 | Time: 0m 1s\tTrain Loss: 0.378 | Test Loss: 444.968\n",
      "epoch start:  53\n",
      "training ...\n"
     ]
    },
    {
     "name": "stderr",
     "output_type": "stream",
     "text": [
      "280it [00:01, 149.71it/s]\n",
      "120it [00:00, 1696.57it/s]\n",
      "17it [00:00, 165.69it/s]"
     ]
    },
    {
     "name": "stdout",
     "output_type": "stream",
     "text": [
      "Epoch: 54 | Time: 0m 1s\tTrain Loss: 0.362 | Test Loss: 444.383\n",
      "epoch start:  54\n",
      "training ...\n"
     ]
    },
    {
     "name": "stderr",
     "output_type": "stream",
     "text": [
      "280it [00:01, 153.81it/s]\n",
      "120it [00:00, 1723.54it/s]\n",
      "17it [00:00, 160.68it/s]"
     ]
    },
    {
     "name": "stdout",
     "output_type": "stream",
     "text": [
      "Epoch: 55 | Time: 0m 1s\tTrain Loss: 0.345 | Test Loss: 443.268\n",
      "epoch start:  55\n",
      "training ...\n"
     ]
    },
    {
     "name": "stderr",
     "output_type": "stream",
     "text": [
      "280it [00:01, 157.11it/s]\n",
      "120it [00:00, 1609.82it/s]\n",
      "17it [00:00, 161.39it/s]"
     ]
    },
    {
     "name": "stdout",
     "output_type": "stream",
     "text": [
      "Epoch: 56 | Time: 0m 1s\tTrain Loss: 0.335 | Test Loss: 441.414\n",
      "epoch start:  56\n",
      "training ...\n"
     ]
    },
    {
     "name": "stderr",
     "output_type": "stream",
     "text": [
      "280it [00:01, 147.17it/s]\n",
      "120it [00:00, 1682.60it/s]\n",
      "21it [00:00, 202.69it/s]"
     ]
    },
    {
     "name": "stdout",
     "output_type": "stream",
     "text": [
      "Epoch: 57 | Time: 0m 1s\tTrain Loss: 0.325 | Test Loss: 440.524\n",
      "epoch start:  57\n",
      "training ...\n"
     ]
    },
    {
     "name": "stderr",
     "output_type": "stream",
     "text": [
      "280it [00:01, 221.76it/s]\n",
      "120it [00:00, 1620.71it/s]\n",
      "22it [00:00, 212.19it/s]"
     ]
    },
    {
     "name": "stdout",
     "output_type": "stream",
     "text": [
      "Epoch: 58 | Time: 0m 1s\tTrain Loss: 0.318 | Test Loss: 438.315\n",
      "epoch start:  58\n",
      "training ...\n"
     ]
    },
    {
     "name": "stderr",
     "output_type": "stream",
     "text": [
      "280it [00:01, 164.57it/s]\n",
      "120it [00:00, 1734.01it/s]\n",
      "16it [00:00, 151.38it/s]"
     ]
    },
    {
     "name": "stdout",
     "output_type": "stream",
     "text": [
      "Epoch: 59 | Time: 0m 1s\tTrain Loss: 0.312 | Test Loss: 437.639\n",
      "epoch start:  59\n",
      "training ...\n"
     ]
    },
    {
     "name": "stderr",
     "output_type": "stream",
     "text": [
      "280it [00:01, 150.22it/s]\n",
      "120it [00:00, 1587.46it/s]\n",
      "24it [00:00, 230.10it/s]"
     ]
    },
    {
     "name": "stdout",
     "output_type": "stream",
     "text": [
      "Epoch: 60 | Time: 0m 1s\tTrain Loss: 0.305 | Test Loss: 435.983\n",
      "epoch start:  60\n",
      "training ...\n"
     ]
    },
    {
     "name": "stderr",
     "output_type": "stream",
     "text": [
      "280it [00:01, 161.55it/s]\n",
      "120it [00:00, 1307.82it/s]\n",
      "16it [00:00, 155.95it/s]"
     ]
    },
    {
     "name": "stdout",
     "output_type": "stream",
     "text": [
      "Epoch: 61 | Time: 0m 1s\tTrain Loss: 0.301 | Test Loss: 434.622\n",
      "epoch start:  61\n",
      "training ...\n"
     ]
    },
    {
     "name": "stderr",
     "output_type": "stream",
     "text": [
      "280it [00:01, 154.99it/s]\n",
      "120it [00:00, 1347.26it/s]\n",
      "16it [00:00, 152.98it/s]"
     ]
    },
    {
     "name": "stdout",
     "output_type": "stream",
     "text": [
      "Epoch: 62 | Time: 0m 1s\tTrain Loss: 0.294 | Test Loss: 433.704\n",
      "epoch start:  62\n",
      "training ...\n"
     ]
    },
    {
     "name": "stderr",
     "output_type": "stream",
     "text": [
      "280it [00:01, 211.11it/s]\n",
      "120it [00:00, 1514.20it/s]\n",
      "17it [00:00, 160.45it/s]"
     ]
    },
    {
     "name": "stdout",
     "output_type": "stream",
     "text": [
      "Epoch: 63 | Time: 0m 1s\tTrain Loss: 0.295 | Test Loss: 431.781\n",
      "epoch start:  63\n",
      "training ...\n"
     ]
    },
    {
     "name": "stderr",
     "output_type": "stream",
     "text": [
      "280it [00:01, 150.18it/s]\n",
      "120it [00:00, 1792.27it/s]\n",
      "15it [00:00, 140.54it/s]"
     ]
    },
    {
     "name": "stdout",
     "output_type": "stream",
     "text": [
      "Epoch: 64 | Time: 0m 1s\tTrain Loss: 0.291 | Test Loss: 430.028\n",
      "epoch start:  64\n",
      "training ...\n"
     ]
    },
    {
     "name": "stderr",
     "output_type": "stream",
     "text": [
      "280it [00:01, 152.54it/s]\n",
      "120it [00:00, 1722.16it/s]\n",
      "19it [00:00, 182.35it/s]"
     ]
    },
    {
     "name": "stdout",
     "output_type": "stream",
     "text": [
      "Epoch: 65 | Time: 0m 1s\tTrain Loss: 0.290 | Test Loss: 428.648\n",
      "epoch start:  65\n",
      "training ...\n"
     ]
    },
    {
     "name": "stderr",
     "output_type": "stream",
     "text": [
      "280it [00:01, 171.91it/s]\n",
      "120it [00:00, 1684.57it/s]\n",
      "16it [00:00, 152.51it/s]"
     ]
    },
    {
     "name": "stdout",
     "output_type": "stream",
     "text": [
      "Epoch: 66 | Time: 0m 1s\tTrain Loss: 0.288 | Test Loss: 427.250\n",
      "epoch start:  66\n",
      "training ...\n"
     ]
    },
    {
     "name": "stderr",
     "output_type": "stream",
     "text": [
      "280it [00:01, 151.17it/s]\n",
      "120it [00:00, 1338.58it/s]\n",
      "14it [00:00, 139.32it/s]"
     ]
    },
    {
     "name": "stdout",
     "output_type": "stream",
     "text": [
      "Epoch: 67 | Time: 0m 1s\tTrain Loss: 0.287 | Test Loss: 426.067\n",
      "epoch start:  67\n",
      "training ...\n"
     ]
    },
    {
     "name": "stderr",
     "output_type": "stream",
     "text": [
      "280it [00:01, 144.05it/s]\n",
      "120it [00:00, 1676.36it/s]\n",
      "15it [00:00, 142.99it/s]"
     ]
    },
    {
     "name": "stdout",
     "output_type": "stream",
     "text": [
      "Epoch: 68 | Time: 0m 2s\tTrain Loss: 0.287 | Test Loss: 424.550\n",
      "epoch start:  68\n",
      "training ...\n"
     ]
    },
    {
     "name": "stderr",
     "output_type": "stream",
     "text": [
      "280it [00:01, 162.83it/s]\n",
      "120it [00:00, 1712.15it/s]\n",
      "16it [00:00, 152.87it/s]"
     ]
    },
    {
     "name": "stdout",
     "output_type": "stream",
     "text": [
      "Epoch: 69 | Time: 0m 1s\tTrain Loss: 0.287 | Test Loss: 423.242\n",
      "epoch start:  69\n",
      "training ...\n"
     ]
    },
    {
     "name": "stderr",
     "output_type": "stream",
     "text": [
      "280it [00:01, 153.06it/s]\n",
      "120it [00:00, 1733.47it/s]\n",
      "16it [00:00, 154.39it/s]"
     ]
    },
    {
     "name": "stdout",
     "output_type": "stream",
     "text": [
      "Epoch: 70 | Time: 0m 1s\tTrain Loss: 0.284 | Test Loss: 422.032\n",
      "epoch start:  70\n",
      "training ...\n"
     ]
    },
    {
     "name": "stderr",
     "output_type": "stream",
     "text": [
      "280it [00:01, 148.84it/s]\n",
      "120it [00:00, 1698.36it/s]\n",
      "16it [00:00, 153.86it/s]"
     ]
    },
    {
     "name": "stdout",
     "output_type": "stream",
     "text": [
      "Epoch: 71 | Time: 0m 1s\tTrain Loss: 0.286 | Test Loss: 420.774\n",
      "epoch start:  71\n",
      "training ...\n"
     ]
    },
    {
     "name": "stderr",
     "output_type": "stream",
     "text": [
      "280it [00:01, 153.94it/s]\n",
      "120it [00:00, 1623.17it/s]\n",
      "17it [00:00, 165.38it/s]"
     ]
    },
    {
     "name": "stdout",
     "output_type": "stream",
     "text": [
      "Epoch: 72 | Time: 0m 1s\tTrain Loss: 0.287 | Test Loss: 419.428\n",
      "epoch start:  72\n",
      "training ...\n"
     ]
    },
    {
     "name": "stderr",
     "output_type": "stream",
     "text": [
      "280it [00:01, 155.27it/s]\n",
      "120it [00:00, 1644.26it/s]\n",
      "18it [00:00, 174.53it/s]"
     ]
    },
    {
     "name": "stdout",
     "output_type": "stream",
     "text": [
      "Epoch: 73 | Time: 0m 1s\tTrain Loss: 0.286 | Test Loss: 418.164\n",
      "epoch start:  73\n",
      "training ...\n"
     ]
    },
    {
     "name": "stderr",
     "output_type": "stream",
     "text": [
      "280it [00:01, 148.40it/s]\n",
      "120it [00:00, 1740.03it/s]\n",
      "15it [00:00, 143.96it/s]"
     ]
    },
    {
     "name": "stdout",
     "output_type": "stream",
     "text": [
      "Epoch: 74 | Time: 0m 1s\tTrain Loss: 0.289 | Test Loss: 416.892\n",
      "epoch start:  74\n",
      "training ...\n"
     ]
    },
    {
     "name": "stderr",
     "output_type": "stream",
     "text": [
      "280it [00:01, 144.19it/s]\n",
      "120it [00:00, 1780.36it/s]\n",
      "15it [00:00, 141.41it/s]"
     ]
    },
    {
     "name": "stdout",
     "output_type": "stream",
     "text": [
      "Epoch: 75 | Time: 0m 2s\tTrain Loss: 0.288 | Test Loss: 415.618\n",
      "epoch start:  75\n",
      "training ...\n"
     ]
    },
    {
     "name": "stderr",
     "output_type": "stream",
     "text": [
      "280it [00:01, 221.81it/s]\n",
      "120it [00:00, 1503.90it/s]\n",
      "14it [00:00, 137.16it/s]"
     ]
    },
    {
     "name": "stdout",
     "output_type": "stream",
     "text": [
      "Epoch: 76 | Time: 0m 1s\tTrain Loss: 0.288 | Test Loss: 413.868\n",
      "epoch start:  76\n",
      "training ...\n"
     ]
    },
    {
     "name": "stderr",
     "output_type": "stream",
     "text": [
      "280it [00:01, 150.24it/s]\n",
      "120it [00:00, 1585.41it/s]\n",
      "16it [00:00, 155.01it/s]"
     ]
    },
    {
     "name": "stdout",
     "output_type": "stream",
     "text": [
      "Epoch: 77 | Time: 0m 1s\tTrain Loss: 0.290 | Test Loss: 412.793\n",
      "epoch start:  77\n",
      "training ...\n"
     ]
    },
    {
     "name": "stderr",
     "output_type": "stream",
     "text": [
      "280it [00:01, 147.75it/s]\n",
      "120it [00:00, 1714.41it/s]\n",
      "17it [00:00, 161.10it/s]"
     ]
    },
    {
     "name": "stdout",
     "output_type": "stream",
     "text": [
      "Epoch: 78 | Time: 0m 1s\tTrain Loss: 0.291 | Test Loss: 411.463\n",
      "epoch start:  78\n",
      "training ...\n"
     ]
    },
    {
     "name": "stderr",
     "output_type": "stream",
     "text": [
      "280it [00:01, 156.96it/s]\n",
      "120it [00:00, 1721.26it/s]\n",
      "16it [00:00, 155.21it/s]"
     ]
    },
    {
     "name": "stdout",
     "output_type": "stream",
     "text": [
      "Epoch: 79 | Time: 0m 1s\tTrain Loss: 0.293 | Test Loss: 410.377\n",
      "epoch start:  79\n",
      "training ...\n"
     ]
    },
    {
     "name": "stderr",
     "output_type": "stream",
     "text": [
      "280it [00:01, 153.44it/s]\n",
      "120it [00:00, 1685.11it/s]\n",
      "16it [00:00, 150.49it/s]"
     ]
    },
    {
     "name": "stdout",
     "output_type": "stream",
     "text": [
      "Epoch: 80 | Time: 0m 1s\tTrain Loss: 0.293 | Test Loss: 409.114\n",
      "epoch start:  80\n",
      "training ...\n"
     ]
    },
    {
     "name": "stderr",
     "output_type": "stream",
     "text": [
      "280it [00:01, 151.13it/s]\n",
      "120it [00:00, 1704.16it/s]\n",
      "17it [00:00, 168.51it/s]"
     ]
    },
    {
     "name": "stdout",
     "output_type": "stream",
     "text": [
      "Epoch: 81 | Time: 0m 1s\tTrain Loss: 0.293 | Test Loss: 407.918\n",
      "epoch start:  81\n",
      "training ...\n"
     ]
    },
    {
     "name": "stderr",
     "output_type": "stream",
     "text": [
      "280it [00:01, 212.17it/s]\n",
      "120it [00:00, 1426.13it/s]\n",
      "18it [00:00, 166.42it/s]"
     ]
    },
    {
     "name": "stdout",
     "output_type": "stream",
     "text": [
      "Epoch: 82 | Time: 0m 1s\tTrain Loss: 0.297 | Test Loss: 406.758\n",
      "epoch start:  82\n",
      "training ...\n"
     ]
    },
    {
     "name": "stderr",
     "output_type": "stream",
     "text": [
      "280it [00:01, 163.27it/s]\n",
      "120it [00:00, 1315.86it/s]\n",
      "15it [00:00, 140.06it/s]"
     ]
    },
    {
     "name": "stdout",
     "output_type": "stream",
     "text": [
      "Epoch: 83 | Time: 0m 1s\tTrain Loss: 0.298 | Test Loss: 405.273\n",
      "epoch start:  83\n",
      "training ...\n"
     ]
    },
    {
     "name": "stderr",
     "output_type": "stream",
     "text": [
      "280it [00:01, 148.61it/s]\n",
      "120it [00:00, 1694.94it/s]\n",
      "16it [00:00, 153.47it/s]"
     ]
    },
    {
     "name": "stdout",
     "output_type": "stream",
     "text": [
      "Epoch: 84 | Time: 0m 1s\tTrain Loss: 0.301 | Test Loss: 403.793\n",
      "epoch start:  84\n",
      "training ...\n"
     ]
    },
    {
     "name": "stderr",
     "output_type": "stream",
     "text": [
      "280it [00:01, 154.88it/s]\n",
      "120it [00:00, 1676.23it/s]\n",
      "15it [00:00, 142.38it/s]"
     ]
    },
    {
     "name": "stdout",
     "output_type": "stream",
     "text": [
      "Epoch: 85 | Time: 0m 1s\tTrain Loss: 0.302 | Test Loss: 402.829\n",
      "epoch start:  85\n",
      "training ...\n"
     ]
    },
    {
     "name": "stderr",
     "output_type": "stream",
     "text": [
      "280it [00:01, 148.84it/s]\n",
      "120it [00:00, 1746.09it/s]\n",
      "23it [00:00, 215.90it/s]"
     ]
    },
    {
     "name": "stdout",
     "output_type": "stream",
     "text": [
      "Epoch: 86 | Time: 0m 1s\tTrain Loss: 0.305 | Test Loss: 401.555\n",
      "epoch start:  86\n",
      "training ...\n"
     ]
    },
    {
     "name": "stderr",
     "output_type": "stream",
     "text": [
      "280it [00:01, 155.98it/s]\n",
      "120it [00:00, 1734.48it/s]\n",
      "15it [00:00, 148.09it/s]"
     ]
    },
    {
     "name": "stdout",
     "output_type": "stream",
     "text": [
      "Epoch: 87 | Time: 0m 1s\tTrain Loss: 0.306 | Test Loss: 400.192\n",
      "epoch start:  87\n",
      "training ...\n"
     ]
    },
    {
     "name": "stderr",
     "output_type": "stream",
     "text": [
      "280it [00:01, 151.51it/s]\n",
      "120it [00:00, 1678.87it/s]\n",
      "16it [00:00, 150.15it/s]"
     ]
    },
    {
     "name": "stdout",
     "output_type": "stream",
     "text": [
      "Epoch: 88 | Time: 0m 1s\tTrain Loss: 0.310 | Test Loss: 399.201\n",
      "epoch start:  88\n",
      "training ...\n"
     ]
    },
    {
     "name": "stderr",
     "output_type": "stream",
     "text": [
      "280it [00:01, 151.89it/s]\n",
      "120it [00:00, 1932.42it/s]\n",
      "14it [00:00, 138.03it/s]"
     ]
    },
    {
     "name": "stdout",
     "output_type": "stream",
     "text": [
      "Epoch: 89 | Time: 0m 1s\tTrain Loss: 0.313 | Test Loss: 398.047\n",
      "epoch start:  89\n",
      "training ...\n"
     ]
    },
    {
     "name": "stderr",
     "output_type": "stream",
     "text": [
      "280it [00:01, 158.48it/s]\n",
      "120it [00:00, 1298.79it/s]\n",
      "15it [00:00, 149.92it/s]"
     ]
    },
    {
     "name": "stdout",
     "output_type": "stream",
     "text": [
      "Epoch: 90 | Time: 0m 1s\tTrain Loss: 0.314 | Test Loss: 396.931\n",
      "epoch start:  90\n",
      "training ...\n"
     ]
    },
    {
     "name": "stderr",
     "output_type": "stream",
     "text": [
      "280it [00:01, 156.87it/s]\n",
      "120it [00:00, 1751.20it/s]\n",
      "15it [00:00, 147.72it/s]"
     ]
    },
    {
     "name": "stdout",
     "output_type": "stream",
     "text": [
      "Epoch: 91 | Time: 0m 1s\tTrain Loss: 0.316 | Test Loss: 396.024\n",
      "epoch start:  91\n",
      "training ...\n"
     ]
    },
    {
     "name": "stderr",
     "output_type": "stream",
     "text": [
      "280it [00:01, 151.95it/s]\n",
      "120it [00:00, 1270.53it/s]\n",
      "15it [00:00, 142.57it/s]"
     ]
    },
    {
     "name": "stdout",
     "output_type": "stream",
     "text": [
      "Epoch: 92 | Time: 0m 1s\tTrain Loss: 0.320 | Test Loss: 394.708\n",
      "epoch start:  92\n",
      "training ...\n"
     ]
    },
    {
     "name": "stderr",
     "output_type": "stream",
     "text": [
      "280it [00:01, 153.04it/s]\n",
      "120it [00:00, 1673.22it/s]\n",
      "21it [00:00, 207.38it/s]"
     ]
    },
    {
     "name": "stdout",
     "output_type": "stream",
     "text": [
      "Epoch: 93 | Time: 0m 1s\tTrain Loss: 0.324 | Test Loss: 393.584\n",
      "epoch start:  93\n",
      "training ...\n"
     ]
    },
    {
     "name": "stderr",
     "output_type": "stream",
     "text": [
      "280it [00:01, 233.53it/s]\n",
      "120it [00:00, 1668.02it/s]\n",
      "25it [00:00, 240.12it/s]"
     ]
    },
    {
     "name": "stdout",
     "output_type": "stream",
     "text": [
      "Epoch: 94 | Time: 0m 1s\tTrain Loss: 0.327 | Test Loss: 392.686\n",
      "epoch start:  94\n",
      "training ...\n"
     ]
    },
    {
     "name": "stderr",
     "output_type": "stream",
     "text": [
      "280it [00:01, 232.49it/s]\n",
      "120it [00:00, 1684.66it/s]\n",
      "24it [00:00, 239.77it/s]"
     ]
    },
    {
     "name": "stdout",
     "output_type": "stream",
     "text": [
      "Epoch: 95 | Time: 0m 1s\tTrain Loss: 0.330 | Test Loss: 391.779\n",
      "epoch start:  95\n",
      "training ...\n"
     ]
    },
    {
     "name": "stderr",
     "output_type": "stream",
     "text": [
      "280it [00:01, 234.85it/s]\n",
      "120it [00:00, 1515.83it/s]\n",
      "24it [00:00, 234.92it/s]"
     ]
    },
    {
     "name": "stdout",
     "output_type": "stream",
     "text": [
      "Epoch: 96 | Time: 0m 1s\tTrain Loss: 0.331 | Test Loss: 390.633\n",
      "epoch start:  96\n",
      "training ...\n"
     ]
    },
    {
     "name": "stderr",
     "output_type": "stream",
     "text": [
      "280it [00:01, 237.28it/s]\n",
      "120it [00:00, 1471.60it/s]\n",
      "22it [00:00, 215.02it/s]"
     ]
    },
    {
     "name": "stdout",
     "output_type": "stream",
     "text": [
      "Epoch: 97 | Time: 0m 1s\tTrain Loss: 0.335 | Test Loss: 389.778\n",
      "epoch start:  97\n",
      "training ...\n"
     ]
    },
    {
     "name": "stderr",
     "output_type": "stream",
     "text": [
      "280it [00:01, 233.39it/s]\n",
      "120it [00:00, 1695.01it/s]\n",
      "24it [00:00, 234.27it/s]"
     ]
    },
    {
     "name": "stdout",
     "output_type": "stream",
     "text": [
      "Epoch: 98 | Time: 0m 1s\tTrain Loss: 0.338 | Test Loss: 388.548\n",
      "epoch start:  98\n",
      "training ...\n"
     ]
    },
    {
     "name": "stderr",
     "output_type": "stream",
     "text": [
      "280it [00:01, 235.31it/s]\n",
      "120it [00:00, 1601.86it/s]\n",
      "23it [00:00, 226.38it/s]"
     ]
    },
    {
     "name": "stdout",
     "output_type": "stream",
     "text": [
      "Epoch: 99 | Time: 0m 1s\tTrain Loss: 0.338 | Test Loss: 387.597\n",
      "epoch start:  99\n",
      "training ...\n"
     ]
    },
    {
     "name": "stderr",
     "output_type": "stream",
     "text": [
      "280it [00:01, 235.54it/s]\n",
      "120it [00:00, 1520.64it/s]\n",
      "24it [00:00, 228.29it/s]"
     ]
    },
    {
     "name": "stdout",
     "output_type": "stream",
     "text": [
      "Epoch: 100 | Time: 0m 1s\tTrain Loss: 0.341 | Test Loss: 386.465\n",
      "epoch start:  100\n",
      "training ...\n"
     ]
    },
    {
     "name": "stderr",
     "output_type": "stream",
     "text": [
      "280it [00:01, 195.60it/s]\n",
      "120it [00:00, 1688.85it/s]\n",
      "17it [00:00, 165.95it/s]"
     ]
    },
    {
     "name": "stdout",
     "output_type": "stream",
     "text": [
      "Epoch: 101 | Time: 0m 1s\tTrain Loss: 0.343 | Test Loss: 385.318\n",
      "epoch start:  101\n",
      "training ...\n"
     ]
    },
    {
     "name": "stderr",
     "output_type": "stream",
     "text": [
      "280it [00:01, 232.15it/s]\n",
      "120it [00:00, 1624.79it/s]\n",
      "17it [00:00, 165.69it/s]"
     ]
    },
    {
     "name": "stdout",
     "output_type": "stream",
     "text": [
      "Epoch: 102 | Time: 0m 1s\tTrain Loss: 0.346 | Test Loss: 384.534\n",
      "epoch start:  102\n",
      "training ...\n"
     ]
    },
    {
     "name": "stderr",
     "output_type": "stream",
     "text": [
      "280it [00:01, 220.04it/s]\n",
      "120it [00:00, 1523.61it/s]\n",
      "22it [00:00, 212.67it/s]"
     ]
    },
    {
     "name": "stdout",
     "output_type": "stream",
     "text": [
      "Epoch: 103 | Time: 0m 1s\tTrain Loss: 0.348 | Test Loss: 383.265\n",
      "epoch start:  103\n",
      "training ...\n"
     ]
    },
    {
     "name": "stderr",
     "output_type": "stream",
     "text": [
      "280it [00:01, 234.17it/s]\n",
      "120it [00:00, 1550.30it/s]\n",
      "24it [00:00, 224.63it/s]"
     ]
    },
    {
     "name": "stdout",
     "output_type": "stream",
     "text": [
      "Epoch: 104 | Time: 0m 1s\tTrain Loss: 0.351 | Test Loss: 382.350\n",
      "epoch start:  104\n",
      "training ...\n"
     ]
    },
    {
     "name": "stderr",
     "output_type": "stream",
     "text": [
      "280it [00:01, 233.49it/s]\n",
      "120it [00:00, 1479.89it/s]\n",
      "23it [00:00, 229.50it/s]"
     ]
    },
    {
     "name": "stdout",
     "output_type": "stream",
     "text": [
      "Epoch: 105 | Time: 0m 1s\tTrain Loss: 0.354 | Test Loss: 381.408\n",
      "epoch start:  105\n",
      "training ...\n"
     ]
    },
    {
     "name": "stderr",
     "output_type": "stream",
     "text": [
      "280it [00:01, 234.48it/s]\n",
      "120it [00:00, 1587.87it/s]\n",
      "24it [00:00, 225.51it/s]"
     ]
    },
    {
     "name": "stdout",
     "output_type": "stream",
     "text": [
      "Epoch: 106 | Time: 0m 1s\tTrain Loss: 0.356 | Test Loss: 380.499\n",
      "epoch start:  106\n",
      "training ...\n"
     ]
    },
    {
     "name": "stderr",
     "output_type": "stream",
     "text": [
      "280it [00:01, 229.93it/s]\n",
      "120it [00:00, 1592.32it/s]\n",
      "22it [00:00, 218.77it/s]"
     ]
    },
    {
     "name": "stdout",
     "output_type": "stream",
     "text": [
      "Epoch: 107 | Time: 0m 1s\tTrain Loss: 0.359 | Test Loss: 379.622\n",
      "epoch start:  107\n",
      "training ...\n"
     ]
    },
    {
     "name": "stderr",
     "output_type": "stream",
     "text": [
      "280it [00:01, 234.16it/s]\n",
      "120it [00:00, 1507.07it/s]\n",
      "25it [00:00, 246.02it/s]"
     ]
    },
    {
     "name": "stdout",
     "output_type": "stream",
     "text": [
      "Epoch: 108 | Time: 0m 1s\tTrain Loss: 0.360 | Test Loss: 378.663\n",
      "epoch start:  108\n",
      "training ...\n"
     ]
    },
    {
     "name": "stderr",
     "output_type": "stream",
     "text": [
      "280it [00:01, 236.89it/s]\n",
      "120it [00:00, 1451.56it/s]\n",
      "24it [00:00, 230.98it/s]"
     ]
    },
    {
     "name": "stdout",
     "output_type": "stream",
     "text": [
      "Epoch: 109 | Time: 0m 1s\tTrain Loss: 0.361 | Test Loss: 377.557\n",
      "epoch start:  109\n",
      "training ...\n"
     ]
    },
    {
     "name": "stderr",
     "output_type": "stream",
     "text": [
      "280it [00:01, 237.72it/s]\n",
      "120it [00:00, 1599.75it/s]\n",
      "23it [00:00, 229.58it/s]"
     ]
    },
    {
     "name": "stdout",
     "output_type": "stream",
     "text": [
      "Epoch: 110 | Time: 0m 1s\tTrain Loss: 0.366 | Test Loss: 376.586\n",
      "epoch start:  110\n",
      "training ...\n"
     ]
    },
    {
     "name": "stderr",
     "output_type": "stream",
     "text": [
      "280it [00:01, 215.10it/s]\n",
      "120it [00:00, 1325.69it/s]\n",
      "15it [00:00, 147.23it/s]"
     ]
    },
    {
     "name": "stdout",
     "output_type": "stream",
     "text": [
      "Epoch: 111 | Time: 0m 1s\tTrain Loss: 0.367 | Test Loss: 375.581\n",
      "epoch start:  111\n",
      "training ...\n"
     ]
    },
    {
     "name": "stderr",
     "output_type": "stream",
     "text": [
      "280it [00:01, 157.44it/s]\n",
      "120it [00:00, 1542.80it/s]\n",
      "17it [00:00, 166.99it/s]"
     ]
    },
    {
     "name": "stdout",
     "output_type": "stream",
     "text": [
      "Epoch: 112 | Time: 0m 1s\tTrain Loss: 0.371 | Test Loss: 374.733\n",
      "epoch start:  112\n",
      "training ...\n"
     ]
    },
    {
     "name": "stderr",
     "output_type": "stream",
     "text": [
      "280it [00:01, 167.95it/s]\n",
      "120it [00:00, 1495.88it/s]\n",
      "16it [00:00, 155.05it/s]"
     ]
    },
    {
     "name": "stdout",
     "output_type": "stream",
     "text": [
      "Epoch: 113 | Time: 0m 1s\tTrain Loss: 0.373 | Test Loss: 373.985\n",
      "epoch start:  113\n",
      "training ...\n"
     ]
    },
    {
     "name": "stderr",
     "output_type": "stream",
     "text": [
      "280it [00:01, 150.21it/s]\n",
      "120it [00:00, 1586.52it/s]\n",
      "15it [00:00, 145.24it/s]"
     ]
    },
    {
     "name": "stdout",
     "output_type": "stream",
     "text": [
      "Epoch: 114 | Time: 0m 1s\tTrain Loss: 0.374 | Test Loss: 373.118\n",
      "epoch start:  114\n",
      "training ...\n"
     ]
    },
    {
     "name": "stderr",
     "output_type": "stream",
     "text": [
      "280it [00:01, 159.38it/s]\n",
      "120it [00:00, 1518.11it/s]\n",
      "20it [00:00, 190.98it/s]"
     ]
    },
    {
     "name": "stdout",
     "output_type": "stream",
     "text": [
      "Epoch: 115 | Time: 0m 1s\tTrain Loss: 0.378 | Test Loss: 372.275\n",
      "epoch start:  115\n",
      "training ...\n"
     ]
    },
    {
     "name": "stderr",
     "output_type": "stream",
     "text": [
      "280it [00:01, 153.83it/s]\n",
      "120it [00:00, 1596.34it/s]\n",
      "15it [00:00, 142.60it/s]"
     ]
    },
    {
     "name": "stdout",
     "output_type": "stream",
     "text": [
      "Epoch: 116 | Time: 0m 1s\tTrain Loss: 0.376 | Test Loss: 371.403\n",
      "epoch start:  116\n",
      "training ...\n"
     ]
    },
    {
     "name": "stderr",
     "output_type": "stream",
     "text": [
      "280it [00:01, 144.85it/s]\n",
      "120it [00:00, 1740.08it/s]\n",
      "24it [00:00, 232.03it/s]"
     ]
    },
    {
     "name": "stdout",
     "output_type": "stream",
     "text": [
      "Epoch: 117 | Time: 0m 2s\tTrain Loss: 0.380 | Test Loss: 370.276\n",
      "epoch start:  117\n",
      "training ...\n"
     ]
    },
    {
     "name": "stderr",
     "output_type": "stream",
     "text": [
      "280it [00:01, 195.61it/s]\n",
      "120it [00:00, 1414.31it/s]\n",
      "16it [00:00, 158.80it/s]"
     ]
    },
    {
     "name": "stdout",
     "output_type": "stream",
     "text": [
      "Epoch: 118 | Time: 0m 1s\tTrain Loss: 0.382 | Test Loss: 369.546\n",
      "epoch start:  118\n",
      "training ...\n"
     ]
    },
    {
     "name": "stderr",
     "output_type": "stream",
     "text": [
      "280it [00:01, 158.75it/s]\n",
      "120it [00:00, 1769.59it/s]\n",
      "15it [00:00, 146.09it/s]"
     ]
    },
    {
     "name": "stdout",
     "output_type": "stream",
     "text": [
      "Epoch: 119 | Time: 0m 1s\tTrain Loss: 0.386 | Test Loss: 368.509\n",
      "epoch start:  119\n",
      "training ...\n"
     ]
    },
    {
     "name": "stderr",
     "output_type": "stream",
     "text": [
      "280it [00:01, 158.48it/s]\n",
      "120it [00:00, 1782.11it/s]\n",
      "17it [00:00, 167.81it/s]"
     ]
    },
    {
     "name": "stdout",
     "output_type": "stream",
     "text": [
      "Epoch: 120 | Time: 0m 1s\tTrain Loss: 0.387 | Test Loss: 367.962\n",
      "epoch start:  120\n",
      "training ...\n"
     ]
    },
    {
     "name": "stderr",
     "output_type": "stream",
     "text": [
      "280it [00:01, 149.39it/s]\n",
      "120it [00:00, 1643.70it/s]\n",
      "18it [00:00, 169.78it/s]"
     ]
    },
    {
     "name": "stdout",
     "output_type": "stream",
     "text": [
      "Epoch: 121 | Time: 0m 1s\tTrain Loss: 0.390 | Test Loss: 367.077\n",
      "epoch start:  121\n",
      "training ...\n"
     ]
    },
    {
     "name": "stderr",
     "output_type": "stream",
     "text": [
      "280it [00:01, 153.63it/s]\n",
      "120it [00:00, 1761.84it/s]\n",
      "17it [00:00, 161.17it/s]"
     ]
    },
    {
     "name": "stdout",
     "output_type": "stream",
     "text": [
      "Epoch: 122 | Time: 0m 1s\tTrain Loss: 0.390 | Test Loss: 365.901\n",
      "epoch start:  122\n",
      "training ...\n"
     ]
    },
    {
     "name": "stderr",
     "output_type": "stream",
     "text": [
      "280it [00:01, 150.86it/s]\n",
      "120it [00:00, 1637.31it/s]\n",
      "17it [00:00, 165.90it/s]"
     ]
    },
    {
     "name": "stdout",
     "output_type": "stream",
     "text": [
      "Epoch: 123 | Time: 0m 1s\tTrain Loss: 0.393 | Test Loss: 365.178\n",
      "epoch start:  123\n",
      "training ...\n"
     ]
    },
    {
     "name": "stderr",
     "output_type": "stream",
     "text": [
      "280it [00:01, 152.25it/s]\n",
      "120it [00:00, 1801.81it/s]\n",
      "15it [00:00, 144.32it/s]"
     ]
    },
    {
     "name": "stdout",
     "output_type": "stream",
     "text": [
      "Epoch: 124 | Time: 0m 1s\tTrain Loss: 0.394 | Test Loss: 364.403\n",
      "epoch start:  124\n",
      "training ...\n"
     ]
    },
    {
     "name": "stderr",
     "output_type": "stream",
     "text": [
      "280it [00:01, 190.09it/s]\n",
      "120it [00:00, 1431.09it/s]\n",
      "17it [00:00, 169.52it/s]"
     ]
    },
    {
     "name": "stdout",
     "output_type": "stream",
     "text": [
      "Epoch: 125 | Time: 0m 1s\tTrain Loss: 0.396 | Test Loss: 363.373\n",
      "epoch start:  125\n",
      "training ...\n"
     ]
    },
    {
     "name": "stderr",
     "output_type": "stream",
     "text": [
      "280it [00:01, 159.02it/s]\n",
      "120it [00:00, 1658.65it/s]\n",
      "19it [00:00, 179.66it/s]"
     ]
    },
    {
     "name": "stdout",
     "output_type": "stream",
     "text": [
      "Epoch: 126 | Time: 0m 1s\tTrain Loss: 0.397 | Test Loss: 362.533\n",
      "epoch start:  126\n",
      "training ...\n"
     ]
    },
    {
     "name": "stderr",
     "output_type": "stream",
     "text": [
      "280it [00:01, 149.02it/s]\n",
      "120it [00:00, 1703.18it/s]\n",
      "15it [00:00, 146.92it/s]"
     ]
    },
    {
     "name": "stdout",
     "output_type": "stream",
     "text": [
      "Epoch: 127 | Time: 0m 1s\tTrain Loss: 0.401 | Test Loss: 361.645\n",
      "epoch start:  127\n",
      "training ...\n"
     ]
    },
    {
     "name": "stderr",
     "output_type": "stream",
     "text": [
      "280it [00:01, 149.87it/s]\n",
      "120it [00:00, 1780.96it/s]\n",
      "17it [00:00, 160.32it/s]"
     ]
    },
    {
     "name": "stdout",
     "output_type": "stream",
     "text": [
      "Epoch: 128 | Time: 0m 1s\tTrain Loss: 0.402 | Test Loss: 361.029\n",
      "epoch start:  128\n",
      "training ...\n"
     ]
    },
    {
     "name": "stderr",
     "output_type": "stream",
     "text": [
      "280it [00:01, 155.60it/s]\n",
      "120it [00:00, 1683.39it/s]\n",
      "15it [00:00, 144.53it/s]"
     ]
    },
    {
     "name": "stdout",
     "output_type": "stream",
     "text": [
      "Epoch: 129 | Time: 0m 1s\tTrain Loss: 0.404 | Test Loss: 360.195\n",
      "epoch start:  129\n",
      "training ...\n"
     ]
    },
    {
     "name": "stderr",
     "output_type": "stream",
     "text": [
      "280it [00:01, 148.27it/s]\n",
      "120it [00:00, 1708.28it/s]\n",
      "16it [00:00, 154.22it/s]"
     ]
    },
    {
     "name": "stdout",
     "output_type": "stream",
     "text": [
      "Epoch: 130 | Time: 0m 1s\tTrain Loss: 0.406 | Test Loss: 359.497\n",
      "epoch start:  130\n",
      "training ...\n"
     ]
    },
    {
     "name": "stderr",
     "output_type": "stream",
     "text": [
      "280it [00:01, 151.20it/s]\n",
      "120it [00:00, 1672.81it/s]\n",
      "15it [00:00, 146.95it/s]"
     ]
    },
    {
     "name": "stdout",
     "output_type": "stream",
     "text": [
      "Epoch: 131 | Time: 0m 1s\tTrain Loss: 0.408 | Test Loss: 358.481\n",
      "epoch start:  131\n",
      "training ...\n"
     ]
    },
    {
     "name": "stderr",
     "output_type": "stream",
     "text": [
      "280it [00:01, 164.13it/s]\n",
      "120it [00:00, 1641.49it/s]\n",
      "22it [00:00, 214.80it/s]"
     ]
    },
    {
     "name": "stdout",
     "output_type": "stream",
     "text": [
      "Epoch: 132 | Time: 0m 1s\tTrain Loss: 0.409 | Test Loss: 357.509\n",
      "epoch start:  132\n",
      "training ...\n"
     ]
    },
    {
     "name": "stderr",
     "output_type": "stream",
     "text": [
      "280it [00:01, 160.60it/s]\n",
      "120it [00:00, 1770.60it/s]\n",
      "16it [00:00, 158.75it/s]"
     ]
    },
    {
     "name": "stdout",
     "output_type": "stream",
     "text": [
      "Epoch: 133 | Time: 0m 1s\tTrain Loss: 0.412 | Test Loss: 357.569\n",
      "epoch start:  133\n",
      "training ...\n"
     ]
    },
    {
     "name": "stderr",
     "output_type": "stream",
     "text": [
      "280it [00:01, 150.50it/s]\n",
      "120it [00:00, 1778.77it/s]\n",
      "16it [00:00, 149.90it/s]"
     ]
    },
    {
     "name": "stdout",
     "output_type": "stream",
     "text": [
      "Epoch: 134 | Time: 0m 1s\tTrain Loss: 0.412 | Test Loss: 356.274\n",
      "epoch start:  134\n",
      "training ...\n"
     ]
    },
    {
     "name": "stderr",
     "output_type": "stream",
     "text": [
      "280it [00:01, 156.73it/s]\n",
      "120it [00:00, 1668.52it/s]\n",
      "16it [00:00, 157.27it/s]"
     ]
    },
    {
     "name": "stdout",
     "output_type": "stream",
     "text": [
      "Epoch: 135 | Time: 0m 1s\tTrain Loss: 0.415 | Test Loss: 355.687\n",
      "epoch start:  135\n",
      "training ...\n"
     ]
    },
    {
     "name": "stderr",
     "output_type": "stream",
     "text": [
      "280it [00:01, 149.08it/s]\n",
      "120it [00:00, 1721.32it/s]\n",
      "17it [00:00, 166.10it/s]"
     ]
    },
    {
     "name": "stdout",
     "output_type": "stream",
     "text": [
      "Epoch: 136 | Time: 0m 1s\tTrain Loss: 0.418 | Test Loss: 354.880\n",
      "epoch start:  136\n",
      "training ...\n"
     ]
    },
    {
     "name": "stderr",
     "output_type": "stream",
     "text": [
      "280it [00:01, 160.44it/s]\n",
      "120it [00:00, 1650.46it/s]\n",
      "18it [00:00, 171.17it/s]"
     ]
    },
    {
     "name": "stdout",
     "output_type": "stream",
     "text": [
      "Epoch: 137 | Time: 0m 1s\tTrain Loss: 0.419 | Test Loss: 354.604\n",
      "epoch start:  137\n",
      "training ...\n"
     ]
    },
    {
     "name": "stderr",
     "output_type": "stream",
     "text": [
      "280it [00:01, 153.79it/s]\n",
      "120it [00:00, 1773.73it/s]\n",
      "15it [00:00, 144.06it/s]"
     ]
    },
    {
     "name": "stdout",
     "output_type": "stream",
     "text": [
      "Epoch: 138 | Time: 0m 1s\tTrain Loss: 0.419 | Test Loss: 354.115\n",
      "epoch start:  138\n",
      "training ...\n"
     ]
    },
    {
     "name": "stderr",
     "output_type": "stream",
     "text": [
      "280it [00:01, 150.07it/s]\n",
      "120it [00:00, 1746.81it/s]\n",
      "18it [00:00, 169.59it/s]"
     ]
    },
    {
     "name": "stdout",
     "output_type": "stream",
     "text": [
      "Epoch: 139 | Time: 0m 1s\tTrain Loss: 0.422 | Test Loss: 353.601\n",
      "epoch start:  139\n",
      "training ...\n"
     ]
    },
    {
     "name": "stderr",
     "output_type": "stream",
     "text": [
      "280it [00:01, 148.36it/s]\n",
      "120it [00:00, 1691.55it/s]\n",
      "15it [00:00, 147.01it/s]"
     ]
    },
    {
     "name": "stdout",
     "output_type": "stream",
     "text": [
      "Epoch: 140 | Time: 0m 1s\tTrain Loss: 0.421 | Test Loss: 353.095\n",
      "epoch start:  140\n",
      "training ...\n"
     ]
    },
    {
     "name": "stderr",
     "output_type": "stream",
     "text": [
      "280it [00:01, 149.51it/s]\n",
      "120it [00:00, 1852.51it/s]\n",
      "16it [00:00, 158.40it/s]"
     ]
    },
    {
     "name": "stdout",
     "output_type": "stream",
     "text": [
      "Epoch: 141 | Time: 0m 1s\tTrain Loss: 0.424 | Test Loss: 352.645\n",
      "epoch start:  141\n",
      "training ...\n"
     ]
    },
    {
     "name": "stderr",
     "output_type": "stream",
     "text": [
      "280it [00:01, 156.41it/s]\n",
      "120it [00:00, 1505.03it/s]\n",
      "17it [00:00, 163.39it/s]"
     ]
    },
    {
     "name": "stdout",
     "output_type": "stream",
     "text": [
      "Epoch: 142 | Time: 0m 1s\tTrain Loss: 0.425 | Test Loss: 351.550\n",
      "epoch start:  142\n",
      "training ...\n"
     ]
    },
    {
     "name": "stderr",
     "output_type": "stream",
     "text": [
      "280it [00:01, 177.15it/s]\n",
      "120it [00:00, 1512.57it/s]\n",
      "23it [00:00, 214.99it/s]"
     ]
    },
    {
     "name": "stdout",
     "output_type": "stream",
     "text": [
      "Epoch: 143 | Time: 0m 1s\tTrain Loss: 0.427 | Test Loss: 350.898\n",
      "epoch start:  143\n",
      "training ...\n"
     ]
    },
    {
     "name": "stderr",
     "output_type": "stream",
     "text": [
      "280it [00:01, 158.95it/s]\n",
      "120it [00:00, 1734.30it/s]\n",
      "17it [00:00, 164.49it/s]"
     ]
    },
    {
     "name": "stdout",
     "output_type": "stream",
     "text": [
      "Epoch: 144 | Time: 0m 1s\tTrain Loss: 0.428 | Test Loss: 350.810\n",
      "epoch start:  144\n",
      "training ...\n"
     ]
    },
    {
     "name": "stderr",
     "output_type": "stream",
     "text": [
      "280it [00:01, 150.86it/s]\n",
      "120it [00:00, 1705.58it/s]\n",
      "16it [00:00, 157.02it/s]"
     ]
    },
    {
     "name": "stdout",
     "output_type": "stream",
     "text": [
      "Epoch: 145 | Time: 0m 1s\tTrain Loss: 0.430 | Test Loss: 350.307\n",
      "epoch start:  145\n",
      "training ...\n"
     ]
    },
    {
     "name": "stderr",
     "output_type": "stream",
     "text": [
      "280it [00:01, 152.64it/s]\n",
      "120it [00:00, 1718.55it/s]\n",
      "17it [00:00, 159.89it/s]"
     ]
    },
    {
     "name": "stdout",
     "output_type": "stream",
     "text": [
      "Epoch: 146 | Time: 0m 1s\tTrain Loss: 0.431 | Test Loss: 349.663\n",
      "epoch start:  146\n",
      "training ...\n"
     ]
    },
    {
     "name": "stderr",
     "output_type": "stream",
     "text": [
      "280it [00:01, 153.59it/s]\n",
      "120it [00:00, 1767.89it/s]\n",
      "17it [00:00, 164.13it/s]"
     ]
    },
    {
     "name": "stdout",
     "output_type": "stream",
     "text": [
      "Epoch: 147 | Time: 0m 1s\tTrain Loss: 0.432 | Test Loss: 349.222\n",
      "epoch start:  147\n",
      "training ...\n"
     ]
    },
    {
     "name": "stderr",
     "output_type": "stream",
     "text": [
      "280it [00:01, 200.03it/s]\n",
      "120it [00:00, 1384.73it/s]\n",
      "21it [00:00, 208.91it/s]"
     ]
    },
    {
     "name": "stdout",
     "output_type": "stream",
     "text": [
      "Epoch: 148 | Time: 0m 1s\tTrain Loss: 0.434 | Test Loss: 348.314\n",
      "epoch start:  148\n",
      "training ...\n"
     ]
    },
    {
     "name": "stderr",
     "output_type": "stream",
     "text": [
      "280it [00:01, 196.41it/s]\n",
      "120it [00:00, 1377.70it/s]\n",
      "23it [00:00, 224.62it/s]"
     ]
    },
    {
     "name": "stdout",
     "output_type": "stream",
     "text": [
      "Epoch: 149 | Time: 0m 1s\tTrain Loss: 0.433 | Test Loss: 347.783\n",
      "epoch start:  149\n",
      "training ...\n"
     ]
    },
    {
     "name": "stderr",
     "output_type": "stream",
     "text": [
      "280it [00:01, 189.67it/s]\n",
      "120it [00:00, 1393.60it/s]\n",
      "19it [00:00, 188.81it/s]"
     ]
    },
    {
     "name": "stdout",
     "output_type": "stream",
     "text": [
      "Epoch: 150 | Time: 0m 1s\tTrain Loss: 0.434 | Test Loss: 347.052\n",
      "epoch start:  150\n",
      "training ...\n"
     ]
    },
    {
     "name": "stderr",
     "output_type": "stream",
     "text": [
      "280it [00:01, 179.88it/s]\n",
      "120it [00:00, 1601.65it/s]\n",
      "23it [00:00, 224.70it/s]"
     ]
    },
    {
     "name": "stdout",
     "output_type": "stream",
     "text": [
      "Epoch: 151 | Time: 0m 1s\tTrain Loss: 0.437 | Test Loss: 346.486\n",
      "epoch start:  151\n",
      "training ...\n"
     ]
    },
    {
     "name": "stderr",
     "output_type": "stream",
     "text": [
      "280it [00:01, 170.43it/s]\n",
      "120it [00:00, 1713.07it/s]\n",
      "15it [00:00, 147.68it/s]"
     ]
    },
    {
     "name": "stdout",
     "output_type": "stream",
     "text": [
      "Epoch: 152 | Time: 0m 1s\tTrain Loss: 0.440 | Test Loss: 346.457\n",
      "epoch start:  152\n",
      "training ...\n"
     ]
    },
    {
     "name": "stderr",
     "output_type": "stream",
     "text": [
      "280it [00:01, 149.16it/s]\n",
      "120it [00:00, 1706.78it/s]\n",
      "19it [00:00, 187.06it/s]"
     ]
    },
    {
     "name": "stdout",
     "output_type": "stream",
     "text": [
      "Epoch: 153 | Time: 0m 1s\tTrain Loss: 0.438 | Test Loss: 346.069\n",
      "epoch start:  153\n",
      "training ...\n"
     ]
    },
    {
     "name": "stderr",
     "output_type": "stream",
     "text": [
      "280it [00:01, 149.93it/s]\n",
      "120it [00:00, 1658.61it/s]\n",
      "17it [00:00, 167.43it/s]"
     ]
    },
    {
     "name": "stdout",
     "output_type": "stream",
     "text": [
      "Epoch: 154 | Time: 0m 1s\tTrain Loss: 0.441 | Test Loss: 345.713\n",
      "epoch start:  154\n",
      "training ...\n"
     ]
    },
    {
     "name": "stderr",
     "output_type": "stream",
     "text": [
      "280it [00:01, 148.90it/s]\n",
      "120it [00:00, 1713.25it/s]\n",
      "15it [00:00, 147.47it/s]"
     ]
    },
    {
     "name": "stdout",
     "output_type": "stream",
     "text": [
      "Epoch: 155 | Time: 0m 1s\tTrain Loss: 0.439 | Test Loss: 344.823\n",
      "epoch start:  155\n",
      "training ...\n"
     ]
    },
    {
     "name": "stderr",
     "output_type": "stream",
     "text": [
      "280it [00:01, 152.93it/s]\n",
      "120it [00:00, 1685.38it/s]\n",
      "14it [00:00, 137.76it/s]"
     ]
    },
    {
     "name": "stdout",
     "output_type": "stream",
     "text": [
      "Epoch: 156 | Time: 0m 1s\tTrain Loss: 0.442 | Test Loss: 344.821\n",
      "epoch start:  156\n",
      "training ...\n"
     ]
    },
    {
     "name": "stderr",
     "output_type": "stream",
     "text": [
      "280it [00:01, 149.81it/s]\n",
      "120it [00:00, 1722.01it/s]\n",
      "15it [00:00, 142.61it/s]"
     ]
    },
    {
     "name": "stdout",
     "output_type": "stream",
     "text": [
      "Epoch: 157 | Time: 0m 1s\tTrain Loss: 0.442 | Test Loss: 344.234\n",
      "epoch start:  157\n",
      "training ...\n"
     ]
    },
    {
     "name": "stderr",
     "output_type": "stream",
     "text": [
      "280it [00:01, 158.29it/s]\n",
      "120it [00:00, 1677.76it/s]\n",
      "18it [00:00, 175.75it/s]"
     ]
    },
    {
     "name": "stdout",
     "output_type": "stream",
     "text": [
      "Epoch: 158 | Time: 0m 1s\tTrain Loss: 0.441 | Test Loss: 344.137\n",
      "epoch start:  158\n",
      "training ...\n"
     ]
    },
    {
     "name": "stderr",
     "output_type": "stream",
     "text": [
      "280it [00:01, 154.65it/s]\n",
      "120it [00:00, 1722.84it/s]\n",
      "17it [00:00, 164.60it/s]"
     ]
    },
    {
     "name": "stdout",
     "output_type": "stream",
     "text": [
      "Epoch: 159 | Time: 0m 1s\tTrain Loss: 0.444 | Test Loss: 343.456\n",
      "epoch start:  159\n",
      "training ...\n"
     ]
    },
    {
     "name": "stderr",
     "output_type": "stream",
     "text": [
      "280it [00:01, 158.51it/s]\n",
      "120it [00:00, 1558.17it/s]\n",
      "16it [00:00, 152.65it/s]"
     ]
    },
    {
     "name": "stdout",
     "output_type": "stream",
     "text": [
      "Epoch: 160 | Time: 0m 1s\tTrain Loss: 0.442 | Test Loss: 342.744\n",
      "epoch start:  160\n",
      "training ...\n"
     ]
    },
    {
     "name": "stderr",
     "output_type": "stream",
     "text": [
      "280it [00:01, 192.29it/s]\n",
      "120it [00:00, 1641.24it/s]\n",
      "20it [00:00, 199.19it/s]"
     ]
    },
    {
     "name": "stdout",
     "output_type": "stream",
     "text": [
      "Epoch: 161 | Time: 0m 1s\tTrain Loss: 0.442 | Test Loss: 342.324\n",
      "epoch start:  161\n",
      "training ...\n"
     ]
    },
    {
     "name": "stderr",
     "output_type": "stream",
     "text": [
      "280it [00:01, 165.76it/s]\n",
      "120it [00:00, 1649.89it/s]\n",
      "16it [00:00, 151.00it/s]"
     ]
    },
    {
     "name": "stdout",
     "output_type": "stream",
     "text": [
      "Epoch: 162 | Time: 0m 1s\tTrain Loss: 0.445 | Test Loss: 341.943\n",
      "epoch start:  162\n",
      "training ...\n"
     ]
    },
    {
     "name": "stderr",
     "output_type": "stream",
     "text": [
      "280it [00:01, 155.83it/s]\n",
      "120it [00:00, 1611.27it/s]\n",
      "15it [00:00, 147.26it/s]"
     ]
    },
    {
     "name": "stdout",
     "output_type": "stream",
     "text": [
      "Epoch: 163 | Time: 0m 1s\tTrain Loss: 0.445 | Test Loss: 341.020\n",
      "epoch start:  163\n",
      "training ...\n"
     ]
    },
    {
     "name": "stderr",
     "output_type": "stream",
     "text": [
      "280it [00:01, 153.57it/s]\n",
      "120it [00:00, 1685.19it/s]\n",
      "18it [00:00, 168.33it/s]"
     ]
    },
    {
     "name": "stdout",
     "output_type": "stream",
     "text": [
      "Epoch: 164 | Time: 0m 1s\tTrain Loss: 0.446 | Test Loss: 341.194\n",
      "epoch start:  164\n",
      "training ...\n"
     ]
    },
    {
     "name": "stderr",
     "output_type": "stream",
     "text": [
      "280it [00:01, 156.67it/s]\n",
      "120it [00:00, 1772.67it/s]\n",
      "17it [00:00, 169.63it/s]"
     ]
    },
    {
     "name": "stdout",
     "output_type": "stream",
     "text": [
      "Epoch: 165 | Time: 0m 1s\tTrain Loss: 0.445 | Test Loss: 340.736\n",
      "epoch start:  165\n",
      "training ...\n"
     ]
    },
    {
     "name": "stderr",
     "output_type": "stream",
     "text": [
      "280it [00:01, 199.84it/s]\n",
      "120it [00:00, 1693.52it/s]\n",
      "14it [00:00, 136.57it/s]"
     ]
    },
    {
     "name": "stdout",
     "output_type": "stream",
     "text": [
      "Epoch: 166 | Time: 0m 1s\tTrain Loss: 0.446 | Test Loss: 339.684\n",
      "epoch start:  166\n",
      "training ...\n"
     ]
    },
    {
     "name": "stderr",
     "output_type": "stream",
     "text": [
      "280it [00:01, 150.29it/s]\n",
      "120it [00:00, 1754.30it/s]\n",
      "16it [00:00, 150.58it/s]"
     ]
    },
    {
     "name": "stdout",
     "output_type": "stream",
     "text": [
      "Epoch: 167 | Time: 0m 1s\tTrain Loss: 0.447 | Test Loss: 339.164\n",
      "epoch start:  167\n",
      "training ...\n"
     ]
    },
    {
     "name": "stderr",
     "output_type": "stream",
     "text": [
      "280it [00:01, 155.41it/s]\n",
      "120it [00:00, 1765.25it/s]\n",
      "16it [00:00, 157.28it/s]"
     ]
    },
    {
     "name": "stdout",
     "output_type": "stream",
     "text": [
      "Epoch: 168 | Time: 0m 1s\tTrain Loss: 0.446 | Test Loss: 338.690\n",
      "epoch start:  168\n",
      "training ...\n"
     ]
    },
    {
     "name": "stderr",
     "output_type": "stream",
     "text": [
      "280it [00:01, 152.37it/s]\n",
      "120it [00:00, 1764.80it/s]\n",
      "18it [00:00, 172.45it/s]"
     ]
    },
    {
     "name": "stdout",
     "output_type": "stream",
     "text": [
      "Epoch: 169 | Time: 0m 1s\tTrain Loss: 0.447 | Test Loss: 338.281\n",
      "epoch start:  169\n",
      "training ...\n"
     ]
    },
    {
     "name": "stderr",
     "output_type": "stream",
     "text": [
      "280it [00:01, 153.60it/s]\n",
      "120it [00:00, 1741.77it/s]\n",
      "15it [00:00, 147.63it/s]"
     ]
    },
    {
     "name": "stdout",
     "output_type": "stream",
     "text": [
      "Epoch: 170 | Time: 0m 1s\tTrain Loss: 0.448 | Test Loss: 337.202\n",
      "epoch start:  170\n",
      "training ...\n"
     ]
    },
    {
     "name": "stderr",
     "output_type": "stream",
     "text": [
      "280it [00:01, 162.09it/s]\n",
      "120it [00:00, 1485.00it/s]\n",
      "17it [00:00, 167.27it/s]"
     ]
    },
    {
     "name": "stdout",
     "output_type": "stream",
     "text": [
      "Epoch: 171 | Time: 0m 1s\tTrain Loss: 0.449 | Test Loss: 336.548\n",
      "epoch start:  171\n",
      "training ...\n"
     ]
    },
    {
     "name": "stderr",
     "output_type": "stream",
     "text": [
      "280it [00:01, 161.21it/s]\n",
      "120it [00:00, 1758.65it/s]\n",
      "17it [00:00, 167.24it/s]"
     ]
    },
    {
     "name": "stdout",
     "output_type": "stream",
     "text": [
      "Epoch: 172 | Time: 0m 1s\tTrain Loss: 0.450 | Test Loss: 336.028\n",
      "epoch start:  172\n",
      "training ...\n"
     ]
    },
    {
     "name": "stderr",
     "output_type": "stream",
     "text": [
      "280it [00:01, 176.69it/s]\n",
      "120it [00:00, 1754.55it/s]\n",
      "16it [00:00, 157.57it/s]"
     ]
    },
    {
     "name": "stdout",
     "output_type": "stream",
     "text": [
      "Epoch: 173 | Time: 0m 1s\tTrain Loss: 0.451 | Test Loss: 335.199\n",
      "epoch start:  173\n",
      "training ...\n"
     ]
    },
    {
     "name": "stderr",
     "output_type": "stream",
     "text": [
      "280it [00:01, 153.35it/s]\n",
      "120it [00:00, 1728.43it/s]\n",
      "14it [00:00, 138.00it/s]"
     ]
    },
    {
     "name": "stdout",
     "output_type": "stream",
     "text": [
      "Epoch: 174 | Time: 0m 1s\tTrain Loss: 0.452 | Test Loss: 334.300\n",
      "epoch start:  174\n",
      "training ...\n"
     ]
    },
    {
     "name": "stderr",
     "output_type": "stream",
     "text": [
      "280it [00:01, 193.19it/s]\n",
      "120it [00:00, 1802.04it/s]\n",
      "16it [00:00, 149.13it/s]"
     ]
    },
    {
     "name": "stdout",
     "output_type": "stream",
     "text": [
      "Epoch: 175 | Time: 0m 1s\tTrain Loss: 0.452 | Test Loss: 333.467\n",
      "epoch start:  175\n",
      "training ...\n"
     ]
    },
    {
     "name": "stderr",
     "output_type": "stream",
     "text": [
      "280it [00:01, 163.56it/s]\n",
      "120it [00:00, 1698.13it/s]\n",
      "16it [00:00, 157.20it/s]"
     ]
    },
    {
     "name": "stdout",
     "output_type": "stream",
     "text": [
      "Epoch: 176 | Time: 0m 1s\tTrain Loss: 0.453 | Test Loss: 332.497\n",
      "epoch start:  176\n",
      "training ...\n"
     ]
    },
    {
     "name": "stderr",
     "output_type": "stream",
     "text": [
      "280it [00:01, 146.30it/s]\n",
      "120it [00:00, 1802.64it/s]\n",
      "15it [00:00, 144.85it/s]"
     ]
    },
    {
     "name": "stdout",
     "output_type": "stream",
     "text": [
      "Epoch: 177 | Time: 0m 1s\tTrain Loss: 0.457 | Test Loss: 332.534\n",
      "epoch start:  177\n",
      "training ...\n"
     ]
    },
    {
     "name": "stderr",
     "output_type": "stream",
     "text": [
      "280it [00:01, 151.64it/s]\n",
      "120it [00:00, 1722.54it/s]\n",
      "17it [00:00, 166.92it/s]"
     ]
    },
    {
     "name": "stdout",
     "output_type": "stream",
     "text": [
      "Epoch: 178 | Time: 0m 1s\tTrain Loss: 0.455 | Test Loss: 331.788\n",
      "epoch start:  178\n",
      "training ...\n"
     ]
    },
    {
     "name": "stderr",
     "output_type": "stream",
     "text": [
      "280it [00:01, 160.45it/s]\n",
      "120it [00:00, 1578.20it/s]\n",
      "20it [00:00, 192.36it/s]"
     ]
    },
    {
     "name": "stdout",
     "output_type": "stream",
     "text": [
      "Epoch: 179 | Time: 0m 1s\tTrain Loss: 0.457 | Test Loss: 330.997\n",
      "epoch start:  179\n",
      "training ...\n"
     ]
    },
    {
     "name": "stderr",
     "output_type": "stream",
     "text": [
      "280it [00:01, 157.43it/s]\n",
      "120it [00:00, 1690.56it/s]\n",
      "19it [00:00, 183.66it/s]"
     ]
    },
    {
     "name": "stdout",
     "output_type": "stream",
     "text": [
      "Epoch: 180 | Time: 0m 1s\tTrain Loss: 0.458 | Test Loss: 330.624\n",
      "epoch start:  180\n",
      "training ...\n"
     ]
    },
    {
     "name": "stderr",
     "output_type": "stream",
     "text": [
      "280it [00:01, 155.27it/s]\n",
      "120it [00:00, 1691.84it/s]\n",
      "15it [00:00, 140.82it/s]"
     ]
    },
    {
     "name": "stdout",
     "output_type": "stream",
     "text": [
      "Epoch: 181 | Time: 0m 1s\tTrain Loss: 0.457 | Test Loss: 329.701\n",
      "epoch start:  181\n",
      "training ...\n"
     ]
    },
    {
     "name": "stderr",
     "output_type": "stream",
     "text": [
      "280it [00:01, 152.29it/s]\n",
      "120it [00:00, 1687.01it/s]\n",
      "17it [00:00, 165.49it/s]"
     ]
    },
    {
     "name": "stdout",
     "output_type": "stream",
     "text": [
      "Epoch: 182 | Time: 0m 1s\tTrain Loss: 0.461 | Test Loss: 329.054\n",
      "epoch start:  182\n",
      "training ...\n"
     ]
    },
    {
     "name": "stderr",
     "output_type": "stream",
     "text": [
      "280it [00:01, 148.06it/s]\n",
      "120it [00:00, 1636.14it/s]\n",
      "15it [00:00, 144.74it/s]"
     ]
    },
    {
     "name": "stdout",
     "output_type": "stream",
     "text": [
      "Epoch: 183 | Time: 0m 1s\tTrain Loss: 0.462 | Test Loss: 328.751\n",
      "epoch start:  183\n",
      "training ...\n"
     ]
    },
    {
     "name": "stderr",
     "output_type": "stream",
     "text": [
      "280it [00:01, 149.94it/s]\n",
      "120it [00:00, 1781.39it/s]\n",
      "16it [00:00, 158.46it/s]"
     ]
    },
    {
     "name": "stdout",
     "output_type": "stream",
     "text": [
      "Epoch: 184 | Time: 0m 1s\tTrain Loss: 0.466 | Test Loss: 328.640\n",
      "epoch start:  184\n",
      "training ...\n"
     ]
    },
    {
     "name": "stderr",
     "output_type": "stream",
     "text": [
      "280it [00:01, 148.75it/s]\n",
      "120it [00:00, 1754.95it/s]\n",
      "15it [00:00, 147.08it/s]"
     ]
    },
    {
     "name": "stdout",
     "output_type": "stream",
     "text": [
      "Epoch: 185 | Time: 0m 1s\tTrain Loss: 0.465 | Test Loss: 327.260\n",
      "epoch start:  185\n",
      "training ...\n"
     ]
    },
    {
     "name": "stderr",
     "output_type": "stream",
     "text": [
      "280it [00:01, 149.24it/s]\n",
      "120it [00:00, 1658.65it/s]\n",
      "15it [00:00, 146.05it/s]"
     ]
    },
    {
     "name": "stdout",
     "output_type": "stream",
     "text": [
      "Epoch: 186 | Time: 0m 1s\tTrain Loss: 0.466 | Test Loss: 326.481\n",
      "epoch start:  186\n",
      "training ...\n"
     ]
    },
    {
     "name": "stderr",
     "output_type": "stream",
     "text": [
      "280it [00:01, 147.91it/s]\n",
      "120it [00:00, 1713.18it/s]\n",
      "15it [00:00, 143.00it/s]"
     ]
    },
    {
     "name": "stdout",
     "output_type": "stream",
     "text": [
      "Epoch: 187 | Time: 0m 1s\tTrain Loss: 0.466 | Test Loss: 325.846\n",
      "epoch start:  187\n",
      "training ...\n"
     ]
    },
    {
     "name": "stderr",
     "output_type": "stream",
     "text": [
      "280it [00:01, 152.87it/s]\n",
      "120it [00:00, 1759.71it/s]\n",
      "15it [00:00, 147.04it/s]"
     ]
    },
    {
     "name": "stdout",
     "output_type": "stream",
     "text": [
      "Epoch: 188 | Time: 0m 1s\tTrain Loss: 0.469 | Test Loss: 325.498\n",
      "epoch start:  188\n",
      "training ...\n"
     ]
    },
    {
     "name": "stderr",
     "output_type": "stream",
     "text": [
      "280it [00:01, 152.33it/s]\n",
      "120it [00:00, 1763.94it/s]\n",
      "15it [00:00, 141.96it/s]"
     ]
    },
    {
     "name": "stdout",
     "output_type": "stream",
     "text": [
      "Epoch: 189 | Time: 0m 1s\tTrain Loss: 0.470 | Test Loss: 324.755\n",
      "epoch start:  189\n",
      "training ...\n"
     ]
    },
    {
     "name": "stderr",
     "output_type": "stream",
     "text": [
      "280it [00:01, 149.57it/s]\n",
      "120it [00:00, 1835.92it/s]\n",
      "18it [00:00, 170.48it/s]"
     ]
    },
    {
     "name": "stdout",
     "output_type": "stream",
     "text": [
      "Epoch: 190 | Time: 0m 1s\tTrain Loss: 0.470 | Test Loss: 323.893\n",
      "epoch start:  190\n",
      "training ...\n"
     ]
    },
    {
     "name": "stderr",
     "output_type": "stream",
     "text": [
      "280it [00:01, 176.88it/s]\n",
      "120it [00:00, 1443.52it/s]\n",
      "24it [00:00, 234.20it/s]"
     ]
    },
    {
     "name": "stdout",
     "output_type": "stream",
     "text": [
      "Epoch: 191 | Time: 0m 1s\tTrain Loss: 0.470 | Test Loss: 323.312\n",
      "epoch start:  191\n",
      "training ...\n"
     ]
    },
    {
     "name": "stderr",
     "output_type": "stream",
     "text": [
      "280it [00:01, 160.80it/s]\n",
      "120it [00:00, 1664.92it/s]\n",
      "16it [00:00, 151.50it/s]"
     ]
    },
    {
     "name": "stdout",
     "output_type": "stream",
     "text": [
      "Epoch: 192 | Time: 0m 1s\tTrain Loss: 0.472 | Test Loss: 323.052\n",
      "epoch start:  192\n",
      "training ...\n"
     ]
    },
    {
     "name": "stderr",
     "output_type": "stream",
     "text": [
      "280it [00:01, 151.51it/s]\n",
      "120it [00:00, 1794.22it/s]\n",
      "15it [00:00, 146.02it/s]"
     ]
    },
    {
     "name": "stdout",
     "output_type": "stream",
     "text": [
      "Epoch: 193 | Time: 0m 1s\tTrain Loss: 0.474 | Test Loss: 322.744\n",
      "epoch start:  193\n",
      "training ...\n"
     ]
    },
    {
     "name": "stderr",
     "output_type": "stream",
     "text": [
      "280it [00:01, 148.84it/s]\n",
      "120it [00:00, 1751.34it/s]\n",
      "15it [00:00, 142.90it/s]"
     ]
    },
    {
     "name": "stdout",
     "output_type": "stream",
     "text": [
      "Epoch: 194 | Time: 0m 1s\tTrain Loss: 0.473 | Test Loss: 321.505\n",
      "epoch start:  194\n",
      "training ...\n"
     ]
    },
    {
     "name": "stderr",
     "output_type": "stream",
     "text": [
      "280it [00:01, 149.21it/s]\n",
      "120it [00:00, 1621.52it/s]\n",
      "17it [00:00, 168.58it/s]"
     ]
    },
    {
     "name": "stdout",
     "output_type": "stream",
     "text": [
      "Epoch: 195 | Time: 0m 1s\tTrain Loss: 0.472 | Test Loss: 320.946\n",
      "epoch start:  195\n",
      "training ...\n"
     ]
    },
    {
     "name": "stderr",
     "output_type": "stream",
     "text": [
      "280it [00:01, 160.59it/s]\n",
      "120it [00:00, 1664.80it/s]\n",
      "14it [00:00, 127.75it/s]"
     ]
    },
    {
     "name": "stdout",
     "output_type": "stream",
     "text": [
      "Epoch: 196 | Time: 0m 1s\tTrain Loss: 0.473 | Test Loss: 320.206\n",
      "epoch start:  196\n",
      "training ...\n"
     ]
    },
    {
     "name": "stderr",
     "output_type": "stream",
     "text": [
      "280it [00:01, 154.36it/s]\n",
      "120it [00:00, 1709.45it/s]\n",
      "17it [00:00, 161.01it/s]"
     ]
    },
    {
     "name": "stdout",
     "output_type": "stream",
     "text": [
      "Epoch: 197 | Time: 0m 1s\tTrain Loss: 0.472 | Test Loss: 319.875\n",
      "epoch start:  197\n",
      "training ...\n"
     ]
    },
    {
     "name": "stderr",
     "output_type": "stream",
     "text": [
      "280it [00:01, 166.29it/s]\n",
      "120it [00:00, 1543.31it/s]\n",
      "16it [00:00, 156.32it/s]"
     ]
    },
    {
     "name": "stdout",
     "output_type": "stream",
     "text": [
      "Epoch: 198 | Time: 0m 1s\tTrain Loss: 0.475 | Test Loss: 320.293\n",
      "epoch start:  198\n",
      "training ...\n"
     ]
    },
    {
     "name": "stderr",
     "output_type": "stream",
     "text": [
      "280it [00:01, 151.72it/s]\n",
      "120it [00:00, 1692.49it/s]\n",
      "18it [00:00, 169.21it/s]"
     ]
    },
    {
     "name": "stdout",
     "output_type": "stream",
     "text": [
      "Epoch: 199 | Time: 0m 1s\tTrain Loss: 0.475 | Test Loss: 319.252\n",
      "epoch start:  199\n",
      "training ...\n"
     ]
    },
    {
     "name": "stderr",
     "output_type": "stream",
     "text": [
      "280it [00:01, 155.33it/s]\n",
      "120it [00:00, 1714.80it/s]\n",
      "17it [00:00, 158.45it/s]"
     ]
    },
    {
     "name": "stdout",
     "output_type": "stream",
     "text": [
      "Epoch: 200 | Time: 0m 1s\tTrain Loss: 0.475 | Test Loss: 318.097\n",
      "epoch start:  200\n",
      "training ...\n"
     ]
    },
    {
     "name": "stderr",
     "output_type": "stream",
     "text": [
      "280it [00:01, 154.05it/s]\n",
      "120it [00:00, 1212.20it/s]\n",
      "22it [00:00, 215.71it/s]"
     ]
    },
    {
     "name": "stdout",
     "output_type": "stream",
     "text": [
      "Epoch: 201 | Time: 0m 1s\tTrain Loss: 0.476 | Test Loss: 317.168\n",
      "epoch start:  201\n",
      "training ...\n"
     ]
    },
    {
     "name": "stderr",
     "output_type": "stream",
     "text": [
      "280it [00:01, 186.37it/s]\n",
      "120it [00:00, 1725.19it/s]\n",
      "17it [00:00, 164.02it/s]"
     ]
    },
    {
     "name": "stdout",
     "output_type": "stream",
     "text": [
      "Epoch: 202 | Time: 0m 1s\tTrain Loss: 0.477 | Test Loss: 316.524\n",
      "epoch start:  202\n",
      "training ...\n"
     ]
    },
    {
     "name": "stderr",
     "output_type": "stream",
     "text": [
      "280it [00:01, 150.38it/s]\n",
      "120it [00:00, 1767.15it/s]\n",
      "15it [00:00, 147.74it/s]"
     ]
    },
    {
     "name": "stdout",
     "output_type": "stream",
     "text": [
      "Epoch: 203 | Time: 0m 1s\tTrain Loss: 0.474 | Test Loss: 316.429\n",
      "epoch start:  203\n",
      "training ...\n"
     ]
    },
    {
     "name": "stderr",
     "output_type": "stream",
     "text": [
      "280it [00:01, 151.24it/s]\n",
      "120it [00:00, 1681.04it/s]\n",
      "15it [00:00, 149.19it/s]"
     ]
    },
    {
     "name": "stdout",
     "output_type": "stream",
     "text": [
      "Epoch: 204 | Time: 0m 1s\tTrain Loss: 0.478 | Test Loss: 315.285\n",
      "epoch start:  204\n",
      "training ...\n"
     ]
    },
    {
     "name": "stderr",
     "output_type": "stream",
     "text": [
      "280it [00:01, 160.60it/s]\n",
      "120it [00:00, 1757.64it/s]\n",
      "16it [00:00, 153.07it/s]"
     ]
    },
    {
     "name": "stdout",
     "output_type": "stream",
     "text": [
      "Epoch: 205 | Time: 0m 1s\tTrain Loss: 0.479 | Test Loss: 314.333\n",
      "epoch start:  205\n",
      "training ...\n"
     ]
    },
    {
     "name": "stderr",
     "output_type": "stream",
     "text": [
      "280it [00:01, 151.68it/s]\n",
      "120it [00:00, 1934.04it/s]\n",
      "15it [00:00, 146.44it/s]"
     ]
    },
    {
     "name": "stdout",
     "output_type": "stream",
     "text": [
      "Epoch: 206 | Time: 0m 1s\tTrain Loss: 0.481 | Test Loss: 314.732\n",
      "epoch start:  206\n",
      "training ...\n"
     ]
    },
    {
     "name": "stderr",
     "output_type": "stream",
     "text": [
      "280it [00:01, 147.87it/s]\n",
      "120it [00:00, 1811.07it/s]\n",
      "15it [00:00, 142.38it/s]"
     ]
    },
    {
     "name": "stdout",
     "output_type": "stream",
     "text": [
      "Epoch: 207 | Time: 0m 1s\tTrain Loss: 0.477 | Test Loss: 312.352\n",
      "epoch start:  207\n",
      "training ...\n"
     ]
    },
    {
     "name": "stderr",
     "output_type": "stream",
     "text": [
      "280it [00:01, 153.72it/s]\n",
      "120it [00:00, 1712.76it/s]\n",
      "16it [00:00, 156.90it/s]"
     ]
    },
    {
     "name": "stdout",
     "output_type": "stream",
     "text": [
      "Epoch: 208 | Time: 0m 1s\tTrain Loss: 0.480 | Test Loss: 312.826\n",
      "epoch start:  208\n",
      "training ...\n"
     ]
    },
    {
     "name": "stderr",
     "output_type": "stream",
     "text": [
      "280it [00:01, 148.69it/s]\n",
      "120it [00:00, 1759.77it/s]\n",
      "19it [00:00, 184.26it/s]"
     ]
    },
    {
     "name": "stdout",
     "output_type": "stream",
     "text": [
      "Epoch: 209 | Time: 0m 1s\tTrain Loss: 0.478 | Test Loss: 312.242\n",
      "epoch start:  209\n",
      "training ...\n"
     ]
    },
    {
     "name": "stderr",
     "output_type": "stream",
     "text": [
      "280it [00:01, 149.33it/s]\n",
      "120it [00:00, 1735.70it/s]\n",
      "16it [00:00, 158.10it/s]"
     ]
    },
    {
     "name": "stdout",
     "output_type": "stream",
     "text": [
      "Epoch: 210 | Time: 0m 1s\tTrain Loss: 0.480 | Test Loss: 311.414\n",
      "epoch start:  210\n",
      "training ...\n"
     ]
    },
    {
     "name": "stderr",
     "output_type": "stream",
     "text": [
      "280it [00:01, 157.13it/s]\n",
      "120it [00:00, 1753.26it/s]\n",
      "18it [00:00, 174.56it/s]"
     ]
    },
    {
     "name": "stdout",
     "output_type": "stream",
     "text": [
      "Epoch: 211 | Time: 0m 1s\tTrain Loss: 0.479 | Test Loss: 311.542\n",
      "epoch start:  211\n",
      "training ...\n"
     ]
    },
    {
     "name": "stderr",
     "output_type": "stream",
     "text": [
      "280it [00:01, 152.81it/s]\n",
      "120it [00:00, 1687.31it/s]\n",
      "15it [00:00, 149.88it/s]"
     ]
    },
    {
     "name": "stdout",
     "output_type": "stream",
     "text": [
      "Epoch: 212 | Time: 0m 1s\tTrain Loss: 0.479 | Test Loss: 310.687\n",
      "epoch start:  212\n",
      "training ...\n"
     ]
    },
    {
     "name": "stderr",
     "output_type": "stream",
     "text": [
      "280it [00:01, 159.21it/s]\n",
      "120it [00:00, 1618.79it/s]\n",
      "17it [00:00, 162.30it/s]"
     ]
    },
    {
     "name": "stdout",
     "output_type": "stream",
     "text": [
      "Epoch: 213 | Time: 0m 1s\tTrain Loss: 0.480 | Test Loss: 309.816\n",
      "epoch start:  213\n",
      "training ...\n"
     ]
    },
    {
     "name": "stderr",
     "output_type": "stream",
     "text": [
      "280it [00:01, 153.40it/s]\n",
      "120it [00:00, 1745.81it/s]\n",
      "16it [00:00, 154.69it/s]"
     ]
    },
    {
     "name": "stdout",
     "output_type": "stream",
     "text": [
      "Epoch: 214 | Time: 0m 1s\tTrain Loss: 0.481 | Test Loss: 308.789\n",
      "epoch start:  214\n",
      "training ...\n"
     ]
    },
    {
     "name": "stderr",
     "output_type": "stream",
     "text": [
      "280it [00:01, 157.32it/s]\n",
      "120it [00:00, 1638.34it/s]\n",
      "18it [00:00, 174.32it/s]"
     ]
    },
    {
     "name": "stdout",
     "output_type": "stream",
     "text": [
      "Epoch: 215 | Time: 0m 1s\tTrain Loss: 0.479 | Test Loss: 307.599\n",
      "epoch start:  215\n",
      "training ...\n"
     ]
    },
    {
     "name": "stderr",
     "output_type": "stream",
     "text": [
      "280it [00:01, 156.94it/s]\n",
      "120it [00:00, 1737.29it/s]\n",
      "15it [00:00, 147.54it/s]"
     ]
    },
    {
     "name": "stdout",
     "output_type": "stream",
     "text": [
      "Epoch: 216 | Time: 0m 1s\tTrain Loss: 0.480 | Test Loss: 307.880\n",
      "epoch start:  216\n",
      "training ...\n"
     ]
    },
    {
     "name": "stderr",
     "output_type": "stream",
     "text": [
      "280it [00:01, 148.04it/s]\n",
      "120it [00:00, 1742.65it/s]\n",
      "18it [00:00, 169.33it/s]"
     ]
    },
    {
     "name": "stdout",
     "output_type": "stream",
     "text": [
      "Epoch: 217 | Time: 0m 1s\tTrain Loss: 0.481 | Test Loss: 306.916\n",
      "epoch start:  217\n",
      "training ...\n"
     ]
    },
    {
     "name": "stderr",
     "output_type": "stream",
     "text": [
      "280it [00:01, 151.54it/s]\n",
      "120it [00:00, 1770.50it/s]\n",
      "15it [00:00, 140.70it/s]"
     ]
    },
    {
     "name": "stdout",
     "output_type": "stream",
     "text": [
      "Epoch: 218 | Time: 0m 1s\tTrain Loss: 0.481 | Test Loss: 306.489\n",
      "epoch start:  218\n",
      "training ...\n"
     ]
    },
    {
     "name": "stderr",
     "output_type": "stream",
     "text": [
      "280it [00:01, 148.90it/s]\n",
      "120it [00:00, 1769.55it/s]\n",
      "16it [00:00, 155.35it/s]"
     ]
    },
    {
     "name": "stdout",
     "output_type": "stream",
     "text": [
      "Epoch: 219 | Time: 0m 1s\tTrain Loss: 0.481 | Test Loss: 305.715\n",
      "epoch start:  219\n",
      "training ...\n"
     ]
    },
    {
     "name": "stderr",
     "output_type": "stream",
     "text": [
      "280it [00:01, 158.00it/s]\n",
      "120it [00:00, 1735.33it/s]\n",
      "16it [00:00, 156.86it/s]"
     ]
    },
    {
     "name": "stdout",
     "output_type": "stream",
     "text": [
      "Epoch: 220 | Time: 0m 1s\tTrain Loss: 0.483 | Test Loss: 304.867\n",
      "epoch start:  220\n",
      "training ...\n"
     ]
    },
    {
     "name": "stderr",
     "output_type": "stream",
     "text": [
      "280it [00:01, 157.45it/s]\n",
      "120it [00:00, 1572.08it/s]\n",
      "16it [00:00, 153.54it/s]"
     ]
    },
    {
     "name": "stdout",
     "output_type": "stream",
     "text": [
      "Epoch: 221 | Time: 0m 1s\tTrain Loss: 0.486 | Test Loss: 304.154\n",
      "epoch start:  221\n",
      "training ...\n"
     ]
    },
    {
     "name": "stderr",
     "output_type": "stream",
     "text": [
      "280it [00:01, 157.26it/s]\n",
      "120it [00:00, 1810.02it/s]\n",
      "15it [00:00, 147.25it/s]"
     ]
    },
    {
     "name": "stdout",
     "output_type": "stream",
     "text": [
      "Epoch: 222 | Time: 0m 1s\tTrain Loss: 0.485 | Test Loss: 303.777\n",
      "epoch start:  222\n",
      "training ...\n"
     ]
    },
    {
     "name": "stderr",
     "output_type": "stream",
     "text": [
      "280it [00:01, 153.73it/s]\n",
      "120it [00:00, 1721.22it/s]\n",
      "15it [00:00, 149.08it/s]"
     ]
    },
    {
     "name": "stdout",
     "output_type": "stream",
     "text": [
      "Epoch: 223 | Time: 0m 1s\tTrain Loss: 0.486 | Test Loss: 303.692\n",
      "epoch start:  223\n",
      "training ...\n"
     ]
    },
    {
     "name": "stderr",
     "output_type": "stream",
     "text": [
      "280it [00:01, 161.89it/s]\n",
      "120it [00:00, 1754.18it/s]\n",
      "14it [00:00, 135.70it/s]"
     ]
    },
    {
     "name": "stdout",
     "output_type": "stream",
     "text": [
      "Epoch: 224 | Time: 0m 1s\tTrain Loss: 0.486 | Test Loss: 302.551\n",
      "epoch start:  224\n",
      "training ...\n"
     ]
    },
    {
     "name": "stderr",
     "output_type": "stream",
     "text": [
      "280it [00:01, 147.71it/s]\n",
      "120it [00:00, 1712.14it/s]\n",
      "16it [00:00, 152.59it/s]"
     ]
    },
    {
     "name": "stdout",
     "output_type": "stream",
     "text": [
      "Epoch: 225 | Time: 0m 1s\tTrain Loss: 0.487 | Test Loss: 301.873\n",
      "epoch start:  225\n",
      "training ...\n"
     ]
    },
    {
     "name": "stderr",
     "output_type": "stream",
     "text": [
      "280it [00:01, 157.47it/s]\n",
      "120it [00:00, 1673.73it/s]\n",
      "17it [00:00, 168.64it/s]"
     ]
    },
    {
     "name": "stdout",
     "output_type": "stream",
     "text": [
      "Epoch: 226 | Time: 0m 1s\tTrain Loss: 0.486 | Test Loss: 300.639\n",
      "epoch start:  226\n",
      "training ...\n"
     ]
    },
    {
     "name": "stderr",
     "output_type": "stream",
     "text": [
      "280it [00:01, 152.78it/s]\n",
      "120it [00:00, 1763.91it/s]\n",
      "16it [00:00, 156.70it/s]"
     ]
    },
    {
     "name": "stdout",
     "output_type": "stream",
     "text": [
      "Epoch: 227 | Time: 0m 1s\tTrain Loss: 0.488 | Test Loss: 300.955\n",
      "epoch start:  227\n",
      "training ...\n"
     ]
    },
    {
     "name": "stderr",
     "output_type": "stream",
     "text": [
      "280it [00:01, 152.19it/s]\n",
      "120it [00:00, 1780.59it/s]\n",
      "16it [00:00, 152.02it/s]"
     ]
    },
    {
     "name": "stdout",
     "output_type": "stream",
     "text": [
      "Epoch: 228 | Time: 0m 1s\tTrain Loss: 0.487 | Test Loss: 299.877\n",
      "epoch start:  228\n",
      "training ...\n"
     ]
    },
    {
     "name": "stderr",
     "output_type": "stream",
     "text": [
      "280it [00:01, 148.86it/s]\n",
      "120it [00:00, 1738.56it/s]\n",
      "16it [00:00, 157.05it/s]"
     ]
    },
    {
     "name": "stdout",
     "output_type": "stream",
     "text": [
      "Epoch: 229 | Time: 0m 1s\tTrain Loss: 0.491 | Test Loss: 298.458\n",
      "epoch start:  229\n",
      "training ...\n"
     ]
    },
    {
     "name": "stderr",
     "output_type": "stream",
     "text": [
      "280it [00:01, 147.80it/s]\n",
      "120it [00:00, 1729.18it/s]\n",
      "16it [00:00, 151.48it/s]"
     ]
    },
    {
     "name": "stdout",
     "output_type": "stream",
     "text": [
      "Epoch: 230 | Time: 0m 1s\tTrain Loss: 0.489 | Test Loss: 298.005\n",
      "epoch start:  230\n",
      "training ...\n"
     ]
    },
    {
     "name": "stderr",
     "output_type": "stream",
     "text": [
      "280it [00:01, 157.68it/s]\n",
      "120it [00:00, 1705.88it/s]\n",
      "17it [00:00, 165.53it/s]"
     ]
    },
    {
     "name": "stdout",
     "output_type": "stream",
     "text": [
      "Epoch: 231 | Time: 0m 1s\tTrain Loss: 0.490 | Test Loss: 297.757\n",
      "epoch start:  231\n",
      "training ...\n"
     ]
    },
    {
     "name": "stderr",
     "output_type": "stream",
     "text": [
      "280it [00:01, 154.04it/s]\n",
      "120it [00:00, 1718.66it/s]\n",
      "16it [00:00, 156.23it/s]"
     ]
    },
    {
     "name": "stdout",
     "output_type": "stream",
     "text": [
      "Epoch: 232 | Time: 0m 1s\tTrain Loss: 0.492 | Test Loss: 297.057\n",
      "epoch start:  232\n",
      "training ...\n"
     ]
    },
    {
     "name": "stderr",
     "output_type": "stream",
     "text": [
      "280it [00:01, 148.07it/s]\n",
      "120it [00:00, 1540.83it/s]\n",
      "16it [00:00, 159.35it/s]"
     ]
    },
    {
     "name": "stdout",
     "output_type": "stream",
     "text": [
      "Epoch: 233 | Time: 0m 1s\tTrain Loss: 0.494 | Test Loss: 296.963\n",
      "epoch start:  233\n",
      "training ...\n"
     ]
    },
    {
     "name": "stderr",
     "output_type": "stream",
     "text": [
      "280it [00:01, 157.60it/s]\n",
      "120it [00:00, 1701.95it/s]\n",
      "16it [00:00, 155.84it/s]"
     ]
    },
    {
     "name": "stdout",
     "output_type": "stream",
     "text": [
      "Epoch: 234 | Time: 0m 1s\tTrain Loss: 0.493 | Test Loss: 295.507\n",
      "epoch start:  234\n",
      "training ...\n"
     ]
    },
    {
     "name": "stderr",
     "output_type": "stream",
     "text": [
      "280it [00:01, 151.55it/s]\n",
      "120it [00:00, 1748.66it/s]\n",
      "15it [00:00, 145.06it/s]"
     ]
    },
    {
     "name": "stdout",
     "output_type": "stream",
     "text": [
      "Epoch: 235 | Time: 0m 1s\tTrain Loss: 0.493 | Test Loss: 294.784\n",
      "epoch start:  235\n",
      "training ...\n"
     ]
    },
    {
     "name": "stderr",
     "output_type": "stream",
     "text": [
      "280it [00:01, 154.46it/s]\n",
      "120it [00:00, 1803.14it/s]\n",
      "15it [00:00, 147.23it/s]"
     ]
    },
    {
     "name": "stdout",
     "output_type": "stream",
     "text": [
      "Epoch: 236 | Time: 0m 1s\tTrain Loss: 0.494 | Test Loss: 294.693\n",
      "epoch start:  236\n",
      "training ...\n"
     ]
    },
    {
     "name": "stderr",
     "output_type": "stream",
     "text": [
      "280it [00:01, 152.05it/s]\n",
      "120it [00:00, 1793.83it/s]\n",
      "16it [00:00, 152.98it/s]"
     ]
    },
    {
     "name": "stdout",
     "output_type": "stream",
     "text": [
      "Epoch: 237 | Time: 0m 1s\tTrain Loss: 0.494 | Test Loss: 295.023\n",
      "epoch start:  237\n",
      "training ...\n"
     ]
    },
    {
     "name": "stderr",
     "output_type": "stream",
     "text": [
      "280it [00:01, 166.96it/s]\n",
      "120it [00:00, 1399.35it/s]\n",
      "17it [00:00, 167.71it/s]"
     ]
    },
    {
     "name": "stdout",
     "output_type": "stream",
     "text": [
      "Epoch: 238 | Time: 0m 1s\tTrain Loss: 0.496 | Test Loss: 294.420\n",
      "epoch start:  238\n",
      "training ...\n"
     ]
    },
    {
     "name": "stderr",
     "output_type": "stream",
     "text": [
      "280it [00:01, 151.95it/s]\n",
      "120it [00:00, 1698.22it/s]\n",
      "17it [00:00, 160.87it/s]"
     ]
    },
    {
     "name": "stdout",
     "output_type": "stream",
     "text": [
      "Epoch: 239 | Time: 0m 1s\tTrain Loss: 0.496 | Test Loss: 293.331\n",
      "epoch start:  239\n",
      "training ...\n"
     ]
    },
    {
     "name": "stderr",
     "output_type": "stream",
     "text": [
      "280it [00:01, 148.34it/s]\n",
      "120it [00:00, 1789.13it/s]\n",
      "15it [00:00, 148.00it/s]"
     ]
    },
    {
     "name": "stdout",
     "output_type": "stream",
     "text": [
      "Epoch: 240 | Time: 0m 1s\tTrain Loss: 0.498 | Test Loss: 292.699\n",
      "epoch start:  240\n",
      "training ...\n"
     ]
    },
    {
     "name": "stderr",
     "output_type": "stream",
     "text": [
      "280it [00:01, 152.34it/s]\n",
      "120it [00:00, 1676.61it/s]\n",
      "16it [00:00, 159.77it/s]"
     ]
    },
    {
     "name": "stdout",
     "output_type": "stream",
     "text": [
      "Epoch: 241 | Time: 0m 1s\tTrain Loss: 0.500 | Test Loss: 291.468\n",
      "epoch start:  241\n",
      "training ...\n"
     ]
    },
    {
     "name": "stderr",
     "output_type": "stream",
     "text": [
      "280it [00:01, 150.18it/s]\n",
      "120it [00:00, 1696.99it/s]\n",
      "17it [00:00, 165.13it/s]"
     ]
    },
    {
     "name": "stdout",
     "output_type": "stream",
     "text": [
      "Epoch: 242 | Time: 0m 1s\tTrain Loss: 0.499 | Test Loss: 291.027\n",
      "epoch start:  242\n",
      "training ...\n"
     ]
    },
    {
     "name": "stderr",
     "output_type": "stream",
     "text": [
      "280it [00:01, 158.76it/s]\n",
      "120it [00:00, 1627.32it/s]\n",
      "17it [00:00, 163.13it/s]"
     ]
    },
    {
     "name": "stdout",
     "output_type": "stream",
     "text": [
      "Epoch: 243 | Time: 0m 1s\tTrain Loss: 0.498 | Test Loss: 290.352\n",
      "epoch start:  243\n",
      "training ...\n"
     ]
    },
    {
     "name": "stderr",
     "output_type": "stream",
     "text": [
      "280it [00:01, 155.90it/s]\n",
      "120it [00:00, 1667.14it/s]\n",
      "15it [00:00, 148.19it/s]"
     ]
    },
    {
     "name": "stdout",
     "output_type": "stream",
     "text": [
      "Epoch: 244 | Time: 0m 1s\tTrain Loss: 0.500 | Test Loss: 289.534\n",
      "epoch start:  244\n",
      "training ...\n"
     ]
    },
    {
     "name": "stderr",
     "output_type": "stream",
     "text": [
      "280it [00:01, 157.51it/s]\n",
      "120it [00:00, 1739.76it/s]\n",
      "17it [00:00, 169.54it/s]"
     ]
    },
    {
     "name": "stdout",
     "output_type": "stream",
     "text": [
      "Epoch: 245 | Time: 0m 1s\tTrain Loss: 0.499 | Test Loss: 288.505\n",
      "epoch start:  245\n",
      "training ...\n"
     ]
    },
    {
     "name": "stderr",
     "output_type": "stream",
     "text": [
      "280it [00:01, 158.55it/s]\n",
      "120it [00:00, 1752.20it/s]\n",
      "16it [00:00, 150.77it/s]"
     ]
    },
    {
     "name": "stdout",
     "output_type": "stream",
     "text": [
      "Epoch: 246 | Time: 0m 1s\tTrain Loss: 0.501 | Test Loss: 288.933\n",
      "epoch start:  246\n",
      "training ...\n"
     ]
    },
    {
     "name": "stderr",
     "output_type": "stream",
     "text": [
      "280it [00:01, 160.75it/s]\n",
      "120it [00:00, 1566.03it/s]\n",
      "17it [00:00, 169.58it/s]"
     ]
    },
    {
     "name": "stdout",
     "output_type": "stream",
     "text": [
      "Epoch: 247 | Time: 0m 1s\tTrain Loss: 0.505 | Test Loss: 287.571\n",
      "epoch start:  247\n",
      "training ...\n"
     ]
    },
    {
     "name": "stderr",
     "output_type": "stream",
     "text": [
      "280it [00:01, 155.04it/s]\n",
      "120it [00:00, 1794.28it/s]\n",
      "16it [00:00, 149.22it/s]"
     ]
    },
    {
     "name": "stdout",
     "output_type": "stream",
     "text": [
      "Epoch: 248 | Time: 0m 1s\tTrain Loss: 0.501 | Test Loss: 286.953\n",
      "epoch start:  248\n",
      "training ...\n"
     ]
    },
    {
     "name": "stderr",
     "output_type": "stream",
     "text": [
      "280it [00:01, 165.50it/s]\n",
      "120it [00:00, 1659.95it/s]\n",
      "15it [00:00, 149.23it/s]"
     ]
    },
    {
     "name": "stdout",
     "output_type": "stream",
     "text": [
      "Epoch: 249 | Time: 0m 1s\tTrain Loss: 0.505 | Test Loss: 286.163\n",
      "epoch start:  249\n",
      "training ...\n"
     ]
    },
    {
     "name": "stderr",
     "output_type": "stream",
     "text": [
      "280it [00:01, 148.75it/s]\n",
      "120it [00:00, 1681.58it/s]\n",
      "17it [00:00, 166.92it/s]"
     ]
    },
    {
     "name": "stdout",
     "output_type": "stream",
     "text": [
      "Epoch: 250 | Time: 0m 1s\tTrain Loss: 0.506 | Test Loss: 285.400\n",
      "epoch start:  250\n",
      "training ...\n"
     ]
    },
    {
     "name": "stderr",
     "output_type": "stream",
     "text": [
      "280it [00:01, 150.15it/s]\n",
      "120it [00:00, 1703.48it/s]\n",
      "15it [00:00, 143.31it/s]"
     ]
    },
    {
     "name": "stdout",
     "output_type": "stream",
     "text": [
      "Epoch: 251 | Time: 0m 1s\tTrain Loss: 0.506 | Test Loss: 284.961\n",
      "epoch start:  251\n",
      "training ...\n"
     ]
    },
    {
     "name": "stderr",
     "output_type": "stream",
     "text": [
      "280it [00:01, 165.13it/s]\n",
      "120it [00:00, 1644.28it/s]\n",
      "18it [00:00, 168.41it/s]"
     ]
    },
    {
     "name": "stdout",
     "output_type": "stream",
     "text": [
      "Epoch: 252 | Time: 0m 1s\tTrain Loss: 0.506 | Test Loss: 284.432\n",
      "epoch start:  252\n",
      "training ...\n"
     ]
    },
    {
     "name": "stderr",
     "output_type": "stream",
     "text": [
      "280it [00:01, 164.69it/s]\n",
      "120it [00:00, 1652.49it/s]\n",
      "16it [00:00, 159.90it/s]"
     ]
    },
    {
     "name": "stdout",
     "output_type": "stream",
     "text": [
      "Epoch: 253 | Time: 0m 1s\tTrain Loss: 0.508 | Test Loss: 284.271\n",
      "epoch start:  253\n",
      "training ...\n"
     ]
    },
    {
     "name": "stderr",
     "output_type": "stream",
     "text": [
      "280it [00:01, 149.49it/s]\n",
      "120it [00:00, 1702.46it/s]\n",
      "15it [00:00, 146.53it/s]"
     ]
    },
    {
     "name": "stdout",
     "output_type": "stream",
     "text": [
      "Epoch: 254 | Time: 0m 1s\tTrain Loss: 0.508 | Test Loss: 282.991\n",
      "epoch start:  254\n",
      "training ...\n"
     ]
    },
    {
     "name": "stderr",
     "output_type": "stream",
     "text": [
      "280it [00:01, 152.99it/s]\n",
      "120it [00:00, 1665.09it/s]\n",
      "14it [00:00, 138.20it/s]"
     ]
    },
    {
     "name": "stdout",
     "output_type": "stream",
     "text": [
      "Epoch: 255 | Time: 0m 1s\tTrain Loss: 0.508 | Test Loss: 281.305\n",
      "epoch start:  255\n",
      "training ...\n"
     ]
    },
    {
     "name": "stderr",
     "output_type": "stream",
     "text": [
      "280it [00:01, 155.76it/s]\n",
      "120it [00:00, 1667.11it/s]\n",
      "17it [00:00, 168.48it/s]"
     ]
    },
    {
     "name": "stdout",
     "output_type": "stream",
     "text": [
      "Epoch: 256 | Time: 0m 1s\tTrain Loss: 0.508 | Test Loss: 281.873\n",
      "epoch start:  256\n",
      "training ...\n"
     ]
    },
    {
     "name": "stderr",
     "output_type": "stream",
     "text": [
      "280it [00:01, 148.19it/s]\n",
      "120it [00:00, 1709.67it/s]\n",
      "16it [00:00, 157.05it/s]"
     ]
    },
    {
     "name": "stdout",
     "output_type": "stream",
     "text": [
      "Epoch: 257 | Time: 0m 1s\tTrain Loss: 0.509 | Test Loss: 280.619\n",
      "epoch start:  257\n",
      "training ...\n"
     ]
    },
    {
     "name": "stderr",
     "output_type": "stream",
     "text": [
      "280it [00:01, 151.01it/s]\n",
      "120it [00:00, 1811.27it/s]\n",
      "15it [00:00, 143.48it/s]"
     ]
    },
    {
     "name": "stdout",
     "output_type": "stream",
     "text": [
      "Epoch: 258 | Time: 0m 1s\tTrain Loss: 0.507 | Test Loss: 281.518\n",
      "epoch start:  258\n",
      "training ...\n"
     ]
    },
    {
     "name": "stderr",
     "output_type": "stream",
     "text": [
      "280it [00:01, 155.06it/s]\n",
      "120it [00:00, 1550.16it/s]\n",
      "20it [00:00, 192.88it/s]"
     ]
    },
    {
     "name": "stdout",
     "output_type": "stream",
     "text": [
      "Epoch: 259 | Time: 0m 1s\tTrain Loss: 0.509 | Test Loss: 279.460\n",
      "epoch start:  259\n",
      "training ...\n"
     ]
    },
    {
     "name": "stderr",
     "output_type": "stream",
     "text": [
      "280it [00:01, 153.59it/s]\n",
      "120it [00:00, 1772.35it/s]\n",
      "16it [00:00, 150.31it/s]"
     ]
    },
    {
     "name": "stdout",
     "output_type": "stream",
     "text": [
      "Epoch: 260 | Time: 0m 1s\tTrain Loss: 0.507 | Test Loss: 278.742\n",
      "epoch start:  260\n",
      "training ...\n"
     ]
    },
    {
     "name": "stderr",
     "output_type": "stream",
     "text": [
      "280it [00:01, 152.49it/s]\n",
      "120it [00:00, 1808.42it/s]\n",
      "15it [00:00, 146.59it/s]"
     ]
    },
    {
     "name": "stdout",
     "output_type": "stream",
     "text": [
      "Epoch: 261 | Time: 0m 1s\tTrain Loss: 0.511 | Test Loss: 278.414\n",
      "epoch start:  261\n",
      "training ...\n"
     ]
    },
    {
     "name": "stderr",
     "output_type": "stream",
     "text": [
      "280it [00:01, 150.57it/s]\n",
      "120it [00:00, 1668.67it/s]\n",
      "14it [00:00, 133.60it/s]"
     ]
    },
    {
     "name": "stdout",
     "output_type": "stream",
     "text": [
      "Epoch: 262 | Time: 0m 1s\tTrain Loss: 0.509 | Test Loss: 277.887\n",
      "epoch start:  262\n",
      "training ...\n"
     ]
    },
    {
     "name": "stderr",
     "output_type": "stream",
     "text": [
      "280it [00:01, 149.19it/s]\n",
      "120it [00:00, 1765.38it/s]\n",
      "15it [00:00, 149.33it/s]"
     ]
    },
    {
     "name": "stdout",
     "output_type": "stream",
     "text": [
      "Epoch: 263 | Time: 0m 1s\tTrain Loss: 0.511 | Test Loss: 276.537\n",
      "epoch start:  263\n",
      "training ...\n"
     ]
    },
    {
     "name": "stderr",
     "output_type": "stream",
     "text": [
      "280it [00:01, 167.78it/s]\n",
      "120it [00:00, 1728.25it/s]\n",
      "17it [00:00, 163.21it/s]"
     ]
    },
    {
     "name": "stdout",
     "output_type": "stream",
     "text": [
      "Epoch: 264 | Time: 0m 1s\tTrain Loss: 0.512 | Test Loss: 276.039\n",
      "epoch start:  264\n",
      "training ...\n"
     ]
    },
    {
     "name": "stderr",
     "output_type": "stream",
     "text": [
      "280it [00:01, 170.84it/s]\n",
      "120it [00:00, 1714.89it/s]\n",
      "16it [00:00, 150.72it/s]"
     ]
    },
    {
     "name": "stdout",
     "output_type": "stream",
     "text": [
      "Epoch: 265 | Time: 0m 1s\tTrain Loss: 0.515 | Test Loss: 275.877\n",
      "epoch start:  265\n",
      "training ...\n"
     ]
    },
    {
     "name": "stderr",
     "output_type": "stream",
     "text": [
      "280it [00:01, 152.02it/s]\n",
      "120it [00:00, 1738.03it/s]\n",
      "16it [00:00, 154.10it/s]"
     ]
    },
    {
     "name": "stdout",
     "output_type": "stream",
     "text": [
      "Epoch: 266 | Time: 0m 1s\tTrain Loss: 0.513 | Test Loss: 274.061\n",
      "epoch start:  266\n",
      "training ...\n"
     ]
    },
    {
     "name": "stderr",
     "output_type": "stream",
     "text": [
      "280it [00:01, 151.28it/s]\n",
      "120it [00:00, 1714.56it/s]\n",
      "16it [00:00, 149.55it/s]"
     ]
    },
    {
     "name": "stdout",
     "output_type": "stream",
     "text": [
      "Epoch: 267 | Time: 0m 1s\tTrain Loss: 0.515 | Test Loss: 273.627\n",
      "epoch start:  267\n",
      "training ...\n"
     ]
    },
    {
     "name": "stderr",
     "output_type": "stream",
     "text": [
      "280it [00:01, 160.46it/s]\n",
      "120it [00:00, 1639.60it/s]\n",
      "15it [00:00, 149.53it/s]"
     ]
    },
    {
     "name": "stdout",
     "output_type": "stream",
     "text": [
      "Epoch: 268 | Time: 0m 1s\tTrain Loss: 0.514 | Test Loss: 272.815\n",
      "epoch start:  268\n",
      "training ...\n"
     ]
    },
    {
     "name": "stderr",
     "output_type": "stream",
     "text": [
      "280it [00:01, 151.71it/s]\n",
      "120it [00:00, 1724.93it/s]\n",
      "17it [00:00, 160.38it/s]"
     ]
    },
    {
     "name": "stdout",
     "output_type": "stream",
     "text": [
      "Epoch: 269 | Time: 0m 1s\tTrain Loss: 0.516 | Test Loss: 272.564\n",
      "epoch start:  269\n",
      "training ...\n"
     ]
    },
    {
     "name": "stderr",
     "output_type": "stream",
     "text": [
      "280it [00:01, 148.42it/s]\n",
      "120it [00:00, 1750.15it/s]\n",
      "15it [00:00, 139.99it/s]"
     ]
    },
    {
     "name": "stdout",
     "output_type": "stream",
     "text": [
      "Epoch: 270 | Time: 0m 1s\tTrain Loss: 0.517 | Test Loss: 272.043\n",
      "epoch start:  270\n",
      "training ...\n"
     ]
    },
    {
     "name": "stderr",
     "output_type": "stream",
     "text": [
      "280it [00:01, 150.46it/s]\n",
      "120it [00:00, 1691.42it/s]\n",
      "16it [00:00, 151.97it/s]"
     ]
    },
    {
     "name": "stdout",
     "output_type": "stream",
     "text": [
      "Epoch: 271 | Time: 0m 1s\tTrain Loss: 0.515 | Test Loss: 271.320\n",
      "epoch start:  271\n",
      "training ...\n"
     ]
    },
    {
     "name": "stderr",
     "output_type": "stream",
     "text": [
      "280it [00:01, 154.06it/s]\n",
      "120it [00:00, 1421.42it/s]\n",
      "17it [00:00, 166.67it/s]"
     ]
    },
    {
     "name": "stdout",
     "output_type": "stream",
     "text": [
      "Epoch: 272 | Time: 0m 1s\tTrain Loss: 0.518 | Test Loss: 271.363\n",
      "epoch start:  272\n",
      "training ...\n"
     ]
    },
    {
     "name": "stderr",
     "output_type": "stream",
     "text": [
      "280it [00:01, 178.26it/s]\n",
      "120it [00:00, 1678.27it/s]\n",
      "16it [00:00, 159.61it/s]"
     ]
    },
    {
     "name": "stdout",
     "output_type": "stream",
     "text": [
      "Epoch: 273 | Time: 0m 1s\tTrain Loss: 0.517 | Test Loss: 270.334\n",
      "epoch start:  273\n",
      "training ...\n"
     ]
    },
    {
     "name": "stderr",
     "output_type": "stream",
     "text": [
      "280it [00:01, 148.74it/s]\n",
      "120it [00:00, 1798.34it/s]\n",
      "16it [00:00, 154.30it/s]"
     ]
    },
    {
     "name": "stdout",
     "output_type": "stream",
     "text": [
      "Epoch: 274 | Time: 0m 1s\tTrain Loss: 0.519 | Test Loss: 270.362\n",
      "epoch start:  274\n",
      "training ...\n"
     ]
    },
    {
     "name": "stderr",
     "output_type": "stream",
     "text": [
      "280it [00:01, 148.50it/s]\n",
      "120it [00:00, 1799.59it/s]\n",
      "17it [00:00, 160.21it/s]"
     ]
    },
    {
     "name": "stdout",
     "output_type": "stream",
     "text": [
      "Epoch: 275 | Time: 0m 1s\tTrain Loss: 0.519 | Test Loss: 269.958\n",
      "epoch start:  275\n",
      "training ...\n"
     ]
    },
    {
     "name": "stderr",
     "output_type": "stream",
     "text": [
      "280it [00:01, 151.97it/s]\n",
      "120it [00:00, 1735.34it/s]\n",
      "17it [00:00, 158.65it/s]"
     ]
    },
    {
     "name": "stdout",
     "output_type": "stream",
     "text": [
      "Epoch: 276 | Time: 0m 1s\tTrain Loss: 0.520 | Test Loss: 268.636\n",
      "epoch start:  276\n",
      "training ...\n"
     ]
    },
    {
     "name": "stderr",
     "output_type": "stream",
     "text": [
      "280it [00:01, 149.25it/s]\n",
      "120it [00:00, 1649.87it/s]\n",
      "17it [00:00, 165.68it/s]"
     ]
    },
    {
     "name": "stdout",
     "output_type": "stream",
     "text": [
      "Epoch: 277 | Time: 0m 1s\tTrain Loss: 0.519 | Test Loss: 267.010\n",
      "epoch start:  277\n",
      "training ...\n"
     ]
    },
    {
     "name": "stderr",
     "output_type": "stream",
     "text": [
      "280it [00:01, 150.64it/s]\n",
      "120it [00:00, 1801.73it/s]\n",
      "15it [00:00, 143.40it/s]"
     ]
    },
    {
     "name": "stdout",
     "output_type": "stream",
     "text": [
      "Epoch: 278 | Time: 0m 1s\tTrain Loss: 0.518 | Test Loss: 266.528\n",
      "epoch start:  278\n",
      "training ...\n"
     ]
    },
    {
     "name": "stderr",
     "output_type": "stream",
     "text": [
      "280it [00:01, 170.45it/s]\n",
      "120it [00:00, 1732.61it/s]\n",
      "17it [00:00, 163.39it/s]"
     ]
    },
    {
     "name": "stdout",
     "output_type": "stream",
     "text": [
      "Epoch: 279 | Time: 0m 1s\tTrain Loss: 0.520 | Test Loss: 266.075\n",
      "epoch start:  279\n",
      "training ...\n"
     ]
    },
    {
     "name": "stderr",
     "output_type": "stream",
     "text": [
      "280it [00:01, 155.65it/s]\n",
      "120it [00:00, 1560.28it/s]\n",
      "16it [00:00, 158.77it/s]"
     ]
    },
    {
     "name": "stdout",
     "output_type": "stream",
     "text": [
      "Epoch: 280 | Time: 0m 1s\tTrain Loss: 0.521 | Test Loss: 266.303\n",
      "epoch start:  280\n",
      "training ...\n"
     ]
    },
    {
     "name": "stderr",
     "output_type": "stream",
     "text": [
      "280it [00:01, 151.07it/s]\n",
      "120it [00:00, 1772.03it/s]\n",
      "16it [00:00, 158.95it/s]"
     ]
    },
    {
     "name": "stdout",
     "output_type": "stream",
     "text": [
      "Epoch: 281 | Time: 0m 1s\tTrain Loss: 0.517 | Test Loss: 262.865\n",
      "epoch start:  281\n",
      "training ...\n"
     ]
    },
    {
     "name": "stderr",
     "output_type": "stream",
     "text": [
      "280it [00:01, 167.28it/s]\n",
      "120it [00:00, 1713.67it/s]\n",
      "20it [00:00, 193.42it/s]"
     ]
    },
    {
     "name": "stdout",
     "output_type": "stream",
     "text": [
      "Epoch: 282 | Time: 0m 1s\tTrain Loss: 0.523 | Test Loss: 264.331\n",
      "epoch start:  282\n",
      "training ...\n"
     ]
    },
    {
     "name": "stderr",
     "output_type": "stream",
     "text": [
      "280it [00:01, 159.01it/s]\n",
      "120it [00:00, 1750.03it/s]\n",
      "25it [00:00, 246.08it/s]"
     ]
    },
    {
     "name": "stdout",
     "output_type": "stream",
     "text": [
      "Epoch: 283 | Time: 0m 1s\tTrain Loss: 0.522 | Test Loss: 265.002\n",
      "epoch start:  283\n",
      "training ...\n"
     ]
    },
    {
     "name": "stderr",
     "output_type": "stream",
     "text": [
      "280it [00:01, 158.47it/s]\n",
      "120it [00:00, 1647.95it/s]\n",
      "17it [00:00, 160.77it/s]"
     ]
    },
    {
     "name": "stdout",
     "output_type": "stream",
     "text": [
      "Epoch: 284 | Time: 0m 1s\tTrain Loss: 0.523 | Test Loss: 262.772\n",
      "epoch start:  284\n",
      "training ...\n"
     ]
    },
    {
     "name": "stderr",
     "output_type": "stream",
     "text": [
      "280it [00:01, 151.01it/s]\n",
      "120it [00:00, 1720.53it/s]\n",
      "16it [00:00, 153.94it/s]"
     ]
    },
    {
     "name": "stdout",
     "output_type": "stream",
     "text": [
      "Epoch: 285 | Time: 0m 1s\tTrain Loss: 0.524 | Test Loss: 262.569\n",
      "epoch start:  285\n",
      "training ...\n"
     ]
    },
    {
     "name": "stderr",
     "output_type": "stream",
     "text": [
      "280it [00:01, 154.87it/s]\n",
      "120it [00:00, 1753.75it/s]\n",
      "16it [00:00, 150.39it/s]"
     ]
    },
    {
     "name": "stdout",
     "output_type": "stream",
     "text": [
      "Epoch: 286 | Time: 0m 1s\tTrain Loss: 0.524 | Test Loss: 262.487\n",
      "epoch start:  286\n",
      "training ...\n"
     ]
    },
    {
     "name": "stderr",
     "output_type": "stream",
     "text": [
      "280it [00:01, 154.96it/s]\n",
      "120it [00:00, 1677.98it/s]\n",
      "17it [00:00, 164.71it/s]"
     ]
    },
    {
     "name": "stdout",
     "output_type": "stream",
     "text": [
      "Epoch: 287 | Time: 0m 1s\tTrain Loss: 0.523 | Test Loss: 260.216\n",
      "epoch start:  287\n",
      "training ...\n"
     ]
    },
    {
     "name": "stderr",
     "output_type": "stream",
     "text": [
      "280it [00:01, 158.13it/s]\n",
      "120it [00:00, 1656.21it/s]\n",
      "19it [00:00, 183.69it/s]"
     ]
    },
    {
     "name": "stdout",
     "output_type": "stream",
     "text": [
      "Epoch: 288 | Time: 0m 1s\tTrain Loss: 0.526 | Test Loss: 259.679\n",
      "epoch start:  288\n",
      "training ...\n"
     ]
    },
    {
     "name": "stderr",
     "output_type": "stream",
     "text": [
      "280it [00:01, 231.82it/s]\n",
      "120it [00:00, 1653.89it/s]\n",
      "25it [00:00, 239.87it/s]"
     ]
    },
    {
     "name": "stdout",
     "output_type": "stream",
     "text": [
      "Epoch: 289 | Time: 0m 1s\tTrain Loss: 0.525 | Test Loss: 260.250\n",
      "epoch start:  289\n",
      "training ...\n"
     ]
    },
    {
     "name": "stderr",
     "output_type": "stream",
     "text": [
      "280it [00:01, 199.13it/s]\n",
      "120it [00:00, 1755.99it/s]\n",
      "16it [00:00, 154.22it/s]"
     ]
    },
    {
     "name": "stdout",
     "output_type": "stream",
     "text": [
      "Epoch: 290 | Time: 0m 1s\tTrain Loss: 0.522 | Test Loss: 259.521\n",
      "epoch start:  290\n",
      "training ...\n"
     ]
    },
    {
     "name": "stderr",
     "output_type": "stream",
     "text": [
      "280it [00:01, 152.38it/s]\n",
      "120it [00:00, 1772.48it/s]\n",
      "18it [00:00, 173.32it/s]"
     ]
    },
    {
     "name": "stdout",
     "output_type": "stream",
     "text": [
      "Epoch: 291 | Time: 0m 1s\tTrain Loss: 0.526 | Test Loss: 258.875\n",
      "epoch start:  291\n",
      "training ...\n"
     ]
    },
    {
     "name": "stderr",
     "output_type": "stream",
     "text": [
      "280it [00:01, 153.26it/s]\n",
      "120it [00:00, 1815.47it/s]\n",
      "17it [00:00, 160.03it/s]"
     ]
    },
    {
     "name": "stdout",
     "output_type": "stream",
     "text": [
      "Epoch: 292 | Time: 0m 1s\tTrain Loss: 0.524 | Test Loss: 258.065\n",
      "epoch start:  292\n",
      "training ...\n"
     ]
    },
    {
     "name": "stderr",
     "output_type": "stream",
     "text": [
      "280it [00:01, 150.09it/s]\n",
      "120it [00:00, 1692.50it/s]\n",
      "17it [00:00, 159.42it/s]"
     ]
    },
    {
     "name": "stdout",
     "output_type": "stream",
     "text": [
      "Epoch: 293 | Time: 0m 1s\tTrain Loss: 0.525 | Test Loss: 257.330\n",
      "epoch start:  293\n",
      "training ...\n"
     ]
    },
    {
     "name": "stderr",
     "output_type": "stream",
     "text": [
      "280it [00:01, 147.97it/s]\n",
      "120it [00:00, 1751.09it/s]\n",
      "15it [00:00, 144.18it/s]"
     ]
    },
    {
     "name": "stdout",
     "output_type": "stream",
     "text": [
      "Epoch: 294 | Time: 0m 1s\tTrain Loss: 0.525 | Test Loss: 257.594\n",
      "epoch start:  294\n",
      "training ...\n"
     ]
    },
    {
     "name": "stderr",
     "output_type": "stream",
     "text": [
      "280it [00:01, 151.51it/s]\n",
      "120it [00:00, 1658.84it/s]\n",
      "18it [00:00, 168.40it/s]"
     ]
    },
    {
     "name": "stdout",
     "output_type": "stream",
     "text": [
      "Epoch: 295 | Time: 0m 1s\tTrain Loss: 0.525 | Test Loss: 257.033\n",
      "epoch start:  295\n",
      "training ...\n"
     ]
    },
    {
     "name": "stderr",
     "output_type": "stream",
     "text": [
      "280it [00:01, 151.22it/s]\n",
      "120it [00:00, 1722.53it/s]\n",
      "18it [00:00, 174.16it/s]"
     ]
    },
    {
     "name": "stdout",
     "output_type": "stream",
     "text": [
      "Epoch: 296 | Time: 0m 1s\tTrain Loss: 0.527 | Test Loss: 254.709\n",
      "epoch start:  296\n",
      "training ...\n"
     ]
    },
    {
     "name": "stderr",
     "output_type": "stream",
     "text": [
      "280it [00:01, 163.87it/s]\n",
      "120it [00:00, 1783.38it/s]\n",
      "15it [00:00, 144.15it/s]"
     ]
    },
    {
     "name": "stdout",
     "output_type": "stream",
     "text": [
      "Epoch: 297 | Time: 0m 1s\tTrain Loss: 0.528 | Test Loss: 256.204\n",
      "epoch start:  297\n",
      "training ...\n"
     ]
    },
    {
     "name": "stderr",
     "output_type": "stream",
     "text": [
      "280it [00:01, 149.69it/s]\n",
      "120it [00:00, 1779.56it/s]\n",
      "17it [00:00, 162.14it/s]"
     ]
    },
    {
     "name": "stdout",
     "output_type": "stream",
     "text": [
      "Epoch: 298 | Time: 0m 1s\tTrain Loss: 0.526 | Test Loss: 254.634\n",
      "epoch start:  298\n",
      "training ...\n"
     ]
    },
    {
     "name": "stderr",
     "output_type": "stream",
     "text": [
      "280it [00:01, 152.37it/s]\n",
      "120it [00:00, 1698.95it/s]\n",
      "15it [00:00, 148.44it/s]"
     ]
    },
    {
     "name": "stdout",
     "output_type": "stream",
     "text": [
      "Epoch: 299 | Time: 0m 1s\tTrain Loss: 0.527 | Test Loss: 253.562\n",
      "epoch start:  299\n",
      "training ...\n"
     ]
    },
    {
     "name": "stderr",
     "output_type": "stream",
     "text": [
      "280it [00:01, 149.93it/s]\n",
      "120it [00:00, 1753.97it/s]\n",
      "14it [00:00, 139.96it/s]"
     ]
    },
    {
     "name": "stdout",
     "output_type": "stream",
     "text": [
      "Epoch: 300 | Time: 0m 1s\tTrain Loss: 0.521 | Test Loss: 253.804\n",
      "epoch start:  300\n",
      "training ...\n"
     ]
    },
    {
     "name": "stderr",
     "output_type": "stream",
     "text": [
      "280it [00:01, 150.05it/s]\n",
      "120it [00:00, 1827.54it/s]\n",
      "17it [00:00, 163.00it/s]"
     ]
    },
    {
     "name": "stdout",
     "output_type": "stream",
     "text": [
      "Epoch: 301 | Time: 0m 1s\tTrain Loss: 0.525 | Test Loss: 253.874\n",
      "epoch start:  301\n",
      "training ...\n"
     ]
    },
    {
     "name": "stderr",
     "output_type": "stream",
     "text": [
      "280it [00:01, 156.79it/s]\n",
      "120it [00:00, 1817.60it/s]\n",
      "15it [00:00, 145.48it/s]"
     ]
    },
    {
     "name": "stdout",
     "output_type": "stream",
     "text": [
      "Epoch: 302 | Time: 0m 1s\tTrain Loss: 0.526 | Test Loss: 253.395\n",
      "epoch start:  302\n",
      "training ...\n"
     ]
    },
    {
     "name": "stderr",
     "output_type": "stream",
     "text": [
      "280it [00:01, 146.96it/s]\n",
      "120it [00:00, 1740.31it/s]\n",
      "14it [00:00, 133.54it/s]"
     ]
    },
    {
     "name": "stdout",
     "output_type": "stream",
     "text": [
      "Epoch: 303 | Time: 0m 1s\tTrain Loss: 0.529 | Test Loss: 251.554\n",
      "epoch start:  303\n",
      "training ...\n"
     ]
    },
    {
     "name": "stderr",
     "output_type": "stream",
     "text": [
      "280it [00:01, 150.40it/s]\n",
      "120it [00:00, 1811.47it/s]\n",
      "17it [00:00, 169.14it/s]"
     ]
    },
    {
     "name": "stdout",
     "output_type": "stream",
     "text": [
      "Epoch: 304 | Time: 0m 1s\tTrain Loss: 0.527 | Test Loss: 252.007\n",
      "epoch start:  304\n",
      "training ...\n"
     ]
    },
    {
     "name": "stderr",
     "output_type": "stream",
     "text": [
      "280it [00:01, 150.47it/s]\n",
      "120it [00:00, 1631.52it/s]\n",
      "16it [00:00, 154.94it/s]"
     ]
    },
    {
     "name": "stdout",
     "output_type": "stream",
     "text": [
      "Epoch: 305 | Time: 0m 1s\tTrain Loss: 0.525 | Test Loss: 250.272\n",
      "epoch start:  305\n",
      "training ...\n"
     ]
    },
    {
     "name": "stderr",
     "output_type": "stream",
     "text": [
      "280it [00:01, 176.50it/s]\n",
      "120it [00:00, 1833.74it/s]\n",
      "16it [00:00, 149.62it/s]"
     ]
    },
    {
     "name": "stdout",
     "output_type": "stream",
     "text": [
      "Epoch: 306 | Time: 0m 1s\tTrain Loss: 0.525 | Test Loss: 250.681\n",
      "epoch start:  306\n",
      "training ...\n"
     ]
    },
    {
     "name": "stderr",
     "output_type": "stream",
     "text": [
      "280it [00:01, 154.12it/s]\n",
      "120it [00:00, 1780.52it/s]\n",
      "16it [00:00, 149.71it/s]"
     ]
    },
    {
     "name": "stdout",
     "output_type": "stream",
     "text": [
      "Epoch: 307 | Time: 0m 1s\tTrain Loss: 0.525 | Test Loss: 251.251\n",
      "epoch start:  307\n",
      "training ...\n"
     ]
    },
    {
     "name": "stderr",
     "output_type": "stream",
     "text": [
      "280it [00:01, 152.38it/s]\n",
      "120it [00:00, 1814.81it/s]\n",
      "18it [00:00, 174.94it/s]"
     ]
    },
    {
     "name": "stdout",
     "output_type": "stream",
     "text": [
      "Epoch: 308 | Time: 0m 1s\tTrain Loss: 0.530 | Test Loss: 249.364\n",
      "epoch start:  308\n",
      "training ...\n"
     ]
    },
    {
     "name": "stderr",
     "output_type": "stream",
     "text": [
      "280it [00:01, 154.32it/s]\n",
      "120it [00:00, 1750.98it/s]\n",
      "16it [00:00, 150.11it/s]"
     ]
    },
    {
     "name": "stdout",
     "output_type": "stream",
     "text": [
      "Epoch: 309 | Time: 0m 1s\tTrain Loss: 0.526 | Test Loss: 249.754\n",
      "epoch start:  309\n",
      "training ...\n"
     ]
    },
    {
     "name": "stderr",
     "output_type": "stream",
     "text": [
      "280it [00:01, 148.33it/s]\n",
      "120it [00:00, 1778.87it/s]\n",
      "15it [00:00, 149.98it/s]"
     ]
    },
    {
     "name": "stdout",
     "output_type": "stream",
     "text": [
      "Epoch: 310 | Time: 0m 1s\tTrain Loss: 0.522 | Test Loss: 248.339\n",
      "epoch start:  310\n",
      "training ...\n"
     ]
    },
    {
     "name": "stderr",
     "output_type": "stream",
     "text": [
      "280it [00:01, 149.03it/s]\n",
      "120it [00:00, 1808.40it/s]\n",
      "16it [00:00, 156.65it/s]"
     ]
    },
    {
     "name": "stdout",
     "output_type": "stream",
     "text": [
      "Epoch: 311 | Time: 0m 1s\tTrain Loss: 0.524 | Test Loss: 248.783\n",
      "epoch start:  311\n",
      "training ...\n"
     ]
    },
    {
     "name": "stderr",
     "output_type": "stream",
     "text": [
      "280it [00:01, 151.55it/s]\n",
      "120it [00:00, 1729.59it/s]\n",
      "16it [00:00, 157.13it/s]"
     ]
    },
    {
     "name": "stdout",
     "output_type": "stream",
     "text": [
      "Epoch: 312 | Time: 0m 1s\tTrain Loss: 0.522 | Test Loss: 247.496\n",
      "epoch start:  312\n",
      "training ...\n"
     ]
    },
    {
     "name": "stderr",
     "output_type": "stream",
     "text": [
      "280it [00:01, 148.42it/s]\n",
      "120it [00:00, 1781.35it/s]\n",
      "18it [00:00, 168.23it/s]"
     ]
    },
    {
     "name": "stdout",
     "output_type": "stream",
     "text": [
      "Epoch: 313 | Time: 0m 1s\tTrain Loss: 0.527 | Test Loss: 247.917\n",
      "epoch start:  313\n",
      "training ...\n"
     ]
    },
    {
     "name": "stderr",
     "output_type": "stream",
     "text": [
      "280it [00:01, 149.84it/s]\n",
      "120it [00:00, 1817.74it/s]\n",
      "16it [00:00, 158.11it/s]"
     ]
    },
    {
     "name": "stdout",
     "output_type": "stream",
     "text": [
      "Epoch: 314 | Time: 0m 1s\tTrain Loss: 0.520 | Test Loss: 247.797\n",
      "epoch start:  314\n",
      "training ...\n"
     ]
    },
    {
     "name": "stderr",
     "output_type": "stream",
     "text": [
      "280it [00:01, 152.36it/s]\n",
      "120it [00:00, 1705.62it/s]\n",
      "16it [00:00, 157.55it/s]"
     ]
    },
    {
     "name": "stdout",
     "output_type": "stream",
     "text": [
      "Epoch: 315 | Time: 0m 1s\tTrain Loss: 0.525 | Test Loss: 246.943\n",
      "epoch start:  315\n",
      "training ...\n"
     ]
    },
    {
     "name": "stderr",
     "output_type": "stream",
     "text": [
      "280it [00:01, 151.68it/s]\n",
      "120it [00:00, 1695.04it/s]\n",
      "15it [00:00, 148.49it/s]"
     ]
    },
    {
     "name": "stdout",
     "output_type": "stream",
     "text": [
      "Epoch: 316 | Time: 0m 1s\tTrain Loss: 0.529 | Test Loss: 247.821\n",
      "epoch start:  316\n",
      "training ...\n"
     ]
    },
    {
     "name": "stderr",
     "output_type": "stream",
     "text": [
      "280it [00:01, 152.29it/s]\n",
      "120it [00:00, 1896.22it/s]\n",
      "15it [00:00, 146.32it/s]"
     ]
    },
    {
     "name": "stdout",
     "output_type": "stream",
     "text": [
      "Epoch: 317 | Time: 0m 1s\tTrain Loss: 0.520 | Test Loss: 246.717\n",
      "epoch start:  317\n",
      "training ...\n"
     ]
    },
    {
     "name": "stderr",
     "output_type": "stream",
     "text": [
      "280it [00:01, 152.97it/s]\n",
      "120it [00:00, 1716.30it/s]\n",
      "16it [00:00, 153.07it/s]"
     ]
    },
    {
     "name": "stdout",
     "output_type": "stream",
     "text": [
      "Epoch: 318 | Time: 0m 1s\tTrain Loss: 0.527 | Test Loss: 247.239\n",
      "epoch start:  318\n",
      "training ...\n"
     ]
    },
    {
     "name": "stderr",
     "output_type": "stream",
     "text": [
      "280it [00:01, 151.14it/s]\n",
      "120it [00:00, 1812.87it/s]\n",
      "15it [00:00, 142.96it/s]"
     ]
    },
    {
     "name": "stdout",
     "output_type": "stream",
     "text": [
      "Epoch: 319 | Time: 0m 1s\tTrain Loss: 0.522 | Test Loss: 245.856\n",
      "epoch start:  319\n",
      "training ...\n"
     ]
    },
    {
     "name": "stderr",
     "output_type": "stream",
     "text": [
      "280it [00:01, 154.03it/s]\n",
      "120it [00:00, 1690.06it/s]\n",
      "16it [00:00, 155.73it/s]"
     ]
    },
    {
     "name": "stdout",
     "output_type": "stream",
     "text": [
      "Epoch: 320 | Time: 0m 1s\tTrain Loss: 0.521 | Test Loss: 246.374\n",
      "epoch start:  320\n",
      "training ...\n"
     ]
    },
    {
     "name": "stderr",
     "output_type": "stream",
     "text": [
      "280it [00:01, 152.73it/s]\n",
      "120it [00:00, 1699.99it/s]\n",
      "16it [00:00, 154.51it/s]"
     ]
    },
    {
     "name": "stdout",
     "output_type": "stream",
     "text": [
      "Epoch: 321 | Time: 0m 1s\tTrain Loss: 0.522 | Test Loss: 246.065\n",
      "epoch start:  321\n",
      "training ...\n"
     ]
    },
    {
     "name": "stderr",
     "output_type": "stream",
     "text": [
      "280it [00:01, 150.03it/s]\n",
      "120it [00:00, 1694.48it/s]\n",
      "18it [00:00, 178.21it/s]"
     ]
    },
    {
     "name": "stdout",
     "output_type": "stream",
     "text": [
      "Epoch: 322 | Time: 0m 1s\tTrain Loss: 0.524 | Test Loss: 246.308\n",
      "epoch start:  322\n",
      "training ...\n"
     ]
    },
    {
     "name": "stderr",
     "output_type": "stream",
     "text": [
      "280it [00:01, 155.68it/s]\n",
      "120it [00:00, 1690.06it/s]\n",
      "16it [00:00, 159.79it/s]"
     ]
    },
    {
     "name": "stdout",
     "output_type": "stream",
     "text": [
      "Epoch: 323 | Time: 0m 1s\tTrain Loss: 0.529 | Test Loss: 246.312\n",
      "epoch start:  323\n",
      "training ...\n"
     ]
    },
    {
     "name": "stderr",
     "output_type": "stream",
     "text": [
      "280it [00:01, 155.85it/s]\n",
      "120it [00:00, 1715.45it/s]\n",
      "16it [00:00, 150.85it/s]"
     ]
    },
    {
     "name": "stdout",
     "output_type": "stream",
     "text": [
      "Epoch: 324 | Time: 0m 1s\tTrain Loss: 0.519 | Test Loss: 245.886\n",
      "epoch start:  324\n",
      "training ...\n"
     ]
    },
    {
     "name": "stderr",
     "output_type": "stream",
     "text": [
      "280it [00:01, 153.28it/s]\n",
      "120it [00:00, 1777.59it/s]\n",
      "16it [00:00, 159.07it/s]"
     ]
    },
    {
     "name": "stdout",
     "output_type": "stream",
     "text": [
      "Epoch: 325 | Time: 0m 1s\tTrain Loss: 0.523 | Test Loss: 245.895\n",
      "epoch start:  325\n",
      "training ...\n"
     ]
    },
    {
     "name": "stderr",
     "output_type": "stream",
     "text": [
      "280it [00:01, 156.13it/s]\n",
      "120it [00:00, 1806.70it/s]\n",
      "14it [00:00, 139.05it/s]"
     ]
    },
    {
     "name": "stdout",
     "output_type": "stream",
     "text": [
      "Epoch: 326 | Time: 0m 1s\tTrain Loss: 0.522 | Test Loss: 244.283\n",
      "epoch start:  326\n",
      "training ...\n"
     ]
    },
    {
     "name": "stderr",
     "output_type": "stream",
     "text": [
      "280it [00:01, 146.02it/s]\n",
      "120it [00:00, 1730.78it/s]\n",
      "17it [00:00, 165.30it/s]"
     ]
    },
    {
     "name": "stdout",
     "output_type": "stream",
     "text": [
      "Epoch: 327 | Time: 0m 1s\tTrain Loss: 0.528 | Test Loss: 243.883\n",
      "epoch start:  327\n",
      "training ...\n"
     ]
    },
    {
     "name": "stderr",
     "output_type": "stream",
     "text": [
      "280it [00:01, 182.28it/s]\n",
      "120it [00:00, 1808.09it/s]\n",
      "17it [00:00, 162.99it/s]"
     ]
    },
    {
     "name": "stdout",
     "output_type": "stream",
     "text": [
      "Epoch: 328 | Time: 0m 1s\tTrain Loss: 0.524 | Test Loss: 244.370\n",
      "epoch start:  328\n",
      "training ...\n"
     ]
    },
    {
     "name": "stderr",
     "output_type": "stream",
     "text": [
      "280it [00:01, 157.55it/s]\n",
      "120it [00:00, 1644.88it/s]\n",
      "20it [00:00, 193.15it/s]"
     ]
    },
    {
     "name": "stdout",
     "output_type": "stream",
     "text": [
      "Epoch: 329 | Time: 0m 1s\tTrain Loss: 0.524 | Test Loss: 244.651\n",
      "epoch start:  329\n",
      "training ...\n"
     ]
    },
    {
     "name": "stderr",
     "output_type": "stream",
     "text": [
      "280it [00:01, 156.71it/s]\n",
      "120it [00:00, 1636.73it/s]\n",
      "16it [00:00, 154.27it/s]"
     ]
    },
    {
     "name": "stdout",
     "output_type": "stream",
     "text": [
      "Epoch: 330 | Time: 0m 1s\tTrain Loss: 0.523 | Test Loss: 244.582\n",
      "epoch start:  330\n",
      "training ...\n"
     ]
    },
    {
     "name": "stderr",
     "output_type": "stream",
     "text": [
      "280it [00:01, 149.01it/s]\n",
      "120it [00:00, 1770.22it/s]\n",
      "16it [00:00, 152.22it/s]"
     ]
    },
    {
     "name": "stdout",
     "output_type": "stream",
     "text": [
      "Epoch: 331 | Time: 0m 1s\tTrain Loss: 0.522 | Test Loss: 243.362\n",
      "epoch start:  331\n",
      "training ...\n"
     ]
    },
    {
     "name": "stderr",
     "output_type": "stream",
     "text": [
      "280it [00:01, 154.49it/s]\n",
      "120it [00:00, 1624.65it/s]\n",
      "17it [00:00, 169.86it/s]"
     ]
    },
    {
     "name": "stdout",
     "output_type": "stream",
     "text": [
      "Epoch: 332 | Time: 0m 1s\tTrain Loss: 0.522 | Test Loss: 243.571\n",
      "epoch start:  332\n",
      "training ...\n"
     ]
    },
    {
     "name": "stderr",
     "output_type": "stream",
     "text": [
      "280it [00:01, 159.39it/s]\n",
      "120it [00:00, 1693.98it/s]\n",
      "16it [00:00, 153.56it/s]"
     ]
    },
    {
     "name": "stdout",
     "output_type": "stream",
     "text": [
      "Epoch: 333 | Time: 0m 1s\tTrain Loss: 0.523 | Test Loss: 242.302\n",
      "epoch start:  333\n",
      "training ...\n"
     ]
    },
    {
     "name": "stderr",
     "output_type": "stream",
     "text": [
      "280it [00:01, 153.00it/s]\n",
      "120it [00:00, 1686.37it/s]\n",
      "16it [00:00, 149.17it/s]"
     ]
    },
    {
     "name": "stdout",
     "output_type": "stream",
     "text": [
      "Epoch: 334 | Time: 0m 1s\tTrain Loss: 0.524 | Test Loss: 242.354\n",
      "epoch start:  334\n",
      "training ...\n"
     ]
    },
    {
     "name": "stderr",
     "output_type": "stream",
     "text": [
      "280it [00:01, 146.04it/s]\n",
      "120it [00:00, 1754.93it/s]\n",
      "20it [00:00, 196.21it/s]"
     ]
    },
    {
     "name": "stdout",
     "output_type": "stream",
     "text": [
      "Epoch: 335 | Time: 0m 1s\tTrain Loss: 0.522 | Test Loss: 242.346\n",
      "epoch start:  335\n",
      "training ...\n"
     ]
    },
    {
     "name": "stderr",
     "output_type": "stream",
     "text": [
      "280it [00:01, 170.33it/s]\n",
      "120it [00:00, 1799.55it/s]\n",
      "15it [00:00, 149.81it/s]"
     ]
    },
    {
     "name": "stdout",
     "output_type": "stream",
     "text": [
      "Epoch: 336 | Time: 0m 1s\tTrain Loss: 0.526 | Test Loss: 242.079\n",
      "epoch start:  336\n",
      "training ...\n"
     ]
    },
    {
     "name": "stderr",
     "output_type": "stream",
     "text": [
      "280it [00:01, 153.39it/s]\n",
      "120it [00:00, 1690.47it/s]\n",
      "14it [00:00, 137.52it/s]"
     ]
    },
    {
     "name": "stdout",
     "output_type": "stream",
     "text": [
      "Epoch: 337 | Time: 0m 1s\tTrain Loss: 0.526 | Test Loss: 241.530\n",
      "epoch start:  337\n",
      "training ...\n"
     ]
    },
    {
     "name": "stderr",
     "output_type": "stream",
     "text": [
      "280it [00:01, 150.59it/s]\n",
      "120it [00:00, 1740.38it/s]\n",
      "15it [00:00, 146.62it/s]"
     ]
    },
    {
     "name": "stdout",
     "output_type": "stream",
     "text": [
      "Epoch: 338 | Time: 0m 1s\tTrain Loss: 0.522 | Test Loss: 242.241\n",
      "epoch start:  338\n",
      "training ...\n"
     ]
    },
    {
     "name": "stderr",
     "output_type": "stream",
     "text": [
      "280it [00:01, 149.99it/s]\n",
      "120it [00:00, 1616.05it/s]\n",
      "17it [00:00, 166.50it/s]"
     ]
    },
    {
     "name": "stdout",
     "output_type": "stream",
     "text": [
      "Epoch: 339 | Time: 0m 1s\tTrain Loss: 0.527 | Test Loss: 242.654\n",
      "epoch start:  339\n",
      "training ...\n"
     ]
    },
    {
     "name": "stderr",
     "output_type": "stream",
     "text": [
      "280it [00:01, 176.47it/s]\n",
      "120it [00:00, 1658.04it/s]\n",
      "17it [00:00, 168.02it/s]"
     ]
    },
    {
     "name": "stdout",
     "output_type": "stream",
     "text": [
      "Epoch: 340 | Time: 0m 1s\tTrain Loss: 0.526 | Test Loss: 240.244\n",
      "epoch start:  340\n",
      "training ...\n"
     ]
    },
    {
     "name": "stderr",
     "output_type": "stream",
     "text": [
      "280it [00:01, 153.38it/s]\n",
      "120it [00:00, 1673.10it/s]\n",
      "15it [00:00, 140.49it/s]"
     ]
    },
    {
     "name": "stdout",
     "output_type": "stream",
     "text": [
      "Epoch: 341 | Time: 0m 1s\tTrain Loss: 0.523 | Test Loss: 240.874\n",
      "epoch start:  341\n",
      "training ...\n"
     ]
    },
    {
     "name": "stderr",
     "output_type": "stream",
     "text": [
      "280it [00:01, 148.86it/s]\n",
      "120it [00:00, 1708.58it/s]\n",
      "15it [00:00, 149.07it/s]"
     ]
    },
    {
     "name": "stdout",
     "output_type": "stream",
     "text": [
      "Epoch: 342 | Time: 0m 1s\tTrain Loss: 0.526 | Test Loss: 239.940\n",
      "epoch start:  342\n",
      "training ...\n"
     ]
    },
    {
     "name": "stderr",
     "output_type": "stream",
     "text": [
      "280it [00:01, 151.96it/s]\n",
      "120it [00:00, 1606.10it/s]\n",
      "16it [00:00, 154.10it/s]"
     ]
    },
    {
     "name": "stdout",
     "output_type": "stream",
     "text": [
      "Epoch: 343 | Time: 0m 1s\tTrain Loss: 0.527 | Test Loss: 238.476\n",
      "epoch start:  343\n",
      "training ...\n"
     ]
    },
    {
     "name": "stderr",
     "output_type": "stream",
     "text": [
      "280it [00:01, 157.93it/s]\n",
      "120it [00:00, 1764.75it/s]\n",
      "17it [00:00, 165.40it/s]"
     ]
    },
    {
     "name": "stdout",
     "output_type": "stream",
     "text": [
      "Epoch: 344 | Time: 0m 1s\tTrain Loss: 0.525 | Test Loss: 240.700\n",
      "epoch start:  344\n",
      "training ...\n"
     ]
    },
    {
     "name": "stderr",
     "output_type": "stream",
     "text": [
      "280it [00:01, 152.96it/s]\n",
      "120it [00:00, 1811.61it/s]\n",
      "18it [00:00, 178.15it/s]"
     ]
    },
    {
     "name": "stdout",
     "output_type": "stream",
     "text": [
      "Epoch: 345 | Time: 0m 1s\tTrain Loss: 0.525 | Test Loss: 240.389\n",
      "epoch start:  345\n",
      "training ...\n"
     ]
    },
    {
     "name": "stderr",
     "output_type": "stream",
     "text": [
      "280it [00:01, 151.59it/s]\n",
      "120it [00:00, 1705.98it/s]\n",
      "23it [00:00, 216.74it/s]"
     ]
    },
    {
     "name": "stdout",
     "output_type": "stream",
     "text": [
      "Epoch: 346 | Time: 0m 1s\tTrain Loss: 0.525 | Test Loss: 238.908\n",
      "epoch start:  346\n",
      "training ...\n"
     ]
    },
    {
     "name": "stderr",
     "output_type": "stream",
     "text": [
      "280it [00:01, 187.88it/s]\n",
      "120it [00:00, 1675.55it/s]\n",
      "16it [00:00, 157.15it/s]"
     ]
    },
    {
     "name": "stdout",
     "output_type": "stream",
     "text": [
      "Epoch: 347 | Time: 0m 1s\tTrain Loss: 0.527 | Test Loss: 241.664\n",
      "epoch start:  347\n",
      "training ...\n"
     ]
    },
    {
     "name": "stderr",
     "output_type": "stream",
     "text": [
      "280it [00:01, 152.35it/s]\n",
      "120it [00:00, 1763.78it/s]\n",
      "16it [00:00, 153.80it/s]"
     ]
    },
    {
     "name": "stdout",
     "output_type": "stream",
     "text": [
      "Epoch: 348 | Time: 0m 1s\tTrain Loss: 0.523 | Test Loss: 242.497\n",
      "epoch start:  348\n",
      "training ...\n"
     ]
    },
    {
     "name": "stderr",
     "output_type": "stream",
     "text": [
      "280it [00:01, 161.20it/s]\n",
      "120it [00:00, 1623.48it/s]\n",
      "17it [00:00, 161.17it/s]"
     ]
    },
    {
     "name": "stdout",
     "output_type": "stream",
     "text": [
      "Epoch: 349 | Time: 0m 1s\tTrain Loss: 0.524 | Test Loss: 238.302\n",
      "epoch start:  349\n",
      "training ...\n"
     ]
    },
    {
     "name": "stderr",
     "output_type": "stream",
     "text": [
      "280it [00:01, 153.28it/s]\n",
      "120it [00:00, 1661.08it/s]\n",
      "16it [00:00, 149.73it/s]"
     ]
    },
    {
     "name": "stdout",
     "output_type": "stream",
     "text": [
      "Epoch: 350 | Time: 0m 1s\tTrain Loss: 0.527 | Test Loss: 238.985\n",
      "epoch start:  350\n",
      "training ...\n"
     ]
    },
    {
     "name": "stderr",
     "output_type": "stream",
     "text": [
      "280it [00:01, 154.10it/s]\n",
      "120it [00:00, 1788.18it/s]\n",
      "17it [00:00, 164.36it/s]"
     ]
    },
    {
     "name": "stdout",
     "output_type": "stream",
     "text": [
      "Epoch: 351 | Time: 0m 1s\tTrain Loss: 0.525 | Test Loss: 238.424\n",
      "epoch start:  351\n",
      "training ...\n"
     ]
    },
    {
     "name": "stderr",
     "output_type": "stream",
     "text": [
      "280it [00:01, 157.09it/s]\n",
      "120it [00:00, 1732.42it/s]\n",
      "16it [00:00, 158.82it/s]"
     ]
    },
    {
     "name": "stdout",
     "output_type": "stream",
     "text": [
      "Epoch: 352 | Time: 0m 1s\tTrain Loss: 0.526 | Test Loss: 239.014\n",
      "epoch start:  352\n",
      "training ...\n"
     ]
    },
    {
     "name": "stderr",
     "output_type": "stream",
     "text": [
      "280it [00:01, 155.81it/s]\n",
      "120it [00:00, 1662.61it/s]\n",
      "15it [00:00, 143.59it/s]"
     ]
    },
    {
     "name": "stdout",
     "output_type": "stream",
     "text": [
      "Epoch: 353 | Time: 0m 1s\tTrain Loss: 0.526 | Test Loss: 241.717\n",
      "epoch start:  353\n",
      "training ...\n"
     ]
    },
    {
     "name": "stderr",
     "output_type": "stream",
     "text": [
      "280it [00:01, 147.69it/s]\n",
      "120it [00:00, 1833.42it/s]\n",
      "15it [00:00, 141.93it/s]"
     ]
    },
    {
     "name": "stdout",
     "output_type": "stream",
     "text": [
      "Epoch: 354 | Time: 0m 1s\tTrain Loss: 0.523 | Test Loss: 235.470\n",
      "epoch start:  354\n",
      "training ...\n"
     ]
    },
    {
     "name": "stderr",
     "output_type": "stream",
     "text": [
      "280it [00:01, 160.14it/s]\n",
      "120it [00:00, 1534.70it/s]\n",
      "19it [00:00, 180.01it/s]"
     ]
    },
    {
     "name": "stdout",
     "output_type": "stream",
     "text": [
      "Epoch: 355 | Time: 0m 1s\tTrain Loss: 0.524 | Test Loss: 240.186\n",
      "epoch start:  355\n",
      "training ...\n"
     ]
    },
    {
     "name": "stderr",
     "output_type": "stream",
     "text": [
      "280it [00:01, 151.92it/s]\n",
      "120it [00:00, 1687.10it/s]\n",
      "15it [00:00, 149.86it/s]"
     ]
    },
    {
     "name": "stdout",
     "output_type": "stream",
     "text": [
      "Epoch: 356 | Time: 0m 1s\tTrain Loss: 0.529 | Test Loss: 238.174\n",
      "epoch start:  356\n",
      "training ...\n"
     ]
    },
    {
     "name": "stderr",
     "output_type": "stream",
     "text": [
      "280it [00:01, 147.40it/s]\n",
      "120it [00:00, 1707.23it/s]\n",
      "17it [00:00, 163.61it/s]"
     ]
    },
    {
     "name": "stdout",
     "output_type": "stream",
     "text": [
      "Epoch: 357 | Time: 0m 1s\tTrain Loss: 0.529 | Test Loss: 237.515\n",
      "epoch start:  357\n",
      "training ...\n"
     ]
    },
    {
     "name": "stderr",
     "output_type": "stream",
     "text": [
      "280it [00:01, 149.87it/s]\n",
      "120it [00:00, 1762.05it/s]\n",
      "16it [00:00, 152.34it/s]"
     ]
    },
    {
     "name": "stdout",
     "output_type": "stream",
     "text": [
      "Epoch: 358 | Time: 0m 1s\tTrain Loss: 0.530 | Test Loss: 237.334\n",
      "epoch start:  358\n",
      "training ...\n"
     ]
    },
    {
     "name": "stderr",
     "output_type": "stream",
     "text": [
      "280it [00:01, 149.99it/s]\n",
      "120it [00:00, 1655.76it/s]\n",
      "16it [00:00, 153.07it/s]"
     ]
    },
    {
     "name": "stdout",
     "output_type": "stream",
     "text": [
      "Epoch: 359 | Time: 0m 1s\tTrain Loss: 0.521 | Test Loss: 234.862\n",
      "epoch start:  359\n",
      "training ...\n"
     ]
    },
    {
     "name": "stderr",
     "output_type": "stream",
     "text": [
      "280it [00:01, 151.27it/s]\n",
      "120it [00:00, 1823.23it/s]\n",
      "14it [00:00, 135.19it/s]"
     ]
    },
    {
     "name": "stdout",
     "output_type": "stream",
     "text": [
      "Epoch: 360 | Time: 0m 1s\tTrain Loss: 0.528 | Test Loss: 237.554\n",
      "epoch start:  360\n",
      "training ...\n"
     ]
    },
    {
     "name": "stderr",
     "output_type": "stream",
     "text": [
      "280it [00:01, 165.44it/s]\n",
      "120it [00:00, 1547.66it/s]\n",
      "17it [00:00, 165.18it/s]"
     ]
    },
    {
     "name": "stdout",
     "output_type": "stream",
     "text": [
      "Epoch: 361 | Time: 0m 1s\tTrain Loss: 0.526 | Test Loss: 236.339\n",
      "epoch start:  361\n",
      "training ...\n"
     ]
    },
    {
     "name": "stderr",
     "output_type": "stream",
     "text": [
      "280it [00:01, 184.20it/s]\n",
      "120it [00:00, 1725.84it/s]\n",
      "15it [00:00, 141.83it/s]"
     ]
    },
    {
     "name": "stdout",
     "output_type": "stream",
     "text": [
      "Epoch: 362 | Time: 0m 1s\tTrain Loss: 0.525 | Test Loss: 235.675\n",
      "epoch start:  362\n",
      "training ...\n"
     ]
    },
    {
     "name": "stderr",
     "output_type": "stream",
     "text": [
      "280it [00:01, 152.76it/s]\n",
      "120it [00:00, 1793.82it/s]\n",
      "16it [00:00, 158.76it/s]"
     ]
    },
    {
     "name": "stdout",
     "output_type": "stream",
     "text": [
      "Epoch: 363 | Time: 0m 1s\tTrain Loss: 0.525 | Test Loss: 236.289\n",
      "epoch start:  363\n",
      "training ...\n"
     ]
    },
    {
     "name": "stderr",
     "output_type": "stream",
     "text": [
      "280it [00:01, 151.63it/s]\n",
      "120it [00:00, 1738.49it/s]\n",
      "16it [00:00, 153.64it/s]"
     ]
    },
    {
     "name": "stdout",
     "output_type": "stream",
     "text": [
      "Epoch: 364 | Time: 0m 1s\tTrain Loss: 0.523 | Test Loss: 233.895\n",
      "epoch start:  364\n",
      "training ...\n"
     ]
    },
    {
     "name": "stderr",
     "output_type": "stream",
     "text": [
      "280it [00:01, 162.43it/s]\n",
      "120it [00:00, 1593.43it/s]\n",
      "17it [00:00, 167.84it/s]"
     ]
    },
    {
     "name": "stdout",
     "output_type": "stream",
     "text": [
      "Epoch: 365 | Time: 0m 1s\tTrain Loss: 0.530 | Test Loss: 234.558\n",
      "epoch start:  365\n",
      "training ...\n"
     ]
    },
    {
     "name": "stderr",
     "output_type": "stream",
     "text": [
      "280it [00:01, 153.07it/s]\n",
      "120it [00:00, 1866.46it/s]\n",
      "15it [00:00, 141.63it/s]"
     ]
    },
    {
     "name": "stdout",
     "output_type": "stream",
     "text": [
      "Epoch: 366 | Time: 0m 1s\tTrain Loss: 0.532 | Test Loss: 235.954\n",
      "epoch start:  366\n",
      "training ...\n"
     ]
    },
    {
     "name": "stderr",
     "output_type": "stream",
     "text": [
      "280it [00:01, 149.01it/s]\n",
      "120it [00:00, 1718.38it/s]\n",
      "15it [00:00, 143.71it/s]"
     ]
    },
    {
     "name": "stdout",
     "output_type": "stream",
     "text": [
      "Epoch: 367 | Time: 0m 1s\tTrain Loss: 0.525 | Test Loss: 234.211\n",
      "epoch start:  367\n",
      "training ...\n"
     ]
    },
    {
     "name": "stderr",
     "output_type": "stream",
     "text": [
      "280it [00:01, 149.19it/s]\n",
      "120it [00:00, 1812.45it/s]\n",
      "16it [00:00, 158.84it/s]"
     ]
    },
    {
     "name": "stdout",
     "output_type": "stream",
     "text": [
      "Epoch: 368 | Time: 0m 1s\tTrain Loss: 0.525 | Test Loss: 234.282\n",
      "epoch start:  368\n",
      "training ...\n"
     ]
    },
    {
     "name": "stderr",
     "output_type": "stream",
     "text": [
      "280it [00:01, 210.78it/s]\n",
      "120it [00:00, 1612.91it/s]\n",
      "16it [00:00, 153.97it/s]"
     ]
    },
    {
     "name": "stdout",
     "output_type": "stream",
     "text": [
      "Epoch: 369 | Time: 0m 1s\tTrain Loss: 0.527 | Test Loss: 235.220\n",
      "epoch start:  369\n",
      "training ...\n"
     ]
    },
    {
     "name": "stderr",
     "output_type": "stream",
     "text": [
      "280it [00:01, 151.97it/s]\n",
      "120it [00:00, 1821.74it/s]\n",
      "15it [00:00, 140.63it/s]"
     ]
    },
    {
     "name": "stdout",
     "output_type": "stream",
     "text": [
      "Epoch: 370 | Time: 0m 1s\tTrain Loss: 0.527 | Test Loss: 234.378\n",
      "epoch start:  370\n",
      "training ...\n"
     ]
    },
    {
     "name": "stderr",
     "output_type": "stream",
     "text": [
      "280it [00:01, 156.28it/s]\n",
      "120it [00:00, 1515.44it/s]\n",
      "17it [00:00, 158.58it/s]"
     ]
    },
    {
     "name": "stdout",
     "output_type": "stream",
     "text": [
      "Epoch: 371 | Time: 0m 1s\tTrain Loss: 0.521 | Test Loss: 235.301\n",
      "epoch start:  371\n",
      "training ...\n"
     ]
    },
    {
     "name": "stderr",
     "output_type": "stream",
     "text": [
      "280it [00:01, 153.49it/s]\n",
      "120it [00:00, 1767.90it/s]\n",
      "17it [00:00, 166.04it/s]"
     ]
    },
    {
     "name": "stdout",
     "output_type": "stream",
     "text": [
      "Epoch: 372 | Time: 0m 1s\tTrain Loss: 0.532 | Test Loss: 233.779\n",
      "epoch start:  372\n",
      "training ...\n"
     ]
    },
    {
     "name": "stderr",
     "output_type": "stream",
     "text": [
      "280it [00:01, 153.71it/s]\n",
      "120it [00:00, 1827.50it/s]\n",
      "16it [00:00, 150.62it/s]"
     ]
    },
    {
     "name": "stdout",
     "output_type": "stream",
     "text": [
      "Epoch: 373 | Time: 0m 1s\tTrain Loss: 0.534 | Test Loss: 234.291\n",
      "epoch start:  373\n",
      "training ...\n"
     ]
    },
    {
     "name": "stderr",
     "output_type": "stream",
     "text": [
      "280it [00:01, 153.84it/s]\n",
      "120it [00:00, 1813.97it/s]\n",
      "15it [00:00, 148.15it/s]"
     ]
    },
    {
     "name": "stdout",
     "output_type": "stream",
     "text": [
      "Epoch: 374 | Time: 0m 1s\tTrain Loss: 0.525 | Test Loss: 232.574\n",
      "epoch start:  374\n",
      "training ...\n"
     ]
    },
    {
     "name": "stderr",
     "output_type": "stream",
     "text": [
      "280it [00:01, 148.81it/s]\n",
      "120it [00:00, 1798.56it/s]\n",
      "15it [00:00, 140.66it/s]"
     ]
    },
    {
     "name": "stdout",
     "output_type": "stream",
     "text": [
      "Epoch: 375 | Time: 0m 1s\tTrain Loss: 0.529 | Test Loss: 231.635\n",
      "epoch start:  375\n",
      "training ...\n"
     ]
    },
    {
     "name": "stderr",
     "output_type": "stream",
     "text": [
      "280it [00:01, 168.63it/s]\n",
      "120it [00:00, 1680.21it/s]\n",
      "18it [00:00, 171.82it/s]"
     ]
    },
    {
     "name": "stdout",
     "output_type": "stream",
     "text": [
      "Epoch: 376 | Time: 0m 1s\tTrain Loss: 0.529 | Test Loss: 233.705\n",
      "epoch start:  376\n",
      "training ...\n"
     ]
    },
    {
     "name": "stderr",
     "output_type": "stream",
     "text": [
      "280it [00:01, 156.52it/s]\n",
      "120it [00:00, 1674.53it/s]\n",
      "16it [00:00, 155.54it/s]"
     ]
    },
    {
     "name": "stdout",
     "output_type": "stream",
     "text": [
      "Epoch: 377 | Time: 0m 1s\tTrain Loss: 0.525 | Test Loss: 232.640\n",
      "epoch start:  377\n",
      "training ...\n"
     ]
    },
    {
     "name": "stderr",
     "output_type": "stream",
     "text": [
      "280it [00:01, 153.48it/s]\n",
      "120it [00:00, 1698.59it/s]\n",
      "15it [00:00, 146.09it/s]"
     ]
    },
    {
     "name": "stdout",
     "output_type": "stream",
     "text": [
      "Epoch: 378 | Time: 0m 1s\tTrain Loss: 0.526 | Test Loss: 234.038\n",
      "epoch start:  378\n",
      "training ...\n"
     ]
    },
    {
     "name": "stderr",
     "output_type": "stream",
     "text": [
      "280it [00:01, 149.96it/s]\n",
      "120it [00:00, 1795.87it/s]\n",
      "17it [00:00, 160.22it/s]"
     ]
    },
    {
     "name": "stdout",
     "output_type": "stream",
     "text": [
      "Epoch: 379 | Time: 0m 1s\tTrain Loss: 0.528 | Test Loss: 232.446\n",
      "epoch start:  379\n",
      "training ...\n"
     ]
    },
    {
     "name": "stderr",
     "output_type": "stream",
     "text": [
      "280it [00:01, 157.37it/s]\n",
      "120it [00:00, 1604.55it/s]\n",
      "16it [00:00, 154.44it/s]"
     ]
    },
    {
     "name": "stdout",
     "output_type": "stream",
     "text": [
      "Epoch: 380 | Time: 0m 1s\tTrain Loss: 0.529 | Test Loss: 230.662\n",
      "epoch start:  380\n",
      "training ...\n"
     ]
    },
    {
     "name": "stderr",
     "output_type": "stream",
     "text": [
      "280it [00:01, 147.33it/s]\n",
      "120it [00:00, 1582.47it/s]\n",
      "15it [00:00, 147.91it/s]"
     ]
    },
    {
     "name": "stdout",
     "output_type": "stream",
     "text": [
      "Epoch: 381 | Time: 0m 1s\tTrain Loss: 0.526 | Test Loss: 231.836\n",
      "epoch start:  381\n",
      "training ...\n"
     ]
    },
    {
     "name": "stderr",
     "output_type": "stream",
     "text": [
      "280it [00:01, 149.43it/s]\n",
      "120it [00:00, 1720.61it/s]\n",
      "15it [00:00, 140.93it/s]"
     ]
    },
    {
     "name": "stdout",
     "output_type": "stream",
     "text": [
      "Epoch: 382 | Time: 0m 1s\tTrain Loss: 0.527 | Test Loss: 233.134\n",
      "epoch start:  382\n",
      "training ...\n"
     ]
    },
    {
     "name": "stderr",
     "output_type": "stream",
     "text": [
      "280it [00:01, 149.19it/s]\n",
      "120it [00:00, 1775.74it/s]\n",
      "16it [00:00, 150.56it/s]"
     ]
    },
    {
     "name": "stdout",
     "output_type": "stream",
     "text": [
      "Epoch: 383 | Time: 0m 1s\tTrain Loss: 0.530 | Test Loss: 230.676\n",
      "epoch start:  383\n",
      "training ...\n"
     ]
    },
    {
     "name": "stderr",
     "output_type": "stream",
     "text": [
      "280it [00:01, 152.85it/s]\n",
      "120it [00:00, 1672.08it/s]\n",
      "17it [00:00, 165.71it/s]"
     ]
    },
    {
     "name": "stdout",
     "output_type": "stream",
     "text": [
      "Epoch: 384 | Time: 0m 1s\tTrain Loss: 0.531 | Test Loss: 231.053\n",
      "epoch start:  384\n",
      "training ...\n"
     ]
    },
    {
     "name": "stderr",
     "output_type": "stream",
     "text": [
      "280it [00:01, 160.86it/s]\n",
      "120it [00:00, 1777.30it/s]\n",
      "16it [00:00, 150.13it/s]"
     ]
    },
    {
     "name": "stdout",
     "output_type": "stream",
     "text": [
      "Epoch: 385 | Time: 0m 1s\tTrain Loss: 0.529 | Test Loss: 232.057\n",
      "epoch start:  385\n",
      "training ...\n"
     ]
    },
    {
     "name": "stderr",
     "output_type": "stream",
     "text": [
      "280it [00:01, 156.84it/s]\n",
      "120it [00:00, 1803.41it/s]\n",
      "18it [00:00, 175.10it/s]"
     ]
    },
    {
     "name": "stdout",
     "output_type": "stream",
     "text": [
      "Epoch: 386 | Time: 0m 1s\tTrain Loss: 0.538 | Test Loss: 230.997\n",
      "epoch start:  386\n",
      "training ...\n"
     ]
    },
    {
     "name": "stderr",
     "output_type": "stream",
     "text": [
      "280it [00:01, 162.07it/s]\n",
      "120it [00:00, 1783.89it/s]\n",
      "17it [00:00, 158.44it/s]"
     ]
    },
    {
     "name": "stdout",
     "output_type": "stream",
     "text": [
      "Epoch: 387 | Time: 0m 1s\tTrain Loss: 0.523 | Test Loss: 227.698\n",
      "epoch start:  387\n",
      "training ...\n"
     ]
    },
    {
     "name": "stderr",
     "output_type": "stream",
     "text": [
      "280it [00:01, 155.09it/s]\n",
      "120it [00:00, 1687.88it/s]\n",
      "16it [00:00, 156.65it/s]"
     ]
    },
    {
     "name": "stdout",
     "output_type": "stream",
     "text": [
      "Epoch: 388 | Time: 0m 1s\tTrain Loss: 0.532 | Test Loss: 229.536\n",
      "epoch start:  388\n",
      "training ...\n"
     ]
    },
    {
     "name": "stderr",
     "output_type": "stream",
     "text": [
      "280it [00:01, 153.97it/s]\n",
      "120it [00:00, 1767.06it/s]\n",
      "16it [00:00, 156.53it/s]"
     ]
    },
    {
     "name": "stdout",
     "output_type": "stream",
     "text": [
      "Epoch: 389 | Time: 0m 1s\tTrain Loss: 0.532 | Test Loss: 231.721\n",
      "epoch start:  389\n",
      "training ...\n"
     ]
    },
    {
     "name": "stderr",
     "output_type": "stream",
     "text": [
      "280it [00:01, 147.39it/s]\n",
      "120it [00:00, 1809.76it/s]\n",
      "18it [00:00, 179.09it/s]"
     ]
    },
    {
     "name": "stdout",
     "output_type": "stream",
     "text": [
      "Epoch: 390 | Time: 0m 1s\tTrain Loss: 0.533 | Test Loss: 230.734\n",
      "epoch start:  390\n",
      "training ...\n"
     ]
    },
    {
     "name": "stderr",
     "output_type": "stream",
     "text": [
      "280it [00:01, 151.86it/s]\n",
      "120it [00:00, 1718.44it/s]\n",
      "15it [00:00, 145.25it/s]"
     ]
    },
    {
     "name": "stdout",
     "output_type": "stream",
     "text": [
      "Epoch: 391 | Time: 0m 1s\tTrain Loss: 0.523 | Test Loss: 226.284\n",
      "epoch start:  391\n",
      "training ...\n"
     ]
    },
    {
     "name": "stderr",
     "output_type": "stream",
     "text": [
      "280it [00:01, 163.86it/s]\n",
      "120it [00:00, 1962.56it/s]\n",
      "15it [00:00, 149.63it/s]"
     ]
    },
    {
     "name": "stdout",
     "output_type": "stream",
     "text": [
      "Epoch: 392 | Time: 0m 1s\tTrain Loss: 0.526 | Test Loss: 229.434\n",
      "epoch start:  392\n",
      "training ...\n"
     ]
    },
    {
     "name": "stderr",
     "output_type": "stream",
     "text": [
      "280it [00:01, 159.40it/s]\n",
      "120it [00:00, 1683.85it/s]\n",
      "23it [00:00, 229.44it/s]"
     ]
    },
    {
     "name": "stdout",
     "output_type": "stream",
     "text": [
      "Epoch: 393 | Time: 0m 1s\tTrain Loss: 0.529 | Test Loss: 228.079\n",
      "epoch start:  393\n",
      "training ...\n"
     ]
    },
    {
     "name": "stderr",
     "output_type": "stream",
     "text": [
      "280it [00:01, 169.42it/s]\n",
      "120it [00:00, 1821.57it/s]\n",
      "17it [00:00, 162.46it/s]"
     ]
    },
    {
     "name": "stdout",
     "output_type": "stream",
     "text": [
      "Epoch: 394 | Time: 0m 1s\tTrain Loss: 0.534 | Test Loss: 229.059\n",
      "epoch start:  394\n",
      "training ...\n"
     ]
    },
    {
     "name": "stderr",
     "output_type": "stream",
     "text": [
      "280it [00:01, 155.31it/s]\n",
      "120it [00:00, 1675.86it/s]\n",
      "17it [00:00, 164.44it/s]"
     ]
    },
    {
     "name": "stdout",
     "output_type": "stream",
     "text": [
      "Epoch: 395 | Time: 0m 1s\tTrain Loss: 0.529 | Test Loss: 228.596\n",
      "epoch start:  395\n",
      "training ...\n"
     ]
    },
    {
     "name": "stderr",
     "output_type": "stream",
     "text": [
      "280it [00:01, 162.38it/s]\n",
      "120it [00:00, 1545.20it/s]\n",
      "19it [00:00, 185.29it/s]"
     ]
    },
    {
     "name": "stdout",
     "output_type": "stream",
     "text": [
      "Epoch: 396 | Time: 0m 1s\tTrain Loss: 0.526 | Test Loss: 227.003\n",
      "epoch start:  396\n",
      "training ...\n"
     ]
    },
    {
     "name": "stderr",
     "output_type": "stream",
     "text": [
      "280it [00:01, 152.65it/s]\n",
      "120it [00:00, 1795.77it/s]\n",
      "24it [00:00, 237.85it/s]"
     ]
    },
    {
     "name": "stdout",
     "output_type": "stream",
     "text": [
      "Epoch: 397 | Time: 0m 1s\tTrain Loss: 0.533 | Test Loss: 227.509\n",
      "epoch start:  397\n",
      "training ...\n"
     ]
    },
    {
     "name": "stderr",
     "output_type": "stream",
     "text": [
      "280it [00:01, 154.48it/s]\n",
      "120it [00:00, 1849.86it/s]\n",
      "15it [00:00, 148.83it/s]"
     ]
    },
    {
     "name": "stdout",
     "output_type": "stream",
     "text": [
      "Epoch: 398 | Time: 0m 1s\tTrain Loss: 0.532 | Test Loss: 226.138\n",
      "epoch start:  398\n",
      "training ...\n"
     ]
    },
    {
     "name": "stderr",
     "output_type": "stream",
     "text": [
      "280it [00:01, 176.21it/s]\n",
      "120it [00:00, 1666.26it/s]\n",
      "24it [00:00, 238.00it/s]"
     ]
    },
    {
     "name": "stdout",
     "output_type": "stream",
     "text": [
      "Epoch: 399 | Time: 0m 1s\tTrain Loss: 0.530 | Test Loss: 226.269\n",
      "epoch start:  399\n",
      "training ...\n"
     ]
    },
    {
     "name": "stderr",
     "output_type": "stream",
     "text": [
      "280it [00:01, 176.17it/s]\n",
      "120it [00:00, 1708.60it/s]\n",
      "15it [00:00, 143.46it/s]"
     ]
    },
    {
     "name": "stdout",
     "output_type": "stream",
     "text": [
      "Epoch: 400 | Time: 0m 1s\tTrain Loss: 0.532 | Test Loss: 227.531\n",
      "epoch start:  400\n",
      "training ...\n"
     ]
    },
    {
     "name": "stderr",
     "output_type": "stream",
     "text": [
      "280it [00:01, 152.68it/s]\n",
      "120it [00:00, 1646.80it/s]\n",
      "17it [00:00, 164.77it/s]"
     ]
    },
    {
     "name": "stdout",
     "output_type": "stream",
     "text": [
      "Epoch: 401 | Time: 0m 1s\tTrain Loss: 0.530 | Test Loss: 228.658\n",
      "epoch start:  401\n",
      "training ...\n"
     ]
    },
    {
     "name": "stderr",
     "output_type": "stream",
     "text": [
      "280it [00:01, 149.97it/s]\n",
      "120it [00:00, 1524.88it/s]\n",
      "16it [00:00, 157.91it/s]"
     ]
    },
    {
     "name": "stdout",
     "output_type": "stream",
     "text": [
      "Epoch: 402 | Time: 0m 1s\tTrain Loss: 0.531 | Test Loss: 225.650\n",
      "epoch start:  402\n",
      "training ...\n"
     ]
    },
    {
     "name": "stderr",
     "output_type": "stream",
     "text": [
      "280it [00:01, 155.40it/s]\n",
      "120it [00:00, 1961.95it/s]\n",
      "17it [00:00, 163.42it/s]"
     ]
    },
    {
     "name": "stdout",
     "output_type": "stream",
     "text": [
      "Epoch: 403 | Time: 0m 1s\tTrain Loss: 0.534 | Test Loss: 228.109\n",
      "epoch start:  403\n",
      "training ...\n"
     ]
    },
    {
     "name": "stderr",
     "output_type": "stream",
     "text": [
      "280it [00:01, 189.82it/s]\n",
      "120it [00:00, 1717.80it/s]\n",
      "18it [00:00, 170.96it/s]"
     ]
    },
    {
     "name": "stdout",
     "output_type": "stream",
     "text": [
      "Epoch: 404 | Time: 0m 1s\tTrain Loss: 0.531 | Test Loss: 228.730\n",
      "epoch start:  404\n",
      "training ...\n"
     ]
    },
    {
     "name": "stderr",
     "output_type": "stream",
     "text": [
      "280it [00:01, 153.68it/s]\n",
      "120it [00:00, 1746.88it/s]\n",
      "17it [00:00, 164.05it/s]"
     ]
    },
    {
     "name": "stdout",
     "output_type": "stream",
     "text": [
      "Epoch: 405 | Time: 0m 1s\tTrain Loss: 0.536 | Test Loss: 226.359\n",
      "epoch start:  405\n",
      "training ...\n"
     ]
    },
    {
     "name": "stderr",
     "output_type": "stream",
     "text": [
      "280it [00:01, 175.43it/s]\n",
      "120it [00:00, 1699.74it/s]\n",
      "16it [00:00, 157.67it/s]"
     ]
    },
    {
     "name": "stdout",
     "output_type": "stream",
     "text": [
      "Epoch: 406 | Time: 0m 1s\tTrain Loss: 0.533 | Test Loss: 226.934\n",
      "epoch start:  406\n",
      "training ...\n"
     ]
    },
    {
     "name": "stderr",
     "output_type": "stream",
     "text": [
      "280it [00:01, 151.04it/s]\n",
      "120it [00:00, 1664.79it/s]\n",
      "16it [00:00, 154.52it/s]"
     ]
    },
    {
     "name": "stdout",
     "output_type": "stream",
     "text": [
      "Epoch: 407 | Time: 0m 1s\tTrain Loss: 0.526 | Test Loss: 225.089\n",
      "epoch start:  407\n",
      "training ...\n"
     ]
    },
    {
     "name": "stderr",
     "output_type": "stream",
     "text": [
      "280it [00:01, 183.91it/s]\n",
      "120it [00:00, 1725.00it/s]\n",
      "15it [00:00, 148.14it/s]"
     ]
    },
    {
     "name": "stdout",
     "output_type": "stream",
     "text": [
      "Epoch: 408 | Time: 0m 1s\tTrain Loss: 0.534 | Test Loss: 228.354\n",
      "epoch start:  408\n",
      "training ...\n"
     ]
    },
    {
     "name": "stderr",
     "output_type": "stream",
     "text": [
      "280it [00:01, 152.40it/s]\n",
      "120it [00:00, 1712.99it/s]\n",
      "15it [00:00, 147.28it/s]"
     ]
    },
    {
     "name": "stdout",
     "output_type": "stream",
     "text": [
      "Epoch: 409 | Time: 0m 1s\tTrain Loss: 0.535 | Test Loss: 229.577\n",
      "epoch start:  409\n",
      "training ...\n"
     ]
    },
    {
     "name": "stderr",
     "output_type": "stream",
     "text": [
      "280it [00:01, 156.94it/s]\n",
      "120it [00:00, 1744.66it/s]\n",
      "15it [00:00, 149.88it/s]"
     ]
    },
    {
     "name": "stdout",
     "output_type": "stream",
     "text": [
      "Epoch: 410 | Time: 0m 1s\tTrain Loss: 0.533 | Test Loss: 228.694\n",
      "epoch start:  410\n",
      "training ...\n"
     ]
    },
    {
     "name": "stderr",
     "output_type": "stream",
     "text": [
      "280it [00:01, 170.86it/s]\n",
      "120it [00:00, 1727.72it/s]\n",
      "15it [00:00, 148.96it/s]"
     ]
    },
    {
     "name": "stdout",
     "output_type": "stream",
     "text": [
      "Epoch: 411 | Time: 0m 1s\tTrain Loss: 0.535 | Test Loss: 225.276\n",
      "epoch start:  411\n",
      "training ...\n"
     ]
    },
    {
     "name": "stderr",
     "output_type": "stream",
     "text": [
      "280it [00:01, 152.75it/s]\n",
      "120it [00:00, 1697.55it/s]\n",
      "17it [00:00, 159.18it/s]"
     ]
    },
    {
     "name": "stdout",
     "output_type": "stream",
     "text": [
      "Epoch: 412 | Time: 0m 1s\tTrain Loss: 0.530 | Test Loss: 225.001\n",
      "epoch start:  412\n",
      "training ...\n"
     ]
    },
    {
     "name": "stderr",
     "output_type": "stream",
     "text": [
      "280it [00:01, 154.61it/s]\n",
      "120it [00:00, 1816.98it/s]\n",
      "16it [00:00, 149.11it/s]"
     ]
    },
    {
     "name": "stdout",
     "output_type": "stream",
     "text": [
      "Epoch: 413 | Time: 0m 1s\tTrain Loss: 0.529 | Test Loss: 225.927\n",
      "epoch start:  413\n",
      "training ...\n"
     ]
    },
    {
     "name": "stderr",
     "output_type": "stream",
     "text": [
      "280it [00:01, 153.28it/s]\n",
      "120it [00:00, 1810.78it/s]\n",
      "15it [00:00, 145.32it/s]"
     ]
    },
    {
     "name": "stdout",
     "output_type": "stream",
     "text": [
      "Epoch: 414 | Time: 0m 1s\tTrain Loss: 0.527 | Test Loss: 222.212\n",
      "epoch start:  414\n",
      "training ...\n"
     ]
    },
    {
     "name": "stderr",
     "output_type": "stream",
     "text": [
      "280it [00:01, 154.44it/s]\n",
      "120it [00:00, 1678.14it/s]\n",
      "15it [00:00, 149.08it/s]"
     ]
    },
    {
     "name": "stdout",
     "output_type": "stream",
     "text": [
      "Epoch: 415 | Time: 0m 1s\tTrain Loss: 0.530 | Test Loss: 222.325\n",
      "epoch start:  415\n",
      "training ...\n"
     ]
    },
    {
     "name": "stderr",
     "output_type": "stream",
     "text": [
      "280it [00:01, 151.38it/s]\n",
      "120it [00:00, 1708.36it/s]\n",
      "16it [00:00, 157.77it/s]"
     ]
    },
    {
     "name": "stdout",
     "output_type": "stream",
     "text": [
      "Epoch: 416 | Time: 0m 1s\tTrain Loss: 0.532 | Test Loss: 227.104\n",
      "epoch start:  416\n",
      "training ...\n"
     ]
    },
    {
     "name": "stderr",
     "output_type": "stream",
     "text": [
      "280it [00:01, 151.30it/s]\n",
      "120it [00:00, 1808.69it/s]\n",
      "17it [00:00, 163.14it/s]"
     ]
    },
    {
     "name": "stdout",
     "output_type": "stream",
     "text": [
      "Epoch: 417 | Time: 0m 1s\tTrain Loss: 0.527 | Test Loss: 220.749\n",
      "epoch start:  417\n",
      "training ...\n"
     ]
    },
    {
     "name": "stderr",
     "output_type": "stream",
     "text": [
      "280it [00:01, 151.49it/s]\n",
      "120it [00:00, 1685.09it/s]\n",
      "16it [00:00, 151.71it/s]"
     ]
    },
    {
     "name": "stdout",
     "output_type": "stream",
     "text": [
      "Epoch: 418 | Time: 0m 1s\tTrain Loss: 0.533 | Test Loss: 223.961\n",
      "epoch start:  418\n",
      "training ...\n"
     ]
    },
    {
     "name": "stderr",
     "output_type": "stream",
     "text": [
      "280it [00:01, 150.97it/s]\n",
      "120it [00:00, 1783.10it/s]\n",
      "17it [00:00, 165.27it/s]"
     ]
    },
    {
     "name": "stdout",
     "output_type": "stream",
     "text": [
      "Epoch: 419 | Time: 0m 1s\tTrain Loss: 0.527 | Test Loss: 226.099\n",
      "epoch start:  419\n",
      "training ...\n"
     ]
    },
    {
     "name": "stderr",
     "output_type": "stream",
     "text": [
      "280it [00:01, 147.50it/s]\n",
      "120it [00:00, 1779.99it/s]\n",
      "18it [00:00, 176.29it/s]"
     ]
    },
    {
     "name": "stdout",
     "output_type": "stream",
     "text": [
      "Epoch: 420 | Time: 0m 1s\tTrain Loss: 0.532 | Test Loss: 222.772\n",
      "epoch start:  420\n",
      "training ...\n"
     ]
    },
    {
     "name": "stderr",
     "output_type": "stream",
     "text": [
      "280it [00:01, 154.37it/s]\n",
      "120it [00:00, 1765.35it/s]\n",
      "17it [00:00, 164.52it/s]"
     ]
    },
    {
     "name": "stdout",
     "output_type": "stream",
     "text": [
      "Epoch: 421 | Time: 0m 1s\tTrain Loss: 0.533 | Test Loss: 226.332\n",
      "epoch start:  421\n",
      "training ...\n"
     ]
    },
    {
     "name": "stderr",
     "output_type": "stream",
     "text": [
      "280it [00:01, 153.45it/s]\n",
      "120it [00:00, 1724.42it/s]\n",
      "15it [00:00, 148.43it/s]"
     ]
    },
    {
     "name": "stdout",
     "output_type": "stream",
     "text": [
      "Epoch: 422 | Time: 0m 1s\tTrain Loss: 0.536 | Test Loss: 225.457\n",
      "epoch start:  422\n",
      "training ...\n"
     ]
    },
    {
     "name": "stderr",
     "output_type": "stream",
     "text": [
      "280it [00:01, 148.83it/s]\n",
      "120it [00:00, 1783.09it/s]\n",
      "15it [00:00, 147.47it/s]"
     ]
    },
    {
     "name": "stdout",
     "output_type": "stream",
     "text": [
      "Epoch: 423 | Time: 0m 1s\tTrain Loss: 0.537 | Test Loss: 221.583\n",
      "epoch start:  423\n",
      "training ...\n"
     ]
    },
    {
     "name": "stderr",
     "output_type": "stream",
     "text": [
      "280it [00:01, 149.39it/s]\n",
      "120it [00:00, 1902.13it/s]\n",
      "16it [00:00, 157.65it/s]"
     ]
    },
    {
     "name": "stdout",
     "output_type": "stream",
     "text": [
      "Epoch: 424 | Time: 0m 1s\tTrain Loss: 0.527 | Test Loss: 223.567\n",
      "epoch start:  424\n",
      "training ...\n"
     ]
    },
    {
     "name": "stderr",
     "output_type": "stream",
     "text": [
      "280it [00:01, 148.85it/s]\n",
      "120it [00:00, 1600.71it/s]\n",
      "19it [00:00, 189.38it/s]"
     ]
    },
    {
     "name": "stdout",
     "output_type": "stream",
     "text": [
      "Epoch: 425 | Time: 0m 1s\tTrain Loss: 0.531 | Test Loss: 224.313\n",
      "epoch start:  425\n",
      "training ...\n"
     ]
    },
    {
     "name": "stderr",
     "output_type": "stream",
     "text": [
      "280it [00:01, 166.14it/s]\n",
      "120it [00:00, 1746.33it/s]\n",
      "14it [00:00, 139.61it/s]"
     ]
    },
    {
     "name": "stdout",
     "output_type": "stream",
     "text": [
      "Epoch: 426 | Time: 0m 1s\tTrain Loss: 0.533 | Test Loss: 221.677\n",
      "epoch start:  426\n",
      "training ...\n"
     ]
    },
    {
     "name": "stderr",
     "output_type": "stream",
     "text": [
      "280it [00:01, 152.87it/s]\n",
      "120it [00:00, 1753.14it/s]\n",
      "16it [00:00, 153.17it/s]"
     ]
    },
    {
     "name": "stdout",
     "output_type": "stream",
     "text": [
      "Epoch: 427 | Time: 0m 1s\tTrain Loss: 0.527 | Test Loss: 222.381\n",
      "epoch start:  427\n",
      "training ...\n"
     ]
    },
    {
     "name": "stderr",
     "output_type": "stream",
     "text": [
      "280it [00:01, 163.47it/s]\n",
      "120it [00:00, 1503.64it/s]\n",
      "15it [00:00, 149.42it/s]"
     ]
    },
    {
     "name": "stdout",
     "output_type": "stream",
     "text": [
      "Epoch: 428 | Time: 0m 1s\tTrain Loss: 0.532 | Test Loss: 220.678\n",
      "epoch start:  428\n",
      "training ...\n"
     ]
    },
    {
     "name": "stderr",
     "output_type": "stream",
     "text": [
      "280it [00:01, 159.91it/s]\n",
      "120it [00:00, 1823.76it/s]\n",
      "16it [00:00, 157.85it/s]"
     ]
    },
    {
     "name": "stdout",
     "output_type": "stream",
     "text": [
      "Epoch: 429 | Time: 0m 1s\tTrain Loss: 0.534 | Test Loss: 220.591\n",
      "epoch start:  429\n",
      "training ...\n"
     ]
    },
    {
     "name": "stderr",
     "output_type": "stream",
     "text": [
      "280it [00:01, 147.01it/s]\n",
      "120it [00:00, 1788.70it/s]\n",
      "15it [00:00, 147.55it/s]"
     ]
    },
    {
     "name": "stdout",
     "output_type": "stream",
     "text": [
      "Epoch: 430 | Time: 0m 1s\tTrain Loss: 0.530 | Test Loss: 218.677\n",
      "epoch start:  430\n",
      "training ...\n"
     ]
    },
    {
     "name": "stderr",
     "output_type": "stream",
     "text": [
      "280it [00:01, 151.57it/s]\n",
      "120it [00:00, 1739.74it/s]\n",
      "16it [00:00, 156.70it/s]"
     ]
    },
    {
     "name": "stdout",
     "output_type": "stream",
     "text": [
      "Epoch: 431 | Time: 0m 1s\tTrain Loss: 0.530 | Test Loss: 225.042\n",
      "epoch start:  431\n",
      "training ...\n"
     ]
    },
    {
     "name": "stderr",
     "output_type": "stream",
     "text": [
      "280it [00:01, 173.75it/s]\n",
      "120it [00:00, 1718.65it/s]\n",
      "15it [00:00, 146.55it/s]"
     ]
    },
    {
     "name": "stdout",
     "output_type": "stream",
     "text": [
      "Epoch: 432 | Time: 0m 1s\tTrain Loss: 0.532 | Test Loss: 218.942\n",
      "epoch start:  432\n",
      "training ...\n"
     ]
    },
    {
     "name": "stderr",
     "output_type": "stream",
     "text": [
      "280it [00:01, 148.13it/s]\n",
      "120it [00:00, 1783.71it/s]\n",
      "17it [00:00, 162.33it/s]"
     ]
    },
    {
     "name": "stdout",
     "output_type": "stream",
     "text": [
      "Epoch: 433 | Time: 0m 1s\tTrain Loss: 0.534 | Test Loss: 220.698\n",
      "epoch start:  433\n",
      "training ...\n"
     ]
    },
    {
     "name": "stderr",
     "output_type": "stream",
     "text": [
      "280it [00:01, 149.36it/s]\n",
      "120it [00:00, 1815.15it/s]\n",
      "15it [00:00, 148.55it/s]"
     ]
    },
    {
     "name": "stdout",
     "output_type": "stream",
     "text": [
      "Epoch: 434 | Time: 0m 1s\tTrain Loss: 0.532 | Test Loss: 222.491\n",
      "epoch start:  434\n",
      "training ...\n"
     ]
    },
    {
     "name": "stderr",
     "output_type": "stream",
     "text": [
      "280it [00:01, 155.68it/s]\n",
      "120it [00:00, 1964.50it/s]\n",
      "15it [00:00, 147.29it/s]"
     ]
    },
    {
     "name": "stdout",
     "output_type": "stream",
     "text": [
      "Epoch: 435 | Time: 0m 1s\tTrain Loss: 0.531 | Test Loss: 220.011\n",
      "epoch start:  435\n",
      "training ...\n"
     ]
    },
    {
     "name": "stderr",
     "output_type": "stream",
     "text": [
      "280it [00:01, 153.17it/s]\n",
      "120it [00:00, 1710.20it/s]\n",
      "15it [00:00, 142.19it/s]"
     ]
    },
    {
     "name": "stdout",
     "output_type": "stream",
     "text": [
      "Epoch: 436 | Time: 0m 1s\tTrain Loss: 0.528 | Test Loss: 222.621\n",
      "epoch start:  436\n",
      "training ...\n"
     ]
    },
    {
     "name": "stderr",
     "output_type": "stream",
     "text": [
      "280it [00:01, 148.66it/s]\n",
      "120it [00:00, 1737.22it/s]\n",
      "15it [00:00, 140.83it/s]"
     ]
    },
    {
     "name": "stdout",
     "output_type": "stream",
     "text": [
      "Epoch: 437 | Time: 0m 1s\tTrain Loss: 0.533 | Test Loss: 218.833\n",
      "epoch start:  437\n",
      "training ...\n"
     ]
    },
    {
     "name": "stderr",
     "output_type": "stream",
     "text": [
      "280it [00:01, 149.34it/s]\n",
      "120it [00:00, 1712.26it/s]\n",
      "15it [00:00, 145.78it/s]"
     ]
    },
    {
     "name": "stdout",
     "output_type": "stream",
     "text": [
      "Epoch: 438 | Time: 0m 1s\tTrain Loss: 0.533 | Test Loss: 221.970\n",
      "epoch start:  438\n",
      "training ...\n"
     ]
    },
    {
     "name": "stderr",
     "output_type": "stream",
     "text": [
      "280it [00:01, 151.61it/s]\n",
      "120it [00:00, 1795.60it/s]\n",
      "17it [00:00, 158.79it/s]"
     ]
    },
    {
     "name": "stdout",
     "output_type": "stream",
     "text": [
      "Epoch: 439 | Time: 0m 1s\tTrain Loss: 0.531 | Test Loss: 218.993\n",
      "epoch start:  439\n",
      "training ...\n"
     ]
    },
    {
     "name": "stderr",
     "output_type": "stream",
     "text": [
      "280it [00:01, 151.27it/s]\n",
      "120it [00:00, 1763.79it/s]\n",
      "15it [00:00, 146.95it/s]"
     ]
    },
    {
     "name": "stdout",
     "output_type": "stream",
     "text": [
      "Epoch: 440 | Time: 0m 1s\tTrain Loss: 0.531 | Test Loss: 221.431\n",
      "epoch start:  440\n",
      "training ...\n"
     ]
    },
    {
     "name": "stderr",
     "output_type": "stream",
     "text": [
      "280it [00:01, 148.12it/s]\n",
      "120it [00:00, 1711.68it/s]\n",
      "17it [00:00, 165.24it/s]"
     ]
    },
    {
     "name": "stdout",
     "output_type": "stream",
     "text": [
      "Epoch: 441 | Time: 0m 1s\tTrain Loss: 0.537 | Test Loss: 221.632\n",
      "epoch start:  441\n",
      "training ...\n"
     ]
    },
    {
     "name": "stderr",
     "output_type": "stream",
     "text": [
      "280it [00:01, 159.74it/s]\n",
      "120it [00:00, 1649.61it/s]\n",
      "18it [00:00, 178.24it/s]"
     ]
    },
    {
     "name": "stdout",
     "output_type": "stream",
     "text": [
      "Epoch: 442 | Time: 0m 1s\tTrain Loss: 0.536 | Test Loss: 220.184\n",
      "epoch start:  442\n",
      "training ...\n"
     ]
    },
    {
     "name": "stderr",
     "output_type": "stream",
     "text": [
      "280it [00:01, 151.84it/s]\n",
      "120it [00:00, 1763.51it/s]\n",
      "15it [00:00, 141.26it/s]"
     ]
    },
    {
     "name": "stdout",
     "output_type": "stream",
     "text": [
      "Epoch: 443 | Time: 0m 1s\tTrain Loss: 0.529 | Test Loss: 220.266\n",
      "epoch start:  443\n",
      "training ...\n"
     ]
    },
    {
     "name": "stderr",
     "output_type": "stream",
     "text": [
      "280it [00:01, 166.24it/s]\n",
      "120it [00:00, 1800.90it/s]\n",
      "16it [00:00, 150.32it/s]"
     ]
    },
    {
     "name": "stdout",
     "output_type": "stream",
     "text": [
      "Epoch: 444 | Time: 0m 1s\tTrain Loss: 0.534 | Test Loss: 219.438\n",
      "epoch start:  444\n",
      "training ...\n"
     ]
    },
    {
     "name": "stderr",
     "output_type": "stream",
     "text": [
      "280it [00:01, 155.74it/s]\n",
      "120it [00:00, 1538.40it/s]\n",
      "16it [00:00, 157.51it/s]"
     ]
    },
    {
     "name": "stdout",
     "output_type": "stream",
     "text": [
      "Epoch: 445 | Time: 0m 1s\tTrain Loss: 0.533 | Test Loss: 214.994\n",
      "epoch start:  445\n",
      "training ...\n"
     ]
    },
    {
     "name": "stderr",
     "output_type": "stream",
     "text": [
      "280it [00:01, 152.19it/s]\n",
      "120it [00:00, 1735.62it/s]\n",
      "15it [00:00, 142.85it/s]"
     ]
    },
    {
     "name": "stdout",
     "output_type": "stream",
     "text": [
      "Epoch: 446 | Time: 0m 1s\tTrain Loss: 0.532 | Test Loss: 217.499\n",
      "epoch start:  446\n",
      "training ...\n"
     ]
    },
    {
     "name": "stderr",
     "output_type": "stream",
     "text": [
      "280it [00:01, 175.20it/s]\n",
      "120it [00:00, 1515.58it/s]\n",
      "16it [00:00, 154.53it/s]"
     ]
    },
    {
     "name": "stdout",
     "output_type": "stream",
     "text": [
      "Epoch: 447 | Time: 0m 1s\tTrain Loss: 0.533 | Test Loss: 219.942\n",
      "epoch start:  447\n",
      "training ...\n"
     ]
    },
    {
     "name": "stderr",
     "output_type": "stream",
     "text": [
      "280it [00:01, 153.80it/s]\n",
      "120it [00:00, 1739.82it/s]\n",
      "16it [00:00, 152.94it/s]"
     ]
    },
    {
     "name": "stdout",
     "output_type": "stream",
     "text": [
      "Epoch: 448 | Time: 0m 1s\tTrain Loss: 0.532 | Test Loss: 219.293\n",
      "epoch start:  448\n",
      "training ...\n"
     ]
    },
    {
     "name": "stderr",
     "output_type": "stream",
     "text": [
      "280it [00:01, 149.18it/s]\n",
      "120it [00:00, 1727.03it/s]\n",
      "14it [00:00, 136.19it/s]"
     ]
    },
    {
     "name": "stdout",
     "output_type": "stream",
     "text": [
      "Epoch: 449 | Time: 0m 1s\tTrain Loss: 0.532 | Test Loss: 217.546\n",
      "epoch start:  449\n",
      "training ...\n"
     ]
    },
    {
     "name": "stderr",
     "output_type": "stream",
     "text": [
      "280it [00:01, 150.30it/s]\n",
      "120it [00:00, 1648.79it/s]\n",
      "16it [00:00, 157.16it/s]"
     ]
    },
    {
     "name": "stdout",
     "output_type": "stream",
     "text": [
      "Epoch: 450 | Time: 0m 1s\tTrain Loss: 0.531 | Test Loss: 217.000\n",
      "epoch start:  450\n",
      "training ...\n"
     ]
    },
    {
     "name": "stderr",
     "output_type": "stream",
     "text": [
      "280it [00:01, 162.81it/s]\n",
      "120it [00:00, 1650.05it/s]\n",
      "17it [00:00, 164.06it/s]"
     ]
    },
    {
     "name": "stdout",
     "output_type": "stream",
     "text": [
      "Epoch: 451 | Time: 0m 1s\tTrain Loss: 0.528 | Test Loss: 218.681\n",
      "epoch start:  451\n",
      "training ...\n"
     ]
    },
    {
     "name": "stderr",
     "output_type": "stream",
     "text": [
      "280it [00:01, 155.90it/s]\n",
      "120it [00:00, 1682.65it/s]\n",
      "16it [00:00, 159.73it/s]"
     ]
    },
    {
     "name": "stdout",
     "output_type": "stream",
     "text": [
      "Epoch: 452 | Time: 0m 1s\tTrain Loss: 0.532 | Test Loss: 219.139\n",
      "epoch start:  452\n",
      "training ...\n"
     ]
    },
    {
     "name": "stderr",
     "output_type": "stream",
     "text": [
      "280it [00:01, 150.79it/s]\n",
      "120it [00:00, 1730.17it/s]\n",
      "16it [00:00, 148.87it/s]"
     ]
    },
    {
     "name": "stdout",
     "output_type": "stream",
     "text": [
      "Epoch: 453 | Time: 0m 1s\tTrain Loss: 0.532 | Test Loss: 218.666\n",
      "epoch start:  453\n",
      "training ...\n"
     ]
    },
    {
     "name": "stderr",
     "output_type": "stream",
     "text": [
      "280it [00:01, 155.20it/s]\n",
      "120it [00:00, 1813.92it/s]\n",
      "15it [00:00, 149.60it/s]"
     ]
    },
    {
     "name": "stdout",
     "output_type": "stream",
     "text": [
      "Epoch: 454 | Time: 0m 1s\tTrain Loss: 0.530 | Test Loss: 218.938\n",
      "epoch start:  454\n",
      "training ...\n"
     ]
    },
    {
     "name": "stderr",
     "output_type": "stream",
     "text": [
      "280it [00:01, 168.02it/s]\n",
      "120it [00:00, 1522.01it/s]\n",
      "17it [00:00, 169.89it/s]"
     ]
    },
    {
     "name": "stdout",
     "output_type": "stream",
     "text": [
      "Epoch: 455 | Time: 0m 1s\tTrain Loss: 0.532 | Test Loss: 215.582\n",
      "epoch start:  455\n",
      "training ...\n"
     ]
    },
    {
     "name": "stderr",
     "output_type": "stream",
     "text": [
      "280it [00:01, 153.69it/s]\n",
      "120it [00:00, 1712.55it/s]\n",
      "14it [00:00, 133.00it/s]"
     ]
    },
    {
     "name": "stdout",
     "output_type": "stream",
     "text": [
      "Epoch: 456 | Time: 0m 1s\tTrain Loss: 0.530 | Test Loss: 219.132\n",
      "epoch start:  456\n",
      "training ...\n"
     ]
    },
    {
     "name": "stderr",
     "output_type": "stream",
     "text": [
      "280it [00:01, 148.31it/s]\n",
      "120it [00:00, 1806.04it/s]\n",
      "16it [00:00, 149.66it/s]"
     ]
    },
    {
     "name": "stdout",
     "output_type": "stream",
     "text": [
      "Epoch: 457 | Time: 0m 1s\tTrain Loss: 0.535 | Test Loss: 216.912\n",
      "epoch start:  457\n",
      "training ...\n"
     ]
    },
    {
     "name": "stderr",
     "output_type": "stream",
     "text": [
      "280it [00:01, 153.20it/s]\n",
      "120it [00:00, 1770.88it/s]\n",
      "14it [00:00, 136.51it/s]"
     ]
    },
    {
     "name": "stdout",
     "output_type": "stream",
     "text": [
      "Epoch: 458 | Time: 0m 1s\tTrain Loss: 0.527 | Test Loss: 213.690\n",
      "epoch start:  458\n",
      "training ...\n"
     ]
    },
    {
     "name": "stderr",
     "output_type": "stream",
     "text": [
      "280it [00:01, 153.27it/s]\n",
      "120it [00:00, 1705.41it/s]\n",
      "16it [00:00, 156.52it/s]"
     ]
    },
    {
     "name": "stdout",
     "output_type": "stream",
     "text": [
      "Epoch: 459 | Time: 0m 1s\tTrain Loss: 0.536 | Test Loss: 217.337\n",
      "epoch start:  459\n",
      "training ...\n"
     ]
    },
    {
     "name": "stderr",
     "output_type": "stream",
     "text": [
      "280it [00:01, 155.00it/s]\n",
      "120it [00:00, 1861.13it/s]\n",
      "16it [00:00, 154.23it/s]"
     ]
    },
    {
     "name": "stdout",
     "output_type": "stream",
     "text": [
      "Epoch: 460 | Time: 0m 1s\tTrain Loss: 0.533 | Test Loss: 215.739\n",
      "epoch start:  460\n",
      "training ...\n"
     ]
    },
    {
     "name": "stderr",
     "output_type": "stream",
     "text": [
      "280it [00:01, 150.19it/s]\n",
      "120it [00:00, 1700.49it/s]\n",
      "15it [00:00, 140.65it/s]"
     ]
    },
    {
     "name": "stdout",
     "output_type": "stream",
     "text": [
      "Epoch: 461 | Time: 0m 1s\tTrain Loss: 0.531 | Test Loss: 215.947\n",
      "epoch start:  461\n",
      "training ...\n"
     ]
    },
    {
     "name": "stderr",
     "output_type": "stream",
     "text": [
      "280it [00:01, 148.21it/s]\n",
      "120it [00:00, 1820.93it/s]\n",
      "15it [00:00, 146.15it/s]"
     ]
    },
    {
     "name": "stdout",
     "output_type": "stream",
     "text": [
      "Epoch: 462 | Time: 0m 1s\tTrain Loss: 0.531 | Test Loss: 216.075\n",
      "epoch start:  462\n",
      "training ...\n"
     ]
    },
    {
     "name": "stderr",
     "output_type": "stream",
     "text": [
      "280it [00:01, 147.69it/s]\n",
      "120it [00:00, 1745.60it/s]\n",
      "16it [00:00, 149.21it/s]"
     ]
    },
    {
     "name": "stdout",
     "output_type": "stream",
     "text": [
      "Epoch: 463 | Time: 0m 1s\tTrain Loss: 0.531 | Test Loss: 212.941\n",
      "epoch start:  463\n",
      "training ...\n"
     ]
    },
    {
     "name": "stderr",
     "output_type": "stream",
     "text": [
      "280it [00:01, 153.77it/s]\n",
      "120it [00:00, 1706.07it/s]\n",
      "16it [00:00, 154.97it/s]"
     ]
    },
    {
     "name": "stdout",
     "output_type": "stream",
     "text": [
      "Epoch: 464 | Time: 0m 1s\tTrain Loss: 0.533 | Test Loss: 214.895\n",
      "epoch start:  464\n",
      "training ...\n"
     ]
    },
    {
     "name": "stderr",
     "output_type": "stream",
     "text": [
      "280it [00:01, 149.30it/s]\n",
      "120it [00:00, 1673.77it/s]\n",
      "14it [00:00, 131.86it/s]"
     ]
    },
    {
     "name": "stdout",
     "output_type": "stream",
     "text": [
      "Epoch: 465 | Time: 0m 1s\tTrain Loss: 0.530 | Test Loss: 220.629\n",
      "epoch start:  465\n",
      "training ...\n"
     ]
    },
    {
     "name": "stderr",
     "output_type": "stream",
     "text": [
      "280it [00:01, 159.73it/s]\n",
      "120it [00:00, 1769.18it/s]\n",
      "16it [00:00, 159.27it/s]"
     ]
    },
    {
     "name": "stdout",
     "output_type": "stream",
     "text": [
      "Epoch: 466 | Time: 0m 1s\tTrain Loss: 0.525 | Test Loss: 213.749\n",
      "epoch start:  466\n",
      "training ...\n"
     ]
    },
    {
     "name": "stderr",
     "output_type": "stream",
     "text": [
      "280it [00:01, 156.79it/s]\n",
      "120it [00:00, 1730.60it/s]\n",
      "21it [00:00, 208.26it/s]"
     ]
    },
    {
     "name": "stdout",
     "output_type": "stream",
     "text": [
      "Epoch: 467 | Time: 0m 1s\tTrain Loss: 0.531 | Test Loss: 214.500\n",
      "epoch start:  467\n",
      "training ...\n"
     ]
    },
    {
     "name": "stderr",
     "output_type": "stream",
     "text": [
      "280it [00:01, 208.46it/s]\n",
      "120it [00:00, 1845.56it/s]\n",
      "15it [00:00, 147.06it/s]"
     ]
    },
    {
     "name": "stdout",
     "output_type": "stream",
     "text": [
      "Epoch: 468 | Time: 0m 1s\tTrain Loss: 0.525 | Test Loss: 219.157\n",
      "epoch start:  468\n",
      "training ...\n"
     ]
    },
    {
     "name": "stderr",
     "output_type": "stream",
     "text": [
      "280it [00:01, 150.99it/s]\n",
      "120it [00:00, 1682.55it/s]\n",
      "18it [00:00, 168.00it/s]"
     ]
    },
    {
     "name": "stdout",
     "output_type": "stream",
     "text": [
      "Epoch: 469 | Time: 0m 1s\tTrain Loss: 0.528 | Test Loss: 215.209\n",
      "epoch start:  469\n",
      "training ...\n"
     ]
    },
    {
     "name": "stderr",
     "output_type": "stream",
     "text": [
      "280it [00:01, 153.47it/s]\n",
      "120it [00:00, 1660.08it/s]\n",
      "21it [00:00, 202.35it/s]"
     ]
    },
    {
     "name": "stdout",
     "output_type": "stream",
     "text": [
      "Epoch: 470 | Time: 0m 1s\tTrain Loss: 0.531 | Test Loss: 218.587\n",
      "epoch start:  470\n",
      "training ...\n"
     ]
    },
    {
     "name": "stderr",
     "output_type": "stream",
     "text": [
      "280it [00:01, 179.91it/s]\n",
      "120it [00:00, 1637.56it/s]\n",
      "15it [00:00, 146.25it/s]"
     ]
    },
    {
     "name": "stdout",
     "output_type": "stream",
     "text": [
      "Epoch: 471 | Time: 0m 1s\tTrain Loss: 0.533 | Test Loss: 214.109\n",
      "epoch start:  471\n",
      "training ...\n"
     ]
    },
    {
     "name": "stderr",
     "output_type": "stream",
     "text": [
      "280it [00:01, 151.20it/s]\n",
      "120it [00:00, 1789.76it/s]\n",
      "15it [00:00, 143.57it/s]"
     ]
    },
    {
     "name": "stdout",
     "output_type": "stream",
     "text": [
      "Epoch: 472 | Time: 0m 1s\tTrain Loss: 0.534 | Test Loss: 213.545\n",
      "epoch start:  472\n",
      "training ...\n"
     ]
    },
    {
     "name": "stderr",
     "output_type": "stream",
     "text": [
      "280it [00:01, 153.17it/s]\n",
      "120it [00:00, 1780.48it/s]\n",
      "15it [00:00, 148.21it/s]"
     ]
    },
    {
     "name": "stdout",
     "output_type": "stream",
     "text": [
      "Epoch: 473 | Time: 0m 1s\tTrain Loss: 0.529 | Test Loss: 214.160\n",
      "epoch start:  473\n",
      "training ...\n"
     ]
    },
    {
     "name": "stderr",
     "output_type": "stream",
     "text": [
      "280it [00:01, 165.32it/s]\n",
      "120it [00:00, 1500.35it/s]\n",
      "19it [00:00, 181.66it/s]"
     ]
    },
    {
     "name": "stdout",
     "output_type": "stream",
     "text": [
      "Epoch: 474 | Time: 0m 1s\tTrain Loss: 0.530 | Test Loss: 216.230\n",
      "epoch start:  474\n",
      "training ...\n"
     ]
    },
    {
     "name": "stderr",
     "output_type": "stream",
     "text": [
      "280it [00:01, 151.19it/s]\n",
      "120it [00:00, 1682.71it/s]\n",
      "15it [00:00, 144.82it/s]"
     ]
    },
    {
     "name": "stdout",
     "output_type": "stream",
     "text": [
      "Epoch: 475 | Time: 0m 1s\tTrain Loss: 0.529 | Test Loss: 218.792\n",
      "epoch start:  475\n",
      "training ...\n"
     ]
    },
    {
     "name": "stderr",
     "output_type": "stream",
     "text": [
      "280it [00:01, 149.34it/s]\n",
      "120it [00:00, 1787.00it/s]\n",
      "18it [00:00, 173.29it/s]"
     ]
    },
    {
     "name": "stdout",
     "output_type": "stream",
     "text": [
      "Epoch: 476 | Time: 0m 1s\tTrain Loss: 0.530 | Test Loss: 210.902\n",
      "epoch start:  476\n",
      "training ...\n"
     ]
    },
    {
     "name": "stderr",
     "output_type": "stream",
     "text": [
      "280it [00:01, 150.78it/s]\n",
      "120it [00:00, 1689.50it/s]\n",
      "16it [00:00, 150.34it/s]"
     ]
    },
    {
     "name": "stdout",
     "output_type": "stream",
     "text": [
      "Epoch: 477 | Time: 0m 1s\tTrain Loss: 0.533 | Test Loss: 215.227\n",
      "epoch start:  477\n",
      "training ...\n"
     ]
    },
    {
     "name": "stderr",
     "output_type": "stream",
     "text": [
      "280it [00:01, 150.51it/s]\n",
      "120it [00:00, 1700.86it/s]\n",
      "16it [00:00, 159.48it/s]"
     ]
    },
    {
     "name": "stdout",
     "output_type": "stream",
     "text": [
      "Epoch: 478 | Time: 0m 1s\tTrain Loss: 0.527 | Test Loss: 215.881\n",
      "epoch start:  478\n",
      "training ...\n"
     ]
    },
    {
     "name": "stderr",
     "output_type": "stream",
     "text": [
      "280it [00:01, 154.62it/s]\n",
      "120it [00:00, 1795.95it/s]\n",
      "20it [00:00, 193.88it/s]"
     ]
    },
    {
     "name": "stdout",
     "output_type": "stream",
     "text": [
      "Epoch: 479 | Time: 0m 1s\tTrain Loss: 0.535 | Test Loss: 216.937\n",
      "epoch start:  479\n",
      "training ...\n"
     ]
    },
    {
     "name": "stderr",
     "output_type": "stream",
     "text": [
      "280it [00:01, 177.87it/s]\n",
      "120it [00:00, 1853.26it/s]\n",
      "22it [00:00, 214.90it/s]"
     ]
    },
    {
     "name": "stdout",
     "output_type": "stream",
     "text": [
      "Epoch: 480 | Time: 0m 1s\tTrain Loss: 0.525 | Test Loss: 214.394\n",
      "epoch start:  480\n",
      "training ...\n"
     ]
    },
    {
     "name": "stderr",
     "output_type": "stream",
     "text": [
      "280it [00:01, 228.20it/s]\n",
      "120it [00:00, 1648.19it/s]\n",
      "22it [00:00, 219.76it/s]"
     ]
    },
    {
     "name": "stdout",
     "output_type": "stream",
     "text": [
      "Epoch: 481 | Time: 0m 1s\tTrain Loss: 0.533 | Test Loss: 216.134\n",
      "epoch start:  481\n",
      "training ...\n"
     ]
    },
    {
     "name": "stderr",
     "output_type": "stream",
     "text": [
      "280it [00:01, 163.52it/s]\n",
      "120it [00:00, 1774.63it/s]\n",
      "14it [00:00, 132.77it/s]"
     ]
    },
    {
     "name": "stdout",
     "output_type": "stream",
     "text": [
      "Epoch: 482 | Time: 0m 1s\tTrain Loss: 0.528 | Test Loss: 210.890\n",
      "epoch start:  482\n",
      "training ...\n"
     ]
    },
    {
     "name": "stderr",
     "output_type": "stream",
     "text": [
      "280it [00:01, 149.98it/s]\n",
      "120it [00:00, 1681.67it/s]\n",
      "16it [00:00, 151.68it/s]"
     ]
    },
    {
     "name": "stdout",
     "output_type": "stream",
     "text": [
      "Epoch: 483 | Time: 0m 1s\tTrain Loss: 0.525 | Test Loss: 217.623\n",
      "epoch start:  483\n",
      "training ...\n"
     ]
    },
    {
     "name": "stderr",
     "output_type": "stream",
     "text": [
      "280it [00:01, 149.14it/s]\n",
      "120it [00:00, 1667.48it/s]\n",
      "16it [00:00, 148.45it/s]"
     ]
    },
    {
     "name": "stdout",
     "output_type": "stream",
     "text": [
      "Epoch: 484 | Time: 0m 1s\tTrain Loss: 0.528 | Test Loss: 216.323\n",
      "epoch start:  484\n",
      "training ...\n"
     ]
    },
    {
     "name": "stderr",
     "output_type": "stream",
     "text": [
      "280it [00:01, 152.12it/s]\n",
      "120it [00:00, 1716.83it/s]\n",
      "16it [00:00, 149.31it/s]"
     ]
    },
    {
     "name": "stdout",
     "output_type": "stream",
     "text": [
      "Epoch: 485 | Time: 0m 1s\tTrain Loss: 0.529 | Test Loss: 214.551\n",
      "epoch start:  485\n",
      "training ...\n"
     ]
    },
    {
     "name": "stderr",
     "output_type": "stream",
     "text": [
      "280it [00:01, 144.21it/s]\n",
      "120it [00:00, 1740.85it/s]\n",
      "16it [00:00, 153.60it/s]"
     ]
    },
    {
     "name": "stdout",
     "output_type": "stream",
     "text": [
      "Epoch: 486 | Time: 0m 2s\tTrain Loss: 0.535 | Test Loss: 214.127\n",
      "epoch start:  486\n",
      "training ...\n"
     ]
    },
    {
     "name": "stderr",
     "output_type": "stream",
     "text": [
      "280it [00:01, 146.39it/s]\n",
      "120it [00:00, 1631.50it/s]\n",
      "16it [00:00, 155.58it/s]"
     ]
    },
    {
     "name": "stdout",
     "output_type": "stream",
     "text": [
      "Epoch: 487 | Time: 0m 1s\tTrain Loss: 0.529 | Test Loss: 211.943\n",
      "epoch start:  487\n",
      "training ...\n"
     ]
    },
    {
     "name": "stderr",
     "output_type": "stream",
     "text": [
      "280it [00:01, 148.36it/s]\n",
      "120it [00:00, 1776.16it/s]\n",
      "18it [00:00, 172.61it/s]"
     ]
    },
    {
     "name": "stdout",
     "output_type": "stream",
     "text": [
      "Epoch: 488 | Time: 0m 1s\tTrain Loss: 0.523 | Test Loss: 216.143\n",
      "epoch start:  488\n",
      "training ...\n"
     ]
    },
    {
     "name": "stderr",
     "output_type": "stream",
     "text": [
      "280it [00:01, 149.88it/s]\n",
      "120it [00:00, 1742.11it/s]\n",
      "15it [00:00, 146.65it/s]"
     ]
    },
    {
     "name": "stdout",
     "output_type": "stream",
     "text": [
      "Epoch: 489 | Time: 0m 1s\tTrain Loss: 0.530 | Test Loss: 214.725\n",
      "epoch start:  489\n",
      "training ...\n"
     ]
    },
    {
     "name": "stderr",
     "output_type": "stream",
     "text": [
      "280it [00:01, 156.53it/s]\n",
      "120it [00:00, 1726.90it/s]\n",
      "16it [00:00, 155.75it/s]"
     ]
    },
    {
     "name": "stdout",
     "output_type": "stream",
     "text": [
      "Epoch: 490 | Time: 0m 1s\tTrain Loss: 0.534 | Test Loss: 211.737\n",
      "epoch start:  490\n",
      "training ...\n"
     ]
    },
    {
     "name": "stderr",
     "output_type": "stream",
     "text": [
      "280it [00:01, 170.40it/s]\n",
      "120it [00:00, 1777.25it/s]\n",
      "18it [00:00, 173.70it/s]"
     ]
    },
    {
     "name": "stdout",
     "output_type": "stream",
     "text": [
      "Epoch: 491 | Time: 0m 1s\tTrain Loss: 0.529 | Test Loss: 213.666\n",
      "epoch start:  491\n",
      "training ...\n"
     ]
    },
    {
     "name": "stderr",
     "output_type": "stream",
     "text": [
      "280it [00:01, 151.52it/s]\n",
      "120it [00:00, 1689.32it/s]\n",
      "16it [00:00, 153.62it/s]"
     ]
    },
    {
     "name": "stdout",
     "output_type": "stream",
     "text": [
      "Epoch: 492 | Time: 0m 1s\tTrain Loss: 0.527 | Test Loss: 214.194\n",
      "epoch start:  492\n",
      "training ...\n"
     ]
    },
    {
     "name": "stderr",
     "output_type": "stream",
     "text": [
      "280it [00:01, 149.12it/s]\n",
      "120it [00:00, 1708.78it/s]\n",
      "18it [00:00, 168.02it/s]"
     ]
    },
    {
     "name": "stdout",
     "output_type": "stream",
     "text": [
      "Epoch: 493 | Time: 0m 1s\tTrain Loss: 0.532 | Test Loss: 210.722\n",
      "epoch start:  493\n",
      "training ...\n"
     ]
    },
    {
     "name": "stderr",
     "output_type": "stream",
     "text": [
      "280it [00:01, 166.73it/s]\n",
      "120it [00:00, 1757.09it/s]\n",
      "19it [00:00, 185.22it/s]"
     ]
    },
    {
     "name": "stdout",
     "output_type": "stream",
     "text": [
      "Epoch: 494 | Time: 0m 1s\tTrain Loss: 0.523 | Test Loss: 213.493\n",
      "epoch start:  494\n",
      "training ...\n"
     ]
    },
    {
     "name": "stderr",
     "output_type": "stream",
     "text": [
      "280it [00:01, 160.88it/s]\n",
      "120it [00:00, 1766.70it/s]\n",
      "16it [00:00, 150.34it/s]"
     ]
    },
    {
     "name": "stdout",
     "output_type": "stream",
     "text": [
      "Epoch: 495 | Time: 0m 1s\tTrain Loss: 0.532 | Test Loss: 211.269\n",
      "epoch start:  495\n",
      "training ...\n"
     ]
    },
    {
     "name": "stderr",
     "output_type": "stream",
     "text": [
      "280it [00:01, 149.59it/s]\n",
      "120it [00:00, 1794.43it/s]\n",
      "16it [00:00, 155.03it/s]"
     ]
    },
    {
     "name": "stdout",
     "output_type": "stream",
     "text": [
      "Epoch: 496 | Time: 0m 1s\tTrain Loss: 0.529 | Test Loss: 210.986\n",
      "epoch start:  496\n",
      "training ...\n"
     ]
    },
    {
     "name": "stderr",
     "output_type": "stream",
     "text": [
      "280it [00:01, 198.31it/s]\n",
      "120it [00:00, 1509.87it/s]\n",
      "18it [00:00, 172.71it/s]"
     ]
    },
    {
     "name": "stdout",
     "output_type": "stream",
     "text": [
      "Epoch: 497 | Time: 0m 1s\tTrain Loss: 0.524 | Test Loss: 209.717\n",
      "epoch start:  497\n",
      "training ...\n"
     ]
    },
    {
     "name": "stderr",
     "output_type": "stream",
     "text": [
      "280it [00:01, 156.01it/s]\n",
      "120it [00:00, 1724.56it/s]\n",
      "15it [00:00, 147.45it/s]"
     ]
    },
    {
     "name": "stdout",
     "output_type": "stream",
     "text": [
      "Epoch: 498 | Time: 0m 1s\tTrain Loss: 0.530 | Test Loss: 211.390\n",
      "epoch start:  498\n",
      "training ...\n"
     ]
    },
    {
     "name": "stderr",
     "output_type": "stream",
     "text": [
      "280it [00:01, 149.11it/s]\n",
      "120it [00:00, 1770.83it/s]\n",
      "18it [00:00, 169.11it/s]"
     ]
    },
    {
     "name": "stdout",
     "output_type": "stream",
     "text": [
      "Epoch: 499 | Time: 0m 1s\tTrain Loss: 0.528 | Test Loss: 210.633\n",
      "epoch start:  499\n",
      "training ...\n"
     ]
    },
    {
     "name": "stderr",
     "output_type": "stream",
     "text": [
      "280it [00:01, 149.03it/s]\n",
      "120it [00:00, 1711.76it/s]\n",
      "17it [00:00, 165.36it/s]"
     ]
    },
    {
     "name": "stdout",
     "output_type": "stream",
     "text": [
      "Epoch: 500 | Time: 0m 1s\tTrain Loss: 0.525 | Test Loss: 211.871\n",
      "epoch start:  500\n",
      "training ...\n"
     ]
    },
    {
     "name": "stderr",
     "output_type": "stream",
     "text": [
      "280it [00:01, 154.31it/s]\n",
      "120it [00:00, 1813.35it/s]\n",
      "15it [00:00, 149.51it/s]"
     ]
    },
    {
     "name": "stdout",
     "output_type": "stream",
     "text": [
      "Epoch: 501 | Time: 0m 1s\tTrain Loss: 0.525 | Test Loss: 210.981\n",
      "epoch start:  501\n",
      "training ...\n"
     ]
    },
    {
     "name": "stderr",
     "output_type": "stream",
     "text": [
      "280it [00:01, 150.57it/s]\n",
      "120it [00:00, 1765.24it/s]\n",
      "16it [00:00, 155.93it/s]"
     ]
    },
    {
     "name": "stdout",
     "output_type": "stream",
     "text": [
      "Epoch: 502 | Time: 0m 1s\tTrain Loss: 0.530 | Test Loss: 211.143\n",
      "epoch start:  502\n",
      "training ...\n"
     ]
    },
    {
     "name": "stderr",
     "output_type": "stream",
     "text": [
      "280it [00:01, 149.18it/s]\n",
      "120it [00:00, 1760.59it/s]\n",
      "17it [00:00, 168.34it/s]"
     ]
    },
    {
     "name": "stdout",
     "output_type": "stream",
     "text": [
      "Epoch: 503 | Time: 0m 1s\tTrain Loss: 0.531 | Test Loss: 209.650\n",
      "epoch start:  503\n",
      "training ...\n"
     ]
    },
    {
     "name": "stderr",
     "output_type": "stream",
     "text": [
      "280it [00:01, 157.96it/s]\n",
      "120it [00:00, 1651.89it/s]\n",
      "19it [00:00, 184.04it/s]"
     ]
    },
    {
     "name": "stdout",
     "output_type": "stream",
     "text": [
      "Epoch: 504 | Time: 0m 1s\tTrain Loss: 0.527 | Test Loss: 212.669\n",
      "epoch start:  504\n",
      "training ...\n"
     ]
    },
    {
     "name": "stderr",
     "output_type": "stream",
     "text": [
      "280it [00:01, 156.97it/s]\n",
      "120it [00:00, 1719.45it/s]\n",
      "15it [00:00, 142.41it/s]"
     ]
    },
    {
     "name": "stdout",
     "output_type": "stream",
     "text": [
      "Epoch: 505 | Time: 0m 1s\tTrain Loss: 0.523 | Test Loss: 213.406\n",
      "epoch start:  505\n",
      "training ...\n"
     ]
    },
    {
     "name": "stderr",
     "output_type": "stream",
     "text": [
      "280it [00:01, 152.64it/s]\n",
      "120it [00:00, 1830.65it/s]\n",
      "15it [00:00, 147.49it/s]"
     ]
    },
    {
     "name": "stdout",
     "output_type": "stream",
     "text": [
      "Epoch: 506 | Time: 0m 1s\tTrain Loss: 0.526 | Test Loss: 211.661\n",
      "epoch start:  506\n",
      "training ...\n"
     ]
    },
    {
     "name": "stderr",
     "output_type": "stream",
     "text": [
      "280it [00:01, 153.72it/s]\n",
      "120it [00:00, 1730.35it/s]\n",
      "14it [00:00, 139.13it/s]"
     ]
    },
    {
     "name": "stdout",
     "output_type": "stream",
     "text": [
      "Epoch: 507 | Time: 0m 1s\tTrain Loss: 0.525 | Test Loss: 211.544\n",
      "epoch start:  507\n",
      "training ...\n"
     ]
    },
    {
     "name": "stderr",
     "output_type": "stream",
     "text": [
      "280it [00:01, 156.36it/s]\n",
      "120it [00:00, 1711.78it/s]\n",
      "17it [00:00, 164.24it/s]"
     ]
    },
    {
     "name": "stdout",
     "output_type": "stream",
     "text": [
      "Epoch: 508 | Time: 0m 1s\tTrain Loss: 0.524 | Test Loss: 209.492\n",
      "epoch start:  508\n",
      "training ...\n"
     ]
    },
    {
     "name": "stderr",
     "output_type": "stream",
     "text": [
      "280it [00:01, 159.71it/s]\n",
      "120it [00:00, 1736.48it/s]\n",
      "15it [00:00, 147.54it/s]"
     ]
    },
    {
     "name": "stdout",
     "output_type": "stream",
     "text": [
      "Epoch: 509 | Time: 0m 1s\tTrain Loss: 0.525 | Test Loss: 211.044\n",
      "epoch start:  509\n",
      "training ...\n"
     ]
    },
    {
     "name": "stderr",
     "output_type": "stream",
     "text": [
      "280it [00:01, 156.44it/s]\n",
      "120it [00:00, 1653.96it/s]\n",
      "19it [00:00, 183.12it/s]"
     ]
    },
    {
     "name": "stdout",
     "output_type": "stream",
     "text": [
      "Epoch: 510 | Time: 0m 1s\tTrain Loss: 0.524 | Test Loss: 207.203\n",
      "epoch start:  510\n",
      "training ...\n"
     ]
    },
    {
     "name": "stderr",
     "output_type": "stream",
     "text": [
      "280it [00:01, 159.49it/s]\n",
      "120it [00:00, 1615.86it/s]\n",
      "16it [00:00, 151.23it/s]"
     ]
    },
    {
     "name": "stdout",
     "output_type": "stream",
     "text": [
      "Epoch: 511 | Time: 0m 1s\tTrain Loss: 0.532 | Test Loss: 210.466\n",
      "epoch start:  511\n",
      "training ...\n"
     ]
    },
    {
     "name": "stderr",
     "output_type": "stream",
     "text": [
      "280it [00:01, 151.82it/s]\n",
      "120it [00:00, 1695.84it/s]\n",
      "15it [00:00, 145.23it/s]"
     ]
    },
    {
     "name": "stdout",
     "output_type": "stream",
     "text": [
      "Epoch: 512 | Time: 0m 1s\tTrain Loss: 0.519 | Test Loss: 211.066\n",
      "epoch start:  512\n",
      "training ...\n"
     ]
    },
    {
     "name": "stderr",
     "output_type": "stream",
     "text": [
      "280it [00:01, 150.85it/s]\n",
      "120it [00:00, 1704.07it/s]\n",
      "17it [00:00, 166.13it/s]"
     ]
    },
    {
     "name": "stdout",
     "output_type": "stream",
     "text": [
      "Epoch: 513 | Time: 0m 1s\tTrain Loss: 0.526 | Test Loss: 209.298\n",
      "epoch start:  513\n",
      "training ...\n"
     ]
    },
    {
     "name": "stderr",
     "output_type": "stream",
     "text": [
      "280it [00:01, 156.16it/s]\n",
      "120it [00:00, 1627.09it/s]\n",
      "15it [00:00, 144.63it/s]"
     ]
    },
    {
     "name": "stdout",
     "output_type": "stream",
     "text": [
      "Epoch: 514 | Time: 0m 1s\tTrain Loss: 0.527 | Test Loss: 211.512\n",
      "epoch start:  514\n",
      "training ...\n"
     ]
    },
    {
     "name": "stderr",
     "output_type": "stream",
     "text": [
      "280it [00:01, 148.06it/s]\n",
      "120it [00:00, 1804.68it/s]\n",
      "16it [00:00, 155.80it/s]"
     ]
    },
    {
     "name": "stdout",
     "output_type": "stream",
     "text": [
      "Epoch: 515 | Time: 0m 1s\tTrain Loss: 0.524 | Test Loss: 213.014\n",
      "epoch start:  515\n",
      "training ...\n"
     ]
    },
    {
     "name": "stderr",
     "output_type": "stream",
     "text": [
      "280it [00:01, 149.30it/s]\n",
      "120it [00:00, 1750.08it/s]\n",
      "17it [00:00, 160.40it/s]"
     ]
    },
    {
     "name": "stdout",
     "output_type": "stream",
     "text": [
      "Epoch: 516 | Time: 0m 1s\tTrain Loss: 0.524 | Test Loss: 209.526\n",
      "epoch start:  516\n",
      "training ...\n"
     ]
    },
    {
     "name": "stderr",
     "output_type": "stream",
     "text": [
      "280it [00:01, 151.98it/s]\n",
      "120it [00:00, 1617.90it/s]\n",
      "22it [00:00, 217.45it/s]"
     ]
    },
    {
     "name": "stdout",
     "output_type": "stream",
     "text": [
      "Epoch: 517 | Time: 0m 1s\tTrain Loss: 0.529 | Test Loss: 207.237\n",
      "epoch start:  517\n",
      "training ...\n"
     ]
    },
    {
     "name": "stderr",
     "output_type": "stream",
     "text": [
      "280it [00:01, 164.92it/s]\n",
      "120it [00:00, 1718.62it/s]\n",
      "15it [00:00, 147.66it/s]"
     ]
    },
    {
     "name": "stdout",
     "output_type": "stream",
     "text": [
      "Epoch: 518 | Time: 0m 1s\tTrain Loss: 0.526 | Test Loss: 210.369\n",
      "epoch start:  518\n",
      "training ...\n"
     ]
    },
    {
     "name": "stderr",
     "output_type": "stream",
     "text": [
      "280it [00:01, 154.10it/s]\n",
      "120it [00:00, 1744.67it/s]\n",
      "16it [00:00, 156.11it/s]"
     ]
    },
    {
     "name": "stdout",
     "output_type": "stream",
     "text": [
      "Epoch: 519 | Time: 0m 1s\tTrain Loss: 0.528 | Test Loss: 206.411\n",
      "epoch start:  519\n",
      "training ...\n"
     ]
    },
    {
     "name": "stderr",
     "output_type": "stream",
     "text": [
      "280it [00:01, 155.36it/s]\n",
      "120it [00:00, 1770.03it/s]\n",
      "15it [00:00, 146.43it/s]"
     ]
    },
    {
     "name": "stdout",
     "output_type": "stream",
     "text": [
      "Epoch: 520 | Time: 0m 1s\tTrain Loss: 0.529 | Test Loss: 205.519\n",
      "epoch start:  520\n",
      "training ...\n"
     ]
    },
    {
     "name": "stderr",
     "output_type": "stream",
     "text": [
      "280it [00:01, 146.86it/s]\n",
      "120it [00:00, 1744.07it/s]\n",
      "14it [00:00, 139.62it/s]"
     ]
    },
    {
     "name": "stdout",
     "output_type": "stream",
     "text": [
      "Epoch: 521 | Time: 0m 1s\tTrain Loss: 0.520 | Test Loss: 205.543\n",
      "epoch start:  521\n",
      "training ...\n"
     ]
    },
    {
     "name": "stderr",
     "output_type": "stream",
     "text": [
      "280it [00:01, 148.44it/s]\n",
      "120it [00:00, 1669.16it/s]\n",
      "17it [00:00, 162.59it/s]"
     ]
    },
    {
     "name": "stdout",
     "output_type": "stream",
     "text": [
      "Epoch: 522 | Time: 0m 1s\tTrain Loss: 0.524 | Test Loss: 207.152\n",
      "epoch start:  522\n",
      "training ...\n"
     ]
    },
    {
     "name": "stderr",
     "output_type": "stream",
     "text": [
      "280it [00:01, 149.01it/s]\n",
      "120it [00:00, 1783.02it/s]\n",
      "17it [00:00, 158.55it/s]"
     ]
    },
    {
     "name": "stdout",
     "output_type": "stream",
     "text": [
      "Epoch: 523 | Time: 0m 1s\tTrain Loss: 0.524 | Test Loss: 206.310\n",
      "epoch start:  523\n",
      "training ...\n"
     ]
    },
    {
     "name": "stderr",
     "output_type": "stream",
     "text": [
      "280it [00:01, 149.78it/s]\n",
      "120it [00:00, 1774.38it/s]\n",
      "16it [00:00, 151.98it/s]"
     ]
    },
    {
     "name": "stdout",
     "output_type": "stream",
     "text": [
      "Epoch: 524 | Time: 0m 1s\tTrain Loss: 0.519 | Test Loss: 206.701\n",
      "epoch start:  524\n",
      "training ...\n"
     ]
    },
    {
     "name": "stderr",
     "output_type": "stream",
     "text": [
      "280it [00:01, 154.94it/s]\n",
      "120it [00:00, 1697.23it/s]\n",
      "17it [00:00, 165.41it/s]"
     ]
    },
    {
     "name": "stdout",
     "output_type": "stream",
     "text": [
      "Epoch: 525 | Time: 0m 1s\tTrain Loss: 0.525 | Test Loss: 204.863\n",
      "epoch start:  525\n",
      "training ...\n"
     ]
    },
    {
     "name": "stderr",
     "output_type": "stream",
     "text": [
      "280it [00:01, 155.95it/s]\n",
      "120it [00:00, 1698.80it/s]\n",
      "15it [00:00, 142.35it/s]"
     ]
    },
    {
     "name": "stdout",
     "output_type": "stream",
     "text": [
      "Epoch: 526 | Time: 0m 1s\tTrain Loss: 0.512 | Test Loss: 204.079\n",
      "epoch start:  526\n",
      "training ...\n"
     ]
    },
    {
     "name": "stderr",
     "output_type": "stream",
     "text": [
      "280it [00:01, 147.91it/s]\n",
      "120it [00:00, 1805.22it/s]\n",
      "16it [00:00, 153.34it/s]"
     ]
    },
    {
     "name": "stdout",
     "output_type": "stream",
     "text": [
      "Epoch: 527 | Time: 0m 1s\tTrain Loss: 0.527 | Test Loss: 206.181\n",
      "epoch start:  527\n",
      "training ...\n"
     ]
    },
    {
     "name": "stderr",
     "output_type": "stream",
     "text": [
      "280it [00:01, 160.09it/s]\n",
      "120it [00:00, 1714.66it/s]\n",
      "17it [00:00, 164.56it/s]"
     ]
    },
    {
     "name": "stdout",
     "output_type": "stream",
     "text": [
      "Epoch: 528 | Time: 0m 1s\tTrain Loss: 0.514 | Test Loss: 205.124\n",
      "epoch start:  528\n",
      "training ...\n"
     ]
    },
    {
     "name": "stderr",
     "output_type": "stream",
     "text": [
      "280it [00:01, 169.92it/s]\n",
      "120it [00:00, 1794.36it/s]\n",
      "16it [00:00, 158.66it/s]"
     ]
    },
    {
     "name": "stdout",
     "output_type": "stream",
     "text": [
      "Epoch: 529 | Time: 0m 1s\tTrain Loss: 0.528 | Test Loss: 206.756\n",
      "epoch start:  529\n",
      "training ...\n"
     ]
    },
    {
     "name": "stderr",
     "output_type": "stream",
     "text": [
      "280it [00:01, 147.02it/s]\n",
      "120it [00:00, 1711.68it/s]\n",
      "16it [00:00, 151.43it/s]"
     ]
    },
    {
     "name": "stdout",
     "output_type": "stream",
     "text": [
      "Epoch: 530 | Time: 0m 1s\tTrain Loss: 0.518 | Test Loss: 207.466\n",
      "epoch start:  530\n",
      "training ...\n"
     ]
    },
    {
     "name": "stderr",
     "output_type": "stream",
     "text": [
      "280it [00:01, 158.87it/s]\n",
      "120it [00:00, 1801.16it/s]\n",
      "17it [00:00, 165.88it/s]"
     ]
    },
    {
     "name": "stdout",
     "output_type": "stream",
     "text": [
      "Epoch: 531 | Time: 0m 1s\tTrain Loss: 0.523 | Test Loss: 208.849\n",
      "epoch start:  531\n",
      "training ...\n"
     ]
    },
    {
     "name": "stderr",
     "output_type": "stream",
     "text": [
      "280it [00:01, 151.03it/s]\n",
      "120it [00:00, 1687.98it/s]\n",
      "16it [00:00, 151.19it/s]"
     ]
    },
    {
     "name": "stdout",
     "output_type": "stream",
     "text": [
      "Epoch: 532 | Time: 0m 1s\tTrain Loss: 0.523 | Test Loss: 204.794\n",
      "epoch start:  532\n",
      "training ...\n"
     ]
    },
    {
     "name": "stderr",
     "output_type": "stream",
     "text": [
      "280it [00:01, 151.76it/s]\n",
      "120it [00:00, 1708.10it/s]\n",
      "18it [00:00, 169.86it/s]"
     ]
    },
    {
     "name": "stdout",
     "output_type": "stream",
     "text": [
      "Epoch: 533 | Time: 0m 1s\tTrain Loss: 0.528 | Test Loss: 205.083\n",
      "epoch start:  533\n",
      "training ...\n"
     ]
    },
    {
     "name": "stderr",
     "output_type": "stream",
     "text": [
      "280it [00:01, 153.55it/s]\n",
      "120it [00:00, 1708.84it/s]\n",
      "18it [00:00, 176.68it/s]"
     ]
    },
    {
     "name": "stdout",
     "output_type": "stream",
     "text": [
      "Epoch: 534 | Time: 0m 1s\tTrain Loss: 0.519 | Test Loss: 205.845\n",
      "epoch start:  534\n",
      "training ...\n"
     ]
    },
    {
     "name": "stderr",
     "output_type": "stream",
     "text": [
      "280it [00:01, 157.19it/s]\n",
      "120it [00:00, 1730.94it/s]\n",
      "19it [00:00, 183.68it/s]"
     ]
    },
    {
     "name": "stdout",
     "output_type": "stream",
     "text": [
      "Epoch: 535 | Time: 0m 1s\tTrain Loss: 0.526 | Test Loss: 206.386\n",
      "epoch start:  535\n",
      "training ...\n"
     ]
    },
    {
     "name": "stderr",
     "output_type": "stream",
     "text": [
      "280it [00:01, 148.77it/s]\n",
      "120it [00:00, 1753.10it/s]\n",
      "15it [00:00, 141.95it/s]"
     ]
    },
    {
     "name": "stdout",
     "output_type": "stream",
     "text": [
      "Epoch: 536 | Time: 0m 1s\tTrain Loss: 0.526 | Test Loss: 208.157\n",
      "epoch start:  536\n",
      "training ...\n"
     ]
    },
    {
     "name": "stderr",
     "output_type": "stream",
     "text": [
      "280it [00:01, 152.62it/s]\n",
      "120it [00:00, 1687.10it/s]\n",
      "15it [00:00, 146.38it/s]"
     ]
    },
    {
     "name": "stdout",
     "output_type": "stream",
     "text": [
      "Epoch: 537 | Time: 0m 1s\tTrain Loss: 0.525 | Test Loss: 203.513\n",
      "epoch start:  537\n",
      "training ...\n"
     ]
    },
    {
     "name": "stderr",
     "output_type": "stream",
     "text": [
      "280it [00:01, 147.90it/s]\n",
      "120it [00:00, 1775.07it/s]\n",
      "16it [00:00, 159.02it/s]"
     ]
    },
    {
     "name": "stdout",
     "output_type": "stream",
     "text": [
      "Epoch: 538 | Time: 0m 1s\tTrain Loss: 0.520 | Test Loss: 203.288\n",
      "epoch start:  538\n",
      "training ...\n"
     ]
    },
    {
     "name": "stderr",
     "output_type": "stream",
     "text": [
      "280it [00:01, 154.45it/s]\n",
      "120it [00:00, 1729.79it/s]\n",
      "15it [00:00, 140.90it/s]"
     ]
    },
    {
     "name": "stdout",
     "output_type": "stream",
     "text": [
      "Epoch: 539 | Time: 0m 1s\tTrain Loss: 0.520 | Test Loss: 204.351\n",
      "epoch start:  539\n",
      "training ...\n"
     ]
    },
    {
     "name": "stderr",
     "output_type": "stream",
     "text": [
      "280it [00:01, 189.86it/s]\n",
      "120it [00:00, 1849.36it/s]\n",
      "16it [00:00, 157.88it/s]"
     ]
    },
    {
     "name": "stdout",
     "output_type": "stream",
     "text": [
      "Epoch: 540 | Time: 0m 1s\tTrain Loss: 0.523 | Test Loss: 206.553\n",
      "epoch start:  540\n",
      "training ...\n"
     ]
    },
    {
     "name": "stderr",
     "output_type": "stream",
     "text": [
      "280it [00:01, 153.80it/s]\n",
      "120it [00:00, 1722.09it/s]\n",
      "15it [00:00, 147.83it/s]"
     ]
    },
    {
     "name": "stdout",
     "output_type": "stream",
     "text": [
      "Epoch: 541 | Time: 0m 1s\tTrain Loss: 0.525 | Test Loss: 202.453\n",
      "epoch start:  541\n",
      "training ...\n"
     ]
    },
    {
     "name": "stderr",
     "output_type": "stream",
     "text": [
      "280it [00:01, 156.96it/s]\n",
      "120it [00:00, 1795.85it/s]\n",
      "16it [00:00, 150.41it/s]"
     ]
    },
    {
     "name": "stdout",
     "output_type": "stream",
     "text": [
      "Epoch: 542 | Time: 0m 1s\tTrain Loss: 0.521 | Test Loss: 208.043\n",
      "epoch start:  542\n",
      "training ...\n"
     ]
    },
    {
     "name": "stderr",
     "output_type": "stream",
     "text": [
      "280it [00:01, 157.28it/s]\n",
      "120it [00:00, 1740.62it/s]\n",
      "17it [00:00, 161.30it/s]"
     ]
    },
    {
     "name": "stdout",
     "output_type": "stream",
     "text": [
      "Epoch: 543 | Time: 0m 1s\tTrain Loss: 0.520 | Test Loss: 206.104\n",
      "epoch start:  543\n",
      "training ...\n"
     ]
    },
    {
     "name": "stderr",
     "output_type": "stream",
     "text": [
      "280it [00:01, 157.83it/s]\n",
      "120it [00:00, 1775.20it/s]\n",
      "17it [00:00, 167.25it/s]"
     ]
    },
    {
     "name": "stdout",
     "output_type": "stream",
     "text": [
      "Epoch: 544 | Time: 0m 1s\tTrain Loss: 0.519 | Test Loss: 203.477\n",
      "epoch start:  544\n",
      "training ...\n"
     ]
    },
    {
     "name": "stderr",
     "output_type": "stream",
     "text": [
      "280it [00:01, 153.51it/s]\n",
      "120it [00:00, 1648.27it/s]\n",
      "16it [00:00, 158.06it/s]"
     ]
    },
    {
     "name": "stdout",
     "output_type": "stream",
     "text": [
      "Epoch: 545 | Time: 0m 1s\tTrain Loss: 0.525 | Test Loss: 207.046\n",
      "epoch start:  545\n",
      "training ...\n"
     ]
    },
    {
     "name": "stderr",
     "output_type": "stream",
     "text": [
      "280it [00:01, 149.13it/s]\n",
      "120it [00:00, 1681.03it/s]\n",
      "17it [00:00, 159.47it/s]"
     ]
    },
    {
     "name": "stdout",
     "output_type": "stream",
     "text": [
      "Epoch: 546 | Time: 0m 1s\tTrain Loss: 0.513 | Test Loss: 204.014\n",
      "epoch start:  546\n",
      "training ...\n"
     ]
    },
    {
     "name": "stderr",
     "output_type": "stream",
     "text": [
      "280it [00:01, 160.77it/s]\n",
      "120it [00:00, 1724.78it/s]\n",
      "16it [00:00, 156.24it/s]"
     ]
    },
    {
     "name": "stdout",
     "output_type": "stream",
     "text": [
      "Epoch: 547 | Time: 0m 1s\tTrain Loss: 0.518 | Test Loss: 202.347\n",
      "epoch start:  547\n",
      "training ...\n"
     ]
    },
    {
     "name": "stderr",
     "output_type": "stream",
     "text": [
      "280it [00:01, 162.91it/s]\n",
      "120it [00:00, 1428.50it/s]\n",
      "23it [00:00, 223.20it/s]"
     ]
    },
    {
     "name": "stdout",
     "output_type": "stream",
     "text": [
      "Epoch: 548 | Time: 0m 1s\tTrain Loss: 0.516 | Test Loss: 206.830\n",
      "epoch start:  548\n",
      "training ...\n"
     ]
    },
    {
     "name": "stderr",
     "output_type": "stream",
     "text": [
      "280it [00:01, 160.20it/s]\n",
      "120it [00:00, 1799.39it/s]\n",
      "14it [00:00, 139.92it/s]"
     ]
    },
    {
     "name": "stdout",
     "output_type": "stream",
     "text": [
      "Epoch: 549 | Time: 0m 1s\tTrain Loss: 0.520 | Test Loss: 207.991\n",
      "epoch start:  549\n",
      "training ...\n"
     ]
    },
    {
     "name": "stderr",
     "output_type": "stream",
     "text": [
      "280it [00:01, 148.84it/s]\n",
      "120it [00:00, 1742.80it/s]\n",
      "25it [00:00, 244.80it/s]"
     ]
    },
    {
     "name": "stdout",
     "output_type": "stream",
     "text": [
      "Epoch: 550 | Time: 0m 1s\tTrain Loss: 0.522 | Test Loss: 202.687\n",
      "epoch start:  550\n",
      "training ...\n"
     ]
    },
    {
     "name": "stderr",
     "output_type": "stream",
     "text": [
      "280it [00:01, 211.65it/s]\n",
      "120it [00:00, 1744.72it/s]\n",
      "16it [00:00, 157.33it/s]"
     ]
    },
    {
     "name": "stdout",
     "output_type": "stream",
     "text": [
      "Epoch: 551 | Time: 0m 1s\tTrain Loss: 0.514 | Test Loss: 204.972\n",
      "epoch start:  551\n",
      "training ...\n"
     ]
    },
    {
     "name": "stderr",
     "output_type": "stream",
     "text": [
      "280it [00:01, 151.17it/s]\n",
      "120it [00:00, 1771.32it/s]\n",
      "21it [00:00, 208.85it/s]"
     ]
    },
    {
     "name": "stdout",
     "output_type": "stream",
     "text": [
      "Epoch: 552 | Time: 0m 1s\tTrain Loss: 0.524 | Test Loss: 205.672\n",
      "epoch start:  552\n",
      "training ...\n"
     ]
    },
    {
     "name": "stderr",
     "output_type": "stream",
     "text": [
      "280it [00:01, 156.41it/s]\n",
      "120it [00:00, 1812.69it/s]\n",
      "16it [00:00, 154.76it/s]"
     ]
    },
    {
     "name": "stdout",
     "output_type": "stream",
     "text": [
      "Epoch: 553 | Time: 0m 1s\tTrain Loss: 0.522 | Test Loss: 199.604\n",
      "epoch start:  553\n",
      "training ...\n"
     ]
    },
    {
     "name": "stderr",
     "output_type": "stream",
     "text": [
      "280it [00:01, 149.22it/s]\n",
      "120it [00:00, 1730.45it/s]\n",
      "16it [00:00, 152.54it/s]"
     ]
    },
    {
     "name": "stdout",
     "output_type": "stream",
     "text": [
      "Epoch: 554 | Time: 0m 1s\tTrain Loss: 0.520 | Test Loss: 201.083\n",
      "epoch start:  554\n",
      "training ...\n"
     ]
    },
    {
     "name": "stderr",
     "output_type": "stream",
     "text": [
      "280it [00:01, 153.61it/s]\n",
      "120it [00:00, 1631.08it/s]\n",
      "16it [00:00, 156.78it/s]"
     ]
    },
    {
     "name": "stdout",
     "output_type": "stream",
     "text": [
      "Epoch: 555 | Time: 0m 1s\tTrain Loss: 0.521 | Test Loss: 205.462\n",
      "epoch start:  555\n",
      "training ...\n"
     ]
    },
    {
     "name": "stderr",
     "output_type": "stream",
     "text": [
      "280it [00:01, 147.34it/s]\n",
      "120it [00:00, 1749.83it/s]\n",
      "23it [00:00, 226.68it/s]"
     ]
    },
    {
     "name": "stdout",
     "output_type": "stream",
     "text": [
      "Epoch: 556 | Time: 0m 1s\tTrain Loss: 0.526 | Test Loss: 201.317\n",
      "epoch start:  556\n",
      "training ...\n"
     ]
    },
    {
     "name": "stderr",
     "output_type": "stream",
     "text": [
      "280it [00:01, 166.32it/s]\n",
      "120it [00:00, 1725.07it/s]\n",
      "14it [00:00, 136.98it/s]"
     ]
    },
    {
     "name": "stdout",
     "output_type": "stream",
     "text": [
      "Epoch: 557 | Time: 0m 1s\tTrain Loss: 0.517 | Test Loss: 204.725\n",
      "epoch start:  557\n",
      "training ...\n"
     ]
    },
    {
     "name": "stderr",
     "output_type": "stream",
     "text": [
      "280it [00:01, 149.89it/s]\n",
      "120it [00:00, 1727.42it/s]\n",
      "16it [00:00, 151.43it/s]"
     ]
    },
    {
     "name": "stdout",
     "output_type": "stream",
     "text": [
      "Epoch: 558 | Time: 0m 1s\tTrain Loss: 0.523 | Test Loss: 202.828\n",
      "epoch start:  558\n",
      "training ...\n"
     ]
    },
    {
     "name": "stderr",
     "output_type": "stream",
     "text": [
      "280it [00:01, 153.76it/s]\n",
      "120it [00:00, 1664.00it/s]\n",
      "16it [00:00, 158.46it/s]"
     ]
    },
    {
     "name": "stdout",
     "output_type": "stream",
     "text": [
      "Epoch: 559 | Time: 0m 1s\tTrain Loss: 0.524 | Test Loss: 201.153\n",
      "epoch start:  559\n",
      "training ...\n"
     ]
    },
    {
     "name": "stderr",
     "output_type": "stream",
     "text": [
      "280it [00:01, 159.32it/s]\n",
      "120it [00:00, 1682.47it/s]\n",
      "16it [00:00, 159.40it/s]"
     ]
    },
    {
     "name": "stdout",
     "output_type": "stream",
     "text": [
      "Epoch: 560 | Time: 0m 1s\tTrain Loss: 0.519 | Test Loss: 197.522\n",
      "epoch start:  560\n",
      "training ...\n"
     ]
    },
    {
     "name": "stderr",
     "output_type": "stream",
     "text": [
      "280it [00:01, 157.44it/s]\n",
      "120it [00:00, 1554.99it/s]\n",
      "15it [00:00, 141.09it/s]"
     ]
    },
    {
     "name": "stdout",
     "output_type": "stream",
     "text": [
      "Epoch: 561 | Time: 0m 1s\tTrain Loss: 0.511 | Test Loss: 201.980\n",
      "epoch start:  561\n",
      "training ...\n"
     ]
    },
    {
     "name": "stderr",
     "output_type": "stream",
     "text": [
      "280it [00:01, 152.20it/s]\n",
      "120it [00:00, 1535.17it/s]\n",
      "16it [00:00, 153.69it/s]"
     ]
    },
    {
     "name": "stdout",
     "output_type": "stream",
     "text": [
      "Epoch: 562 | Time: 0m 1s\tTrain Loss: 0.529 | Test Loss: 202.435\n",
      "epoch start:  562\n",
      "training ...\n"
     ]
    },
    {
     "name": "stderr",
     "output_type": "stream",
     "text": [
      "280it [00:01, 159.19it/s]\n",
      "120it [00:00, 1696.32it/s]\n",
      "16it [00:00, 159.82it/s]"
     ]
    },
    {
     "name": "stdout",
     "output_type": "stream",
     "text": [
      "Epoch: 563 | Time: 0m 1s\tTrain Loss: 0.515 | Test Loss: 199.883\n",
      "epoch start:  563\n",
      "training ...\n"
     ]
    },
    {
     "name": "stderr",
     "output_type": "stream",
     "text": [
      "280it [00:01, 166.86it/s]\n",
      "120it [00:00, 1655.72it/s]\n",
      "16it [00:00, 152.74it/s]"
     ]
    },
    {
     "name": "stdout",
     "output_type": "stream",
     "text": [
      "Epoch: 564 | Time: 0m 1s\tTrain Loss: 0.512 | Test Loss: 199.505\n",
      "epoch start:  564\n",
      "training ...\n"
     ]
    },
    {
     "name": "stderr",
     "output_type": "stream",
     "text": [
      "280it [00:01, 150.87it/s]\n",
      "120it [00:00, 1752.46it/s]\n",
      "17it [00:00, 160.79it/s]"
     ]
    },
    {
     "name": "stdout",
     "output_type": "stream",
     "text": [
      "Epoch: 565 | Time: 0m 1s\tTrain Loss: 0.518 | Test Loss: 204.099\n",
      "epoch start:  565\n",
      "training ...\n"
     ]
    },
    {
     "name": "stderr",
     "output_type": "stream",
     "text": [
      "280it [00:01, 150.91it/s]\n",
      "120it [00:00, 1782.71it/s]\n",
      "16it [00:00, 148.94it/s]"
     ]
    },
    {
     "name": "stdout",
     "output_type": "stream",
     "text": [
      "Epoch: 566 | Time: 0m 1s\tTrain Loss: 0.525 | Test Loss: 201.072\n",
      "epoch start:  566\n",
      "training ...\n"
     ]
    },
    {
     "name": "stderr",
     "output_type": "stream",
     "text": [
      "280it [00:01, 150.92it/s]\n",
      "120it [00:00, 1716.28it/s]\n",
      "16it [00:00, 155.74it/s]"
     ]
    },
    {
     "name": "stdout",
     "output_type": "stream",
     "text": [
      "Epoch: 567 | Time: 0m 1s\tTrain Loss: 0.515 | Test Loss: 199.604\n",
      "epoch start:  567\n",
      "training ...\n"
     ]
    },
    {
     "name": "stderr",
     "output_type": "stream",
     "text": [
      "280it [00:01, 152.58it/s]\n",
      "120it [00:00, 1745.58it/s]\n",
      "15it [00:00, 146.04it/s]"
     ]
    },
    {
     "name": "stdout",
     "output_type": "stream",
     "text": [
      "Epoch: 568 | Time: 0m 1s\tTrain Loss: 0.527 | Test Loss: 200.803\n",
      "epoch start:  568\n",
      "training ...\n"
     ]
    },
    {
     "name": "stderr",
     "output_type": "stream",
     "text": [
      "280it [00:01, 151.01it/s]\n",
      "120it [00:00, 1744.17it/s]\n",
      "18it [00:00, 172.32it/s]"
     ]
    },
    {
     "name": "stdout",
     "output_type": "stream",
     "text": [
      "Epoch: 569 | Time: 0m 1s\tTrain Loss: 0.516 | Test Loss: 200.594\n",
      "epoch start:  569\n",
      "training ...\n"
     ]
    },
    {
     "name": "stderr",
     "output_type": "stream",
     "text": [
      "280it [00:01, 166.69it/s]\n",
      "120it [00:00, 1806.23it/s]\n",
      "15it [00:00, 148.56it/s]"
     ]
    },
    {
     "name": "stdout",
     "output_type": "stream",
     "text": [
      "Epoch: 570 | Time: 0m 1s\tTrain Loss: 0.517 | Test Loss: 201.176\n",
      "epoch start:  570\n",
      "training ...\n"
     ]
    },
    {
     "name": "stderr",
     "output_type": "stream",
     "text": [
      "280it [00:01, 148.46it/s]\n",
      "120it [00:00, 1840.79it/s]\n",
      "16it [00:00, 152.52it/s]"
     ]
    },
    {
     "name": "stdout",
     "output_type": "stream",
     "text": [
      "Epoch: 571 | Time: 0m 1s\tTrain Loss: 0.521 | Test Loss: 203.964\n",
      "epoch start:  571\n",
      "training ...\n"
     ]
    },
    {
     "name": "stderr",
     "output_type": "stream",
     "text": [
      "280it [00:01, 156.97it/s]\n",
      "120it [00:00, 1817.34it/s]\n",
      "17it [00:00, 162.25it/s]"
     ]
    },
    {
     "name": "stdout",
     "output_type": "stream",
     "text": [
      "Epoch: 572 | Time: 0m 1s\tTrain Loss: 0.518 | Test Loss: 202.243\n",
      "epoch start:  572\n",
      "training ...\n"
     ]
    },
    {
     "name": "stderr",
     "output_type": "stream",
     "text": [
      "280it [00:01, 149.85it/s]\n",
      "120it [00:00, 1716.22it/s]\n",
      "15it [00:00, 147.06it/s]"
     ]
    },
    {
     "name": "stdout",
     "output_type": "stream",
     "text": [
      "Epoch: 573 | Time: 0m 1s\tTrain Loss: 0.517 | Test Loss: 197.786\n",
      "epoch start:  573\n",
      "training ...\n"
     ]
    },
    {
     "name": "stderr",
     "output_type": "stream",
     "text": [
      "280it [00:01, 175.99it/s]\n",
      "120it [00:00, 1699.01it/s]\n",
      "16it [00:00, 153.32it/s]"
     ]
    },
    {
     "name": "stdout",
     "output_type": "stream",
     "text": [
      "Epoch: 574 | Time: 0m 1s\tTrain Loss: 0.512 | Test Loss: 199.067\n",
      "epoch start:  574\n",
      "training ...\n"
     ]
    },
    {
     "name": "stderr",
     "output_type": "stream",
     "text": [
      "280it [00:01, 155.09it/s]\n",
      "120it [00:00, 1742.78it/s]\n",
      "16it [00:00, 149.21it/s]"
     ]
    },
    {
     "name": "stdout",
     "output_type": "stream",
     "text": [
      "Epoch: 575 | Time: 0m 1s\tTrain Loss: 0.518 | Test Loss: 199.322\n",
      "epoch start:  575\n",
      "training ...\n"
     ]
    },
    {
     "name": "stderr",
     "output_type": "stream",
     "text": [
      "280it [00:01, 150.97it/s]\n",
      "120it [00:00, 1806.16it/s]\n",
      "16it [00:00, 158.47it/s]"
     ]
    },
    {
     "name": "stdout",
     "output_type": "stream",
     "text": [
      "Epoch: 576 | Time: 0m 1s\tTrain Loss: 0.521 | Test Loss: 204.649\n",
      "epoch start:  576\n",
      "training ...\n"
     ]
    },
    {
     "name": "stderr",
     "output_type": "stream",
     "text": [
      "280it [00:01, 160.31it/s]\n",
      "120it [00:00, 1716.75it/s]\n",
      "15it [00:00, 149.18it/s]"
     ]
    },
    {
     "name": "stdout",
     "output_type": "stream",
     "text": [
      "Epoch: 577 | Time: 0m 1s\tTrain Loss: 0.521 | Test Loss: 198.947\n",
      "epoch start:  577\n",
      "training ...\n"
     ]
    },
    {
     "name": "stderr",
     "output_type": "stream",
     "text": [
      "280it [00:01, 161.00it/s]\n",
      "120it [00:00, 1608.50it/s]\n",
      "17it [00:00, 161.86it/s]"
     ]
    },
    {
     "name": "stdout",
     "output_type": "stream",
     "text": [
      "Epoch: 578 | Time: 0m 1s\tTrain Loss: 0.516 | Test Loss: 200.188\n",
      "epoch start:  578\n",
      "training ...\n"
     ]
    },
    {
     "name": "stderr",
     "output_type": "stream",
     "text": [
      "280it [00:01, 154.10it/s]\n",
      "120it [00:00, 1801.74it/s]\n",
      "15it [00:00, 144.71it/s]"
     ]
    },
    {
     "name": "stdout",
     "output_type": "stream",
     "text": [
      "Epoch: 579 | Time: 0m 1s\tTrain Loss: 0.513 | Test Loss: 199.572\n",
      "epoch start:  579\n",
      "training ...\n"
     ]
    },
    {
     "name": "stderr",
     "output_type": "stream",
     "text": [
      "280it [00:01, 148.33it/s]\n",
      "120it [00:00, 1734.76it/s]\n",
      "17it [00:00, 167.14it/s]"
     ]
    },
    {
     "name": "stdout",
     "output_type": "stream",
     "text": [
      "Epoch: 580 | Time: 0m 1s\tTrain Loss: 0.526 | Test Loss: 201.699\n",
      "epoch start:  580\n",
      "training ...\n"
     ]
    },
    {
     "name": "stderr",
     "output_type": "stream",
     "text": [
      "280it [00:01, 162.90it/s]\n",
      "120it [00:00, 1702.27it/s]\n",
      "16it [00:00, 158.68it/s]"
     ]
    },
    {
     "name": "stdout",
     "output_type": "stream",
     "text": [
      "Epoch: 581 | Time: 0m 1s\tTrain Loss: 0.515 | Test Loss: 201.336\n",
      "epoch start:  581\n",
      "training ...\n"
     ]
    },
    {
     "name": "stderr",
     "output_type": "stream",
     "text": [
      "280it [00:01, 161.71it/s]\n",
      "120it [00:00, 1614.45it/s]\n",
      "19it [00:00, 185.79it/s]"
     ]
    },
    {
     "name": "stdout",
     "output_type": "stream",
     "text": [
      "Epoch: 582 | Time: 0m 1s\tTrain Loss: 0.514 | Test Loss: 202.008\n",
      "epoch start:  582\n",
      "training ...\n"
     ]
    },
    {
     "name": "stderr",
     "output_type": "stream",
     "text": [
      "280it [00:01, 160.00it/s]\n",
      "120it [00:00, 1727.44it/s]\n",
      "17it [00:00, 165.60it/s]"
     ]
    },
    {
     "name": "stdout",
     "output_type": "stream",
     "text": [
      "Epoch: 583 | Time: 0m 1s\tTrain Loss: 0.524 | Test Loss: 202.268\n",
      "epoch start:  583\n",
      "training ...\n"
     ]
    },
    {
     "name": "stderr",
     "output_type": "stream",
     "text": [
      "280it [00:01, 170.33it/s]\n",
      "120it [00:00, 1725.11it/s]\n",
      "17it [00:00, 166.39it/s]"
     ]
    },
    {
     "name": "stdout",
     "output_type": "stream",
     "text": [
      "Epoch: 584 | Time: 0m 1s\tTrain Loss: 0.523 | Test Loss: 201.958\n",
      "epoch start:  584\n",
      "training ...\n"
     ]
    },
    {
     "name": "stderr",
     "output_type": "stream",
     "text": [
      "280it [00:01, 165.95it/s]\n",
      "120it [00:00, 1473.36it/s]\n",
      "17it [00:00, 160.81it/s]"
     ]
    },
    {
     "name": "stdout",
     "output_type": "stream",
     "text": [
      "Epoch: 585 | Time: 0m 1s\tTrain Loss: 0.511 | Test Loss: 202.172\n",
      "epoch start:  585\n",
      "training ...\n"
     ]
    },
    {
     "name": "stderr",
     "output_type": "stream",
     "text": [
      "280it [00:01, 164.49it/s]\n",
      "120it [00:00, 1727.93it/s]\n",
      "16it [00:00, 156.23it/s]"
     ]
    },
    {
     "name": "stdout",
     "output_type": "stream",
     "text": [
      "Epoch: 586 | Time: 0m 1s\tTrain Loss: 0.523 | Test Loss: 200.885\n",
      "epoch start:  586\n",
      "training ...\n"
     ]
    },
    {
     "name": "stderr",
     "output_type": "stream",
     "text": [
      "280it [00:01, 162.87it/s]\n",
      "120it [00:00, 1803.76it/s]\n",
      "18it [00:00, 173.23it/s]"
     ]
    },
    {
     "name": "stdout",
     "output_type": "stream",
     "text": [
      "Epoch: 587 | Time: 0m 1s\tTrain Loss: 0.519 | Test Loss: 198.736\n",
      "epoch start:  587\n",
      "training ...\n"
     ]
    },
    {
     "name": "stderr",
     "output_type": "stream",
     "text": [
      "280it [00:01, 160.58it/s]\n",
      "120it [00:00, 1765.61it/s]\n",
      "17it [00:00, 165.99it/s]"
     ]
    },
    {
     "name": "stdout",
     "output_type": "stream",
     "text": [
      "Epoch: 588 | Time: 0m 1s\tTrain Loss: 0.512 | Test Loss: 200.861\n",
      "epoch start:  588\n",
      "training ...\n"
     ]
    },
    {
     "name": "stderr",
     "output_type": "stream",
     "text": [
      "280it [00:01, 159.65it/s]\n",
      "120it [00:00, 1780.28it/s]\n",
      "17it [00:00, 166.64it/s]"
     ]
    },
    {
     "name": "stdout",
     "output_type": "stream",
     "text": [
      "Epoch: 589 | Time: 0m 1s\tTrain Loss: 0.515 | Test Loss: 199.527\n",
      "epoch start:  589\n",
      "training ...\n"
     ]
    },
    {
     "name": "stderr",
     "output_type": "stream",
     "text": [
      "280it [00:01, 159.73it/s]\n",
      "120it [00:00, 1809.34it/s]\n",
      "18it [00:00, 167.68it/s]"
     ]
    },
    {
     "name": "stdout",
     "output_type": "stream",
     "text": [
      "Epoch: 590 | Time: 0m 1s\tTrain Loss: 0.514 | Test Loss: 195.352\n",
      "epoch start:  590\n",
      "training ...\n"
     ]
    },
    {
     "name": "stderr",
     "output_type": "stream",
     "text": [
      "280it [00:01, 158.47it/s]\n",
      "120it [00:00, 1704.22it/s]\n",
      "17it [00:00, 168.34it/s]"
     ]
    },
    {
     "name": "stdout",
     "output_type": "stream",
     "text": [
      "Epoch: 591 | Time: 0m 1s\tTrain Loss: 0.523 | Test Loss: 202.717\n",
      "epoch start:  591\n",
      "training ...\n"
     ]
    },
    {
     "name": "stderr",
     "output_type": "stream",
     "text": [
      "280it [00:01, 168.19it/s]\n",
      "120it [00:00, 1714.41it/s]\n",
      "17it [00:00, 166.11it/s]"
     ]
    },
    {
     "name": "stdout",
     "output_type": "stream",
     "text": [
      "Epoch: 592 | Time: 0m 1s\tTrain Loss: 0.512 | Test Loss: 199.311\n",
      "epoch start:  592\n",
      "training ...\n"
     ]
    },
    {
     "name": "stderr",
     "output_type": "stream",
     "text": [
      "280it [00:01, 160.70it/s]\n",
      "120it [00:00, 1676.07it/s]\n",
      "18it [00:00, 174.64it/s]"
     ]
    },
    {
     "name": "stdout",
     "output_type": "stream",
     "text": [
      "Epoch: 593 | Time: 0m 1s\tTrain Loss: 0.517 | Test Loss: 199.221\n",
      "epoch start:  593\n",
      "training ...\n"
     ]
    },
    {
     "name": "stderr",
     "output_type": "stream",
     "text": [
      "280it [00:01, 165.13it/s]\n",
      "120it [00:00, 1658.70it/s]\n",
      "19it [00:00, 183.13it/s]"
     ]
    },
    {
     "name": "stdout",
     "output_type": "stream",
     "text": [
      "Epoch: 594 | Time: 0m 1s\tTrain Loss: 0.519 | Test Loss: 197.250\n",
      "epoch start:  594\n",
      "training ...\n"
     ]
    },
    {
     "name": "stderr",
     "output_type": "stream",
     "text": [
      "280it [00:01, 158.66it/s]\n",
      "120it [00:00, 1613.79it/s]\n",
      "18it [00:00, 171.73it/s]"
     ]
    },
    {
     "name": "stdout",
     "output_type": "stream",
     "text": [
      "Epoch: 595 | Time: 0m 1s\tTrain Loss: 0.514 | Test Loss: 201.045\n",
      "epoch start:  595\n",
      "training ...\n"
     ]
    },
    {
     "name": "stderr",
     "output_type": "stream",
     "text": [
      "280it [00:01, 172.50it/s]\n",
      "120it [00:00, 1654.53it/s]\n",
      "16it [00:00, 156.88it/s]"
     ]
    },
    {
     "name": "stdout",
     "output_type": "stream",
     "text": [
      "Epoch: 596 | Time: 0m 1s\tTrain Loss: 0.511 | Test Loss: 199.362\n",
      "epoch start:  596\n",
      "training ...\n"
     ]
    },
    {
     "name": "stderr",
     "output_type": "stream",
     "text": [
      "280it [00:01, 161.70it/s]\n",
      "120it [00:00, 1627.88it/s]\n",
      "16it [00:00, 154.64it/s]"
     ]
    },
    {
     "name": "stdout",
     "output_type": "stream",
     "text": [
      "Epoch: 597 | Time: 0m 1s\tTrain Loss: 0.521 | Test Loss: 201.640\n",
      "epoch start:  597\n",
      "training ...\n"
     ]
    },
    {
     "name": "stderr",
     "output_type": "stream",
     "text": [
      "280it [00:01, 154.36it/s]\n",
      "120it [00:00, 1799.17it/s]\n",
      "18it [00:00, 173.87it/s]"
     ]
    },
    {
     "name": "stdout",
     "output_type": "stream",
     "text": [
      "Epoch: 598 | Time: 0m 1s\tTrain Loss: 0.512 | Test Loss: 197.894\n",
      "epoch start:  598\n",
      "training ...\n"
     ]
    },
    {
     "name": "stderr",
     "output_type": "stream",
     "text": [
      "280it [00:01, 169.86it/s]\n",
      "120it [00:00, 1503.20it/s]\n",
      "20it [00:00, 187.57it/s]"
     ]
    },
    {
     "name": "stdout",
     "output_type": "stream",
     "text": [
      "Epoch: 599 | Time: 0m 1s\tTrain Loss: 0.513 | Test Loss: 195.612\n",
      "epoch start:  599\n",
      "training ...\n"
     ]
    },
    {
     "name": "stderr",
     "output_type": "stream",
     "text": [
      "280it [00:01, 168.02it/s]\n",
      "120it [00:00, 1760.67it/s]\n",
      "15it [00:00, 147.32it/s]"
     ]
    },
    {
     "name": "stdout",
     "output_type": "stream",
     "text": [
      "Epoch: 600 | Time: 0m 1s\tTrain Loss: 0.513 | Test Loss: 199.051\n",
      "epoch start:  600\n",
      "training ...\n"
     ]
    },
    {
     "name": "stderr",
     "output_type": "stream",
     "text": [
      "280it [00:01, 162.96it/s]\n",
      "120it [00:00, 1592.96it/s]\n",
      "17it [00:00, 163.03it/s]"
     ]
    },
    {
     "name": "stdout",
     "output_type": "stream",
     "text": [
      "Epoch: 601 | Time: 0m 1s\tTrain Loss: 0.515 | Test Loss: 197.886\n",
      "epoch start:  601\n",
      "training ...\n"
     ]
    },
    {
     "name": "stderr",
     "output_type": "stream",
     "text": [
      "280it [00:01, 166.77it/s]\n",
      "120it [00:00, 1606.35it/s]\n",
      "17it [00:00, 161.01it/s]"
     ]
    },
    {
     "name": "stdout",
     "output_type": "stream",
     "text": [
      "Epoch: 602 | Time: 0m 1s\tTrain Loss: 0.512 | Test Loss: 199.350\n",
      "epoch start:  602\n",
      "training ...\n"
     ]
    },
    {
     "name": "stderr",
     "output_type": "stream",
     "text": [
      "280it [00:01, 163.82it/s]\n",
      "120it [00:00, 1684.50it/s]\n",
      "16it [00:00, 159.16it/s]"
     ]
    },
    {
     "name": "stdout",
     "output_type": "stream",
     "text": [
      "Epoch: 603 | Time: 0m 1s\tTrain Loss: 0.513 | Test Loss: 194.974\n",
      "epoch start:  603\n",
      "training ...\n"
     ]
    },
    {
     "name": "stderr",
     "output_type": "stream",
     "text": [
      "280it [00:01, 166.91it/s]\n",
      "120it [00:00, 1776.80it/s]\n",
      "14it [00:00, 136.23it/s]"
     ]
    },
    {
     "name": "stdout",
     "output_type": "stream",
     "text": [
      "Epoch: 604 | Time: 0m 1s\tTrain Loss: 0.517 | Test Loss: 199.358\n",
      "epoch start:  604\n",
      "training ...\n"
     ]
    },
    {
     "name": "stderr",
     "output_type": "stream",
     "text": [
      "280it [00:01, 149.63it/s]\n",
      "120it [00:00, 1597.25it/s]\n",
      "19it [00:00, 183.28it/s]"
     ]
    },
    {
     "name": "stdout",
     "output_type": "stream",
     "text": [
      "Epoch: 605 | Time: 0m 1s\tTrain Loss: 0.517 | Test Loss: 198.108\n",
      "epoch start:  605\n",
      "training ...\n"
     ]
    },
    {
     "name": "stderr",
     "output_type": "stream",
     "text": [
      "280it [00:01, 168.40it/s]\n",
      "120it [00:00, 1703.25it/s]\n",
      "17it [00:00, 169.42it/s]"
     ]
    },
    {
     "name": "stdout",
     "output_type": "stream",
     "text": [
      "Epoch: 606 | Time: 0m 1s\tTrain Loss: 0.507 | Test Loss: 199.197\n",
      "epoch start:  606\n",
      "training ...\n"
     ]
    },
    {
     "name": "stderr",
     "output_type": "stream",
     "text": [
      "280it [00:01, 171.12it/s]\n",
      "120it [00:00, 1692.67it/s]\n",
      "17it [00:00, 161.71it/s]"
     ]
    },
    {
     "name": "stdout",
     "output_type": "stream",
     "text": [
      "Epoch: 607 | Time: 0m 1s\tTrain Loss: 0.506 | Test Loss: 201.258\n",
      "epoch start:  607\n",
      "training ...\n"
     ]
    },
    {
     "name": "stderr",
     "output_type": "stream",
     "text": [
      "280it [00:01, 164.21it/s]\n",
      "120it [00:00, 1606.51it/s]\n",
      "16it [00:00, 156.99it/s]"
     ]
    },
    {
     "name": "stdout",
     "output_type": "stream",
     "text": [
      "Epoch: 608 | Time: 0m 1s\tTrain Loss: 0.516 | Test Loss: 194.657\n",
      "epoch start:  608\n",
      "training ...\n"
     ]
    },
    {
     "name": "stderr",
     "output_type": "stream",
     "text": [
      "280it [00:01, 157.03it/s]\n",
      "120it [00:00, 1634.28it/s]\n",
      "17it [00:00, 168.66it/s]"
     ]
    },
    {
     "name": "stdout",
     "output_type": "stream",
     "text": [
      "Epoch: 609 | Time: 0m 1s\tTrain Loss: 0.505 | Test Loss: 197.987\n",
      "epoch start:  609\n",
      "training ...\n"
     ]
    },
    {
     "name": "stderr",
     "output_type": "stream",
     "text": [
      "280it [00:01, 168.56it/s]\n",
      "120it [00:00, 1741.10it/s]\n",
      "17it [00:00, 169.93it/s]"
     ]
    },
    {
     "name": "stdout",
     "output_type": "stream",
     "text": [
      "Epoch: 610 | Time: 0m 1s\tTrain Loss: 0.518 | Test Loss: 199.801\n",
      "epoch start:  610\n",
      "training ...\n"
     ]
    },
    {
     "name": "stderr",
     "output_type": "stream",
     "text": [
      "280it [00:01, 162.90it/s]\n",
      "120it [00:00, 1768.93it/s]\n",
      "17it [00:00, 168.51it/s]"
     ]
    },
    {
     "name": "stdout",
     "output_type": "stream",
     "text": [
      "Epoch: 611 | Time: 0m 1s\tTrain Loss: 0.514 | Test Loss: 201.737\n",
      "epoch start:  611\n",
      "training ...\n"
     ]
    },
    {
     "name": "stderr",
     "output_type": "stream",
     "text": [
      "280it [00:01, 166.40it/s]\n",
      "120it [00:00, 1549.17it/s]\n",
      "15it [00:00, 147.02it/s]"
     ]
    },
    {
     "name": "stdout",
     "output_type": "stream",
     "text": [
      "Epoch: 612 | Time: 0m 1s\tTrain Loss: 0.524 | Test Loss: 196.524\n",
      "epoch start:  612\n",
      "training ...\n"
     ]
    },
    {
     "name": "stderr",
     "output_type": "stream",
     "text": [
      "280it [00:01, 157.53it/s]\n",
      "120it [00:00, 1780.30it/s]\n",
      "17it [00:00, 167.59it/s]"
     ]
    },
    {
     "name": "stdout",
     "output_type": "stream",
     "text": [
      "Epoch: 613 | Time: 0m 1s\tTrain Loss: 0.513 | Test Loss: 199.018\n",
      "epoch start:  613\n",
      "training ...\n"
     ]
    },
    {
     "name": "stderr",
     "output_type": "stream",
     "text": [
      "280it [00:01, 170.95it/s]\n",
      "120it [00:00, 1724.28it/s]\n",
      "18it [00:00, 171.56it/s]"
     ]
    },
    {
     "name": "stdout",
     "output_type": "stream",
     "text": [
      "Epoch: 614 | Time: 0m 1s\tTrain Loss: 0.507 | Test Loss: 199.123\n",
      "epoch start:  614\n",
      "training ...\n"
     ]
    },
    {
     "name": "stderr",
     "output_type": "stream",
     "text": [
      "280it [00:02, 137.50it/s]\n",
      "120it [00:00, 1682.32it/s]\n",
      "14it [00:00, 136.34it/s]"
     ]
    },
    {
     "name": "stdout",
     "output_type": "stream",
     "text": [
      "Epoch: 615 | Time: 0m 2s\tTrain Loss: 0.509 | Test Loss: 196.985\n",
      "epoch start:  615\n",
      "training ...\n"
     ]
    },
    {
     "name": "stderr",
     "output_type": "stream",
     "text": [
      "280it [00:02, 136.60it/s]\n",
      "120it [00:00, 1774.77it/s]\n",
      "14it [00:00, 131.29it/s]"
     ]
    },
    {
     "name": "stdout",
     "output_type": "stream",
     "text": [
      "Epoch: 616 | Time: 0m 2s\tTrain Loss: 0.511 | Test Loss: 200.582\n",
      "epoch start:  616\n",
      "training ...\n"
     ]
    },
    {
     "name": "stderr",
     "output_type": "stream",
     "text": [
      "280it [00:02, 138.80it/s]\n",
      "120it [00:00, 1775.51it/s]\n",
      "16it [00:00, 148.64it/s]"
     ]
    },
    {
     "name": "stdout",
     "output_type": "stream",
     "text": [
      "Epoch: 617 | Time: 0m 2s\tTrain Loss: 0.500 | Test Loss: 201.326\n",
      "epoch start:  617\n",
      "training ...\n"
     ]
    },
    {
     "name": "stderr",
     "output_type": "stream",
     "text": [
      "280it [00:02, 139.35it/s]\n",
      "120it [00:00, 1733.39it/s]\n",
      "16it [00:00, 152.69it/s]"
     ]
    },
    {
     "name": "stdout",
     "output_type": "stream",
     "text": [
      "Epoch: 618 | Time: 0m 2s\tTrain Loss: 0.512 | Test Loss: 196.225\n",
      "epoch start:  618\n",
      "training ...\n"
     ]
    },
    {
     "name": "stderr",
     "output_type": "stream",
     "text": [
      "280it [00:02, 139.45it/s]\n",
      "120it [00:00, 1746.99it/s]\n",
      "14it [00:00, 138.82it/s]"
     ]
    },
    {
     "name": "stdout",
     "output_type": "stream",
     "text": [
      "Epoch: 619 | Time: 0m 2s\tTrain Loss: 0.516 | Test Loss: 195.040\n",
      "epoch start:  619\n",
      "training ...\n"
     ]
    },
    {
     "name": "stderr",
     "output_type": "stream",
     "text": [
      "280it [00:02, 139.42it/s]\n",
      "120it [00:00, 1756.72it/s]\n",
      "15it [00:00, 140.83it/s]"
     ]
    },
    {
     "name": "stdout",
     "output_type": "stream",
     "text": [
      "Epoch: 620 | Time: 0m 2s\tTrain Loss: 0.507 | Test Loss: 199.635\n",
      "epoch start:  620\n",
      "training ...\n"
     ]
    },
    {
     "name": "stderr",
     "output_type": "stream",
     "text": [
      "280it [00:01, 144.53it/s]\n",
      "120it [00:00, 1775.92it/s]\n",
      "15it [00:00, 147.37it/s]"
     ]
    },
    {
     "name": "stdout",
     "output_type": "stream",
     "text": [
      "Epoch: 621 | Time: 0m 2s\tTrain Loss: 0.513 | Test Loss: 200.857\n",
      "epoch start:  621\n",
      "training ...\n"
     ]
    },
    {
     "name": "stderr",
     "output_type": "stream",
     "text": [
      "280it [00:02, 138.04it/s]\n",
      "120it [00:00, 1818.64it/s]\n",
      "14it [00:00, 134.21it/s]"
     ]
    },
    {
     "name": "stdout",
     "output_type": "stream",
     "text": [
      "Epoch: 622 | Time: 0m 2s\tTrain Loss: 0.511 | Test Loss: 200.260\n",
      "epoch start:  622\n",
      "training ...\n"
     ]
    },
    {
     "name": "stderr",
     "output_type": "stream",
     "text": [
      "280it [00:01, 146.20it/s]\n",
      "120it [00:00, 1791.24it/s]\n",
      "15it [00:00, 148.95it/s]"
     ]
    },
    {
     "name": "stdout",
     "output_type": "stream",
     "text": [
      "Epoch: 623 | Time: 0m 1s\tTrain Loss: 0.508 | Test Loss: 198.063\n",
      "epoch start:  623\n",
      "training ...\n"
     ]
    },
    {
     "name": "stderr",
     "output_type": "stream",
     "text": [
      "280it [00:01, 143.90it/s]\n",
      "120it [00:00, 1790.48it/s]\n",
      "14it [00:00, 138.34it/s]"
     ]
    },
    {
     "name": "stdout",
     "output_type": "stream",
     "text": [
      "Epoch: 624 | Time: 0m 2s\tTrain Loss: 0.514 | Test Loss: 198.745\n",
      "epoch start:  624\n",
      "training ...\n"
     ]
    },
    {
     "name": "stderr",
     "output_type": "stream",
     "text": [
      "280it [00:02, 139.26it/s]\n",
      "120it [00:00, 1796.46it/s]\n",
      "15it [00:00, 141.31it/s]"
     ]
    },
    {
     "name": "stdout",
     "output_type": "stream",
     "text": [
      "Epoch: 625 | Time: 0m 2s\tTrain Loss: 0.518 | Test Loss: 199.107\n",
      "epoch start:  625\n",
      "training ...\n"
     ]
    },
    {
     "name": "stderr",
     "output_type": "stream",
     "text": [
      "280it [00:02, 137.46it/s]\n",
      "120it [00:00, 1809.50it/s]\n",
      "15it [00:00, 145.01it/s]"
     ]
    },
    {
     "name": "stdout",
     "output_type": "stream",
     "text": [
      "Epoch: 626 | Time: 0m 2s\tTrain Loss: 0.506 | Test Loss: 196.935\n",
      "epoch start:  626\n",
      "training ...\n"
     ]
    },
    {
     "name": "stderr",
     "output_type": "stream",
     "text": [
      "280it [00:02, 138.64it/s]\n",
      "120it [00:00, 1769.13it/s]\n",
      "13it [00:00, 128.42it/s]"
     ]
    },
    {
     "name": "stdout",
     "output_type": "stream",
     "text": [
      "Epoch: 627 | Time: 0m 2s\tTrain Loss: 0.507 | Test Loss: 192.885\n",
      "epoch start:  627\n",
      "training ...\n"
     ]
    },
    {
     "name": "stderr",
     "output_type": "stream",
     "text": [
      "280it [00:02, 137.50it/s]\n",
      "120it [00:00, 1791.79it/s]\n",
      "14it [00:00, 137.92it/s]"
     ]
    },
    {
     "name": "stdout",
     "output_type": "stream",
     "text": [
      "Epoch: 628 | Time: 0m 2s\tTrain Loss: 0.504 | Test Loss: 195.847\n",
      "epoch start:  628\n",
      "training ...\n"
     ]
    },
    {
     "name": "stderr",
     "output_type": "stream",
     "text": [
      "280it [00:02, 138.49it/s]\n",
      "120it [00:00, 1723.61it/s]\n",
      "14it [00:00, 139.54it/s]"
     ]
    },
    {
     "name": "stdout",
     "output_type": "stream",
     "text": [
      "Epoch: 629 | Time: 0m 2s\tTrain Loss: 0.515 | Test Loss: 199.073\n",
      "epoch start:  629\n",
      "training ...\n"
     ]
    },
    {
     "name": "stderr",
     "output_type": "stream",
     "text": [
      "280it [00:01, 141.38it/s]\n",
      "120it [00:00, 1723.78it/s]\n",
      "15it [00:00, 140.27it/s]"
     ]
    },
    {
     "name": "stdout",
     "output_type": "stream",
     "text": [
      "Epoch: 630 | Time: 0m 2s\tTrain Loss: 0.503 | Test Loss: 198.466\n",
      "epoch start:  630\n",
      "training ...\n"
     ]
    },
    {
     "name": "stderr",
     "output_type": "stream",
     "text": [
      "280it [00:01, 147.51it/s]\n",
      "120it [00:00, 1775.52it/s]\n",
      "15it [00:00, 142.12it/s]"
     ]
    },
    {
     "name": "stdout",
     "output_type": "stream",
     "text": [
      "Epoch: 631 | Time: 0m 1s\tTrain Loss: 0.514 | Test Loss: 198.027\n",
      "epoch start:  631\n",
      "training ...\n"
     ]
    },
    {
     "name": "stderr",
     "output_type": "stream",
     "text": [
      "280it [00:01, 140.05it/s]\n",
      "120it [00:00, 1806.99it/s]\n",
      "14it [00:00, 130.69it/s]"
     ]
    },
    {
     "name": "stdout",
     "output_type": "stream",
     "text": [
      "Epoch: 632 | Time: 0m 2s\tTrain Loss: 0.519 | Test Loss: 197.490\n",
      "epoch start:  632\n",
      "training ...\n"
     ]
    },
    {
     "name": "stderr",
     "output_type": "stream",
     "text": [
      "280it [00:02, 138.52it/s]\n",
      "120it [00:00, 1732.23it/s]\n",
      "18it [00:00, 170.43it/s]"
     ]
    },
    {
     "name": "stdout",
     "output_type": "stream",
     "text": [
      "Epoch: 633 | Time: 0m 2s\tTrain Loss: 0.514 | Test Loss: 195.659\n",
      "epoch start:  633\n",
      "training ...\n"
     ]
    },
    {
     "name": "stderr",
     "output_type": "stream",
     "text": [
      "280it [00:01, 141.84it/s]\n",
      "120it [00:00, 1759.63it/s]\n",
      "12it [00:00, 116.57it/s]"
     ]
    },
    {
     "name": "stdout",
     "output_type": "stream",
     "text": [
      "Epoch: 634 | Time: 0m 2s\tTrain Loss: 0.508 | Test Loss: 196.260\n",
      "epoch start:  634\n",
      "training ...\n"
     ]
    },
    {
     "name": "stderr",
     "output_type": "stream",
     "text": [
      "280it [00:02, 138.02it/s]\n",
      "120it [00:00, 1781.44it/s]\n",
      "13it [00:00, 123.17it/s]"
     ]
    },
    {
     "name": "stdout",
     "output_type": "stream",
     "text": [
      "Epoch: 635 | Time: 0m 2s\tTrain Loss: 0.507 | Test Loss: 200.300\n",
      "epoch start:  635\n",
      "training ...\n"
     ]
    },
    {
     "name": "stderr",
     "output_type": "stream",
     "text": [
      "280it [00:02, 139.46it/s]\n",
      "120it [00:00, 1827.83it/s]\n",
      "14it [00:00, 137.22it/s]"
     ]
    },
    {
     "name": "stdout",
     "output_type": "stream",
     "text": [
      "Epoch: 636 | Time: 0m 2s\tTrain Loss: 0.505 | Test Loss: 199.258\n",
      "epoch start:  636\n",
      "training ...\n"
     ]
    },
    {
     "name": "stderr",
     "output_type": "stream",
     "text": [
      "280it [00:01, 141.21it/s]\n",
      "120it [00:00, 1746.37it/s]\n",
      "15it [00:00, 143.57it/s]"
     ]
    },
    {
     "name": "stdout",
     "output_type": "stream",
     "text": [
      "Epoch: 637 | Time: 0m 2s\tTrain Loss: 0.510 | Test Loss: 195.702\n",
      "epoch start:  637\n",
      "training ...\n"
     ]
    },
    {
     "name": "stderr",
     "output_type": "stream",
     "text": [
      "280it [00:01, 143.00it/s]\n",
      "120it [00:00, 1739.53it/s]\n",
      "15it [00:00, 141.90it/s]"
     ]
    },
    {
     "name": "stdout",
     "output_type": "stream",
     "text": [
      "Epoch: 638 | Time: 0m 2s\tTrain Loss: 0.506 | Test Loss: 193.364\n",
      "epoch start:  638\n",
      "training ...\n"
     ]
    },
    {
     "name": "stderr",
     "output_type": "stream",
     "text": [
      "280it [00:02, 139.41it/s]\n",
      "120it [00:00, 1777.42it/s]\n",
      "15it [00:00, 140.05it/s]"
     ]
    },
    {
     "name": "stdout",
     "output_type": "stream",
     "text": [
      "Epoch: 639 | Time: 0m 2s\tTrain Loss: 0.503 | Test Loss: 198.511\n",
      "epoch start:  639\n",
      "training ...\n"
     ]
    },
    {
     "name": "stderr",
     "output_type": "stream",
     "text": [
      "280it [00:02, 139.39it/s]\n",
      "120it [00:00, 1802.66it/s]\n",
      "14it [00:00, 138.63it/s]"
     ]
    },
    {
     "name": "stdout",
     "output_type": "stream",
     "text": [
      "Epoch: 640 | Time: 0m 2s\tTrain Loss: 0.506 | Test Loss: 196.201\n",
      "epoch start:  640\n",
      "training ...\n"
     ]
    },
    {
     "name": "stderr",
     "output_type": "stream",
     "text": [
      "280it [00:01, 140.19it/s]\n",
      "120it [00:00, 1715.67it/s]\n",
      "15it [00:00, 148.58it/s]"
     ]
    },
    {
     "name": "stdout",
     "output_type": "stream",
     "text": [
      "Epoch: 641 | Time: 0m 2s\tTrain Loss: 0.508 | Test Loss: 194.508\n",
      "epoch start:  641\n",
      "training ...\n"
     ]
    },
    {
     "name": "stderr",
     "output_type": "stream",
     "text": [
      "280it [00:01, 141.47it/s]\n",
      "120it [00:00, 1697.80it/s]\n",
      "14it [00:00, 137.88it/s]"
     ]
    },
    {
     "name": "stdout",
     "output_type": "stream",
     "text": [
      "Epoch: 642 | Time: 0m 2s\tTrain Loss: 0.505 | Test Loss: 196.108\n",
      "epoch start:  642\n",
      "training ...\n"
     ]
    },
    {
     "name": "stderr",
     "output_type": "stream",
     "text": [
      "280it [00:01, 149.73it/s]\n",
      "120it [00:00, 1821.63it/s]\n",
      "15it [00:00, 142.87it/s]"
     ]
    },
    {
     "name": "stdout",
     "output_type": "stream",
     "text": [
      "Epoch: 643 | Time: 0m 1s\tTrain Loss: 0.512 | Test Loss: 197.495\n",
      "epoch start:  643\n",
      "training ...\n"
     ]
    },
    {
     "name": "stderr",
     "output_type": "stream",
     "text": [
      "280it [00:01, 142.16it/s]\n",
      "120it [00:00, 1735.92it/s]\n",
      "15it [00:00, 142.50it/s]"
     ]
    },
    {
     "name": "stdout",
     "output_type": "stream",
     "text": [
      "Epoch: 644 | Time: 0m 2s\tTrain Loss: 0.497 | Test Loss: 194.206\n",
      "epoch start:  644\n",
      "training ...\n"
     ]
    },
    {
     "name": "stderr",
     "output_type": "stream",
     "text": [
      "280it [00:02, 138.45it/s]\n",
      "120it [00:00, 1798.14it/s]\n",
      "14it [00:00, 131.95it/s]"
     ]
    },
    {
     "name": "stdout",
     "output_type": "stream",
     "text": [
      "Epoch: 645 | Time: 0m 2s\tTrain Loss: 0.505 | Test Loss: 197.153\n",
      "epoch start:  645\n",
      "training ...\n"
     ]
    },
    {
     "name": "stderr",
     "output_type": "stream",
     "text": [
      "280it [00:01, 140.08it/s]\n",
      "120it [00:00, 1789.14it/s]\n",
      "15it [00:00, 145.45it/s]"
     ]
    },
    {
     "name": "stdout",
     "output_type": "stream",
     "text": [
      "Epoch: 646 | Time: 0m 2s\tTrain Loss: 0.504 | Test Loss: 198.136\n",
      "epoch start:  646\n",
      "training ...\n"
     ]
    },
    {
     "name": "stderr",
     "output_type": "stream",
     "text": [
      "280it [00:02, 138.58it/s]\n",
      "120it [00:00, 1765.98it/s]\n",
      "14it [00:00, 137.79it/s]"
     ]
    },
    {
     "name": "stdout",
     "output_type": "stream",
     "text": [
      "Epoch: 647 | Time: 0m 2s\tTrain Loss: 0.509 | Test Loss: 196.061\n",
      "epoch start:  647\n",
      "training ...\n"
     ]
    },
    {
     "name": "stderr",
     "output_type": "stream",
     "text": [
      "280it [00:02, 139.91it/s]\n",
      "120it [00:00, 1801.83it/s]\n",
      "14it [00:00, 135.84it/s]"
     ]
    },
    {
     "name": "stdout",
     "output_type": "stream",
     "text": [
      "Epoch: 648 | Time: 0m 2s\tTrain Loss: 0.501 | Test Loss: 198.508\n",
      "epoch start:  648\n",
      "training ...\n"
     ]
    },
    {
     "name": "stderr",
     "output_type": "stream",
     "text": [
      "280it [00:02, 139.47it/s]\n",
      "120it [00:00, 1780.58it/s]\n",
      "16it [00:00, 149.07it/s]"
     ]
    },
    {
     "name": "stdout",
     "output_type": "stream",
     "text": [
      "Epoch: 649 | Time: 0m 2s\tTrain Loss: 0.504 | Test Loss: 198.370\n",
      "epoch start:  649\n",
      "training ...\n"
     ]
    },
    {
     "name": "stderr",
     "output_type": "stream",
     "text": [
      "280it [00:02, 139.18it/s]\n",
      "120it [00:00, 1786.32it/s]\n",
      "15it [00:00, 145.89it/s]"
     ]
    },
    {
     "name": "stdout",
     "output_type": "stream",
     "text": [
      "Epoch: 650 | Time: 0m 2s\tTrain Loss: 0.507 | Test Loss: 193.003\n",
      "epoch start:  650\n",
      "training ...\n"
     ]
    },
    {
     "name": "stderr",
     "output_type": "stream",
     "text": [
      "280it [00:02, 139.51it/s]\n",
      "120it [00:00, 1786.01it/s]\n",
      "15it [00:00, 146.84it/s]"
     ]
    },
    {
     "name": "stdout",
     "output_type": "stream",
     "text": [
      "Epoch: 651 | Time: 0m 2s\tTrain Loss: 0.510 | Test Loss: 196.033\n",
      "epoch start:  651\n",
      "training ...\n"
     ]
    },
    {
     "name": "stderr",
     "output_type": "stream",
     "text": [
      "280it [00:02, 137.06it/s]\n",
      "120it [00:00, 1798.56it/s]\n",
      "16it [00:00, 153.58it/s]"
     ]
    },
    {
     "name": "stdout",
     "output_type": "stream",
     "text": [
      "Epoch: 652 | Time: 0m 2s\tTrain Loss: 0.511 | Test Loss: 195.790\n",
      "epoch start:  652\n",
      "training ...\n"
     ]
    },
    {
     "name": "stderr",
     "output_type": "stream",
     "text": [
      "280it [00:01, 140.79it/s]\n",
      "120it [00:00, 1781.67it/s]\n",
      "16it [00:00, 149.33it/s]"
     ]
    },
    {
     "name": "stdout",
     "output_type": "stream",
     "text": [
      "Epoch: 653 | Time: 0m 2s\tTrain Loss: 0.510 | Test Loss: 193.585\n",
      "epoch start:  653\n",
      "training ...\n"
     ]
    },
    {
     "name": "stderr",
     "output_type": "stream",
     "text": [
      "280it [00:01, 150.76it/s]\n",
      "120it [00:00, 1660.39it/s]\n",
      "16it [00:00, 148.72it/s]"
     ]
    },
    {
     "name": "stdout",
     "output_type": "stream",
     "text": [
      "Epoch: 654 | Time: 0m 1s\tTrain Loss: 0.496 | Test Loss: 198.510\n",
      "epoch start:  654\n",
      "training ...\n"
     ]
    },
    {
     "name": "stderr",
     "output_type": "stream",
     "text": [
      "280it [00:01, 143.42it/s]\n",
      "120it [00:00, 1799.34it/s]\n",
      "15it [00:00, 140.75it/s]"
     ]
    },
    {
     "name": "stdout",
     "output_type": "stream",
     "text": [
      "Epoch: 655 | Time: 0m 2s\tTrain Loss: 0.510 | Test Loss: 195.576\n",
      "epoch start:  655\n",
      "training ...\n"
     ]
    },
    {
     "name": "stderr",
     "output_type": "stream",
     "text": [
      "280it [00:02, 139.46it/s]\n",
      "120it [00:00, 1754.74it/s]\n",
      "14it [00:00, 139.67it/s]"
     ]
    },
    {
     "name": "stdout",
     "output_type": "stream",
     "text": [
      "Epoch: 656 | Time: 0m 2s\tTrain Loss: 0.508 | Test Loss: 195.830\n",
      "epoch start:  656\n",
      "training ...\n"
     ]
    },
    {
     "name": "stderr",
     "output_type": "stream",
     "text": [
      "280it [00:02, 139.70it/s]\n",
      "120it [00:00, 1772.73it/s]\n",
      "15it [00:00, 145.08it/s]"
     ]
    },
    {
     "name": "stdout",
     "output_type": "stream",
     "text": [
      "Epoch: 657 | Time: 0m 2s\tTrain Loss: 0.504 | Test Loss: 195.411\n",
      "epoch start:  657\n",
      "training ...\n"
     ]
    },
    {
     "name": "stderr",
     "output_type": "stream",
     "text": [
      "280it [00:01, 143.98it/s]\n",
      "120it [00:00, 1761.21it/s]\n",
      "15it [00:00, 142.20it/s]"
     ]
    },
    {
     "name": "stdout",
     "output_type": "stream",
     "text": [
      "Epoch: 658 | Time: 0m 2s\tTrain Loss: 0.505 | Test Loss: 194.180\n",
      "epoch start:  658\n",
      "training ...\n"
     ]
    },
    {
     "name": "stderr",
     "output_type": "stream",
     "text": [
      "280it [00:02, 138.79it/s]\n",
      "120it [00:00, 1779.67it/s]\n",
      "16it [00:00, 143.78it/s]"
     ]
    },
    {
     "name": "stdout",
     "output_type": "stream",
     "text": [
      "Epoch: 659 | Time: 0m 2s\tTrain Loss: 0.499 | Test Loss: 197.792\n",
      "epoch start:  659\n",
      "training ...\n"
     ]
    },
    {
     "name": "stderr",
     "output_type": "stream",
     "text": [
      "280it [00:02, 139.59it/s]\n",
      "120it [00:00, 1796.52it/s]\n",
      "15it [00:00, 140.80it/s]"
     ]
    },
    {
     "name": "stdout",
     "output_type": "stream",
     "text": [
      "Epoch: 660 | Time: 0m 2s\tTrain Loss: 0.503 | Test Loss: 195.499\n",
      "epoch start:  660\n",
      "training ...\n"
     ]
    },
    {
     "name": "stderr",
     "output_type": "stream",
     "text": [
      "280it [00:02, 136.34it/s]\n",
      "120it [00:00, 1788.90it/s]\n",
      "14it [00:00, 137.58it/s]"
     ]
    },
    {
     "name": "stdout",
     "output_type": "stream",
     "text": [
      "Epoch: 661 | Time: 0m 2s\tTrain Loss: 0.495 | Test Loss: 191.551\n",
      "epoch start:  661\n",
      "training ...\n"
     ]
    },
    {
     "name": "stderr",
     "output_type": "stream",
     "text": [
      "280it [00:01, 141.11it/s]\n",
      "120it [00:00, 1796.30it/s]\n",
      "15it [00:00, 145.45it/s]"
     ]
    },
    {
     "name": "stdout",
     "output_type": "stream",
     "text": [
      "Epoch: 662 | Time: 0m 2s\tTrain Loss: 0.501 | Test Loss: 193.149\n",
      "epoch start:  662\n",
      "training ...\n"
     ]
    },
    {
     "name": "stderr",
     "output_type": "stream",
     "text": [
      "280it [00:02, 138.14it/s]\n",
      "120it [00:00, 1831.01it/s]\n",
      "15it [00:00, 146.24it/s]"
     ]
    },
    {
     "name": "stdout",
     "output_type": "stream",
     "text": [
      "Epoch: 663 | Time: 0m 2s\tTrain Loss: 0.498 | Test Loss: 193.764\n",
      "epoch start:  663\n",
      "training ...\n"
     ]
    },
    {
     "name": "stderr",
     "output_type": "stream",
     "text": [
      "280it [00:01, 140.02it/s]\n",
      "120it [00:00, 1766.83it/s]\n",
      "15it [00:00, 141.76it/s]"
     ]
    },
    {
     "name": "stdout",
     "output_type": "stream",
     "text": [
      "Epoch: 664 | Time: 0m 2s\tTrain Loss: 0.500 | Test Loss: 196.836\n",
      "epoch start:  664\n",
      "training ...\n"
     ]
    },
    {
     "name": "stderr",
     "output_type": "stream",
     "text": [
      "280it [00:02, 138.82it/s]\n",
      "120it [00:00, 1823.01it/s]\n",
      "14it [00:00, 134.14it/s]"
     ]
    },
    {
     "name": "stdout",
     "output_type": "stream",
     "text": [
      "Epoch: 665 | Time: 0m 2s\tTrain Loss: 0.503 | Test Loss: 191.392\n",
      "epoch start:  665\n",
      "training ...\n"
     ]
    },
    {
     "name": "stderr",
     "output_type": "stream",
     "text": [
      "280it [00:02, 138.42it/s]\n",
      "120it [00:00, 1752.84it/s]\n",
      "16it [00:00, 151.43it/s]"
     ]
    },
    {
     "name": "stdout",
     "output_type": "stream",
     "text": [
      "Epoch: 666 | Time: 0m 2s\tTrain Loss: 0.511 | Test Loss: 195.437\n",
      "epoch start:  666\n",
      "training ...\n"
     ]
    },
    {
     "name": "stderr",
     "output_type": "stream",
     "text": [
      "280it [00:01, 144.83it/s]\n",
      "120it [00:00, 1794.34it/s]\n",
      "14it [00:00, 138.92it/s]"
     ]
    },
    {
     "name": "stdout",
     "output_type": "stream",
     "text": [
      "Epoch: 667 | Time: 0m 2s\tTrain Loss: 0.511 | Test Loss: 195.104\n",
      "epoch start:  667\n",
      "training ...\n"
     ]
    },
    {
     "name": "stderr",
     "output_type": "stream",
     "text": [
      "280it [00:01, 146.51it/s]\n",
      "120it [00:00, 1697.20it/s]\n",
      "17it [00:00, 166.59it/s]"
     ]
    },
    {
     "name": "stdout",
     "output_type": "stream",
     "text": [
      "Epoch: 668 | Time: 0m 1s\tTrain Loss: 0.499 | Test Loss: 198.950\n",
      "epoch start:  668\n",
      "training ...\n"
     ]
    },
    {
     "name": "stderr",
     "output_type": "stream",
     "text": [
      "280it [00:01, 153.52it/s]\n",
      "120it [00:00, 1732.49it/s]\n",
      "17it [00:00, 162.51it/s]"
     ]
    },
    {
     "name": "stdout",
     "output_type": "stream",
     "text": [
      "Epoch: 669 | Time: 0m 1s\tTrain Loss: 0.493 | Test Loss: 198.274\n",
      "epoch start:  669\n",
      "training ...\n"
     ]
    },
    {
     "name": "stderr",
     "output_type": "stream",
     "text": [
      "280it [00:01, 154.87it/s]\n",
      "120it [00:00, 1668.42it/s]\n",
      "20it [00:00, 195.11it/s]"
     ]
    },
    {
     "name": "stdout",
     "output_type": "stream",
     "text": [
      "Epoch: 670 | Time: 0m 1s\tTrain Loss: 0.500 | Test Loss: 192.026\n",
      "epoch start:  670\n",
      "training ...\n"
     ]
    },
    {
     "name": "stderr",
     "output_type": "stream",
     "text": [
      "280it [00:01, 163.22it/s]\n",
      "120it [00:00, 1672.59it/s]\n",
      "15it [00:00, 149.72it/s]"
     ]
    },
    {
     "name": "stdout",
     "output_type": "stream",
     "text": [
      "Epoch: 671 | Time: 0m 1s\tTrain Loss: 0.506 | Test Loss: 194.823\n",
      "epoch start:  671\n",
      "training ...\n"
     ]
    },
    {
     "name": "stderr",
     "output_type": "stream",
     "text": [
      "280it [00:01, 169.29it/s]\n",
      "120it [00:00, 1540.79it/s]\n",
      "16it [00:00, 155.70it/s]"
     ]
    },
    {
     "name": "stdout",
     "output_type": "stream",
     "text": [
      "Epoch: 672 | Time: 0m 1s\tTrain Loss: 0.505 | Test Loss: 193.218\n",
      "epoch start:  672\n",
      "training ...\n"
     ]
    },
    {
     "name": "stderr",
     "output_type": "stream",
     "text": [
      "280it [00:01, 168.10it/s]\n",
      "120it [00:00, 1576.63it/s]\n",
      "18it [00:00, 173.73it/s]"
     ]
    },
    {
     "name": "stdout",
     "output_type": "stream",
     "text": [
      "Epoch: 673 | Time: 0m 1s\tTrain Loss: 0.505 | Test Loss: 193.829\n",
      "epoch start:  673\n",
      "training ...\n"
     ]
    },
    {
     "name": "stderr",
     "output_type": "stream",
     "text": [
      "280it [00:01, 165.23it/s]\n",
      "120it [00:00, 1547.02it/s]\n",
      "17it [00:00, 167.10it/s]"
     ]
    },
    {
     "name": "stdout",
     "output_type": "stream",
     "text": [
      "Epoch: 674 | Time: 0m 1s\tTrain Loss: 0.491 | Test Loss: 200.947\n",
      "epoch start:  674\n",
      "training ...\n"
     ]
    },
    {
     "name": "stderr",
     "output_type": "stream",
     "text": [
      "280it [00:01, 180.94it/s]\n",
      "120it [00:00, 1660.90it/s]\n",
      "18it [00:00, 175.88it/s]"
     ]
    },
    {
     "name": "stdout",
     "output_type": "stream",
     "text": [
      "Epoch: 675 | Time: 0m 1s\tTrain Loss: 0.500 | Test Loss: 192.494\n",
      "epoch start:  675\n",
      "training ...\n"
     ]
    },
    {
     "name": "stderr",
     "output_type": "stream",
     "text": [
      "280it [00:01, 179.93it/s]\n",
      "120it [00:00, 1585.26it/s]\n",
      "18it [00:00, 172.38it/s]"
     ]
    },
    {
     "name": "stdout",
     "output_type": "stream",
     "text": [
      "Epoch: 676 | Time: 0m 1s\tTrain Loss: 0.501 | Test Loss: 194.583\n",
      "epoch start:  676\n",
      "training ...\n"
     ]
    },
    {
     "name": "stderr",
     "output_type": "stream",
     "text": [
      "280it [00:01, 180.26it/s]\n",
      "120it [00:00, 1759.25it/s]\n",
      "20it [00:00, 192.21it/s]"
     ]
    },
    {
     "name": "stdout",
     "output_type": "stream",
     "text": [
      "Epoch: 677 | Time: 0m 1s\tTrain Loss: 0.496 | Test Loss: 199.314\n",
      "epoch start:  677\n",
      "training ...\n"
     ]
    },
    {
     "name": "stderr",
     "output_type": "stream",
     "text": [
      "280it [00:01, 181.78it/s]\n",
      "120it [00:00, 1744.82it/s]\n",
      "17it [00:00, 165.20it/s]"
     ]
    },
    {
     "name": "stdout",
     "output_type": "stream",
     "text": [
      "Epoch: 678 | Time: 0m 1s\tTrain Loss: 0.511 | Test Loss: 193.729\n",
      "epoch start:  678\n",
      "training ...\n"
     ]
    },
    {
     "name": "stderr",
     "output_type": "stream",
     "text": [
      "280it [00:01, 163.29it/s]\n",
      "120it [00:00, 1642.13it/s]\n",
      "21it [00:00, 202.00it/s]"
     ]
    },
    {
     "name": "stdout",
     "output_type": "stream",
     "text": [
      "Epoch: 679 | Time: 0m 1s\tTrain Loss: 0.495 | Test Loss: 193.432\n",
      "epoch start:  679\n",
      "training ...\n"
     ]
    },
    {
     "name": "stderr",
     "output_type": "stream",
     "text": [
      "280it [00:01, 179.34it/s]\n",
      "120it [00:00, 1564.34it/s]\n",
      "18it [00:00, 173.41it/s]"
     ]
    },
    {
     "name": "stdout",
     "output_type": "stream",
     "text": [
      "Epoch: 680 | Time: 0m 1s\tTrain Loss: 0.493 | Test Loss: 192.438\n",
      "epoch start:  680\n",
      "training ...\n"
     ]
    },
    {
     "name": "stderr",
     "output_type": "stream",
     "text": [
      "280it [00:01, 170.15it/s]\n",
      "120it [00:00, 1592.88it/s]\n",
      "17it [00:00, 168.27it/s]"
     ]
    },
    {
     "name": "stdout",
     "output_type": "stream",
     "text": [
      "Epoch: 681 | Time: 0m 1s\tTrain Loss: 0.507 | Test Loss: 192.860\n",
      "epoch start:  681\n",
      "training ...\n"
     ]
    },
    {
     "name": "stderr",
     "output_type": "stream",
     "text": [
      "280it [00:01, 180.01it/s]\n",
      "120it [00:00, 1628.89it/s]\n",
      "15it [00:00, 140.94it/s]"
     ]
    },
    {
     "name": "stdout",
     "output_type": "stream",
     "text": [
      "Epoch: 682 | Time: 0m 1s\tTrain Loss: 0.501 | Test Loss: 199.013\n",
      "epoch start:  682\n",
      "training ...\n"
     ]
    },
    {
     "name": "stderr",
     "output_type": "stream",
     "text": [
      "280it [00:01, 142.32it/s]\n",
      "120it [00:00, 1607.95it/s]\n",
      "16it [00:00, 157.03it/s]"
     ]
    },
    {
     "name": "stdout",
     "output_type": "stream",
     "text": [
      "Epoch: 683 | Time: 0m 2s\tTrain Loss: 0.497 | Test Loss: 196.692\n",
      "epoch start:  683\n",
      "training ...\n"
     ]
    },
    {
     "name": "stderr",
     "output_type": "stream",
     "text": [
      "280it [00:02, 138.57it/s]\n",
      "120it [00:00, 1729.91it/s]\n",
      "14it [00:00, 133.30it/s]"
     ]
    },
    {
     "name": "stdout",
     "output_type": "stream",
     "text": [
      "Epoch: 684 | Time: 0m 2s\tTrain Loss: 0.508 | Test Loss: 197.122\n",
      "epoch start:  684\n",
      "training ...\n"
     ]
    },
    {
     "name": "stderr",
     "output_type": "stream",
     "text": [
      "280it [00:01, 144.33it/s]\n",
      "120it [00:00, 1723.14it/s]\n",
      "14it [00:00, 134.33it/s]"
     ]
    },
    {
     "name": "stdout",
     "output_type": "stream",
     "text": [
      "Epoch: 685 | Time: 0m 2s\tTrain Loss: 0.491 | Test Loss: 191.159\n",
      "epoch start:  685\n",
      "training ...\n"
     ]
    },
    {
     "name": "stderr",
     "output_type": "stream",
     "text": [
      "280it [00:01, 144.23it/s]\n",
      "120it [00:00, 1703.32it/s]\n",
      "15it [00:00, 144.72it/s]"
     ]
    },
    {
     "name": "stdout",
     "output_type": "stream",
     "text": [
      "Epoch: 686 | Time: 0m 2s\tTrain Loss: 0.501 | Test Loss: 190.753\n",
      "epoch start:  686\n",
      "training ...\n"
     ]
    },
    {
     "name": "stderr",
     "output_type": "stream",
     "text": [
      "280it [00:01, 144.19it/s]\n",
      "120it [00:00, 1682.34it/s]\n",
      "15it [00:00, 141.77it/s]"
     ]
    },
    {
     "name": "stdout",
     "output_type": "stream",
     "text": [
      "Epoch: 687 | Time: 0m 2s\tTrain Loss: 0.494 | Test Loss: 193.755\n",
      "epoch start:  687\n",
      "training ...\n"
     ]
    },
    {
     "name": "stderr",
     "output_type": "stream",
     "text": [
      "280it [00:01, 143.95it/s]\n",
      "120it [00:00, 1688.41it/s]\n",
      "16it [00:00, 150.38it/s]"
     ]
    },
    {
     "name": "stdout",
     "output_type": "stream",
     "text": [
      "Epoch: 688 | Time: 0m 2s\tTrain Loss: 0.503 | Test Loss: 196.113\n",
      "epoch start:  688\n",
      "training ...\n"
     ]
    },
    {
     "name": "stderr",
     "output_type": "stream",
     "text": [
      "280it [00:01, 143.53it/s]\n",
      "120it [00:00, 1720.18it/s]\n",
      "14it [00:00, 137.58it/s]"
     ]
    },
    {
     "name": "stdout",
     "output_type": "stream",
     "text": [
      "Epoch: 689 | Time: 0m 2s\tTrain Loss: 0.499 | Test Loss: 194.073\n",
      "epoch start:  689\n",
      "training ...\n"
     ]
    },
    {
     "name": "stderr",
     "output_type": "stream",
     "text": [
      "280it [00:02, 139.76it/s]\n",
      "120it [00:00, 1723.19it/s]\n",
      "16it [00:00, 151.86it/s]"
     ]
    },
    {
     "name": "stdout",
     "output_type": "stream",
     "text": [
      "Epoch: 690 | Time: 0m 2s\tTrain Loss: 0.512 | Test Loss: 193.600\n",
      "epoch start:  690\n",
      "training ...\n"
     ]
    },
    {
     "name": "stderr",
     "output_type": "stream",
     "text": [
      "280it [00:01, 141.41it/s]\n",
      "120it [00:00, 1716.40it/s]\n",
      "16it [00:00, 155.06it/s]"
     ]
    },
    {
     "name": "stdout",
     "output_type": "stream",
     "text": [
      "Epoch: 691 | Time: 0m 2s\tTrain Loss: 0.495 | Test Loss: 194.463\n",
      "epoch start:  691\n",
      "training ...\n"
     ]
    },
    {
     "name": "stderr",
     "output_type": "stream",
     "text": [
      "280it [00:01, 142.82it/s]\n",
      "120it [00:00, 1778.81it/s]\n",
      "15it [00:00, 142.82it/s]"
     ]
    },
    {
     "name": "stdout",
     "output_type": "stream",
     "text": [
      "Epoch: 692 | Time: 0m 2s\tTrain Loss: 0.496 | Test Loss: 195.860\n",
      "epoch start:  692\n",
      "training ...\n"
     ]
    },
    {
     "name": "stderr",
     "output_type": "stream",
     "text": [
      "280it [00:01, 140.60it/s]\n",
      "120it [00:00, 1713.76it/s]\n",
      "15it [00:00, 140.90it/s]"
     ]
    },
    {
     "name": "stdout",
     "output_type": "stream",
     "text": [
      "Epoch: 693 | Time: 0m 2s\tTrain Loss: 0.495 | Test Loss: 195.943\n",
      "epoch start:  693\n",
      "training ...\n"
     ]
    },
    {
     "name": "stderr",
     "output_type": "stream",
     "text": [
      "280it [00:01, 142.70it/s]\n",
      "120it [00:00, 1717.75it/s]\n",
      "15it [00:00, 143.04it/s]"
     ]
    },
    {
     "name": "stdout",
     "output_type": "stream",
     "text": [
      "Epoch: 694 | Time: 0m 2s\tTrain Loss: 0.493 | Test Loss: 194.285\n",
      "epoch start:  694\n",
      "training ...\n"
     ]
    },
    {
     "name": "stderr",
     "output_type": "stream",
     "text": [
      "280it [00:01, 142.13it/s]\n",
      "120it [00:00, 1718.52it/s]\n",
      "15it [00:00, 145.36it/s]"
     ]
    },
    {
     "name": "stdout",
     "output_type": "stream",
     "text": [
      "Epoch: 695 | Time: 0m 2s\tTrain Loss: 0.497 | Test Loss: 195.744\n",
      "epoch start:  695\n",
      "training ...\n"
     ]
    },
    {
     "name": "stderr",
     "output_type": "stream",
     "text": [
      "280it [00:01, 144.37it/s]\n",
      "120it [00:00, 1707.04it/s]\n",
      "15it [00:00, 143.03it/s]"
     ]
    },
    {
     "name": "stdout",
     "output_type": "stream",
     "text": [
      "Epoch: 696 | Time: 0m 2s\tTrain Loss: 0.497 | Test Loss: 195.622\n",
      "epoch start:  696\n",
      "training ...\n"
     ]
    },
    {
     "name": "stderr",
     "output_type": "stream",
     "text": [
      "280it [00:01, 148.10it/s]\n",
      "120it [00:00, 1712.17it/s]\n",
      "15it [00:00, 142.89it/s]"
     ]
    },
    {
     "name": "stdout",
     "output_type": "stream",
     "text": [
      "Epoch: 697 | Time: 0m 1s\tTrain Loss: 0.495 | Test Loss: 191.389\n",
      "epoch start:  697\n",
      "training ...\n"
     ]
    },
    {
     "name": "stderr",
     "output_type": "stream",
     "text": [
      "280it [00:01, 144.29it/s]\n",
      "120it [00:00, 1659.02it/s]\n",
      "15it [00:00, 147.09it/s]"
     ]
    },
    {
     "name": "stdout",
     "output_type": "stream",
     "text": [
      "Epoch: 698 | Time: 0m 2s\tTrain Loss: 0.491 | Test Loss: 192.390\n",
      "epoch start:  698\n",
      "training ...\n"
     ]
    },
    {
     "name": "stderr",
     "output_type": "stream",
     "text": [
      "280it [00:01, 141.84it/s]\n",
      "120it [00:00, 1666.99it/s]\n",
      "14it [00:00, 137.27it/s]"
     ]
    },
    {
     "name": "stdout",
     "output_type": "stream",
     "text": [
      "Epoch: 699 | Time: 0m 2s\tTrain Loss: 0.493 | Test Loss: 194.300\n",
      "epoch start:  699\n",
      "training ...\n"
     ]
    },
    {
     "name": "stderr",
     "output_type": "stream",
     "text": [
      "280it [00:01, 142.50it/s]\n",
      "120it [00:00, 1668.15it/s]\n",
      "15it [00:00, 140.17it/s]"
     ]
    },
    {
     "name": "stdout",
     "output_type": "stream",
     "text": [
      "Epoch: 700 | Time: 0m 2s\tTrain Loss: 0.500 | Test Loss: 194.686\n",
      "epoch start:  700\n",
      "training ...\n"
     ]
    },
    {
     "name": "stderr",
     "output_type": "stream",
     "text": [
      "280it [00:01, 140.24it/s]\n",
      "120it [00:00, 1668.73it/s]\n",
      "14it [00:00, 139.79it/s]"
     ]
    },
    {
     "name": "stdout",
     "output_type": "stream",
     "text": [
      "Epoch: 701 | Time: 0m 2s\tTrain Loss: 0.496 | Test Loss: 194.459\n",
      "epoch start:  701\n",
      "training ...\n"
     ]
    },
    {
     "name": "stderr",
     "output_type": "stream",
     "text": [
      "280it [00:01, 142.15it/s]\n",
      "120it [00:00, 1720.92it/s]\n",
      "15it [00:00, 143.32it/s]"
     ]
    },
    {
     "name": "stdout",
     "output_type": "stream",
     "text": [
      "Epoch: 702 | Time: 0m 2s\tTrain Loss: 0.493 | Test Loss: 194.395\n",
      "epoch start:  702\n",
      "training ...\n"
     ]
    },
    {
     "name": "stderr",
     "output_type": "stream",
     "text": [
      "280it [00:02, 139.68it/s]\n",
      "120it [00:00, 1703.41it/s]\n",
      "15it [00:00, 142.20it/s]"
     ]
    },
    {
     "name": "stdout",
     "output_type": "stream",
     "text": [
      "Epoch: 703 | Time: 0m 2s\tTrain Loss: 0.496 | Test Loss: 197.677\n",
      "epoch start:  703\n",
      "training ...\n"
     ]
    },
    {
     "name": "stderr",
     "output_type": "stream",
     "text": [
      "280it [00:02, 139.16it/s]\n",
      "120it [00:00, 1797.71it/s]\n",
      "15it [00:00, 142.81it/s]"
     ]
    },
    {
     "name": "stdout",
     "output_type": "stream",
     "text": [
      "Epoch: 704 | Time: 0m 2s\tTrain Loss: 0.494 | Test Loss: 193.046\n",
      "epoch start:  704\n",
      "training ...\n"
     ]
    },
    {
     "name": "stderr",
     "output_type": "stream",
     "text": [
      "280it [00:02, 137.19it/s]\n",
      "120it [00:00, 1752.02it/s]\n",
      "15it [00:00, 139.63it/s]"
     ]
    },
    {
     "name": "stdout",
     "output_type": "stream",
     "text": [
      "Epoch: 705 | Time: 0m 2s\tTrain Loss: 0.489 | Test Loss: 192.544\n",
      "epoch start:  705\n",
      "training ...\n"
     ]
    },
    {
     "name": "stderr",
     "output_type": "stream",
     "text": [
      "280it [00:02, 137.30it/s]\n",
      "120it [00:00, 1833.61it/s]\n",
      "14it [00:00, 131.47it/s]"
     ]
    },
    {
     "name": "stdout",
     "output_type": "stream",
     "text": [
      "Epoch: 706 | Time: 0m 2s\tTrain Loss: 0.499 | Test Loss: 189.422\n",
      "epoch start:  706\n",
      "training ...\n"
     ]
    },
    {
     "name": "stderr",
     "output_type": "stream",
     "text": [
      "280it [00:02, 133.73it/s]\n",
      "120it [00:00, 1758.02it/s]\n",
      "14it [00:00, 133.50it/s]"
     ]
    },
    {
     "name": "stdout",
     "output_type": "stream",
     "text": [
      "Epoch: 707 | Time: 0m 2s\tTrain Loss: 0.502 | Test Loss: 193.805\n",
      "epoch start:  707\n",
      "training ...\n"
     ]
    },
    {
     "name": "stderr",
     "output_type": "stream",
     "text": [
      "280it [00:02, 136.94it/s]\n",
      "120it [00:00, 1541.55it/s]\n",
      "14it [00:00, 133.64it/s]"
     ]
    },
    {
     "name": "stdout",
     "output_type": "stream",
     "text": [
      "Epoch: 708 | Time: 0m 2s\tTrain Loss: 0.500 | Test Loss: 197.815\n",
      "epoch start:  708\n",
      "training ...\n"
     ]
    },
    {
     "name": "stderr",
     "output_type": "stream",
     "text": [
      "280it [00:02, 137.02it/s]\n",
      "120it [00:00, 1831.53it/s]\n",
      "14it [00:00, 137.70it/s]"
     ]
    },
    {
     "name": "stdout",
     "output_type": "stream",
     "text": [
      "Epoch: 709 | Time: 0m 2s\tTrain Loss: 0.488 | Test Loss: 199.162\n",
      "epoch start:  709\n",
      "training ...\n"
     ]
    },
    {
     "name": "stderr",
     "output_type": "stream",
     "text": [
      "280it [00:02, 138.30it/s]\n",
      "120it [00:00, 1798.79it/s]\n",
      "15it [00:00, 142.30it/s]"
     ]
    },
    {
     "name": "stdout",
     "output_type": "stream",
     "text": [
      "Epoch: 710 | Time: 0m 2s\tTrain Loss: 0.495 | Test Loss: 196.022\n",
      "epoch start:  710\n",
      "training ...\n"
     ]
    },
    {
     "name": "stderr",
     "output_type": "stream",
     "text": [
      "280it [00:02, 136.51it/s]\n",
      "120it [00:00, 1750.79it/s]\n",
      "15it [00:00, 141.56it/s]"
     ]
    },
    {
     "name": "stdout",
     "output_type": "stream",
     "text": [
      "Epoch: 711 | Time: 0m 2s\tTrain Loss: 0.504 | Test Loss: 191.680\n",
      "epoch start:  711\n",
      "training ...\n"
     ]
    },
    {
     "name": "stderr",
     "output_type": "stream",
     "text": [
      "280it [00:01, 141.49it/s]\n",
      "120it [00:00, 1780.76it/s]\n",
      "14it [00:00, 139.66it/s]"
     ]
    },
    {
     "name": "stdout",
     "output_type": "stream",
     "text": [
      "Epoch: 712 | Time: 0m 2s\tTrain Loss: 0.489 | Test Loss: 199.547\n",
      "epoch start:  712\n",
      "training ...\n"
     ]
    },
    {
     "name": "stderr",
     "output_type": "stream",
     "text": [
      "280it [00:02, 137.42it/s]\n",
      "120it [00:00, 1815.39it/s]\n",
      "15it [00:00, 143.81it/s]"
     ]
    },
    {
     "name": "stdout",
     "output_type": "stream",
     "text": [
      "Epoch: 713 | Time: 0m 2s\tTrain Loss: 0.507 | Test Loss: 194.582\n",
      "epoch start:  713\n",
      "training ...\n"
     ]
    },
    {
     "name": "stderr",
     "output_type": "stream",
     "text": [
      "280it [00:02, 138.41it/s]\n",
      "120it [00:00, 1804.05it/s]\n",
      "15it [00:00, 145.05it/s]"
     ]
    },
    {
     "name": "stdout",
     "output_type": "stream",
     "text": [
      "Epoch: 714 | Time: 0m 2s\tTrain Loss: 0.489 | Test Loss: 195.384\n",
      "epoch start:  714\n",
      "training ...\n"
     ]
    },
    {
     "name": "stderr",
     "output_type": "stream",
     "text": [
      "280it [00:02, 137.00it/s]\n",
      "120it [00:00, 1795.90it/s]\n",
      "14it [00:00, 137.66it/s]"
     ]
    },
    {
     "name": "stdout",
     "output_type": "stream",
     "text": [
      "Epoch: 715 | Time: 0m 2s\tTrain Loss: 0.502 | Test Loss: 194.803\n",
      "epoch start:  715\n",
      "training ...\n"
     ]
    },
    {
     "name": "stderr",
     "output_type": "stream",
     "text": [
      "280it [00:01, 143.44it/s]\n",
      "120it [00:00, 1714.99it/s]\n",
      "16it [00:00, 150.66it/s]"
     ]
    },
    {
     "name": "stdout",
     "output_type": "stream",
     "text": [
      "Epoch: 716 | Time: 0m 2s\tTrain Loss: 0.491 | Test Loss: 192.782\n",
      "epoch start:  716\n",
      "training ...\n"
     ]
    },
    {
     "name": "stderr",
     "output_type": "stream",
     "text": [
      "280it [00:01, 141.03it/s]\n",
      "120it [00:00, 1766.53it/s]\n",
      "15it [00:00, 141.32it/s]"
     ]
    },
    {
     "name": "stdout",
     "output_type": "stream",
     "text": [
      "Epoch: 717 | Time: 0m 2s\tTrain Loss: 0.491 | Test Loss: 192.687\n",
      "epoch start:  717\n",
      "training ...\n"
     ]
    },
    {
     "name": "stderr",
     "output_type": "stream",
     "text": [
      "280it [00:02, 139.49it/s]\n",
      "120it [00:00, 1782.67it/s]\n",
      "14it [00:00, 135.08it/s]"
     ]
    },
    {
     "name": "stdout",
     "output_type": "stream",
     "text": [
      "Epoch: 718 | Time: 0m 2s\tTrain Loss: 0.485 | Test Loss: 190.591\n",
      "epoch start:  718\n",
      "training ...\n"
     ]
    },
    {
     "name": "stderr",
     "output_type": "stream",
     "text": [
      "280it [00:02, 137.50it/s]\n",
      "120it [00:00, 1793.49it/s]\n",
      "16it [00:00, 150.20it/s]"
     ]
    },
    {
     "name": "stdout",
     "output_type": "stream",
     "text": [
      "Epoch: 719 | Time: 0m 2s\tTrain Loss: 0.495 | Test Loss: 194.593\n",
      "epoch start:  719\n",
      "training ...\n"
     ]
    },
    {
     "name": "stderr",
     "output_type": "stream",
     "text": [
      "280it [00:02, 138.28it/s]\n",
      "120it [00:00, 1805.50it/s]\n",
      "14it [00:00, 138.28it/s]"
     ]
    },
    {
     "name": "stdout",
     "output_type": "stream",
     "text": [
      "Epoch: 720 | Time: 0m 2s\tTrain Loss: 0.487 | Test Loss: 188.675\n",
      "epoch start:  720\n",
      "training ...\n"
     ]
    },
    {
     "name": "stderr",
     "output_type": "stream",
     "text": [
      "280it [00:01, 140.47it/s]\n",
      "120it [00:00, 1805.85it/s]\n",
      "13it [00:00, 129.32it/s]"
     ]
    },
    {
     "name": "stdout",
     "output_type": "stream",
     "text": [
      "Epoch: 721 | Time: 0m 2s\tTrain Loss: 0.497 | Test Loss: 198.083\n",
      "epoch start:  721\n",
      "training ...\n"
     ]
    },
    {
     "name": "stderr",
     "output_type": "stream",
     "text": [
      "280it [00:02, 138.59it/s]\n",
      "120it [00:00, 1721.84it/s]\n",
      "14it [00:00, 139.96it/s]"
     ]
    },
    {
     "name": "stdout",
     "output_type": "stream",
     "text": [
      "Epoch: 722 | Time: 0m 2s\tTrain Loss: 0.485 | Test Loss: 193.263\n",
      "epoch start:  722\n",
      "training ...\n"
     ]
    },
    {
     "name": "stderr",
     "output_type": "stream",
     "text": [
      "280it [00:02, 138.47it/s]\n",
      "120it [00:00, 1757.61it/s]\n",
      "15it [00:00, 141.88it/s]"
     ]
    },
    {
     "name": "stdout",
     "output_type": "stream",
     "text": [
      "Epoch: 723 | Time: 0m 2s\tTrain Loss: 0.492 | Test Loss: 191.637\n",
      "epoch start:  723\n",
      "training ...\n"
     ]
    },
    {
     "name": "stderr",
     "output_type": "stream",
     "text": [
      "280it [00:02, 138.25it/s]\n",
      "120it [00:00, 1793.08it/s]\n",
      "15it [00:00, 143.29it/s]"
     ]
    },
    {
     "name": "stdout",
     "output_type": "stream",
     "text": [
      "Epoch: 724 | Time: 0m 2s\tTrain Loss: 0.494 | Test Loss: 191.223\n",
      "epoch start:  724\n",
      "training ...\n"
     ]
    },
    {
     "name": "stderr",
     "output_type": "stream",
     "text": [
      "280it [00:02, 138.62it/s]\n",
      "120it [00:00, 1826.36it/s]\n",
      "15it [00:00, 148.03it/s]"
     ]
    },
    {
     "name": "stdout",
     "output_type": "stream",
     "text": [
      "Epoch: 725 | Time: 0m 2s\tTrain Loss: 0.489 | Test Loss: 190.693\n",
      "epoch start:  725\n",
      "training ...\n"
     ]
    },
    {
     "name": "stderr",
     "output_type": "stream",
     "text": [
      "280it [00:02, 139.15it/s]\n",
      "120it [00:00, 1816.08it/s]\n",
      "15it [00:00, 141.82it/s]"
     ]
    },
    {
     "name": "stdout",
     "output_type": "stream",
     "text": [
      "Epoch: 726 | Time: 0m 2s\tTrain Loss: 0.490 | Test Loss: 191.618\n",
      "epoch start:  726\n",
      "training ...\n"
     ]
    },
    {
     "name": "stderr",
     "output_type": "stream",
     "text": [
      "280it [00:02, 136.88it/s]\n",
      "120it [00:00, 1802.97it/s]\n",
      "15it [00:00, 141.16it/s]"
     ]
    },
    {
     "name": "stdout",
     "output_type": "stream",
     "text": [
      "Epoch: 727 | Time: 0m 2s\tTrain Loss: 0.494 | Test Loss: 193.464\n",
      "epoch start:  727\n",
      "training ...\n"
     ]
    },
    {
     "name": "stderr",
     "output_type": "stream",
     "text": [
      "280it [00:02, 138.71it/s]\n",
      "120it [00:00, 1821.62it/s]\n",
      "14it [00:00, 132.76it/s]"
     ]
    },
    {
     "name": "stdout",
     "output_type": "stream",
     "text": [
      "Epoch: 728 | Time: 0m 2s\tTrain Loss: 0.485 | Test Loss: 192.873\n",
      "epoch start:  728\n",
      "training ...\n"
     ]
    },
    {
     "name": "stderr",
     "output_type": "stream",
     "text": [
      "280it [00:02, 137.37it/s]\n",
      "120it [00:00, 1818.91it/s]\n",
      "16it [00:00, 154.03it/s]"
     ]
    },
    {
     "name": "stdout",
     "output_type": "stream",
     "text": [
      "Epoch: 729 | Time: 0m 2s\tTrain Loss: 0.482 | Test Loss: 193.946\n",
      "epoch start:  729\n",
      "training ...\n"
     ]
    },
    {
     "name": "stderr",
     "output_type": "stream",
     "text": [
      "280it [00:02, 139.37it/s]\n",
      "120it [00:00, 1799.13it/s]\n",
      "14it [00:00, 136.33it/s]"
     ]
    },
    {
     "name": "stdout",
     "output_type": "stream",
     "text": [
      "Epoch: 730 | Time: 0m 2s\tTrain Loss: 0.501 | Test Loss: 197.575\n",
      "epoch start:  730\n",
      "training ...\n"
     ]
    },
    {
     "name": "stderr",
     "output_type": "stream",
     "text": [
      "280it [00:02, 138.07it/s]\n",
      "120it [00:00, 1814.80it/s]\n",
      "14it [00:00, 137.50it/s]"
     ]
    },
    {
     "name": "stdout",
     "output_type": "stream",
     "text": [
      "Epoch: 731 | Time: 0m 2s\tTrain Loss: 0.488 | Test Loss: 191.950\n",
      "epoch start:  731\n",
      "training ...\n"
     ]
    },
    {
     "name": "stderr",
     "output_type": "stream",
     "text": [
      "280it [00:02, 138.65it/s]\n",
      "120it [00:00, 1714.75it/s]\n",
      "14it [00:00, 139.85it/s]"
     ]
    },
    {
     "name": "stdout",
     "output_type": "stream",
     "text": [
      "Epoch: 732 | Time: 0m 2s\tTrain Loss: 0.502 | Test Loss: 189.906\n",
      "epoch start:  732\n",
      "training ...\n"
     ]
    },
    {
     "name": "stderr",
     "output_type": "stream",
     "text": [
      "280it [00:01, 155.37it/s]\n",
      "120it [00:00, 1660.83it/s]\n",
      "15it [00:00, 146.84it/s]"
     ]
    },
    {
     "name": "stdout",
     "output_type": "stream",
     "text": [
      "Epoch: 733 | Time: 0m 1s\tTrain Loss: 0.486 | Test Loss: 193.477\n",
      "epoch start:  733\n",
      "training ...\n"
     ]
    },
    {
     "name": "stderr",
     "output_type": "stream",
     "text": [
      "280it [00:01, 141.31it/s]\n",
      "120it [00:00, 1805.14it/s]\n",
      "14it [00:00, 136.60it/s]"
     ]
    },
    {
     "name": "stdout",
     "output_type": "stream",
     "text": [
      "Epoch: 734 | Time: 0m 2s\tTrain Loss: 0.495 | Test Loss: 195.372\n",
      "epoch start:  734\n",
      "training ...\n"
     ]
    },
    {
     "name": "stderr",
     "output_type": "stream",
     "text": [
      "280it [00:02, 138.33it/s]\n",
      "120it [00:00, 1832.49it/s]\n",
      "14it [00:00, 132.89it/s]"
     ]
    },
    {
     "name": "stdout",
     "output_type": "stream",
     "text": [
      "Epoch: 735 | Time: 0m 2s\tTrain Loss: 0.482 | Test Loss: 195.222\n",
      "epoch start:  735\n",
      "training ...\n"
     ]
    },
    {
     "name": "stderr",
     "output_type": "stream",
     "text": [
      "280it [00:01, 141.47it/s]\n",
      "120it [00:00, 1716.03it/s]\n",
      "17it [00:00, 161.44it/s]"
     ]
    },
    {
     "name": "stdout",
     "output_type": "stream",
     "text": [
      "Epoch: 736 | Time: 0m 2s\tTrain Loss: 0.495 | Test Loss: 193.654\n",
      "epoch start:  736\n",
      "training ...\n"
     ]
    },
    {
     "name": "stderr",
     "output_type": "stream",
     "text": [
      "280it [00:01, 167.80it/s]\n",
      "120it [00:00, 1760.32it/s]\n",
      "19it [00:00, 182.34it/s]"
     ]
    },
    {
     "name": "stdout",
     "output_type": "stream",
     "text": [
      "Epoch: 737 | Time: 0m 1s\tTrain Loss: 0.480 | Test Loss: 195.193\n",
      "epoch start:  737\n",
      "training ...\n"
     ]
    },
    {
     "name": "stderr",
     "output_type": "stream",
     "text": [
      "280it [00:02, 134.81it/s]\n",
      "120it [00:00, 1701.35it/s]\n",
      "15it [00:00, 141.94it/s]"
     ]
    },
    {
     "name": "stdout",
     "output_type": "stream",
     "text": [
      "Epoch: 738 | Time: 0m 2s\tTrain Loss: 0.490 | Test Loss: 196.122\n",
      "epoch start:  738\n",
      "training ...\n"
     ]
    },
    {
     "name": "stderr",
     "output_type": "stream",
     "text": [
      "280it [00:01, 154.13it/s]\n",
      "120it [00:00, 1594.37it/s]\n",
      "19it [00:00, 189.15it/s]"
     ]
    },
    {
     "name": "stdout",
     "output_type": "stream",
     "text": [
      "Epoch: 739 | Time: 0m 1s\tTrain Loss: 0.487 | Test Loss: 194.885\n",
      "epoch start:  739\n",
      "training ...\n"
     ]
    },
    {
     "name": "stderr",
     "output_type": "stream",
     "text": [
      "280it [00:01, 173.94it/s]\n",
      "120it [00:00, 1743.26it/s]\n",
      "22it [00:00, 215.11it/s]"
     ]
    },
    {
     "name": "stdout",
     "output_type": "stream",
     "text": [
      "Epoch: 740 | Time: 0m 1s\tTrain Loss: 0.494 | Test Loss: 196.737\n",
      "epoch start:  740\n",
      "training ...\n"
     ]
    },
    {
     "name": "stderr",
     "output_type": "stream",
     "text": [
      "280it [00:01, 177.61it/s]\n",
      "120it [00:00, 1604.86it/s]\n",
      "19it [00:00, 187.22it/s]"
     ]
    },
    {
     "name": "stdout",
     "output_type": "stream",
     "text": [
      "Epoch: 741 | Time: 0m 1s\tTrain Loss: 0.494 | Test Loss: 191.404\n",
      "epoch start:  741\n",
      "training ...\n"
     ]
    },
    {
     "name": "stderr",
     "output_type": "stream",
     "text": [
      "280it [00:01, 175.74it/s]\n",
      "120it [00:00, 1673.11it/s]\n",
      "17it [00:00, 162.63it/s]"
     ]
    },
    {
     "name": "stdout",
     "output_type": "stream",
     "text": [
      "Epoch: 742 | Time: 0m 1s\tTrain Loss: 0.495 | Test Loss: 191.847\n",
      "epoch start:  742\n",
      "training ...\n"
     ]
    },
    {
     "name": "stderr",
     "output_type": "stream",
     "text": [
      "280it [00:01, 179.85it/s]\n",
      "120it [00:00, 1727.56it/s]\n",
      "19it [00:00, 182.73it/s]"
     ]
    },
    {
     "name": "stdout",
     "output_type": "stream",
     "text": [
      "Epoch: 743 | Time: 0m 1s\tTrain Loss: 0.482 | Test Loss: 193.442\n",
      "epoch start:  743\n",
      "training ...\n"
     ]
    },
    {
     "name": "stderr",
     "output_type": "stream",
     "text": [
      "280it [00:01, 176.33it/s]\n",
      "120it [00:00, 1659.56it/s]\n",
      "21it [00:00, 206.15it/s]"
     ]
    },
    {
     "name": "stdout",
     "output_type": "stream",
     "text": [
      "Epoch: 744 | Time: 0m 1s\tTrain Loss: 0.486 | Test Loss: 194.408\n",
      "epoch start:  744\n",
      "training ...\n"
     ]
    },
    {
     "name": "stderr",
     "output_type": "stream",
     "text": [
      "280it [00:01, 179.11it/s]\n",
      "120it [00:00, 1695.72it/s]\n",
      "18it [00:00, 179.82it/s]"
     ]
    },
    {
     "name": "stdout",
     "output_type": "stream",
     "text": [
      "Epoch: 745 | Time: 0m 1s\tTrain Loss: 0.497 | Test Loss: 192.623\n",
      "epoch start:  745\n",
      "training ...\n"
     ]
    },
    {
     "name": "stderr",
     "output_type": "stream",
     "text": [
      "280it [00:01, 175.39it/s]\n",
      "120it [00:00, 1678.56it/s]\n",
      "19it [00:00, 180.60it/s]"
     ]
    },
    {
     "name": "stdout",
     "output_type": "stream",
     "text": [
      "Epoch: 746 | Time: 0m 1s\tTrain Loss: 0.486 | Test Loss: 187.984\n",
      "epoch start:  746\n",
      "training ...\n"
     ]
    },
    {
     "name": "stderr",
     "output_type": "stream",
     "text": [
      "280it [00:01, 173.84it/s]\n",
      "120it [00:00, 1726.48it/s]\n",
      "19it [00:00, 182.63it/s]"
     ]
    },
    {
     "name": "stdout",
     "output_type": "stream",
     "text": [
      "Epoch: 747 | Time: 0m 1s\tTrain Loss: 0.491 | Test Loss: 188.516\n",
      "epoch start:  747\n",
      "training ...\n"
     ]
    },
    {
     "name": "stderr",
     "output_type": "stream",
     "text": [
      "280it [00:01, 179.84it/s]\n",
      "120it [00:00, 1688.81it/s]\n",
      "20it [00:00, 189.30it/s]"
     ]
    },
    {
     "name": "stdout",
     "output_type": "stream",
     "text": [
      "Epoch: 748 | Time: 0m 1s\tTrain Loss: 0.498 | Test Loss: 190.877\n",
      "epoch start:  748\n",
      "training ...\n"
     ]
    },
    {
     "name": "stderr",
     "output_type": "stream",
     "text": [
      "280it [00:01, 180.47it/s]\n",
      "120it [00:00, 1918.20it/s]\n",
      "20it [00:00, 194.72it/s]"
     ]
    },
    {
     "name": "stdout",
     "output_type": "stream",
     "text": [
      "Epoch: 749 | Time: 0m 1s\tTrain Loss: 0.499 | Test Loss: 196.956\n",
      "epoch start:  749\n",
      "training ...\n"
     ]
    },
    {
     "name": "stderr",
     "output_type": "stream",
     "text": [
      "280it [00:01, 181.29it/s]\n",
      "120it [00:00, 1555.36it/s]\n",
      "18it [00:00, 176.11it/s]"
     ]
    },
    {
     "name": "stdout",
     "output_type": "stream",
     "text": [
      "Epoch: 750 | Time: 0m 1s\tTrain Loss: 0.490 | Test Loss: 195.536\n",
      "epoch start:  750\n",
      "training ...\n"
     ]
    },
    {
     "name": "stderr",
     "output_type": "stream",
     "text": [
      "280it [00:01, 177.66it/s]\n",
      "120it [00:00, 1621.82it/s]\n",
      "20it [00:00, 192.17it/s]"
     ]
    },
    {
     "name": "stdout",
     "output_type": "stream",
     "text": [
      "Epoch: 751 | Time: 0m 1s\tTrain Loss: 0.495 | Test Loss: 190.099\n",
      "epoch start:  751\n",
      "training ...\n"
     ]
    },
    {
     "name": "stderr",
     "output_type": "stream",
     "text": [
      "280it [00:01, 177.85it/s]\n",
      "120it [00:00, 1648.57it/s]\n",
      "19it [00:00, 182.97it/s]"
     ]
    },
    {
     "name": "stdout",
     "output_type": "stream",
     "text": [
      "Epoch: 752 | Time: 0m 1s\tTrain Loss: 0.479 | Test Loss: 193.833\n",
      "epoch start:  752\n",
      "training ...\n"
     ]
    },
    {
     "name": "stderr",
     "output_type": "stream",
     "text": [
      "280it [00:01, 181.40it/s]\n",
      "120it [00:00, 1482.42it/s]\n",
      "22it [00:00, 212.72it/s]"
     ]
    },
    {
     "name": "stdout",
     "output_type": "stream",
     "text": [
      "Epoch: 753 | Time: 0m 1s\tTrain Loss: 0.481 | Test Loss: 195.883\n",
      "epoch start:  753\n",
      "training ...\n"
     ]
    },
    {
     "name": "stderr",
     "output_type": "stream",
     "text": [
      "280it [00:01, 188.19it/s]\n",
      "120it [00:00, 1624.72it/s]\n",
      "17it [00:00, 164.91it/s]"
     ]
    },
    {
     "name": "stdout",
     "output_type": "stream",
     "text": [
      "Epoch: 754 | Time: 0m 1s\tTrain Loss: 0.492 | Test Loss: 193.334\n",
      "epoch start:  754\n",
      "training ...\n"
     ]
    },
    {
     "name": "stderr",
     "output_type": "stream",
     "text": [
      "280it [00:01, 176.37it/s]\n",
      "120it [00:00, 1378.33it/s]\n",
      "16it [00:00, 157.51it/s]"
     ]
    },
    {
     "name": "stdout",
     "output_type": "stream",
     "text": [
      "Epoch: 755 | Time: 0m 1s\tTrain Loss: 0.478 | Test Loss: 195.001\n",
      "epoch start:  755\n",
      "training ...\n"
     ]
    },
    {
     "name": "stderr",
     "output_type": "stream",
     "text": [
      "280it [00:01, 166.26it/s]\n",
      "120it [00:00, 1725.17it/s]\n",
      "16it [00:00, 151.42it/s]"
     ]
    },
    {
     "name": "stdout",
     "output_type": "stream",
     "text": [
      "Epoch: 756 | Time: 0m 1s\tTrain Loss: 0.490 | Test Loss: 190.954\n",
      "epoch start:  756\n",
      "training ...\n"
     ]
    },
    {
     "name": "stderr",
     "output_type": "stream",
     "text": [
      "280it [00:01, 166.83it/s]\n",
      "120it [00:00, 1788.94it/s]\n",
      "19it [00:00, 186.97it/s]"
     ]
    },
    {
     "name": "stdout",
     "output_type": "stream",
     "text": [
      "Epoch: 757 | Time: 0m 1s\tTrain Loss: 0.480 | Test Loss: 196.227\n",
      "epoch start:  757\n",
      "training ...\n"
     ]
    },
    {
     "name": "stderr",
     "output_type": "stream",
     "text": [
      "280it [00:01, 187.50it/s]\n",
      "120it [00:00, 1828.01it/s]\n",
      "21it [00:00, 203.75it/s]"
     ]
    },
    {
     "name": "stdout",
     "output_type": "stream",
     "text": [
      "Epoch: 758 | Time: 0m 1s\tTrain Loss: 0.490 | Test Loss: 195.873\n",
      "epoch start:  758\n",
      "training ...\n"
     ]
    },
    {
     "name": "stderr",
     "output_type": "stream",
     "text": [
      "280it [00:01, 186.64it/s]\n",
      "120it [00:00, 1646.46it/s]\n",
      "20it [00:00, 186.61it/s]"
     ]
    },
    {
     "name": "stdout",
     "output_type": "stream",
     "text": [
      "Epoch: 759 | Time: 0m 1s\tTrain Loss: 0.480 | Test Loss: 194.013\n",
      "epoch start:  759\n",
      "training ...\n"
     ]
    },
    {
     "name": "stderr",
     "output_type": "stream",
     "text": [
      "280it [00:01, 166.26it/s]\n",
      "120it [00:00, 1646.89it/s]\n",
      "21it [00:00, 203.46it/s]"
     ]
    },
    {
     "name": "stdout",
     "output_type": "stream",
     "text": [
      "Epoch: 760 | Time: 0m 1s\tTrain Loss: 0.498 | Test Loss: 194.610\n",
      "epoch start:  760\n",
      "training ...\n"
     ]
    },
    {
     "name": "stderr",
     "output_type": "stream",
     "text": [
      "280it [00:01, 158.06it/s]\n",
      "120it [00:00, 1713.42it/s]\n",
      "17it [00:00, 160.73it/s]"
     ]
    },
    {
     "name": "stdout",
     "output_type": "stream",
     "text": [
      "Epoch: 761 | Time: 0m 1s\tTrain Loss: 0.490 | Test Loss: 197.093\n",
      "epoch start:  761\n",
      "training ...\n"
     ]
    },
    {
     "name": "stderr",
     "output_type": "stream",
     "text": [
      "280it [00:01, 157.42it/s]\n",
      "120it [00:00, 1632.18it/s]\n",
      "16it [00:00, 155.51it/s]"
     ]
    },
    {
     "name": "stdout",
     "output_type": "stream",
     "text": [
      "Epoch: 762 | Time: 0m 1s\tTrain Loss: 0.484 | Test Loss: 194.117\n",
      "epoch start:  762\n",
      "training ...\n"
     ]
    },
    {
     "name": "stderr",
     "output_type": "stream",
     "text": [
      "280it [00:01, 200.30it/s]\n",
      "120it [00:00, 1490.11it/s]\n",
      "18it [00:00, 169.27it/s]"
     ]
    },
    {
     "name": "stdout",
     "output_type": "stream",
     "text": [
      "Epoch: 763 | Time: 0m 1s\tTrain Loss: 0.480 | Test Loss: 193.154\n",
      "epoch start:  763\n",
      "training ...\n"
     ]
    },
    {
     "name": "stderr",
     "output_type": "stream",
     "text": [
      "280it [00:01, 153.93it/s]\n",
      "120it [00:00, 1735.84it/s]\n",
      "14it [00:00, 137.85it/s]"
     ]
    },
    {
     "name": "stdout",
     "output_type": "stream",
     "text": [
      "Epoch: 764 | Time: 0m 1s\tTrain Loss: 0.489 | Test Loss: 193.545\n",
      "epoch start:  764\n",
      "training ...\n"
     ]
    },
    {
     "name": "stderr",
     "output_type": "stream",
     "text": [
      "280it [00:01, 147.99it/s]\n",
      "120it [00:00, 1694.74it/s]\n",
      "16it [00:00, 156.51it/s]"
     ]
    },
    {
     "name": "stdout",
     "output_type": "stream",
     "text": [
      "Epoch: 765 | Time: 0m 1s\tTrain Loss: 0.492 | Test Loss: 197.905\n",
      "epoch start:  765\n",
      "training ...\n"
     ]
    },
    {
     "name": "stderr",
     "output_type": "stream",
     "text": [
      "280it [00:01, 161.88it/s]\n",
      "120it [00:00, 1592.81it/s]\n",
      "18it [00:00, 170.33it/s]"
     ]
    },
    {
     "name": "stdout",
     "output_type": "stream",
     "text": [
      "Epoch: 766 | Time: 0m 1s\tTrain Loss: 0.484 | Test Loss: 195.354\n",
      "epoch start:  766\n",
      "training ...\n"
     ]
    },
    {
     "name": "stderr",
     "output_type": "stream",
     "text": [
      "280it [00:01, 171.38it/s]\n",
      "120it [00:00, 1506.99it/s]\n",
      "18it [00:00, 179.68it/s]"
     ]
    },
    {
     "name": "stdout",
     "output_type": "stream",
     "text": [
      "Epoch: 767 | Time: 0m 1s\tTrain Loss: 0.483 | Test Loss: 197.535\n",
      "epoch start:  767\n",
      "training ...\n"
     ]
    },
    {
     "name": "stderr",
     "output_type": "stream",
     "text": [
      "280it [00:01, 155.07it/s]\n",
      "120it [00:00, 1753.70it/s]\n",
      "16it [00:00, 153.17it/s]"
     ]
    },
    {
     "name": "stdout",
     "output_type": "stream",
     "text": [
      "Epoch: 768 | Time: 0m 1s\tTrain Loss: 0.481 | Test Loss: 195.207\n",
      "epoch start:  768\n",
      "training ...\n"
     ]
    },
    {
     "name": "stderr",
     "output_type": "stream",
     "text": [
      "280it [00:01, 161.79it/s]\n",
      "120it [00:00, 1741.70it/s]\n",
      "17it [00:00, 166.81it/s]"
     ]
    },
    {
     "name": "stdout",
     "output_type": "stream",
     "text": [
      "Epoch: 769 | Time: 0m 1s\tTrain Loss: 0.489 | Test Loss: 190.341\n",
      "epoch start:  769\n",
      "training ...\n"
     ]
    },
    {
     "name": "stderr",
     "output_type": "stream",
     "text": [
      "280it [00:01, 155.66it/s]\n",
      "120it [00:00, 1782.31it/s]\n",
      "15it [00:00, 150.00it/s]"
     ]
    },
    {
     "name": "stdout",
     "output_type": "stream",
     "text": [
      "Epoch: 770 | Time: 0m 1s\tTrain Loss: 0.485 | Test Loss: 190.287\n",
      "epoch start:  770\n",
      "training ...\n"
     ]
    },
    {
     "name": "stderr",
     "output_type": "stream",
     "text": [
      "280it [00:01, 152.57it/s]\n",
      "120it [00:00, 1719.63it/s]\n",
      "15it [00:00, 145.70it/s]"
     ]
    },
    {
     "name": "stdout",
     "output_type": "stream",
     "text": [
      "Epoch: 771 | Time: 0m 1s\tTrain Loss: 0.494 | Test Loss: 191.475\n",
      "epoch start:  771\n",
      "training ...\n"
     ]
    },
    {
     "name": "stderr",
     "output_type": "stream",
     "text": [
      "280it [00:01, 152.05it/s]\n",
      "120it [00:00, 1787.35it/s]\n",
      "16it [00:00, 159.35it/s]"
     ]
    },
    {
     "name": "stdout",
     "output_type": "stream",
     "text": [
      "Epoch: 772 | Time: 0m 1s\tTrain Loss: 0.487 | Test Loss: 192.402\n",
      "epoch start:  772\n",
      "training ...\n"
     ]
    },
    {
     "name": "stderr",
     "output_type": "stream",
     "text": [
      "280it [00:01, 149.76it/s]\n",
      "120it [00:00, 1673.86it/s]\n",
      "21it [00:00, 205.34it/s]"
     ]
    },
    {
     "name": "stdout",
     "output_type": "stream",
     "text": [
      "Epoch: 773 | Time: 0m 1s\tTrain Loss: 0.479 | Test Loss: 195.730\n",
      "epoch start:  773\n",
      "training ...\n"
     ]
    },
    {
     "name": "stderr",
     "output_type": "stream",
     "text": [
      "280it [00:01, 153.05it/s]\n",
      "120it [00:00, 1819.74it/s]\n",
      "15it [00:00, 147.29it/s]"
     ]
    },
    {
     "name": "stdout",
     "output_type": "stream",
     "text": [
      "Epoch: 774 | Time: 0m 1s\tTrain Loss: 0.492 | Test Loss: 194.175\n",
      "epoch start:  774\n",
      "training ...\n"
     ]
    },
    {
     "name": "stderr",
     "output_type": "stream",
     "text": [
      "280it [00:01, 153.08it/s]\n",
      "120it [00:00, 1769.05it/s]\n",
      "16it [00:00, 154.98it/s]"
     ]
    },
    {
     "name": "stdout",
     "output_type": "stream",
     "text": [
      "Epoch: 775 | Time: 0m 1s\tTrain Loss: 0.480 | Test Loss: 191.185\n",
      "epoch start:  775\n",
      "training ...\n"
     ]
    },
    {
     "name": "stderr",
     "output_type": "stream",
     "text": [
      "280it [00:01, 154.20it/s]\n",
      "120it [00:00, 1801.51it/s]\n",
      "16it [00:00, 156.97it/s]"
     ]
    },
    {
     "name": "stdout",
     "output_type": "stream",
     "text": [
      "Epoch: 776 | Time: 0m 1s\tTrain Loss: 0.488 | Test Loss: 196.677\n",
      "epoch start:  776\n",
      "training ...\n"
     ]
    },
    {
     "name": "stderr",
     "output_type": "stream",
     "text": [
      "280it [00:01, 149.27it/s]\n",
      "120it [00:00, 1708.54it/s]\n",
      "16it [00:00, 155.08it/s]"
     ]
    },
    {
     "name": "stdout",
     "output_type": "stream",
     "text": [
      "Epoch: 777 | Time: 0m 1s\tTrain Loss: 0.482 | Test Loss: 187.650\n",
      "epoch start:  777\n",
      "training ...\n"
     ]
    },
    {
     "name": "stderr",
     "output_type": "stream",
     "text": [
      "280it [00:01, 180.94it/s]\n",
      "120it [00:00, 1642.87it/s]\n",
      "16it [00:00, 159.40it/s]"
     ]
    },
    {
     "name": "stdout",
     "output_type": "stream",
     "text": [
      "Epoch: 778 | Time: 0m 1s\tTrain Loss: 0.490 | Test Loss: 196.792\n",
      "epoch start:  778\n",
      "training ...\n"
     ]
    },
    {
     "name": "stderr",
     "output_type": "stream",
     "text": [
      "280it [00:01, 155.51it/s]\n",
      "120it [00:00, 1726.61it/s]\n",
      "17it [00:00, 162.35it/s]"
     ]
    },
    {
     "name": "stdout",
     "output_type": "stream",
     "text": [
      "Epoch: 779 | Time: 0m 1s\tTrain Loss: 0.483 | Test Loss: 192.669\n",
      "epoch start:  779\n",
      "training ...\n"
     ]
    },
    {
     "name": "stderr",
     "output_type": "stream",
     "text": [
      "280it [00:01, 155.65it/s]\n",
      "120it [00:00, 1808.06it/s]\n",
      "16it [00:00, 156.42it/s]"
     ]
    },
    {
     "name": "stdout",
     "output_type": "stream",
     "text": [
      "Epoch: 780 | Time: 0m 1s\tTrain Loss: 0.476 | Test Loss: 191.136\n",
      "epoch start:  780\n",
      "training ...\n"
     ]
    },
    {
     "name": "stderr",
     "output_type": "stream",
     "text": [
      "280it [00:01, 154.38it/s]\n",
      "120it [00:00, 1753.05it/s]\n",
      "17it [00:00, 163.09it/s]"
     ]
    },
    {
     "name": "stdout",
     "output_type": "stream",
     "text": [
      "Epoch: 781 | Time: 0m 1s\tTrain Loss: 0.487 | Test Loss: 192.545\n",
      "epoch start:  781\n",
      "training ...\n"
     ]
    },
    {
     "name": "stderr",
     "output_type": "stream",
     "text": [
      "280it [00:01, 152.85it/s]\n",
      "120it [00:00, 1800.17it/s]\n",
      "16it [00:00, 155.93it/s]"
     ]
    },
    {
     "name": "stdout",
     "output_type": "stream",
     "text": [
      "Epoch: 782 | Time: 0m 1s\tTrain Loss: 0.484 | Test Loss: 192.500\n",
      "epoch start:  782\n",
      "training ...\n"
     ]
    },
    {
     "name": "stderr",
     "output_type": "stream",
     "text": [
      "280it [00:01, 152.01it/s]\n",
      "120it [00:00, 1750.62it/s]\n",
      "16it [00:00, 154.21it/s]"
     ]
    },
    {
     "name": "stdout",
     "output_type": "stream",
     "text": [
      "Epoch: 783 | Time: 0m 1s\tTrain Loss: 0.479 | Test Loss: 190.808\n",
      "epoch start:  783\n",
      "training ...\n"
     ]
    },
    {
     "name": "stderr",
     "output_type": "stream",
     "text": [
      "280it [00:01, 151.51it/s]\n",
      "120it [00:00, 1724.42it/s]\n",
      "17it [00:00, 162.44it/s]"
     ]
    },
    {
     "name": "stdout",
     "output_type": "stream",
     "text": [
      "Epoch: 784 | Time: 0m 1s\tTrain Loss: 0.480 | Test Loss: 191.024\n",
      "epoch start:  784\n",
      "training ...\n"
     ]
    },
    {
     "name": "stderr",
     "output_type": "stream",
     "text": [
      "280it [00:01, 155.31it/s]\n",
      "120it [00:00, 1724.02it/s]\n",
      "17it [00:00, 168.01it/s]"
     ]
    },
    {
     "name": "stdout",
     "output_type": "stream",
     "text": [
      "Epoch: 785 | Time: 0m 1s\tTrain Loss: 0.490 | Test Loss: 187.393\n",
      "epoch start:  785\n",
      "training ...\n"
     ]
    },
    {
     "name": "stderr",
     "output_type": "stream",
     "text": [
      "280it [00:01, 151.81it/s]\n",
      "120it [00:00, 1741.00it/s]\n",
      "16it [00:00, 152.46it/s]"
     ]
    },
    {
     "name": "stdout",
     "output_type": "stream",
     "text": [
      "Epoch: 786 | Time: 0m 1s\tTrain Loss: 0.492 | Test Loss: 192.941\n",
      "epoch start:  786\n",
      "training ...\n"
     ]
    },
    {
     "name": "stderr",
     "output_type": "stream",
     "text": [
      "280it [00:01, 150.62it/s]\n",
      "120it [00:00, 1750.23it/s]\n",
      "16it [00:00, 159.80it/s]"
     ]
    },
    {
     "name": "stdout",
     "output_type": "stream",
     "text": [
      "Epoch: 787 | Time: 0m 1s\tTrain Loss: 0.484 | Test Loss: 194.476\n",
      "epoch start:  787\n",
      "training ...\n"
     ]
    },
    {
     "name": "stderr",
     "output_type": "stream",
     "text": [
      "280it [00:01, 153.17it/s]\n",
      "120it [00:00, 1792.72it/s]\n",
      "16it [00:00, 155.50it/s]"
     ]
    },
    {
     "name": "stdout",
     "output_type": "stream",
     "text": [
      "Epoch: 788 | Time: 0m 1s\tTrain Loss: 0.483 | Test Loss: 191.738\n",
      "epoch start:  788\n",
      "training ...\n"
     ]
    },
    {
     "name": "stderr",
     "output_type": "stream",
     "text": [
      "280it [00:01, 154.67it/s]\n",
      "120it [00:00, 1793.29it/s]\n",
      "16it [00:00, 152.51it/s]"
     ]
    },
    {
     "name": "stdout",
     "output_type": "stream",
     "text": [
      "Epoch: 789 | Time: 0m 1s\tTrain Loss: 0.488 | Test Loss: 197.753\n",
      "epoch start:  789\n",
      "training ...\n"
     ]
    },
    {
     "name": "stderr",
     "output_type": "stream",
     "text": [
      "280it [00:01, 157.82it/s]\n",
      "120it [00:00, 1746.29it/s]\n",
      "22it [00:00, 216.58it/s]"
     ]
    },
    {
     "name": "stdout",
     "output_type": "stream",
     "text": [
      "Epoch: 790 | Time: 0m 1s\tTrain Loss: 0.479 | Test Loss: 191.850\n",
      "epoch start:  790\n",
      "training ...\n"
     ]
    },
    {
     "name": "stderr",
     "output_type": "stream",
     "text": [
      "280it [00:01, 161.57it/s]\n",
      "120it [00:00, 1700.78it/s]\n",
      "17it [00:00, 165.46it/s]"
     ]
    },
    {
     "name": "stdout",
     "output_type": "stream",
     "text": [
      "Epoch: 791 | Time: 0m 1s\tTrain Loss: 0.486 | Test Loss: 189.185\n",
      "epoch start:  791\n",
      "training ...\n"
     ]
    },
    {
     "name": "stderr",
     "output_type": "stream",
     "text": [
      "280it [00:01, 150.88it/s]\n",
      "120it [00:00, 1715.89it/s]\n",
      "16it [00:00, 156.54it/s]"
     ]
    },
    {
     "name": "stdout",
     "output_type": "stream",
     "text": [
      "Epoch: 792 | Time: 0m 1s\tTrain Loss: 0.470 | Test Loss: 187.003\n",
      "epoch start:  792\n",
      "training ...\n"
     ]
    },
    {
     "name": "stderr",
     "output_type": "stream",
     "text": [
      "280it [00:01, 148.96it/s]\n",
      "120it [00:00, 1705.39it/s]\n",
      "16it [00:00, 149.05it/s]"
     ]
    },
    {
     "name": "stdout",
     "output_type": "stream",
     "text": [
      "Epoch: 793 | Time: 0m 1s\tTrain Loss: 0.482 | Test Loss: 191.566\n",
      "epoch start:  793\n",
      "training ...\n"
     ]
    },
    {
     "name": "stderr",
     "output_type": "stream",
     "text": [
      "280it [00:01, 158.53it/s]\n",
      "120it [00:00, 1624.67it/s]\n",
      "16it [00:00, 158.76it/s]"
     ]
    },
    {
     "name": "stdout",
     "output_type": "stream",
     "text": [
      "Epoch: 794 | Time: 0m 1s\tTrain Loss: 0.482 | Test Loss: 190.624\n",
      "epoch start:  794\n",
      "training ...\n"
     ]
    },
    {
     "name": "stderr",
     "output_type": "stream",
     "text": [
      "280it [00:01, 150.02it/s]\n",
      "120it [00:00, 1783.27it/s]\n",
      "16it [00:00, 152.39it/s]"
     ]
    },
    {
     "name": "stdout",
     "output_type": "stream",
     "text": [
      "Epoch: 795 | Time: 0m 1s\tTrain Loss: 0.483 | Test Loss: 194.914\n",
      "epoch start:  795\n",
      "training ...\n"
     ]
    },
    {
     "name": "stderr",
     "output_type": "stream",
     "text": [
      "280it [00:01, 149.67it/s]\n",
      "120it [00:00, 1706.79it/s]\n",
      "17it [00:00, 168.15it/s]"
     ]
    },
    {
     "name": "stdout",
     "output_type": "stream",
     "text": [
      "Epoch: 796 | Time: 0m 1s\tTrain Loss: 0.491 | Test Loss: 191.351\n",
      "epoch start:  796\n",
      "training ...\n"
     ]
    },
    {
     "name": "stderr",
     "output_type": "stream",
     "text": [
      "280it [00:01, 159.32it/s]\n",
      "120it [00:00, 1749.91it/s]\n",
      "17it [00:00, 159.56it/s]"
     ]
    },
    {
     "name": "stdout",
     "output_type": "stream",
     "text": [
      "Epoch: 797 | Time: 0m 1s\tTrain Loss: 0.487 | Test Loss: 189.405\n",
      "epoch start:  797\n",
      "training ...\n"
     ]
    },
    {
     "name": "stderr",
     "output_type": "stream",
     "text": [
      "280it [00:01, 156.58it/s]\n",
      "120it [00:00, 1702.20it/s]\n",
      "16it [00:00, 157.33it/s]"
     ]
    },
    {
     "name": "stdout",
     "output_type": "stream",
     "text": [
      "Epoch: 798 | Time: 0m 1s\tTrain Loss: 0.477 | Test Loss: 192.649\n",
      "epoch start:  798\n",
      "training ...\n"
     ]
    },
    {
     "name": "stderr",
     "output_type": "stream",
     "text": [
      "280it [00:01, 164.52it/s]\n",
      "120it [00:00, 1526.70it/s]\n",
      "14it [00:00, 135.74it/s]"
     ]
    },
    {
     "name": "stdout",
     "output_type": "stream",
     "text": [
      "Epoch: 799 | Time: 0m 1s\tTrain Loss: 0.484 | Test Loss: 191.176\n",
      "epoch start:  799\n",
      "training ...\n"
     ]
    },
    {
     "name": "stderr",
     "output_type": "stream",
     "text": [
      "280it [00:01, 150.04it/s]\n",
      "120it [00:00, 1710.49it/s]\n",
      "17it [00:00, 162.41it/s]"
     ]
    },
    {
     "name": "stdout",
     "output_type": "stream",
     "text": [
      "Epoch: 800 | Time: 0m 1s\tTrain Loss: 0.484 | Test Loss: 191.135\n",
      "epoch start:  800\n",
      "training ...\n"
     ]
    },
    {
     "name": "stderr",
     "output_type": "stream",
     "text": [
      "280it [00:01, 154.69it/s]\n",
      "120it [00:00, 1814.11it/s]\n",
      "16it [00:00, 157.09it/s]"
     ]
    },
    {
     "name": "stdout",
     "output_type": "stream",
     "text": [
      "Epoch: 801 | Time: 0m 1s\tTrain Loss: 0.478 | Test Loss: 191.456\n",
      "epoch start:  801\n",
      "training ...\n"
     ]
    },
    {
     "name": "stderr",
     "output_type": "stream",
     "text": [
      "280it [00:01, 150.47it/s]\n",
      "120it [00:00, 1785.67it/s]\n",
      "16it [00:00, 158.02it/s]"
     ]
    },
    {
     "name": "stdout",
     "output_type": "stream",
     "text": [
      "Epoch: 802 | Time: 0m 1s\tTrain Loss: 0.471 | Test Loss: 189.466\n",
      "epoch start:  802\n",
      "training ...\n"
     ]
    },
    {
     "name": "stderr",
     "output_type": "stream",
     "text": [
      "280it [00:01, 155.07it/s]\n",
      "120it [00:00, 1812.07it/s]\n",
      "17it [00:00, 169.75it/s]"
     ]
    },
    {
     "name": "stdout",
     "output_type": "stream",
     "text": [
      "Epoch: 803 | Time: 0m 1s\tTrain Loss: 0.476 | Test Loss: 189.545\n",
      "epoch start:  803\n",
      "training ...\n"
     ]
    },
    {
     "name": "stderr",
     "output_type": "stream",
     "text": [
      "280it [00:01, 157.29it/s]\n",
      "120it [00:00, 1770.55it/s]\n",
      "19it [00:00, 183.20it/s]"
     ]
    },
    {
     "name": "stdout",
     "output_type": "stream",
     "text": [
      "Epoch: 804 | Time: 0m 1s\tTrain Loss: 0.486 | Test Loss: 193.597\n",
      "epoch start:  804\n",
      "training ...\n"
     ]
    },
    {
     "name": "stderr",
     "output_type": "stream",
     "text": [
      "280it [00:01, 159.74it/s]\n",
      "120it [00:00, 1726.34it/s]\n",
      "15it [00:00, 143.16it/s]"
     ]
    },
    {
     "name": "stdout",
     "output_type": "stream",
     "text": [
      "Epoch: 805 | Time: 0m 1s\tTrain Loss: 0.480 | Test Loss: 189.217\n",
      "epoch start:  805\n",
      "training ...\n"
     ]
    },
    {
     "name": "stderr",
     "output_type": "stream",
     "text": [
      "280it [00:01, 151.36it/s]\n",
      "120it [00:00, 1742.24it/s]\n",
      "17it [00:00, 169.96it/s]"
     ]
    },
    {
     "name": "stdout",
     "output_type": "stream",
     "text": [
      "Epoch: 806 | Time: 0m 1s\tTrain Loss: 0.484 | Test Loss: 188.535\n",
      "epoch start:  806\n",
      "training ...\n"
     ]
    },
    {
     "name": "stderr",
     "output_type": "stream",
     "text": [
      "280it [00:01, 153.23it/s]\n",
      "120it [00:00, 1795.92it/s]\n",
      "17it [00:00, 168.73it/s]"
     ]
    },
    {
     "name": "stdout",
     "output_type": "stream",
     "text": [
      "Epoch: 807 | Time: 0m 1s\tTrain Loss: 0.472 | Test Loss: 190.880\n",
      "epoch start:  807\n",
      "training ...\n"
     ]
    },
    {
     "name": "stderr",
     "output_type": "stream",
     "text": [
      "280it [00:01, 153.75it/s]\n",
      "120it [00:00, 1704.81it/s]\n",
      "17it [00:00, 163.25it/s]"
     ]
    },
    {
     "name": "stdout",
     "output_type": "stream",
     "text": [
      "Epoch: 808 | Time: 0m 1s\tTrain Loss: 0.476 | Test Loss: 192.708\n",
      "epoch start:  808\n",
      "training ...\n"
     ]
    },
    {
     "name": "stderr",
     "output_type": "stream",
     "text": [
      "280it [00:01, 155.60it/s]\n",
      "120it [00:00, 1900.52it/s]\n",
      "17it [00:00, 165.71it/s]"
     ]
    },
    {
     "name": "stdout",
     "output_type": "stream",
     "text": [
      "Epoch: 809 | Time: 0m 1s\tTrain Loss: 0.488 | Test Loss: 193.470\n",
      "epoch start:  809\n",
      "training ...\n"
     ]
    },
    {
     "name": "stderr",
     "output_type": "stream",
     "text": [
      "280it [00:01, 183.11it/s]\n",
      "120it [00:00, 1554.89it/s]\n",
      "24it [00:00, 233.23it/s]"
     ]
    },
    {
     "name": "stdout",
     "output_type": "stream",
     "text": [
      "Epoch: 810 | Time: 0m 1s\tTrain Loss: 0.473 | Test Loss: 192.356\n",
      "epoch start:  810\n",
      "training ...\n"
     ]
    },
    {
     "name": "stderr",
     "output_type": "stream",
     "text": [
      "280it [00:01, 179.05it/s]\n",
      "120it [00:00, 1802.17it/s]\n",
      "15it [00:00, 148.84it/s]"
     ]
    },
    {
     "name": "stdout",
     "output_type": "stream",
     "text": [
      "Epoch: 811 | Time: 0m 1s\tTrain Loss: 0.472 | Test Loss: 195.292\n",
      "epoch start:  811\n",
      "training ...\n"
     ]
    },
    {
     "name": "stderr",
     "output_type": "stream",
     "text": [
      "280it [00:01, 152.04it/s]\n",
      "120it [00:00, 1786.17it/s]\n",
      "17it [00:00, 167.44it/s]"
     ]
    },
    {
     "name": "stdout",
     "output_type": "stream",
     "text": [
      "Epoch: 812 | Time: 0m 1s\tTrain Loss: 0.477 | Test Loss: 189.806\n",
      "epoch start:  812\n",
      "training ...\n"
     ]
    },
    {
     "name": "stderr",
     "output_type": "stream",
     "text": [
      "280it [00:01, 146.66it/s]\n",
      "120it [00:00, 1733.39it/s]\n",
      "17it [00:00, 162.38it/s]"
     ]
    },
    {
     "name": "stdout",
     "output_type": "stream",
     "text": [
      "Epoch: 813 | Time: 0m 1s\tTrain Loss: 0.469 | Test Loss: 193.777\n",
      "epoch start:  813\n",
      "training ...\n"
     ]
    },
    {
     "name": "stderr",
     "output_type": "stream",
     "text": [
      "280it [00:01, 151.41it/s]\n",
      "120it [00:00, 1781.42it/s]\n",
      "17it [00:00, 159.15it/s]"
     ]
    },
    {
     "name": "stdout",
     "output_type": "stream",
     "text": [
      "Epoch: 814 | Time: 0m 1s\tTrain Loss: 0.481 | Test Loss: 194.742\n",
      "epoch start:  814\n",
      "training ...\n"
     ]
    },
    {
     "name": "stderr",
     "output_type": "stream",
     "text": [
      "280it [00:01, 158.68it/s]\n",
      "120it [00:00, 1748.45it/s]\n",
      "16it [00:00, 157.97it/s]"
     ]
    },
    {
     "name": "stdout",
     "output_type": "stream",
     "text": [
      "Epoch: 815 | Time: 0m 1s\tTrain Loss: 0.485 | Test Loss: 190.357\n",
      "epoch start:  815\n",
      "training ...\n"
     ]
    },
    {
     "name": "stderr",
     "output_type": "stream",
     "text": [
      "280it [00:01, 154.92it/s]\n",
      "120it [00:00, 1762.87it/s]\n",
      "16it [00:00, 152.13it/s]"
     ]
    },
    {
     "name": "stdout",
     "output_type": "stream",
     "text": [
      "Epoch: 816 | Time: 0m 1s\tTrain Loss: 0.465 | Test Loss: 198.096\n",
      "epoch start:  816\n",
      "training ...\n"
     ]
    },
    {
     "name": "stderr",
     "output_type": "stream",
     "text": [
      "280it [00:01, 150.62it/s]\n",
      "120it [00:00, 1801.30it/s]\n",
      "15it [00:00, 147.98it/s]"
     ]
    },
    {
     "name": "stdout",
     "output_type": "stream",
     "text": [
      "Epoch: 817 | Time: 0m 1s\tTrain Loss: 0.477 | Test Loss: 188.846\n",
      "epoch start:  817\n",
      "training ...\n"
     ]
    },
    {
     "name": "stderr",
     "output_type": "stream",
     "text": [
      "280it [00:01, 153.55it/s]\n",
      "120it [00:00, 1737.58it/s]\n",
      "16it [00:00, 154.96it/s]"
     ]
    },
    {
     "name": "stdout",
     "output_type": "stream",
     "text": [
      "Epoch: 818 | Time: 0m 1s\tTrain Loss: 0.494 | Test Loss: 191.137\n",
      "epoch start:  818\n",
      "training ...\n"
     ]
    },
    {
     "name": "stderr",
     "output_type": "stream",
     "text": [
      "280it [00:01, 149.18it/s]\n",
      "120it [00:00, 1725.74it/s]\n",
      "15it [00:00, 143.73it/s]"
     ]
    },
    {
     "name": "stdout",
     "output_type": "stream",
     "text": [
      "Epoch: 819 | Time: 0m 1s\tTrain Loss: 0.485 | Test Loss: 191.959\n",
      "epoch start:  819\n",
      "training ...\n"
     ]
    },
    {
     "name": "stderr",
     "output_type": "stream",
     "text": [
      "280it [00:01, 151.97it/s]\n",
      "120it [00:00, 1796.43it/s]\n",
      "15it [00:00, 145.95it/s]"
     ]
    },
    {
     "name": "stdout",
     "output_type": "stream",
     "text": [
      "Epoch: 820 | Time: 0m 1s\tTrain Loss: 0.481 | Test Loss: 189.242\n",
      "epoch start:  820\n",
      "training ...\n"
     ]
    },
    {
     "name": "stderr",
     "output_type": "stream",
     "text": [
      "280it [00:01, 156.23it/s]\n",
      "120it [00:00, 1670.22it/s]\n",
      "17it [00:00, 168.24it/s]"
     ]
    },
    {
     "name": "stdout",
     "output_type": "stream",
     "text": [
      "Epoch: 821 | Time: 0m 1s\tTrain Loss: 0.474 | Test Loss: 190.764\n",
      "epoch start:  821\n",
      "training ...\n"
     ]
    },
    {
     "name": "stderr",
     "output_type": "stream",
     "text": [
      "280it [00:01, 160.04it/s]\n",
      "120it [00:00, 1586.01it/s]\n",
      "17it [00:00, 163.35it/s]"
     ]
    },
    {
     "name": "stdout",
     "output_type": "stream",
     "text": [
      "Epoch: 822 | Time: 0m 1s\tTrain Loss: 0.476 | Test Loss: 192.307\n",
      "epoch start:  822\n",
      "training ...\n"
     ]
    },
    {
     "name": "stderr",
     "output_type": "stream",
     "text": [
      "280it [00:01, 170.71it/s]\n",
      "120it [00:00, 1537.44it/s]\n",
      "20it [00:00, 187.39it/s]"
     ]
    },
    {
     "name": "stdout",
     "output_type": "stream",
     "text": [
      "Epoch: 823 | Time: 0m 1s\tTrain Loss: 0.490 | Test Loss: 191.767\n",
      "epoch start:  823\n",
      "training ...\n"
     ]
    },
    {
     "name": "stderr",
     "output_type": "stream",
     "text": [
      "280it [00:01, 172.87it/s]\n",
      "120it [00:00, 1742.25it/s]\n",
      "17it [00:00, 167.13it/s]"
     ]
    },
    {
     "name": "stdout",
     "output_type": "stream",
     "text": [
      "Epoch: 824 | Time: 0m 1s\tTrain Loss: 0.476 | Test Loss: 189.352\n",
      "epoch start:  824\n",
      "training ...\n"
     ]
    },
    {
     "name": "stderr",
     "output_type": "stream",
     "text": [
      "280it [00:01, 169.57it/s]\n",
      "120it [00:00, 1702.45it/s]\n",
      "19it [00:00, 178.25it/s]"
     ]
    },
    {
     "name": "stdout",
     "output_type": "stream",
     "text": [
      "Epoch: 825 | Time: 0m 1s\tTrain Loss: 0.484 | Test Loss: 190.112\n",
      "epoch start:  825\n",
      "training ...\n"
     ]
    },
    {
     "name": "stderr",
     "output_type": "stream",
     "text": [
      "280it [00:01, 172.87it/s]\n",
      "120it [00:00, 1722.74it/s]\n",
      "18it [00:00, 176.35it/s]"
     ]
    },
    {
     "name": "stdout",
     "output_type": "stream",
     "text": [
      "Epoch: 826 | Time: 0m 1s\tTrain Loss: 0.474 | Test Loss: 185.339\n",
      "epoch start:  826\n",
      "training ...\n"
     ]
    },
    {
     "name": "stderr",
     "output_type": "stream",
     "text": [
      "280it [00:01, 181.05it/s]\n",
      "120it [00:00, 1544.05it/s]\n",
      "18it [00:00, 176.37it/s]"
     ]
    },
    {
     "name": "stdout",
     "output_type": "stream",
     "text": [
      "Epoch: 827 | Time: 0m 1s\tTrain Loss: 0.476 | Test Loss: 192.320\n",
      "epoch start:  827\n",
      "training ...\n"
     ]
    },
    {
     "name": "stderr",
     "output_type": "stream",
     "text": [
      "280it [00:01, 181.59it/s]\n",
      "120it [00:00, 1724.44it/s]\n",
      "17it [00:00, 168.72it/s]"
     ]
    },
    {
     "name": "stdout",
     "output_type": "stream",
     "text": [
      "Epoch: 828 | Time: 0m 1s\tTrain Loss: 0.480 | Test Loss: 189.318\n",
      "epoch start:  828\n",
      "training ...\n"
     ]
    },
    {
     "name": "stderr",
     "output_type": "stream",
     "text": [
      "280it [00:01, 164.91it/s]\n",
      "120it [00:00, 1709.14it/s]\n",
      "14it [00:00, 138.97it/s]"
     ]
    },
    {
     "name": "stdout",
     "output_type": "stream",
     "text": [
      "Epoch: 829 | Time: 0m 1s\tTrain Loss: 0.482 | Test Loss: 186.545\n",
      "epoch start:  829\n",
      "training ...\n"
     ]
    },
    {
     "name": "stderr",
     "output_type": "stream",
     "text": [
      "280it [00:01, 150.34it/s]\n",
      "120it [00:00, 1695.72it/s]\n",
      "15it [00:00, 144.59it/s]"
     ]
    },
    {
     "name": "stdout",
     "output_type": "stream",
     "text": [
      "Epoch: 830 | Time: 0m 1s\tTrain Loss: 0.468 | Test Loss: 189.051\n",
      "epoch start:  830\n",
      "training ...\n"
     ]
    },
    {
     "name": "stderr",
     "output_type": "stream",
     "text": [
      "280it [00:01, 146.81it/s]\n",
      "120it [00:00, 1737.92it/s]\n",
      "15it [00:00, 147.40it/s]"
     ]
    },
    {
     "name": "stdout",
     "output_type": "stream",
     "text": [
      "Epoch: 831 | Time: 0m 1s\tTrain Loss: 0.470 | Test Loss: 187.472\n",
      "epoch start:  831\n",
      "training ...\n"
     ]
    },
    {
     "name": "stderr",
     "output_type": "stream",
     "text": [
      "280it [00:01, 152.30it/s]\n",
      "120it [00:00, 1637.90it/s]\n",
      "16it [00:00, 155.57it/s]"
     ]
    },
    {
     "name": "stdout",
     "output_type": "stream",
     "text": [
      "Epoch: 832 | Time: 0m 1s\tTrain Loss: 0.477 | Test Loss: 188.053\n",
      "epoch start:  832\n",
      "training ...\n"
     ]
    },
    {
     "name": "stderr",
     "output_type": "stream",
     "text": [
      "280it [00:01, 149.66it/s]\n",
      "120it [00:00, 1504.67it/s]\n",
      "22it [00:00, 219.84it/s]"
     ]
    },
    {
     "name": "stdout",
     "output_type": "stream",
     "text": [
      "Epoch: 833 | Time: 0m 1s\tTrain Loss: 0.473 | Test Loss: 190.982\n",
      "epoch start:  833\n",
      "training ...\n"
     ]
    },
    {
     "name": "stderr",
     "output_type": "stream",
     "text": [
      "280it [00:01, 210.79it/s]\n",
      "120it [00:00, 1660.56it/s]\n",
      "15it [00:00, 149.59it/s]"
     ]
    },
    {
     "name": "stdout",
     "output_type": "stream",
     "text": [
      "Epoch: 834 | Time: 0m 1s\tTrain Loss: 0.466 | Test Loss: 190.439\n",
      "epoch start:  834\n",
      "training ...\n"
     ]
    },
    {
     "name": "stderr",
     "output_type": "stream",
     "text": [
      "280it [00:01, 154.46it/s]\n",
      "120it [00:00, 1723.37it/s]\n",
      "15it [00:00, 143.82it/s]"
     ]
    },
    {
     "name": "stdout",
     "output_type": "stream",
     "text": [
      "Epoch: 835 | Time: 0m 1s\tTrain Loss: 0.491 | Test Loss: 190.101\n",
      "epoch start:  835\n",
      "training ...\n"
     ]
    },
    {
     "name": "stderr",
     "output_type": "stream",
     "text": [
      "280it [00:01, 154.93it/s]\n",
      "120it [00:00, 1613.10it/s]\n",
      "15it [00:00, 148.64it/s]"
     ]
    },
    {
     "name": "stdout",
     "output_type": "stream",
     "text": [
      "Epoch: 836 | Time: 0m 1s\tTrain Loss: 0.466 | Test Loss: 189.354\n",
      "epoch start:  836\n",
      "training ...\n"
     ]
    },
    {
     "name": "stderr",
     "output_type": "stream",
     "text": [
      "280it [00:02, 136.87it/s]\n",
      "120it [00:00, 1776.88it/s]\n",
      "14it [00:00, 134.69it/s]"
     ]
    },
    {
     "name": "stdout",
     "output_type": "stream",
     "text": [
      "Epoch: 837 | Time: 0m 2s\tTrain Loss: 0.479 | Test Loss: 187.080\n",
      "epoch start:  837\n",
      "training ...\n"
     ]
    },
    {
     "name": "stderr",
     "output_type": "stream",
     "text": [
      "280it [00:02, 138.18it/s]\n",
      "120it [00:00, 1771.38it/s]\n",
      "14it [00:00, 139.43it/s]"
     ]
    },
    {
     "name": "stdout",
     "output_type": "stream",
     "text": [
      "Epoch: 838 | Time: 0m 2s\tTrain Loss: 0.474 | Test Loss: 193.084\n",
      "epoch start:  838\n",
      "training ...\n"
     ]
    },
    {
     "name": "stderr",
     "output_type": "stream",
     "text": [
      "280it [00:01, 140.12it/s]\n",
      "120it [00:00, 1723.06it/s]\n",
      "14it [00:00, 134.34it/s]"
     ]
    },
    {
     "name": "stdout",
     "output_type": "stream",
     "text": [
      "Epoch: 839 | Time: 0m 2s\tTrain Loss: 0.493 | Test Loss: 194.741\n",
      "epoch start:  839\n",
      "training ...\n"
     ]
    },
    {
     "name": "stderr",
     "output_type": "stream",
     "text": [
      "280it [00:02, 136.97it/s]\n",
      "120it [00:00, 1801.74it/s]\n",
      "14it [00:00, 134.13it/s]"
     ]
    },
    {
     "name": "stdout",
     "output_type": "stream",
     "text": [
      "Epoch: 840 | Time: 0m 2s\tTrain Loss: 0.473 | Test Loss: 193.640\n",
      "epoch start:  840\n",
      "training ...\n"
     ]
    },
    {
     "name": "stderr",
     "output_type": "stream",
     "text": [
      "280it [00:01, 141.65it/s]\n",
      "120it [00:00, 1763.42it/s]\n",
      "14it [00:00, 138.17it/s]"
     ]
    },
    {
     "name": "stdout",
     "output_type": "stream",
     "text": [
      "Epoch: 841 | Time: 0m 2s\tTrain Loss: 0.474 | Test Loss: 190.924\n",
      "epoch start:  841\n",
      "training ...\n"
     ]
    },
    {
     "name": "stderr",
     "output_type": "stream",
     "text": [
      "280it [00:02, 139.12it/s]\n",
      "120it [00:00, 1786.60it/s]\n",
      "13it [00:00, 129.38it/s]"
     ]
    },
    {
     "name": "stdout",
     "output_type": "stream",
     "text": [
      "Epoch: 842 | Time: 0m 2s\tTrain Loss: 0.476 | Test Loss: 187.725\n",
      "epoch start:  842\n",
      "training ...\n"
     ]
    },
    {
     "name": "stderr",
     "output_type": "stream",
     "text": [
      "280it [00:02, 139.62it/s]\n",
      "120it [00:00, 1734.73it/s]\n",
      "19it [00:00, 181.92it/s]"
     ]
    },
    {
     "name": "stdout",
     "output_type": "stream",
     "text": [
      "Epoch: 843 | Time: 0m 2s\tTrain Loss: 0.468 | Test Loss: 191.257\n",
      "epoch start:  843\n",
      "training ...\n"
     ]
    },
    {
     "name": "stderr",
     "output_type": "stream",
     "text": [
      "280it [00:01, 161.97it/s]\n",
      "120it [00:00, 1712.25it/s]\n",
      "16it [00:00, 156.44it/s]"
     ]
    },
    {
     "name": "stdout",
     "output_type": "stream",
     "text": [
      "Epoch: 844 | Time: 0m 1s\tTrain Loss: 0.473 | Test Loss: 187.337\n",
      "epoch start:  844\n",
      "training ...\n"
     ]
    },
    {
     "name": "stderr",
     "output_type": "stream",
     "text": [
      "280it [00:01, 152.56it/s]\n",
      "120it [00:00, 1801.21it/s]\n",
      "16it [00:00, 150.75it/s]"
     ]
    },
    {
     "name": "stdout",
     "output_type": "stream",
     "text": [
      "Epoch: 845 | Time: 0m 1s\tTrain Loss: 0.473 | Test Loss: 185.110\n",
      "epoch start:  845\n",
      "training ...\n"
     ]
    },
    {
     "name": "stderr",
     "output_type": "stream",
     "text": [
      "280it [00:01, 159.63it/s]\n",
      "120it [00:00, 1720.09it/s]\n",
      "16it [00:00, 151.47it/s]"
     ]
    },
    {
     "name": "stdout",
     "output_type": "stream",
     "text": [
      "Epoch: 846 | Time: 0m 1s\tTrain Loss: 0.469 | Test Loss: 188.565\n",
      "epoch start:  846\n",
      "training ...\n"
     ]
    },
    {
     "name": "stderr",
     "output_type": "stream",
     "text": [
      "280it [00:01, 148.74it/s]\n",
      "120it [00:00, 1805.16it/s]\n",
      "8it [00:00, 66.91it/s]"
     ]
    },
    {
     "name": "stdout",
     "output_type": "stream",
     "text": [
      "Epoch: 847 | Time: 0m 1s\tTrain Loss: 0.472 | Test Loss: 193.506\n",
      "epoch start:  847\n",
      "training ...\n"
     ]
    },
    {
     "name": "stderr",
     "output_type": "stream",
     "text": [
      "280it [00:02, 138.65it/s]\n",
      "120it [00:00, 1791.80it/s]\n",
      "14it [00:00, 138.09it/s]"
     ]
    },
    {
     "name": "stdout",
     "output_type": "stream",
     "text": [
      "Epoch: 848 | Time: 0m 2s\tTrain Loss: 0.474 | Test Loss: 192.303\n",
      "epoch start:  848\n",
      "training ...\n"
     ]
    },
    {
     "name": "stderr",
     "output_type": "stream",
     "text": [
      "280it [00:01, 140.11it/s]\n",
      "120it [00:00, 1770.65it/s]\n",
      "15it [00:00, 139.83it/s]"
     ]
    },
    {
     "name": "stdout",
     "output_type": "stream",
     "text": [
      "Epoch: 849 | Time: 0m 2s\tTrain Loss: 0.476 | Test Loss: 191.517\n",
      "epoch start:  849\n",
      "training ...\n"
     ]
    },
    {
     "name": "stderr",
     "output_type": "stream",
     "text": [
      "280it [00:02, 137.79it/s]\n",
      "120it [00:00, 1796.30it/s]\n",
      "14it [00:00, 139.24it/s]"
     ]
    },
    {
     "name": "stdout",
     "output_type": "stream",
     "text": [
      "Epoch: 850 | Time: 0m 2s\tTrain Loss: 0.468 | Test Loss: 190.321\n",
      "epoch start:  850\n",
      "training ...\n"
     ]
    },
    {
     "name": "stderr",
     "output_type": "stream",
     "text": [
      "280it [00:02, 139.02it/s]\n",
      "120it [00:00, 1803.47it/s]\n",
      "13it [00:00, 129.83it/s]"
     ]
    },
    {
     "name": "stdout",
     "output_type": "stream",
     "text": [
      "Epoch: 851 | Time: 0m 2s\tTrain Loss: 0.479 | Test Loss: 187.553\n",
      "epoch start:  851\n",
      "training ...\n"
     ]
    },
    {
     "name": "stderr",
     "output_type": "stream",
     "text": [
      "280it [00:02, 138.59it/s]\n",
      "120it [00:00, 1688.55it/s]\n",
      "15it [00:00, 142.84it/s]"
     ]
    },
    {
     "name": "stdout",
     "output_type": "stream",
     "text": [
      "Epoch: 852 | Time: 0m 2s\tTrain Loss: 0.479 | Test Loss: 191.237\n",
      "epoch start:  852\n",
      "training ...\n"
     ]
    },
    {
     "name": "stderr",
     "output_type": "stream",
     "text": [
      "280it [00:02, 138.62it/s]\n",
      "120it [00:00, 1819.19it/s]\n",
      "15it [00:00, 145.87it/s]"
     ]
    },
    {
     "name": "stdout",
     "output_type": "stream",
     "text": [
      "Epoch: 853 | Time: 0m 2s\tTrain Loss: 0.483 | Test Loss: 188.528\n",
      "epoch start:  853\n",
      "training ...\n"
     ]
    },
    {
     "name": "stderr",
     "output_type": "stream",
     "text": [
      "280it [00:02, 137.92it/s]\n",
      "120it [00:00, 1735.90it/s]\n",
      "16it [00:00, 149.69it/s]"
     ]
    },
    {
     "name": "stdout",
     "output_type": "stream",
     "text": [
      "Epoch: 854 | Time: 0m 2s\tTrain Loss: 0.471 | Test Loss: 191.628\n",
      "epoch start:  854\n",
      "training ...\n"
     ]
    },
    {
     "name": "stderr",
     "output_type": "stream",
     "text": [
      "280it [00:02, 139.02it/s]\n",
      "120it [00:00, 1788.10it/s]\n",
      "15it [00:00, 143.78it/s]"
     ]
    },
    {
     "name": "stdout",
     "output_type": "stream",
     "text": [
      "Epoch: 855 | Time: 0m 2s\tTrain Loss: 0.468 | Test Loss: 190.888\n",
      "epoch start:  855\n",
      "training ...\n"
     ]
    },
    {
     "name": "stderr",
     "output_type": "stream",
     "text": [
      "280it [00:02, 139.37it/s]\n",
      "120it [00:00, 1734.78it/s]\n",
      "14it [00:00, 139.66it/s]"
     ]
    },
    {
     "name": "stdout",
     "output_type": "stream",
     "text": [
      "Epoch: 856 | Time: 0m 2s\tTrain Loss: 0.470 | Test Loss: 187.768\n",
      "epoch start:  856\n",
      "training ...\n"
     ]
    },
    {
     "name": "stderr",
     "output_type": "stream",
     "text": [
      "280it [00:02, 138.14it/s]\n",
      "120it [00:00, 1812.77it/s]\n",
      "15it [00:00, 139.61it/s]"
     ]
    },
    {
     "name": "stdout",
     "output_type": "stream",
     "text": [
      "Epoch: 857 | Time: 0m 2s\tTrain Loss: 0.476 | Test Loss: 185.095\n",
      "epoch start:  857\n",
      "training ...\n"
     ]
    },
    {
     "name": "stderr",
     "output_type": "stream",
     "text": [
      "280it [00:02, 139.06it/s]\n",
      "120it [00:00, 1809.01it/s]\n",
      "15it [00:00, 139.59it/s]"
     ]
    },
    {
     "name": "stdout",
     "output_type": "stream",
     "text": [
      "Epoch: 858 | Time: 0m 2s\tTrain Loss: 0.475 | Test Loss: 191.945\n",
      "epoch start:  858\n",
      "training ...\n"
     ]
    },
    {
     "name": "stderr",
     "output_type": "stream",
     "text": [
      "280it [00:02, 137.07it/s]\n",
      "120it [00:00, 1768.25it/s]\n",
      "15it [00:00, 140.27it/s]"
     ]
    },
    {
     "name": "stdout",
     "output_type": "stream",
     "text": [
      "Epoch: 859 | Time: 0m 2s\tTrain Loss: 0.462 | Test Loss: 188.737\n",
      "epoch start:  859\n",
      "training ...\n"
     ]
    },
    {
     "name": "stderr",
     "output_type": "stream",
     "text": [
      "280it [00:02, 138.08it/s]\n",
      "120it [00:00, 1806.33it/s]\n",
      "15it [00:00, 140.35it/s]"
     ]
    },
    {
     "name": "stdout",
     "output_type": "stream",
     "text": [
      "Epoch: 860 | Time: 0m 2s\tTrain Loss: 0.472 | Test Loss: 192.208\n",
      "epoch start:  860\n",
      "training ...\n"
     ]
    },
    {
     "name": "stderr",
     "output_type": "stream",
     "text": [
      "280it [00:02, 138.72it/s]\n",
      "120it [00:00, 1729.71it/s]\n",
      "15it [00:00, 148.23it/s]"
     ]
    },
    {
     "name": "stdout",
     "output_type": "stream",
     "text": [
      "Epoch: 861 | Time: 0m 2s\tTrain Loss: 0.461 | Test Loss: 195.912\n",
      "epoch start:  861\n",
      "training ...\n"
     ]
    },
    {
     "name": "stderr",
     "output_type": "stream",
     "text": [
      "280it [00:02, 137.04it/s]\n",
      "120it [00:00, 1757.52it/s]\n",
      "14it [00:00, 138.72it/s]"
     ]
    },
    {
     "name": "stdout",
     "output_type": "stream",
     "text": [
      "Epoch: 862 | Time: 0m 2s\tTrain Loss: 0.472 | Test Loss: 191.591\n",
      "epoch start:  862\n",
      "training ...\n"
     ]
    },
    {
     "name": "stderr",
     "output_type": "stream",
     "text": [
      "280it [00:02, 138.38it/s]\n",
      "120it [00:00, 1796.10it/s]\n",
      "14it [00:00, 135.98it/s]"
     ]
    },
    {
     "name": "stdout",
     "output_type": "stream",
     "text": [
      "Epoch: 863 | Time: 0m 2s\tTrain Loss: 0.470 | Test Loss: 187.335\n",
      "epoch start:  863\n",
      "training ...\n"
     ]
    },
    {
     "name": "stderr",
     "output_type": "stream",
     "text": [
      "280it [00:02, 139.44it/s]\n",
      "120it [00:00, 1785.02it/s]\n",
      "15it [00:00, 142.83it/s]"
     ]
    },
    {
     "name": "stdout",
     "output_type": "stream",
     "text": [
      "Epoch: 864 | Time: 0m 2s\tTrain Loss: 0.468 | Test Loss: 188.928\n",
      "epoch start:  864\n",
      "training ...\n"
     ]
    },
    {
     "name": "stderr",
     "output_type": "stream",
     "text": [
      "280it [00:02, 136.45it/s]\n",
      "120it [00:00, 1799.60it/s]\n",
      "15it [00:00, 145.26it/s]"
     ]
    },
    {
     "name": "stdout",
     "output_type": "stream",
     "text": [
      "Epoch: 865 | Time: 0m 2s\tTrain Loss: 0.477 | Test Loss: 187.678\n",
      "epoch start:  865\n",
      "training ...\n"
     ]
    },
    {
     "name": "stderr",
     "output_type": "stream",
     "text": [
      "280it [00:02, 137.76it/s]\n",
      "120it [00:00, 1747.26it/s]\n",
      "16it [00:00, 151.69it/s]"
     ]
    },
    {
     "name": "stdout",
     "output_type": "stream",
     "text": [
      "Epoch: 866 | Time: 0m 2s\tTrain Loss: 0.473 | Test Loss: 190.406\n",
      "epoch start:  866\n",
      "training ...\n"
     ]
    },
    {
     "name": "stderr",
     "output_type": "stream",
     "text": [
      "280it [00:02, 138.84it/s]\n",
      "120it [00:00, 1799.31it/s]\n",
      "14it [00:00, 139.71it/s]"
     ]
    },
    {
     "name": "stdout",
     "output_type": "stream",
     "text": [
      "Epoch: 867 | Time: 0m 2s\tTrain Loss: 0.465 | Test Loss: 187.618\n",
      "epoch start:  867\n",
      "training ...\n"
     ]
    },
    {
     "name": "stderr",
     "output_type": "stream",
     "text": [
      "280it [00:01, 142.24it/s]\n",
      "120it [00:00, 1744.71it/s]\n",
      "14it [00:00, 139.04it/s]"
     ]
    },
    {
     "name": "stdout",
     "output_type": "stream",
     "text": [
      "Epoch: 868 | Time: 0m 2s\tTrain Loss: 0.472 | Test Loss: 191.144\n",
      "epoch start:  868\n",
      "training ...\n"
     ]
    },
    {
     "name": "stderr",
     "output_type": "stream",
     "text": [
      "280it [00:02, 139.71it/s]\n",
      "120it [00:00, 1774.63it/s]\n",
      "15it [00:00, 145.11it/s]"
     ]
    },
    {
     "name": "stdout",
     "output_type": "stream",
     "text": [
      "Epoch: 869 | Time: 0m 2s\tTrain Loss: 0.462 | Test Loss: 189.291\n",
      "epoch start:  869\n",
      "training ...\n"
     ]
    },
    {
     "name": "stderr",
     "output_type": "stream",
     "text": [
      "280it [00:02, 137.43it/s]\n",
      "120it [00:00, 1764.83it/s]\n",
      "15it [00:00, 139.66it/s]"
     ]
    },
    {
     "name": "stdout",
     "output_type": "stream",
     "text": [
      "Epoch: 870 | Time: 0m 2s\tTrain Loss: 0.467 | Test Loss: 195.867\n",
      "epoch start:  870\n",
      "training ...\n"
     ]
    },
    {
     "name": "stderr",
     "output_type": "stream",
     "text": [
      "280it [00:02, 137.73it/s]\n",
      "120it [00:00, 1755.06it/s]\n",
      "16it [00:00, 156.79it/s]"
     ]
    },
    {
     "name": "stdout",
     "output_type": "stream",
     "text": [
      "Epoch: 871 | Time: 0m 2s\tTrain Loss: 0.469 | Test Loss: 190.855\n",
      "epoch start:  871\n",
      "training ...\n"
     ]
    },
    {
     "name": "stderr",
     "output_type": "stream",
     "text": [
      "280it [00:02, 139.93it/s]\n",
      "120it [00:00, 1801.91it/s]\n",
      "15it [00:00, 143.87it/s]"
     ]
    },
    {
     "name": "stdout",
     "output_type": "stream",
     "text": [
      "Epoch: 872 | Time: 0m 2s\tTrain Loss: 0.475 | Test Loss: 189.683\n",
      "epoch start:  872\n",
      "training ...\n"
     ]
    },
    {
     "name": "stderr",
     "output_type": "stream",
     "text": [
      "280it [00:01, 140.39it/s]\n",
      "120it [00:00, 1771.47it/s]\n",
      "15it [00:00, 147.72it/s]"
     ]
    },
    {
     "name": "stdout",
     "output_type": "stream",
     "text": [
      "Epoch: 873 | Time: 0m 2s\tTrain Loss: 0.488 | Test Loss: 186.763\n",
      "epoch start:  873\n",
      "training ...\n"
     ]
    },
    {
     "name": "stderr",
     "output_type": "stream",
     "text": [
      "280it [00:02, 139.47it/s]\n",
      "120it [00:00, 1731.45it/s]\n",
      "14it [00:00, 135.16it/s]"
     ]
    },
    {
     "name": "stdout",
     "output_type": "stream",
     "text": [
      "Epoch: 874 | Time: 0m 2s\tTrain Loss: 0.471 | Test Loss: 185.286\n",
      "epoch start:  874\n",
      "training ...\n"
     ]
    },
    {
     "name": "stderr",
     "output_type": "stream",
     "text": [
      "280it [00:02, 136.97it/s]\n",
      "120it [00:00, 1834.74it/s]\n",
      "14it [00:00, 137.71it/s]"
     ]
    },
    {
     "name": "stdout",
     "output_type": "stream",
     "text": [
      "Epoch: 875 | Time: 0m 2s\tTrain Loss: 0.463 | Test Loss: 190.692\n",
      "epoch start:  875\n",
      "training ...\n"
     ]
    },
    {
     "name": "stderr",
     "output_type": "stream",
     "text": [
      "280it [00:02, 138.85it/s]\n",
      "120it [00:00, 1830.04it/s]\n",
      "15it [00:00, 141.49it/s]"
     ]
    },
    {
     "name": "stdout",
     "output_type": "stream",
     "text": [
      "Epoch: 876 | Time: 0m 2s\tTrain Loss: 0.473 | Test Loss: 187.822\n",
      "epoch start:  876\n",
      "training ...\n"
     ]
    },
    {
     "name": "stderr",
     "output_type": "stream",
     "text": [
      "280it [00:02, 136.55it/s]\n",
      "120it [00:00, 1799.09it/s]\n",
      "14it [00:00, 138.03it/s]"
     ]
    },
    {
     "name": "stdout",
     "output_type": "stream",
     "text": [
      "Epoch: 877 | Time: 0m 2s\tTrain Loss: 0.459 | Test Loss: 190.078\n",
      "epoch start:  877\n",
      "training ...\n"
     ]
    },
    {
     "name": "stderr",
     "output_type": "stream",
     "text": [
      "280it [00:02, 136.94it/s]\n",
      "120it [00:00, 1792.60it/s]\n",
      "15it [00:00, 140.44it/s]"
     ]
    },
    {
     "name": "stdout",
     "output_type": "stream",
     "text": [
      "Epoch: 878 | Time: 0m 2s\tTrain Loss: 0.471 | Test Loss: 185.534\n",
      "epoch start:  878\n",
      "training ...\n"
     ]
    },
    {
     "name": "stderr",
     "output_type": "stream",
     "text": [
      "280it [00:02, 138.23it/s]\n",
      "120it [00:00, 1698.99it/s]\n",
      "16it [00:00, 152.39it/s]"
     ]
    },
    {
     "name": "stdout",
     "output_type": "stream",
     "text": [
      "Epoch: 879 | Time: 0m 2s\tTrain Loss: 0.464 | Test Loss: 193.617\n",
      "epoch start:  879\n",
      "training ...\n"
     ]
    },
    {
     "name": "stderr",
     "output_type": "stream",
     "text": [
      "280it [00:02, 138.31it/s]\n",
      "120it [00:00, 1826.41it/s]\n",
      "14it [00:00, 138.38it/s]"
     ]
    },
    {
     "name": "stdout",
     "output_type": "stream",
     "text": [
      "Epoch: 880 | Time: 0m 2s\tTrain Loss: 0.477 | Test Loss: 193.784\n",
      "epoch start:  880\n",
      "training ...\n"
     ]
    },
    {
     "name": "stderr",
     "output_type": "stream",
     "text": [
      "280it [00:02, 139.71it/s]\n",
      "120it [00:00, 1713.71it/s]\n",
      "15it [00:00, 142.42it/s]"
     ]
    },
    {
     "name": "stdout",
     "output_type": "stream",
     "text": [
      "Epoch: 881 | Time: 0m 2s\tTrain Loss: 0.466 | Test Loss: 185.935\n",
      "epoch start:  881\n",
      "training ...\n"
     ]
    },
    {
     "name": "stderr",
     "output_type": "stream",
     "text": [
      "280it [00:01, 141.25it/s]\n",
      "120it [00:00, 1703.54it/s]\n",
      "15it [00:00, 141.79it/s]"
     ]
    },
    {
     "name": "stdout",
     "output_type": "stream",
     "text": [
      "Epoch: 882 | Time: 0m 2s\tTrain Loss: 0.474 | Test Loss: 187.377\n",
      "epoch start:  882\n",
      "training ...\n"
     ]
    },
    {
     "name": "stderr",
     "output_type": "stream",
     "text": [
      "280it [00:01, 140.79it/s]\n",
      "120it [00:00, 1700.27it/s]\n",
      "15it [00:00, 149.52it/s]"
     ]
    },
    {
     "name": "stdout",
     "output_type": "stream",
     "text": [
      "Epoch: 883 | Time: 0m 2s\tTrain Loss: 0.462 | Test Loss: 193.464\n",
      "epoch start:  883\n",
      "training ...\n"
     ]
    },
    {
     "name": "stderr",
     "output_type": "stream",
     "text": [
      "280it [00:01, 144.52it/s]\n",
      "120it [00:00, 1212.33it/s]\n",
      "14it [00:00, 139.83it/s]"
     ]
    },
    {
     "name": "stdout",
     "output_type": "stream",
     "text": [
      "Epoch: 884 | Time: 0m 2s\tTrain Loss: 0.477 | Test Loss: 190.419\n",
      "epoch start:  884\n",
      "training ...\n"
     ]
    },
    {
     "name": "stderr",
     "output_type": "stream",
     "text": [
      "280it [00:01, 157.81it/s]\n",
      "120it [00:00, 1491.73it/s]\n",
      "15it [00:00, 141.65it/s]"
     ]
    },
    {
     "name": "stdout",
     "output_type": "stream",
     "text": [
      "Epoch: 885 | Time: 0m 1s\tTrain Loss: 0.466 | Test Loss: 188.846\n",
      "epoch start:  885\n",
      "training ...\n"
     ]
    },
    {
     "name": "stderr",
     "output_type": "stream",
     "text": [
      "280it [00:02, 139.37it/s]\n",
      "120it [00:00, 1712.82it/s]\n",
      "14it [00:00, 136.69it/s]"
     ]
    },
    {
     "name": "stdout",
     "output_type": "stream",
     "text": [
      "Epoch: 886 | Time: 0m 2s\tTrain Loss: 0.469 | Test Loss: 186.679\n",
      "epoch start:  886\n",
      "training ...\n"
     ]
    },
    {
     "name": "stderr",
     "output_type": "stream",
     "text": [
      "280it [00:01, 143.19it/s]\n",
      "120it [00:00, 1689.07it/s]\n",
      "15it [00:00, 147.36it/s]"
     ]
    },
    {
     "name": "stdout",
     "output_type": "stream",
     "text": [
      "Epoch: 887 | Time: 0m 2s\tTrain Loss: 0.467 | Test Loss: 194.717\n",
      "epoch start:  887\n",
      "training ...\n"
     ]
    },
    {
     "name": "stderr",
     "output_type": "stream",
     "text": [
      "280it [00:01, 142.14it/s]\n",
      "120it [00:00, 1712.58it/s]\n",
      "15it [00:00, 148.21it/s]"
     ]
    },
    {
     "name": "stdout",
     "output_type": "stream",
     "text": [
      "Epoch: 888 | Time: 0m 2s\tTrain Loss: 0.468 | Test Loss: 188.049\n",
      "epoch start:  888\n",
      "training ...\n"
     ]
    },
    {
     "name": "stderr",
     "output_type": "stream",
     "text": [
      "280it [00:01, 142.95it/s]\n",
      "120it [00:00, 1755.58it/s]\n",
      "14it [00:00, 139.45it/s]"
     ]
    },
    {
     "name": "stdout",
     "output_type": "stream",
     "text": [
      "Epoch: 889 | Time: 0m 2s\tTrain Loss: 0.473 | Test Loss: 192.937\n",
      "epoch start:  889\n",
      "training ...\n"
     ]
    },
    {
     "name": "stderr",
     "output_type": "stream",
     "text": [
      "280it [00:02, 138.52it/s]\n",
      "120it [00:00, 1805.14it/s]\n",
      "14it [00:00, 132.86it/s]"
     ]
    },
    {
     "name": "stdout",
     "output_type": "stream",
     "text": [
      "Epoch: 890 | Time: 0m 2s\tTrain Loss: 0.463 | Test Loss: 189.502\n",
      "epoch start:  890\n",
      "training ...\n"
     ]
    },
    {
     "name": "stderr",
     "output_type": "stream",
     "text": [
      "280it [00:01, 142.63it/s]\n",
      "120it [00:00, 1750.36it/s]\n",
      "14it [00:00, 134.24it/s]"
     ]
    },
    {
     "name": "stdout",
     "output_type": "stream",
     "text": [
      "Epoch: 891 | Time: 0m 2s\tTrain Loss: 0.467 | Test Loss: 190.912\n",
      "epoch start:  891\n",
      "training ...\n"
     ]
    },
    {
     "name": "stderr",
     "output_type": "stream",
     "text": [
      "280it [00:01, 143.67it/s]\n",
      "120it [00:00, 1707.58it/s]\n",
      "15it [00:00, 142.10it/s]"
     ]
    },
    {
     "name": "stdout",
     "output_type": "stream",
     "text": [
      "Epoch: 892 | Time: 0m 2s\tTrain Loss: 0.457 | Test Loss: 195.666\n",
      "epoch start:  892\n",
      "training ...\n"
     ]
    },
    {
     "name": "stderr",
     "output_type": "stream",
     "text": [
      "280it [00:01, 144.00it/s]\n",
      "120it [00:00, 1710.48it/s]\n",
      "15it [00:00, 147.00it/s]"
     ]
    },
    {
     "name": "stdout",
     "output_type": "stream",
     "text": [
      "Epoch: 893 | Time: 0m 2s\tTrain Loss: 0.474 | Test Loss: 191.692\n",
      "epoch start:  893\n",
      "training ...\n"
     ]
    },
    {
     "name": "stderr",
     "output_type": "stream",
     "text": [
      "280it [00:01, 141.65it/s]\n",
      "120it [00:00, 1696.47it/s]\n",
      "15it [00:00, 147.39it/s]"
     ]
    },
    {
     "name": "stdout",
     "output_type": "stream",
     "text": [
      "Epoch: 894 | Time: 0m 2s\tTrain Loss: 0.458 | Test Loss: 192.259\n",
      "epoch start:  894\n",
      "training ...\n"
     ]
    },
    {
     "name": "stderr",
     "output_type": "stream",
     "text": [
      "280it [00:01, 141.73it/s]\n",
      "120it [00:00, 1721.08it/s]\n",
      "15it [00:00, 145.00it/s]"
     ]
    },
    {
     "name": "stdout",
     "output_type": "stream",
     "text": [
      "Epoch: 895 | Time: 0m 2s\tTrain Loss: 0.465 | Test Loss: 193.636\n",
      "epoch start:  895\n",
      "training ...\n"
     ]
    },
    {
     "name": "stderr",
     "output_type": "stream",
     "text": [
      "280it [00:02, 138.35it/s]\n",
      "120it [00:00, 1784.10it/s]\n",
      "13it [00:00, 128.29it/s]"
     ]
    },
    {
     "name": "stdout",
     "output_type": "stream",
     "text": [
      "Epoch: 896 | Time: 0m 2s\tTrain Loss: 0.458 | Test Loss: 189.127\n",
      "epoch start:  896\n",
      "training ...\n"
     ]
    },
    {
     "name": "stderr",
     "output_type": "stream",
     "text": [
      "280it [00:02, 137.07it/s]\n",
      "120it [00:00, 1779.08it/s]\n",
      "15it [00:00, 141.73it/s]"
     ]
    },
    {
     "name": "stdout",
     "output_type": "stream",
     "text": [
      "Epoch: 897 | Time: 0m 2s\tTrain Loss: 0.467 | Test Loss: 188.901\n",
      "epoch start:  897\n",
      "training ...\n"
     ]
    },
    {
     "name": "stderr",
     "output_type": "stream",
     "text": [
      "280it [00:02, 137.00it/s]\n",
      "120it [00:00, 1785.26it/s]\n",
      "14it [00:00, 130.54it/s]"
     ]
    },
    {
     "name": "stdout",
     "output_type": "stream",
     "text": [
      "Epoch: 898 | Time: 0m 2s\tTrain Loss: 0.472 | Test Loss: 190.928\n",
      "epoch start:  898\n",
      "training ...\n"
     ]
    },
    {
     "name": "stderr",
     "output_type": "stream",
     "text": [
      "280it [00:02, 136.33it/s]\n",
      "120it [00:00, 1803.49it/s]\n",
      "14it [00:00, 137.50it/s]"
     ]
    },
    {
     "name": "stdout",
     "output_type": "stream",
     "text": [
      "Epoch: 899 | Time: 0m 2s\tTrain Loss: 0.455 | Test Loss: 190.771\n",
      "epoch start:  899\n",
      "training ...\n"
     ]
    },
    {
     "name": "stderr",
     "output_type": "stream",
     "text": [
      "280it [00:02, 138.66it/s]\n",
      "120it [00:00, 1727.73it/s]\n",
      "15it [00:00, 143.26it/s]"
     ]
    },
    {
     "name": "stdout",
     "output_type": "stream",
     "text": [
      "Epoch: 900 | Time: 0m 2s\tTrain Loss: 0.471 | Test Loss: 189.091\n",
      "epoch start:  900\n",
      "training ...\n"
     ]
    },
    {
     "name": "stderr",
     "output_type": "stream",
     "text": [
      "280it [00:02, 133.54it/s]\n",
      "120it [00:00, 1749.50it/s]\n",
      "14it [00:00, 134.77it/s]"
     ]
    },
    {
     "name": "stdout",
     "output_type": "stream",
     "text": [
      "Epoch: 901 | Time: 0m 2s\tTrain Loss: 0.464 | Test Loss: 189.965\n",
      "epoch start:  901\n",
      "training ...\n"
     ]
    },
    {
     "name": "stderr",
     "output_type": "stream",
     "text": [
      "280it [00:01, 142.16it/s]\n",
      "120it [00:00, 1775.86it/s]\n",
      "16it [00:00, 156.54it/s]"
     ]
    },
    {
     "name": "stdout",
     "output_type": "stream",
     "text": [
      "Epoch: 902 | Time: 0m 2s\tTrain Loss: 0.460 | Test Loss: 195.749\n",
      "epoch start:  902\n",
      "training ...\n"
     ]
    },
    {
     "name": "stderr",
     "output_type": "stream",
     "text": [
      "280it [00:01, 182.32it/s]\n",
      "120it [00:00, 1843.41it/s]\n",
      "21it [00:00, 203.33it/s]"
     ]
    },
    {
     "name": "stdout",
     "output_type": "stream",
     "text": [
      "Epoch: 903 | Time: 0m 1s\tTrain Loss: 0.469 | Test Loss: 191.063\n",
      "epoch start:  903\n",
      "training ...\n"
     ]
    },
    {
     "name": "stderr",
     "output_type": "stream",
     "text": [
      "280it [00:01, 155.99it/s]\n",
      "120it [00:00, 1788.21it/s]\n",
      "18it [00:00, 179.82it/s]"
     ]
    },
    {
     "name": "stdout",
     "output_type": "stream",
     "text": [
      "Epoch: 904 | Time: 0m 1s\tTrain Loss: 0.468 | Test Loss: 190.791\n",
      "epoch start:  904\n",
      "training ...\n"
     ]
    },
    {
     "name": "stderr",
     "output_type": "stream",
     "text": [
      "280it [00:01, 152.00it/s]\n",
      "120it [00:00, 1804.78it/s]\n",
      "16it [00:00, 155.04it/s]"
     ]
    },
    {
     "name": "stdout",
     "output_type": "stream",
     "text": [
      "Epoch: 905 | Time: 0m 1s\tTrain Loss: 0.463 | Test Loss: 187.897\n",
      "epoch start:  905\n",
      "training ...\n"
     ]
    },
    {
     "name": "stderr",
     "output_type": "stream",
     "text": [
      "280it [00:01, 157.16it/s]\n",
      "120it [00:00, 1669.39it/s]\n",
      "17it [00:00, 165.71it/s]"
     ]
    },
    {
     "name": "stdout",
     "output_type": "stream",
     "text": [
      "Epoch: 906 | Time: 0m 1s\tTrain Loss: 0.462 | Test Loss: 187.750\n",
      "epoch start:  906\n",
      "training ...\n"
     ]
    },
    {
     "name": "stderr",
     "output_type": "stream",
     "text": [
      "280it [00:01, 153.57it/s]\n",
      "120it [00:00, 1687.64it/s]\n",
      "18it [00:00, 171.64it/s]"
     ]
    },
    {
     "name": "stdout",
     "output_type": "stream",
     "text": [
      "Epoch: 907 | Time: 0m 1s\tTrain Loss: 0.462 | Test Loss: 189.221\n",
      "epoch start:  907\n",
      "training ...\n"
     ]
    },
    {
     "name": "stderr",
     "output_type": "stream",
     "text": [
      "280it [00:01, 152.57it/s]\n",
      "120it [00:00, 1801.75it/s]\n",
      "16it [00:00, 155.15it/s]"
     ]
    },
    {
     "name": "stdout",
     "output_type": "stream",
     "text": [
      "Epoch: 908 | Time: 0m 1s\tTrain Loss: 0.461 | Test Loss: 194.767\n",
      "epoch start:  908\n",
      "training ...\n"
     ]
    },
    {
     "name": "stderr",
     "output_type": "stream",
     "text": [
      "280it [00:01, 148.06it/s]\n",
      "120it [00:00, 1721.20it/s]\n",
      "22it [00:00, 215.89it/s]"
     ]
    },
    {
     "name": "stdout",
     "output_type": "stream",
     "text": [
      "Epoch: 909 | Time: 0m 1s\tTrain Loss: 0.454 | Test Loss: 187.401\n",
      "epoch start:  909\n",
      "training ...\n"
     ]
    },
    {
     "name": "stderr",
     "output_type": "stream",
     "text": [
      "280it [00:01, 170.13it/s]\n",
      "120it [00:00, 1753.00it/s]\n",
      "15it [00:00, 143.92it/s]"
     ]
    },
    {
     "name": "stdout",
     "output_type": "stream",
     "text": [
      "Epoch: 910 | Time: 0m 1s\tTrain Loss: 0.459 | Test Loss: 196.665\n",
      "epoch start:  910\n",
      "training ...\n"
     ]
    },
    {
     "name": "stderr",
     "output_type": "stream",
     "text": [
      "280it [00:01, 147.40it/s]\n",
      "120it [00:00, 1905.93it/s]\n",
      "24it [00:00, 236.74it/s]"
     ]
    },
    {
     "name": "stdout",
     "output_type": "stream",
     "text": [
      "Epoch: 911 | Time: 0m 1s\tTrain Loss: 0.457 | Test Loss: 187.552\n",
      "epoch start:  911\n",
      "training ...\n"
     ]
    },
    {
     "name": "stderr",
     "output_type": "stream",
     "text": [
      "280it [00:01, 211.15it/s]\n",
      "120it [00:00, 1785.58it/s]\n",
      "16it [00:00, 155.06it/s]"
     ]
    },
    {
     "name": "stdout",
     "output_type": "stream",
     "text": [
      "Epoch: 912 | Time: 0m 1s\tTrain Loss: 0.492 | Test Loss: 186.375\n",
      "epoch start:  912\n",
      "training ...\n"
     ]
    },
    {
     "name": "stderr",
     "output_type": "stream",
     "text": [
      "280it [00:01, 161.63it/s]\n",
      "120it [00:00, 1558.49it/s]\n",
      "17it [00:00, 167.73it/s]"
     ]
    },
    {
     "name": "stdout",
     "output_type": "stream",
     "text": [
      "Epoch: 913 | Time: 0m 1s\tTrain Loss: 0.462 | Test Loss: 186.519\n",
      "epoch start:  913\n",
      "training ...\n"
     ]
    },
    {
     "name": "stderr",
     "output_type": "stream",
     "text": [
      "280it [00:01, 169.74it/s]\n",
      "120it [00:00, 1575.45it/s]\n",
      "20it [00:00, 191.89it/s]"
     ]
    },
    {
     "name": "stdout",
     "output_type": "stream",
     "text": [
      "Epoch: 914 | Time: 0m 1s\tTrain Loss: 0.456 | Test Loss: 192.931\n",
      "epoch start:  914\n",
      "training ...\n"
     ]
    },
    {
     "name": "stderr",
     "output_type": "stream",
     "text": [
      "280it [00:01, 178.01it/s]\n",
      "120it [00:00, 1706.41it/s]\n",
      "17it [00:00, 168.08it/s]"
     ]
    },
    {
     "name": "stdout",
     "output_type": "stream",
     "text": [
      "Epoch: 915 | Time: 0m 1s\tTrain Loss: 0.468 | Test Loss: 186.936\n",
      "epoch start:  915\n",
      "training ...\n"
     ]
    },
    {
     "name": "stderr",
     "output_type": "stream",
     "text": [
      "280it [00:01, 173.03it/s]\n",
      "120it [00:00, 1563.74it/s]\n",
      "17it [00:00, 168.36it/s]"
     ]
    },
    {
     "name": "stdout",
     "output_type": "stream",
     "text": [
      "Epoch: 916 | Time: 0m 1s\tTrain Loss: 0.457 | Test Loss: 189.045\n",
      "epoch start:  916\n",
      "training ...\n"
     ]
    },
    {
     "name": "stderr",
     "output_type": "stream",
     "text": [
      "280it [00:01, 177.67it/s]\n",
      "120it [00:00, 1664.90it/s]\n",
      "20it [00:00, 195.94it/s]"
     ]
    },
    {
     "name": "stdout",
     "output_type": "stream",
     "text": [
      "Epoch: 917 | Time: 0m 1s\tTrain Loss: 0.461 | Test Loss: 192.210\n",
      "epoch start:  917\n",
      "training ...\n"
     ]
    },
    {
     "name": "stderr",
     "output_type": "stream",
     "text": [
      "280it [00:01, 173.05it/s]\n",
      "120it [00:00, 1715.16it/s]\n",
      "14it [00:00, 137.65it/s]"
     ]
    },
    {
     "name": "stdout",
     "output_type": "stream",
     "text": [
      "Epoch: 918 | Time: 0m 1s\tTrain Loss: 0.460 | Test Loss: 188.225\n",
      "epoch start:  918\n",
      "training ...\n"
     ]
    },
    {
     "name": "stderr",
     "output_type": "stream",
     "text": [
      "280it [00:01, 153.23it/s]\n",
      "120it [00:00, 1709.44it/s]\n",
      "16it [00:00, 152.03it/s]"
     ]
    },
    {
     "name": "stdout",
     "output_type": "stream",
     "text": [
      "Epoch: 919 | Time: 0m 1s\tTrain Loss: 0.454 | Test Loss: 192.847\n",
      "epoch start:  919\n",
      "training ...\n"
     ]
    },
    {
     "name": "stderr",
     "output_type": "stream",
     "text": [
      "280it [00:01, 152.69it/s]\n",
      "120it [00:00, 1827.34it/s]\n",
      "16it [00:00, 156.86it/s]"
     ]
    },
    {
     "name": "stdout",
     "output_type": "stream",
     "text": [
      "Epoch: 920 | Time: 0m 1s\tTrain Loss: 0.474 | Test Loss: 187.171\n",
      "epoch start:  920\n",
      "training ...\n"
     ]
    },
    {
     "name": "stderr",
     "output_type": "stream",
     "text": [
      "280it [00:01, 153.65it/s]\n",
      "120it [00:00, 1716.50it/s]\n",
      "23it [00:00, 229.02it/s]"
     ]
    },
    {
     "name": "stdout",
     "output_type": "stream",
     "text": [
      "Epoch: 921 | Time: 0m 1s\tTrain Loss: 0.474 | Test Loss: 192.127\n",
      "epoch start:  921\n",
      "training ...\n"
     ]
    },
    {
     "name": "stderr",
     "output_type": "stream",
     "text": [
      "280it [00:01, 156.62it/s]\n",
      "120it [00:00, 1780.08it/s]\n",
      "16it [00:00, 151.96it/s]"
     ]
    },
    {
     "name": "stdout",
     "output_type": "stream",
     "text": [
      "Epoch: 922 | Time: 0m 1s\tTrain Loss: 0.457 | Test Loss: 188.302\n",
      "epoch start:  922\n",
      "training ...\n"
     ]
    },
    {
     "name": "stderr",
     "output_type": "stream",
     "text": [
      "280it [00:01, 151.27it/s]\n",
      "120it [00:00, 1737.44it/s]\n",
      "16it [00:00, 156.49it/s]"
     ]
    },
    {
     "name": "stdout",
     "output_type": "stream",
     "text": [
      "Epoch: 923 | Time: 0m 1s\tTrain Loss: 0.462 | Test Loss: 187.867\n",
      "epoch start:  923\n",
      "training ...\n"
     ]
    },
    {
     "name": "stderr",
     "output_type": "stream",
     "text": [
      "280it [00:01, 148.53it/s]\n",
      "120it [00:00, 1825.73it/s]\n",
      "21it [00:00, 201.18it/s]"
     ]
    },
    {
     "name": "stdout",
     "output_type": "stream",
     "text": [
      "Epoch: 924 | Time: 0m 1s\tTrain Loss: 0.453 | Test Loss: 187.175\n",
      "epoch start:  924\n",
      "training ...\n"
     ]
    },
    {
     "name": "stderr",
     "output_type": "stream",
     "text": [
      "280it [00:01, 194.32it/s]\n",
      "120it [00:00, 1633.43it/s]\n",
      "17it [00:00, 166.61it/s]"
     ]
    },
    {
     "name": "stdout",
     "output_type": "stream",
     "text": [
      "Epoch: 925 | Time: 0m 1s\tTrain Loss: 0.466 | Test Loss: 191.948\n",
      "epoch start:  925\n",
      "training ...\n"
     ]
    },
    {
     "name": "stderr",
     "output_type": "stream",
     "text": [
      "280it [00:01, 164.85it/s]\n",
      "120it [00:00, 1610.03it/s]\n",
      "16it [00:00, 152.12it/s]"
     ]
    },
    {
     "name": "stdout",
     "output_type": "stream",
     "text": [
      "Epoch: 926 | Time: 0m 1s\tTrain Loss: 0.461 | Test Loss: 189.800\n",
      "epoch start:  926\n",
      "training ...\n"
     ]
    },
    {
     "name": "stderr",
     "output_type": "stream",
     "text": [
      "280it [00:01, 169.63it/s]\n",
      "120it [00:00, 1541.40it/s]\n",
      "16it [00:00, 158.35it/s]"
     ]
    },
    {
     "name": "stdout",
     "output_type": "stream",
     "text": [
      "Epoch: 927 | Time: 0m 1s\tTrain Loss: 0.453 | Test Loss: 186.943\n",
      "epoch start:  927\n",
      "training ...\n"
     ]
    },
    {
     "name": "stderr",
     "output_type": "stream",
     "text": [
      "280it [00:01, 160.64it/s]\n",
      "120it [00:00, 1515.66it/s]\n",
      "16it [00:00, 158.21it/s]"
     ]
    },
    {
     "name": "stdout",
     "output_type": "stream",
     "text": [
      "Epoch: 928 | Time: 0m 1s\tTrain Loss: 0.453 | Test Loss: 183.785\n",
      "epoch start:  928\n",
      "training ...\n"
     ]
    },
    {
     "name": "stderr",
     "output_type": "stream",
     "text": [
      "280it [00:01, 161.87it/s]\n",
      "120it [00:00, 1464.15it/s]\n",
      "22it [00:00, 214.50it/s]"
     ]
    },
    {
     "name": "stdout",
     "output_type": "stream",
     "text": [
      "Epoch: 929 | Time: 0m 1s\tTrain Loss: 0.448 | Test Loss: 186.158\n",
      "epoch start:  929\n",
      "training ...\n"
     ]
    },
    {
     "name": "stderr",
     "output_type": "stream",
     "text": [
      "280it [00:01, 164.10it/s]\n",
      "120it [00:00, 1632.63it/s]\n",
      "16it [00:00, 159.86it/s]"
     ]
    },
    {
     "name": "stdout",
     "output_type": "stream",
     "text": [
      "Epoch: 930 | Time: 0m 1s\tTrain Loss: 0.463 | Test Loss: 191.357\n",
      "epoch start:  930\n",
      "training ...\n"
     ]
    },
    {
     "name": "stderr",
     "output_type": "stream",
     "text": [
      "280it [00:01, 165.16it/s]\n",
      "120it [00:00, 1627.06it/s]\n",
      "19it [00:00, 184.32it/s]"
     ]
    },
    {
     "name": "stdout",
     "output_type": "stream",
     "text": [
      "Epoch: 931 | Time: 0m 1s\tTrain Loss: 0.454 | Test Loss: 189.566\n",
      "epoch start:  931\n",
      "training ...\n"
     ]
    },
    {
     "name": "stderr",
     "output_type": "stream",
     "text": [
      "280it [00:01, 172.04it/s]\n",
      "120it [00:00, 1589.32it/s]\n",
      "19it [00:00, 181.20it/s]"
     ]
    },
    {
     "name": "stdout",
     "output_type": "stream",
     "text": [
      "Epoch: 932 | Time: 0m 1s\tTrain Loss: 0.471 | Test Loss: 190.575\n",
      "epoch start:  932\n",
      "training ...\n"
     ]
    },
    {
     "name": "stderr",
     "output_type": "stream",
     "text": [
      "280it [00:01, 174.86it/s]\n",
      "120it [00:00, 1773.25it/s]\n",
      "18it [00:00, 171.91it/s]"
     ]
    },
    {
     "name": "stdout",
     "output_type": "stream",
     "text": [
      "Epoch: 933 | Time: 0m 1s\tTrain Loss: 0.456 | Test Loss: 189.461\n",
      "epoch start:  933\n",
      "training ...\n"
     ]
    },
    {
     "name": "stderr",
     "output_type": "stream",
     "text": [
      "280it [00:01, 163.81it/s]\n",
      "120it [00:00, 1603.06it/s]\n",
      "16it [00:00, 149.96it/s]"
     ]
    },
    {
     "name": "stdout",
     "output_type": "stream",
     "text": [
      "Epoch: 934 | Time: 0m 1s\tTrain Loss: 0.455 | Test Loss: 187.953\n",
      "epoch start:  934\n",
      "training ...\n"
     ]
    },
    {
     "name": "stderr",
     "output_type": "stream",
     "text": [
      "280it [00:01, 161.68it/s]\n",
      "120it [00:00, 1520.82it/s]\n",
      "15it [00:00, 148.69it/s]"
     ]
    },
    {
     "name": "stdout",
     "output_type": "stream",
     "text": [
      "Epoch: 935 | Time: 0m 1s\tTrain Loss: 0.462 | Test Loss: 187.026\n",
      "epoch start:  935\n",
      "training ...\n"
     ]
    },
    {
     "name": "stderr",
     "output_type": "stream",
     "text": [
      "280it [00:01, 163.82it/s]\n",
      "120it [00:00, 1741.69it/s]\n",
      "19it [00:00, 187.28it/s]"
     ]
    },
    {
     "name": "stdout",
     "output_type": "stream",
     "text": [
      "Epoch: 936 | Time: 0m 1s\tTrain Loss: 0.451 | Test Loss: 188.289\n",
      "epoch start:  936\n",
      "training ...\n"
     ]
    },
    {
     "name": "stderr",
     "output_type": "stream",
     "text": [
      "280it [00:01, 166.49it/s]\n",
      "120it [00:00, 1627.68it/s]\n",
      "17it [00:00, 164.95it/s]"
     ]
    },
    {
     "name": "stdout",
     "output_type": "stream",
     "text": [
      "Epoch: 937 | Time: 0m 1s\tTrain Loss: 0.455 | Test Loss: 194.599\n",
      "epoch start:  937\n",
      "training ...\n"
     ]
    },
    {
     "name": "stderr",
     "output_type": "stream",
     "text": [
      "280it [00:01, 165.34it/s]\n",
      "120it [00:00, 1618.07it/s]\n",
      "16it [00:00, 159.16it/s]"
     ]
    },
    {
     "name": "stdout",
     "output_type": "stream",
     "text": [
      "Epoch: 938 | Time: 0m 1s\tTrain Loss: 0.463 | Test Loss: 185.502\n",
      "epoch start:  938\n",
      "training ...\n"
     ]
    },
    {
     "name": "stderr",
     "output_type": "stream",
     "text": [
      "280it [00:01, 161.39it/s]\n",
      "120it [00:00, 1593.87it/s]\n",
      "19it [00:00, 180.63it/s]"
     ]
    },
    {
     "name": "stdout",
     "output_type": "stream",
     "text": [
      "Epoch: 939 | Time: 0m 1s\tTrain Loss: 0.457 | Test Loss: 190.856\n",
      "epoch start:  939\n",
      "training ...\n"
     ]
    },
    {
     "name": "stderr",
     "output_type": "stream",
     "text": [
      "280it [00:01, 167.36it/s]\n",
      "120it [00:00, 1570.93it/s]\n",
      "16it [00:00, 151.08it/s]"
     ]
    },
    {
     "name": "stdout",
     "output_type": "stream",
     "text": [
      "Epoch: 940 | Time: 0m 1s\tTrain Loss: 0.459 | Test Loss: 188.239\n",
      "epoch start:  940\n",
      "training ...\n"
     ]
    },
    {
     "name": "stderr",
     "output_type": "stream",
     "text": [
      "280it [00:01, 159.47it/s]\n",
      "120it [00:00, 1604.44it/s]\n",
      "15it [00:00, 138.10it/s]"
     ]
    },
    {
     "name": "stdout",
     "output_type": "stream",
     "text": [
      "Epoch: 941 | Time: 0m 1s\tTrain Loss: 0.447 | Test Loss: 185.622\n",
      "epoch start:  941\n",
      "training ...\n"
     ]
    },
    {
     "name": "stderr",
     "output_type": "stream",
     "text": [
      "280it [00:01, 180.22it/s]\n",
      "120it [00:00, 1439.41it/s]\n",
      "21it [00:00, 208.70it/s]"
     ]
    },
    {
     "name": "stdout",
     "output_type": "stream",
     "text": [
      "Epoch: 942 | Time: 0m 1s\tTrain Loss: 0.449 | Test Loss: 187.862\n",
      "epoch start:  942\n",
      "training ...\n"
     ]
    },
    {
     "name": "stderr",
     "output_type": "stream",
     "text": [
      "280it [00:01, 229.66it/s]\n",
      "120it [00:00, 1551.00it/s]\n",
      "17it [00:00, 161.76it/s]"
     ]
    },
    {
     "name": "stdout",
     "output_type": "stream",
     "text": [
      "Epoch: 943 | Time: 0m 1s\tTrain Loss: 0.464 | Test Loss: 190.620\n",
      "epoch start:  943\n",
      "training ...\n"
     ]
    },
    {
     "name": "stderr",
     "output_type": "stream",
     "text": [
      "280it [00:01, 168.28it/s]\n",
      "120it [00:00, 1804.90it/s]\n",
      "17it [00:00, 164.75it/s]"
     ]
    },
    {
     "name": "stdout",
     "output_type": "stream",
     "text": [
      "Epoch: 944 | Time: 0m 1s\tTrain Loss: 0.453 | Test Loss: 190.537\n",
      "epoch start:  944\n",
      "training ...\n"
     ]
    },
    {
     "name": "stderr",
     "output_type": "stream",
     "text": [
      "280it [00:01, 148.26it/s]\n",
      "120it [00:00, 1752.92it/s]\n",
      "16it [00:00, 153.92it/s]"
     ]
    },
    {
     "name": "stdout",
     "output_type": "stream",
     "text": [
      "Epoch: 945 | Time: 0m 1s\tTrain Loss: 0.452 | Test Loss: 186.759\n",
      "epoch start:  945\n",
      "training ...\n"
     ]
    },
    {
     "name": "stderr",
     "output_type": "stream",
     "text": [
      "280it [00:01, 168.25it/s]\n",
      "120it [00:00, 1690.15it/s]\n",
      "16it [00:00, 153.35it/s]"
     ]
    },
    {
     "name": "stdout",
     "output_type": "stream",
     "text": [
      "Epoch: 946 | Time: 0m 1s\tTrain Loss: 0.455 | Test Loss: 187.400\n",
      "epoch start:  946\n",
      "training ...\n"
     ]
    },
    {
     "name": "stderr",
     "output_type": "stream",
     "text": [
      "280it [00:01, 155.90it/s]\n",
      "120it [00:00, 1636.56it/s]\n",
      "16it [00:00, 159.98it/s]"
     ]
    },
    {
     "name": "stdout",
     "output_type": "stream",
     "text": [
      "Epoch: 947 | Time: 0m 1s\tTrain Loss: 0.454 | Test Loss: 184.551\n",
      "epoch start:  947\n",
      "training ...\n"
     ]
    },
    {
     "name": "stderr",
     "output_type": "stream",
     "text": [
      "280it [00:01, 157.23it/s]\n",
      "120it [00:00, 1639.31it/s]\n",
      "16it [00:00, 152.40it/s]"
     ]
    },
    {
     "name": "stdout",
     "output_type": "stream",
     "text": [
      "Epoch: 948 | Time: 0m 1s\tTrain Loss: 0.450 | Test Loss: 190.115\n",
      "epoch start:  948\n",
      "training ...\n"
     ]
    },
    {
     "name": "stderr",
     "output_type": "stream",
     "text": [
      "280it [00:01, 161.73it/s]\n",
      "120it [00:00, 1587.14it/s]\n",
      "17it [00:00, 167.65it/s]"
     ]
    },
    {
     "name": "stdout",
     "output_type": "stream",
     "text": [
      "Epoch: 949 | Time: 0m 1s\tTrain Loss: 0.468 | Test Loss: 180.671\n",
      "epoch start:  949\n",
      "training ...\n"
     ]
    },
    {
     "name": "stderr",
     "output_type": "stream",
     "text": [
      "280it [00:01, 169.82it/s]\n",
      "120it [00:00, 1574.51it/s]\n",
      "18it [00:00, 177.84it/s]"
     ]
    },
    {
     "name": "stdout",
     "output_type": "stream",
     "text": [
      "Epoch: 950 | Time: 0m 1s\tTrain Loss: 0.461 | Test Loss: 193.437\n",
      "epoch start:  950\n",
      "training ...\n"
     ]
    },
    {
     "name": "stderr",
     "output_type": "stream",
     "text": [
      "280it [00:01, 178.42it/s]\n",
      "120it [00:00, 1742.05it/s]\n",
      "18it [00:00, 172.86it/s]"
     ]
    },
    {
     "name": "stdout",
     "output_type": "stream",
     "text": [
      "Epoch: 951 | Time: 0m 1s\tTrain Loss: 0.452 | Test Loss: 190.598\n",
      "epoch start:  951\n",
      "training ...\n"
     ]
    },
    {
     "name": "stderr",
     "output_type": "stream",
     "text": [
      "280it [00:01, 171.52it/s]\n",
      "120it [00:00, 1628.52it/s]\n",
      "16it [00:00, 154.80it/s]"
     ]
    },
    {
     "name": "stdout",
     "output_type": "stream",
     "text": [
      "Epoch: 952 | Time: 0m 1s\tTrain Loss: 0.454 | Test Loss: 185.861\n",
      "epoch start:  952\n",
      "training ...\n"
     ]
    },
    {
     "name": "stderr",
     "output_type": "stream",
     "text": [
      "280it [00:01, 161.12it/s]\n",
      "120it [00:00, 1610.34it/s]\n",
      "22it [00:00, 213.54it/s]"
     ]
    },
    {
     "name": "stdout",
     "output_type": "stream",
     "text": [
      "Epoch: 953 | Time: 0m 1s\tTrain Loss: 0.450 | Test Loss: 186.085\n",
      "epoch start:  953\n",
      "training ...\n"
     ]
    },
    {
     "name": "stderr",
     "output_type": "stream",
     "text": [
      "280it [00:01, 165.13it/s]\n",
      "120it [00:00, 1673.38it/s]\n",
      "20it [00:00, 192.71it/s]"
     ]
    },
    {
     "name": "stdout",
     "output_type": "stream",
     "text": [
      "Epoch: 954 | Time: 0m 1s\tTrain Loss: 0.459 | Test Loss: 183.547\n",
      "epoch start:  954\n",
      "training ...\n"
     ]
    },
    {
     "name": "stderr",
     "output_type": "stream",
     "text": [
      "280it [00:01, 147.33it/s]\n",
      "120it [00:00, 1792.68it/s]\n",
      "0it [00:00, ?it/s]"
     ]
    },
    {
     "name": "stdout",
     "output_type": "stream",
     "text": [
      "Epoch: 955 | Time: 0m 1s\tTrain Loss: 0.450 | Test Loss: 189.743\n",
      "epoch start:  955\n",
      "training ...\n"
     ]
    },
    {
     "name": "stderr",
     "output_type": "stream",
     "text": [
      "280it [00:02, 123.60it/s]\n",
      "120it [00:00, 1790.16it/s]\n",
      "14it [00:00, 135.85it/s]"
     ]
    },
    {
     "name": "stdout",
     "output_type": "stream",
     "text": [
      "Epoch: 956 | Time: 0m 2s\tTrain Loss: 0.462 | Test Loss: 192.323\n",
      "epoch start:  956\n",
      "training ...\n"
     ]
    },
    {
     "name": "stderr",
     "output_type": "stream",
     "text": [
      "280it [00:02, 138.97it/s]\n",
      "120it [00:00, 1793.10it/s]\n",
      "14it [00:00, 134.85it/s]"
     ]
    },
    {
     "name": "stdout",
     "output_type": "stream",
     "text": [
      "Epoch: 957 | Time: 0m 2s\tTrain Loss: 0.452 | Test Loss: 188.303\n",
      "epoch start:  957\n",
      "training ...\n"
     ]
    },
    {
     "name": "stderr",
     "output_type": "stream",
     "text": [
      "280it [00:02, 138.21it/s]\n",
      "120it [00:00, 1780.13it/s]\n",
      "14it [00:00, 139.36it/s]"
     ]
    },
    {
     "name": "stdout",
     "output_type": "stream",
     "text": [
      "Epoch: 958 | Time: 0m 2s\tTrain Loss: 0.457 | Test Loss: 185.393\n",
      "epoch start:  958\n",
      "training ...\n"
     ]
    },
    {
     "name": "stderr",
     "output_type": "stream",
     "text": [
      "280it [00:02, 138.36it/s]\n",
      "120it [00:00, 1811.58it/s]\n",
      "14it [00:00, 139.11it/s]"
     ]
    },
    {
     "name": "stdout",
     "output_type": "stream",
     "text": [
      "Epoch: 959 | Time: 0m 2s\tTrain Loss: 0.450 | Test Loss: 182.571\n",
      "epoch start:  959\n",
      "training ...\n"
     ]
    },
    {
     "name": "stderr",
     "output_type": "stream",
     "text": [
      "280it [00:02, 137.18it/s]\n",
      "120it [00:00, 1777.99it/s]\n",
      "13it [00:00, 129.80it/s]"
     ]
    },
    {
     "name": "stdout",
     "output_type": "stream",
     "text": [
      "Epoch: 960 | Time: 0m 2s\tTrain Loss: 0.451 | Test Loss: 185.086\n",
      "epoch start:  960\n",
      "training ...\n"
     ]
    },
    {
     "name": "stderr",
     "output_type": "stream",
     "text": [
      "280it [00:01, 140.16it/s]\n",
      "120it [00:00, 1823.70it/s]\n",
      "14it [00:00, 134.87it/s]"
     ]
    },
    {
     "name": "stdout",
     "output_type": "stream",
     "text": [
      "Epoch: 961 | Time: 0m 2s\tTrain Loss: 0.453 | Test Loss: 188.902\n",
      "epoch start:  961\n",
      "training ...\n"
     ]
    },
    {
     "name": "stderr",
     "output_type": "stream",
     "text": [
      "280it [00:02, 137.68it/s]\n",
      "120it [00:00, 1759.05it/s]\n",
      "15it [00:00, 140.56it/s]"
     ]
    },
    {
     "name": "stdout",
     "output_type": "stream",
     "text": [
      "Epoch: 962 | Time: 0m 2s\tTrain Loss: 0.446 | Test Loss: 189.873\n",
      "epoch start:  962\n",
      "training ...\n"
     ]
    },
    {
     "name": "stderr",
     "output_type": "stream",
     "text": [
      "280it [00:02, 139.99it/s]\n",
      "120it [00:00, 1773.56it/s]\n",
      "14it [00:00, 135.56it/s]"
     ]
    },
    {
     "name": "stdout",
     "output_type": "stream",
     "text": [
      "Epoch: 963 | Time: 0m 2s\tTrain Loss: 0.454 | Test Loss: 185.440\n",
      "epoch start:  963\n",
      "training ...\n"
     ]
    },
    {
     "name": "stderr",
     "output_type": "stream",
     "text": [
      "280it [00:01, 141.34it/s]\n",
      "120it [00:00, 1793.43it/s]\n",
      "14it [00:00, 139.61it/s]"
     ]
    },
    {
     "name": "stdout",
     "output_type": "stream",
     "text": [
      "Epoch: 964 | Time: 0m 2s\tTrain Loss: 0.448 | Test Loss: 188.749\n",
      "epoch start:  964\n",
      "training ...\n"
     ]
    },
    {
     "name": "stderr",
     "output_type": "stream",
     "text": [
      "280it [00:02, 137.06it/s]\n",
      "120it [00:00, 1745.25it/s]\n",
      "15it [00:00, 143.98it/s]"
     ]
    },
    {
     "name": "stdout",
     "output_type": "stream",
     "text": [
      "Epoch: 965 | Time: 0m 2s\tTrain Loss: 0.453 | Test Loss: 188.692\n",
      "epoch start:  965\n",
      "training ...\n"
     ]
    },
    {
     "name": "stderr",
     "output_type": "stream",
     "text": [
      "280it [00:02, 139.31it/s]\n",
      "120it [00:00, 1809.42it/s]\n",
      "16it [00:00, 149.01it/s]"
     ]
    },
    {
     "name": "stdout",
     "output_type": "stream",
     "text": [
      "Epoch: 966 | Time: 0m 2s\tTrain Loss: 0.454 | Test Loss: 187.435\n",
      "epoch start:  966\n",
      "training ...\n"
     ]
    },
    {
     "name": "stderr",
     "output_type": "stream",
     "text": [
      "280it [00:01, 140.47it/s]\n",
      "120it [00:00, 1807.12it/s]\n",
      "15it [00:00, 145.64it/s]"
     ]
    },
    {
     "name": "stdout",
     "output_type": "stream",
     "text": [
      "Epoch: 967 | Time: 0m 2s\tTrain Loss: 0.465 | Test Loss: 185.804\n",
      "epoch start:  967\n",
      "training ...\n"
     ]
    },
    {
     "name": "stderr",
     "output_type": "stream",
     "text": [
      "280it [00:02, 137.64it/s]\n",
      "120it [00:00, 1791.33it/s]\n",
      "14it [00:00, 132.76it/s]"
     ]
    },
    {
     "name": "stdout",
     "output_type": "stream",
     "text": [
      "Epoch: 968 | Time: 0m 2s\tTrain Loss: 0.458 | Test Loss: 187.988\n",
      "epoch start:  968\n",
      "training ...\n"
     ]
    },
    {
     "name": "stderr",
     "output_type": "stream",
     "text": [
      "280it [00:02, 135.45it/s]\n",
      "120it [00:00, 1755.79it/s]\n",
      "15it [00:00, 142.10it/s]"
     ]
    },
    {
     "name": "stdout",
     "output_type": "stream",
     "text": [
      "Epoch: 969 | Time: 0m 2s\tTrain Loss: 0.454 | Test Loss: 182.122\n",
      "epoch start:  969\n",
      "training ...\n"
     ]
    },
    {
     "name": "stderr",
     "output_type": "stream",
     "text": [
      "280it [00:02, 138.84it/s]\n",
      "120it [00:00, 1799.85it/s]\n",
      "14it [00:00, 136.29it/s]"
     ]
    },
    {
     "name": "stdout",
     "output_type": "stream",
     "text": [
      "Epoch: 970 | Time: 0m 2s\tTrain Loss: 0.448 | Test Loss: 188.405\n",
      "epoch start:  970\n",
      "training ...\n"
     ]
    },
    {
     "name": "stderr",
     "output_type": "stream",
     "text": [
      "280it [00:02, 137.68it/s]\n",
      "120it [00:00, 1721.62it/s]\n",
      "14it [00:00, 139.06it/s]"
     ]
    },
    {
     "name": "stdout",
     "output_type": "stream",
     "text": [
      "Epoch: 971 | Time: 0m 2s\tTrain Loss: 0.455 | Test Loss: 190.705\n",
      "epoch start:  971\n",
      "training ...\n"
     ]
    },
    {
     "name": "stderr",
     "output_type": "stream",
     "text": [
      "280it [00:01, 142.09it/s]\n",
      "120it [00:00, 1705.05it/s]\n",
      "15it [00:00, 146.39it/s]"
     ]
    },
    {
     "name": "stdout",
     "output_type": "stream",
     "text": [
      "Epoch: 972 | Time: 0m 2s\tTrain Loss: 0.440 | Test Loss: 193.816\n",
      "epoch start:  972\n",
      "training ...\n"
     ]
    },
    {
     "name": "stderr",
     "output_type": "stream",
     "text": [
      "280it [00:01, 143.21it/s]\n",
      "120it [00:00, 1733.63it/s]\n",
      "15it [00:00, 144.91it/s]"
     ]
    },
    {
     "name": "stdout",
     "output_type": "stream",
     "text": [
      "Epoch: 973 | Time: 0m 2s\tTrain Loss: 0.456 | Test Loss: 183.797\n",
      "epoch start:  973\n",
      "training ...\n"
     ]
    },
    {
     "name": "stderr",
     "output_type": "stream",
     "text": [
      "280it [00:01, 145.47it/s]\n",
      "120it [00:00, 1705.45it/s]\n",
      "15it [00:00, 142.18it/s]"
     ]
    },
    {
     "name": "stdout",
     "output_type": "stream",
     "text": [
      "Epoch: 974 | Time: 0m 1s\tTrain Loss: 0.463 | Test Loss: 187.080\n",
      "epoch start:  974\n",
      "training ...\n"
     ]
    },
    {
     "name": "stderr",
     "output_type": "stream",
     "text": [
      "280it [00:01, 144.83it/s]\n",
      "120it [00:00, 1711.98it/s]\n",
      "14it [00:00, 136.36it/s]"
     ]
    },
    {
     "name": "stdout",
     "output_type": "stream",
     "text": [
      "Epoch: 975 | Time: 0m 2s\tTrain Loss: 0.456 | Test Loss: 186.903\n",
      "epoch start:  975\n",
      "training ...\n"
     ]
    },
    {
     "name": "stderr",
     "output_type": "stream",
     "text": [
      "280it [00:01, 142.38it/s]\n",
      "120it [00:00, 1703.70it/s]\n",
      "15it [00:00, 147.23it/s]"
     ]
    },
    {
     "name": "stdout",
     "output_type": "stream",
     "text": [
      "Epoch: 976 | Time: 0m 2s\tTrain Loss: 0.460 | Test Loss: 184.716\n",
      "epoch start:  976\n",
      "training ...\n"
     ]
    },
    {
     "name": "stderr",
     "output_type": "stream",
     "text": [
      "280it [00:01, 143.28it/s]\n",
      "120it [00:00, 1698.95it/s]\n",
      "15it [00:00, 142.61it/s]"
     ]
    },
    {
     "name": "stdout",
     "output_type": "stream",
     "text": [
      "Epoch: 977 | Time: 0m 2s\tTrain Loss: 0.452 | Test Loss: 188.240\n",
      "epoch start:  977\n",
      "training ...\n"
     ]
    },
    {
     "name": "stderr",
     "output_type": "stream",
     "text": [
      "280it [00:01, 140.87it/s]\n",
      "120it [00:00, 1818.93it/s]\n",
      "15it [00:00, 146.60it/s]"
     ]
    },
    {
     "name": "stdout",
     "output_type": "stream",
     "text": [
      "Epoch: 978 | Time: 0m 2s\tTrain Loss: 0.458 | Test Loss: 187.406\n",
      "epoch start:  978\n",
      "training ...\n"
     ]
    },
    {
     "name": "stderr",
     "output_type": "stream",
     "text": [
      "280it [00:02, 136.49it/s]\n",
      "120it [00:00, 1700.80it/s]\n",
      "14it [00:00, 130.48it/s]"
     ]
    },
    {
     "name": "stdout",
     "output_type": "stream",
     "text": [
      "Epoch: 979 | Time: 0m 2s\tTrain Loss: 0.456 | Test Loss: 181.031\n",
      "epoch start:  979\n",
      "training ...\n"
     ]
    },
    {
     "name": "stderr",
     "output_type": "stream",
     "text": [
      "280it [00:02, 137.84it/s]\n",
      "120it [00:00, 1779.44it/s]\n",
      "15it [00:00, 143.25it/s]"
     ]
    },
    {
     "name": "stdout",
     "output_type": "stream",
     "text": [
      "Epoch: 980 | Time: 0m 2s\tTrain Loss: 0.455 | Test Loss: 182.414\n",
      "epoch start:  980\n",
      "training ...\n"
     ]
    },
    {
     "name": "stderr",
     "output_type": "stream",
     "text": [
      "280it [00:02, 136.71it/s]\n",
      "120it [00:00, 1791.02it/s]\n",
      "15it [00:00, 149.78it/s]"
     ]
    },
    {
     "name": "stdout",
     "output_type": "stream",
     "text": [
      "Epoch: 981 | Time: 0m 2s\tTrain Loss: 0.454 | Test Loss: 185.480\n",
      "epoch start:  981\n",
      "training ...\n"
     ]
    },
    {
     "name": "stderr",
     "output_type": "stream",
     "text": [
      "280it [00:01, 141.95it/s]\n",
      "120it [00:00, 1755.71it/s]\n",
      "15it [00:00, 146.99it/s]"
     ]
    },
    {
     "name": "stdout",
     "output_type": "stream",
     "text": [
      "Epoch: 982 | Time: 0m 2s\tTrain Loss: 0.450 | Test Loss: 184.984\n",
      "epoch start:  982\n",
      "training ...\n"
     ]
    },
    {
     "name": "stderr",
     "output_type": "stream",
     "text": [
      "280it [00:02, 137.86it/s]\n",
      "120it [00:00, 1828.34it/s]\n",
      "14it [00:00, 135.13it/s]"
     ]
    },
    {
     "name": "stdout",
     "output_type": "stream",
     "text": [
      "Epoch: 983 | Time: 0m 2s\tTrain Loss: 0.450 | Test Loss: 185.761\n",
      "epoch start:  983\n",
      "training ...\n"
     ]
    },
    {
     "name": "stderr",
     "output_type": "stream",
     "text": [
      "280it [00:02, 137.61it/s]\n",
      "120it [00:00, 1798.01it/s]\n",
      "14it [00:00, 139.76it/s]"
     ]
    },
    {
     "name": "stdout",
     "output_type": "stream",
     "text": [
      "Epoch: 984 | Time: 0m 2s\tTrain Loss: 0.444 | Test Loss: 186.145\n",
      "epoch start:  984\n",
      "training ...\n"
     ]
    },
    {
     "name": "stderr",
     "output_type": "stream",
     "text": [
      "280it [00:01, 140.96it/s]\n",
      "120it [00:00, 1816.25it/s]\n",
      "15it [00:00, 148.90it/s]"
     ]
    },
    {
     "name": "stdout",
     "output_type": "stream",
     "text": [
      "Epoch: 985 | Time: 0m 2s\tTrain Loss: 0.446 | Test Loss: 188.378\n",
      "epoch start:  985\n",
      "training ...\n"
     ]
    },
    {
     "name": "stderr",
     "output_type": "stream",
     "text": [
      "280it [00:02, 138.90it/s]\n",
      "120it [00:00, 1783.56it/s]\n",
      "14it [00:00, 135.07it/s]"
     ]
    },
    {
     "name": "stdout",
     "output_type": "stream",
     "text": [
      "Epoch: 986 | Time: 0m 2s\tTrain Loss: 0.445 | Test Loss: 190.185\n",
      "epoch start:  986\n",
      "training ...\n"
     ]
    },
    {
     "name": "stderr",
     "output_type": "stream",
     "text": [
      "280it [00:02, 136.59it/s]\n",
      "120it [00:00, 1808.78it/s]\n",
      "14it [00:00, 135.04it/s]"
     ]
    },
    {
     "name": "stdout",
     "output_type": "stream",
     "text": [
      "Epoch: 987 | Time: 0m 2s\tTrain Loss: 0.459 | Test Loss: 188.302\n",
      "epoch start:  987\n",
      "training ...\n"
     ]
    },
    {
     "name": "stderr",
     "output_type": "stream",
     "text": [
      "280it [00:01, 143.19it/s]\n",
      "120it [00:00, 1776.38it/s]\n",
      "14it [00:00, 134.44it/s]"
     ]
    },
    {
     "name": "stdout",
     "output_type": "stream",
     "text": [
      "Epoch: 988 | Time: 0m 2s\tTrain Loss: 0.446 | Test Loss: 186.047\n",
      "epoch start:  988\n",
      "training ...\n"
     ]
    },
    {
     "name": "stderr",
     "output_type": "stream",
     "text": [
      "280it [00:02, 139.47it/s]\n",
      "120it [00:00, 1746.24it/s]\n",
      "14it [00:00, 137.64it/s]"
     ]
    },
    {
     "name": "stdout",
     "output_type": "stream",
     "text": [
      "Epoch: 989 | Time: 0m 2s\tTrain Loss: 0.449 | Test Loss: 183.574\n",
      "epoch start:  989\n",
      "training ...\n"
     ]
    },
    {
     "name": "stderr",
     "output_type": "stream",
     "text": [
      "280it [00:01, 142.53it/s]\n",
      "120it [00:00, 1799.33it/s]\n",
      "16it [00:00, 150.59it/s]"
     ]
    },
    {
     "name": "stdout",
     "output_type": "stream",
     "text": [
      "Epoch: 990 | Time: 0m 2s\tTrain Loss: 0.461 | Test Loss: 182.669\n",
      "epoch start:  990\n",
      "training ...\n"
     ]
    },
    {
     "name": "stderr",
     "output_type": "stream",
     "text": [
      "280it [00:01, 142.04it/s]\n",
      "120it [00:00, 1798.93it/s]\n",
      "14it [00:00, 131.06it/s]"
     ]
    },
    {
     "name": "stdout",
     "output_type": "stream",
     "text": [
      "Epoch: 991 | Time: 0m 2s\tTrain Loss: 0.470 | Test Loss: 188.175\n",
      "epoch start:  991\n",
      "training ...\n"
     ]
    },
    {
     "name": "stderr",
     "output_type": "stream",
     "text": [
      "280it [00:02, 139.14it/s]\n",
      "120it [00:00, 1738.06it/s]\n",
      "15it [00:00, 141.93it/s]"
     ]
    },
    {
     "name": "stdout",
     "output_type": "stream",
     "text": [
      "Epoch: 992 | Time: 0m 2s\tTrain Loss: 0.465 | Test Loss: 185.620\n",
      "epoch start:  992\n",
      "training ...\n"
     ]
    },
    {
     "name": "stderr",
     "output_type": "stream",
     "text": [
      "280it [00:01, 145.32it/s]\n",
      "120it [00:00, 1755.93it/s]\n",
      "15it [00:00, 144.42it/s]"
     ]
    },
    {
     "name": "stdout",
     "output_type": "stream",
     "text": [
      "Epoch: 993 | Time: 0m 1s\tTrain Loss: 0.446 | Test Loss: 184.782\n",
      "epoch start:  993\n",
      "training ...\n"
     ]
    },
    {
     "name": "stderr",
     "output_type": "stream",
     "text": [
      "280it [00:01, 143.39it/s]\n",
      "120it [00:00, 1712.77it/s]\n",
      "16it [00:00, 149.87it/s]"
     ]
    },
    {
     "name": "stdout",
     "output_type": "stream",
     "text": [
      "Epoch: 994 | Time: 0m 2s\tTrain Loss: 0.457 | Test Loss: 184.324\n",
      "epoch start:  994\n",
      "training ...\n"
     ]
    },
    {
     "name": "stderr",
     "output_type": "stream",
     "text": [
      "280it [00:01, 145.83it/s]\n",
      "120it [00:00, 1457.87it/s]\n",
      "17it [00:00, 162.12it/s]"
     ]
    },
    {
     "name": "stdout",
     "output_type": "stream",
     "text": [
      "Epoch: 995 | Time: 0m 2s\tTrain Loss: 0.453 | Test Loss: 189.117\n",
      "epoch start:  995\n",
      "training ...\n"
     ]
    },
    {
     "name": "stderr",
     "output_type": "stream",
     "text": [
      "280it [00:01, 144.04it/s]\n",
      "120it [00:00, 1793.84it/s]\n",
      "15it [00:00, 144.30it/s]"
     ]
    },
    {
     "name": "stdout",
     "output_type": "stream",
     "text": [
      "Epoch: 996 | Time: 0m 2s\tTrain Loss: 0.443 | Test Loss: 185.488\n",
      "epoch start:  996\n",
      "training ...\n"
     ]
    },
    {
     "name": "stderr",
     "output_type": "stream",
     "text": [
      "280it [00:01, 141.38it/s]\n",
      "120it [00:00, 1780.28it/s]\n",
      "15it [00:00, 147.94it/s]"
     ]
    },
    {
     "name": "stdout",
     "output_type": "stream",
     "text": [
      "Epoch: 997 | Time: 0m 2s\tTrain Loss: 0.448 | Test Loss: 185.580\n",
      "epoch start:  997\n",
      "training ...\n"
     ]
    },
    {
     "name": "stderr",
     "output_type": "stream",
     "text": [
      "280it [00:02, 136.32it/s]\n",
      "120it [00:00, 1774.83it/s]\n",
      "14it [00:00, 138.12it/s]"
     ]
    },
    {
     "name": "stdout",
     "output_type": "stream",
     "text": [
      "Epoch: 998 | Time: 0m 2s\tTrain Loss: 0.445 | Test Loss: 179.395\n",
      "epoch start:  998\n",
      "training ...\n"
     ]
    },
    {
     "name": "stderr",
     "output_type": "stream",
     "text": [
      "280it [00:02, 137.71it/s]\n",
      "120it [00:00, 1768.15it/s]\n",
      "16it [00:00, 150.90it/s]"
     ]
    },
    {
     "name": "stdout",
     "output_type": "stream",
     "text": [
      "Epoch: 999 | Time: 0m 2s\tTrain Loss: 0.446 | Test Loss: 185.521\n",
      "epoch start:  999\n",
      "training ...\n"
     ]
    },
    {
     "name": "stderr",
     "output_type": "stream",
     "text": [
      "280it [00:02, 139.37it/s]\n",
      "120it [00:00, 2087.68it/s]"
     ]
    },
    {
     "name": "stdout",
     "output_type": "stream",
     "text": [
      "Epoch: 1000 | Time: 0m 2s\tTrain Loss: 0.452 | Test Loss: 185.484\n"
     ]
    },
    {
     "name": "stderr",
     "output_type": "stream",
     "text": [
      "\n"
     ]
    }
   ],
   "source": [
    "train_eps(1000, 0.0001, 0.01)"
   ]
  },
  {
   "cell_type": "code",
   "execution_count": 10,
   "metadata": {
    "scrolled": true
   },
   "outputs": [
    {
     "data": {
      "text/plain": [
       "tensor([[0., 0., 0.,  ..., 0., 0., 0.],\n",
       "        [0., 0., 0.,  ..., 0., 3., 0.],\n",
       "        [0., 0., 0.,  ..., 0., 0., 0.],\n",
       "        ...,\n",
       "        [0., 0., 0.,  ..., 0., 0., 0.],\n",
       "        [0., 0., 0.,  ..., 0., 0., 0.],\n",
       "        [0., 0., 0.,  ..., 0., 0., 0.]])"
      ]
     },
     "execution_count": 10,
     "metadata": {},
     "output_type": "execute_result"
    }
   ],
   "source": [
    "confusion_matrix[0]"
   ]
  },
  {
   "cell_type": "code",
   "execution_count": 11,
   "metadata": {
    "scrolled": true
   },
   "outputs": [
    {
     "data": {
      "text/plain": [
       "tensor([[2., 0., 0.,  ..., 0., 0., 0.],\n",
       "        [0., 2., 0.,  ..., 0., 0., 0.],\n",
       "        [0., 0., 0.,  ..., 0., 1., 0.],\n",
       "        ...,\n",
       "        [0., 0., 0.,  ..., 3., 0., 0.],\n",
       "        [0., 0., 0.,  ..., 0., 2., 0.],\n",
       "        [0., 0., 0.,  ..., 0., 0., 3.]])"
      ]
     },
     "execution_count": 11,
     "metadata": {},
     "output_type": "execute_result"
    }
   ],
   "source": [
    "confusion_matrix[-1]"
   ]
  },
  {
   "cell_type": "code",
   "execution_count": 12,
   "metadata": {},
   "outputs": [
    {
     "data": {
      "text/plain": [
       "tensor(97.)"
      ]
     },
     "execution_count": 12,
     "metadata": {},
     "output_type": "execute_result"
    }
   ],
   "source": [
    "sum = 0\n",
    "matrix = -1\n",
    "for i in range(confusion_matrix[matrix].shape[0]):\n",
    "    sum = sum + confusion_matrix[matrix][i][i]\n",
    "sum"
   ]
  },
  {
   "cell_type": "code",
   "execution_count": 13,
   "metadata": {},
   "outputs": [
    {
     "name": "stderr",
     "output_type": "stream",
     "text": [
      "120it [00:00, 1208.46it/s]\n"
     ]
    },
    {
     "data": {
      "text/plain": [
       "102.49213423956462"
      ]
     },
     "execution_count": 13,
     "metadata": {},
     "output_type": "execute_result"
    }
   ],
   "source": [
    "optimizer = optim.SGD(fr.parameters(), lr=0.001, momentum=0.9, weight_decay=0.0001, nesterov=False)\n",
    "criterion = nn.CrossEntropyLoss(reduction = 'sum')\n",
    "evaluate(fr, test_data, test_target, criterion, 40)"
   ]
  },
  {
   "cell_type": "code",
   "execution_count": 14,
   "metadata": {},
   "outputs": [
    {
     "data": {
      "image/png": "[encoded data removed]",
      "text/plain": [
       "<Figure size 432x288 with 1 Axes>"
      ]
     },
     "metadata": {
      "needs_background": "light"
     },
     "output_type": "display_data"
    },
    {
     "data": {
      "image/png": "[encoded data removed]",
      "text/plain": [
       "<Figure size 432x288 with 1 Axes>"
      ]
     },
     "metadata": {
      "needs_background": "light"
     },
     "output_type": "display_data"
    },
    {
     "data": {
      "image/png": "[encoded data removed]",
      "text/plain": [
       "<Figure size 432x288 with 1 Axes>"
      ]
     },
     "metadata": {
      "needs_background": "light"
     },
     "output_type": "display_data"
    },
    {
     "data": {
      "image/png": "[encoded data removed]",
      "text/plain": [
       "<Figure size 432x288 with 1 Axes>"
      ]
     },
     "metadata": {
      "needs_background": "light"
     },
     "output_type": "display_data"
    },
    {
     "data": {
      "image/png": "[encoded data removed]",
      "text/plain": [
       "<Figure size 432x288 with 1 Axes>"
      ]
     },
     "metadata": {
      "needs_background": "light"
     },
     "output_type": "display_data"
    },
    {
     "data": {
      "image/png": "[encoded data removed]",
      "text/plain": [
       "<Figure size 432x288 with 1 Axes>"
      ]
     },
     "metadata": {
      "needs_background": "light"
     },
     "output_type": "display_data"
    },
    {
     "data": {
      "image/png": "[encoded data removed]",
      "text/plain": [
       "<Figure size 432x288 with 1 Axes>"
      ]
     },
     "metadata": {
      "needs_background": "light"
     },
     "output_type": "display_data"
    },
    {
     "data": {
      "image/png": "[encoded data removed]",
      "text/plain": [
       "<Figure size 432x288 with 1 Axes>"
      ]
     },
     "metadata": {
      "needs_background": "light"
     },
     "output_type": "display_data"
    },
    {
     "data": {
      "image/png": "[encoded data removed]",
      "text/plain": [
       "<Figure size 432x288 with 1 Axes>"
      ]
     },
     "metadata": {
      "needs_background": "light"
     },
     "output_type": "display_data"
    },
    {
     "data": {
      "image/png": "[encoded data removed]",
      "text/plain": [
       "<Figure size 432x288 with 1 Axes>"
      ]
     },
     "metadata": {
      "needs_background": "light"
     },
     "output_type": "display_data"
    }
   ],
   "source": [
    "for i in range(10):\n",
    "    tensor_to_picture(train_data[i][0][0])"
   ]
  },
  {
   "cell_type": "code",
   "execution_count": 71,
   "metadata": {},
   "outputs": [],
   "source": [
    "for i in range(280):\n",
    "    train_data[i] = dct.idct_2d(train_data[i])\n",
    "    # train_data[i] = dct.idct_2d(imf)"
   ]
  },
  {
   "cell_type": "code",
   "execution_count": 19,
   "metadata": {},
   "outputs": [],
   "source": [
    "for i in range(test_data.shape[0]):\n",
    "    test_data[i] = dct.idct_2d(test_data[i])\n",
    "    # train_data[i] = dct.idct_2d(imf)"
   ]
  },
  {
   "cell_type": "code",
   "execution_count": 20,
   "metadata": {},
   "outputs": [
    {
     "data": {
      "image/png": "[encoded data removed]",
      "text/plain": [
       "<Figure size 432x288 with 1 Axes>"
      ]
     },
     "metadata": {
      "needs_background": "light"
     },
     "output_type": "display_data"
    },
    {
     "data": {
      "image/png": "[encoded data removed]",
      "text/plain": [
       "<Figure size 432x288 with 1 Axes>"
      ]
     },
     "metadata": {
      "needs_background": "light"
     },
     "output_type": "display_data"
    },
    {
     "data": {
      "image/png": "[encoded data removed]",
      "text/plain": [
       "<Figure size 432x288 with 1 Axes>"
      ]
     },
     "metadata": {
      "needs_background": "light"
     },
     "output_type": "display_data"
    },
    {
     "data": {
      "image/png": "[encoded data removed]",
      "text/plain": [
       "<Figure size 432x288 with 1 Axes>"
      ]
     },
     "metadata": {
      "needs_background": "light"
     },
     "output_type": "display_data"
    },
    {
     "data": {
      "image/png": "[encoded data removed]",
      "text/plain": [
       "<Figure size 432x288 with 1 Axes>"
      ]
     },
     "metadata": {
      "needs_background": "light"
     },
     "output_type": "display_data"
    },
    {
     "data": {
      "image/png": "[encoded data removed]",
      "text/plain": [
       "<Figure size 432x288 with 1 Axes>"
      ]
     },
     "metadata": {
      "needs_background": "light"
     },
     "output_type": "display_data"
    },
    {
     "data": {
      "image/png": "[encoded data removed]",
      "text/plain": [
       "<Figure size 432x288 with 1 Axes>"
      ]
     },
     "metadata": {
      "needs_background": "light"
     },
     "output_type": "display_data"
    },
    {
     "data": {
      "image/png": "[encoded data removed]",
      "text/plain": [
       "<Figure size 432x288 with 1 Axes>"
      ]
     },
     "metadata": {
      "needs_background": "light"
     },
     "output_type": "display_data"
    },
    {
     "data": {
      "image/png": "[encoded data removed]",
      "text/plain": [
       "<Figure size 432x288 with 1 Axes>"
      ]
     },
     "metadata": {
      "needs_background": "light"
     },
     "output_type": "display_data"
    },
    {
     "data": {
      "image/png": "[encoded data removed]",
      "text/plain": [
       "<Figure size 432x288 with 1 Axes>"
      ]
     },
     "metadata": {
      "needs_background": "light"
     },
     "output_type": "display_data"
    },
    {
     "data": {
      "image/png": "[encoded data removed]",
      "text/plain": [
       "<Figure size 432x288 with 1 Axes>"
      ]
     },
     "metadata": {
      "needs_background": "light"
     },
     "output_type": "display_data"
    },
    {
     "data": {
      "image/png": "[encoded data removed]",
      "text/plain": [
       "<Figure size 432x288 with 1 Axes>"
      ]
     },
     "metadata": {
      "needs_background": "light"
     },
     "output_type": "display_data"
    },
    {
     "data": {
      "image/png": "[encoded data removed]",
      "text/plain": [
       "<Figure size 432x288 with 1 Axes>"
      ]
     },
     "metadata": {
      "needs_background": "light"
     },
     "output_type": "display_data"
    },
    {
     "data": {
      "image/png": "[encoded data removed]",
      "text/plain": [
       "<Figure size 432x288 with 1 Axes>"
      ]
     },
     "metadata": {
      "needs_background": "light"
     },
     "output_type": "display_data"
    },
    {
     "data": {
      "image/png": "[encoded data removed]",
      "text/plain": [
       "<Figure size 432x288 with 1 Axes>"
      ]
     },
     "metadata": {
      "needs_background": "light"
     },
     "output_type": "display_data"
    },
    {
     "data": {
      "image/png": "[encoded data removed]",
      "text/plain": [
       "<Figure size 432x288 with 1 Axes>"
      ]
     },
     "metadata": {
      "needs_background": "light"
     },
     "output_type": "display_data"
    },
    {
     "data": {
      "image/png": "[encoded data removed]",
      "text/plain": [
       "<Figure size 432x288 with 1 Axes>"
      ]
     },
     "metadata": {
      "needs_background": "light"
     },
     "output_type": "display_data"
    },
    {
     "data": {
      "image/png": "[encoded data removed]",
      "text/plain": [
       "<Figure size 432x288 with 1 Axes>"
      ]
     },
     "metadata": {
      "needs_background": "light"
     },
     "output_type": "display_data"
    },
    {
     "data": {
      "image/png": "[encoded data removed]",
      "text/plain": [
       "<Figure size 432x288 with 1 Axes>"
      ]
     },
     "metadata": {
      "needs_background": "light"
     },
     "output_type": "display_data"
    },
    {
     "data": {
      "image/png": "[encoded data removed]",
      "text/plain": [
       "<Figure size 432x288 with 1 Axes>"
      ]
     },
     "metadata": {
      "needs_background": "light"
     },
     "output_type": "display_data"
    }
   ],
   "source": [
    "for i in range(20):\n",
    "    tensor_to_picture(test_data[i][0][0])"
   ]
  },
  {
   "cell_type": "code",
   "execution_count": null,
   "metadata": {},
   "outputs": [],
   "source": []
  }
 ],
 "metadata": {
  "kernelspec": {
   "display_name": "Python 3",
   "language": "python",
   "name": "python3"
  },
  "language_info": {
   "codemirror_mode": {
    "name": "ipython",
    "version": 3
   },
   "file_extension": ".py",
   "mimetype": "text/x-python",
   "name": "python",
   "nbconvert_exporter": "python",
   "pygments_lexer": "ipython3",
   "version": "3.7.6"
  }
 },
 "nbformat": 4,
 "nbformat_minor": 4
}
