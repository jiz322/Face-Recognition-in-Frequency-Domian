{
 "cells": [
  {
   "cell_type": "code",
   "execution_count": 4,
   "metadata": {},
   "outputs": [],
   "source": [
    "import torch\n",
    "from torch import embedding, nn\n",
    "import torch.nn.functional as F\n",
    "import torch.optim as optim\n",
    "import random\n",
    "import time\n",
    "from torch import nn\n",
    "from tqdm import tqdm\n",
    "from unet import UNet\n",
    "from discriminator import Discriminator\n",
    "from baseline import FaceRecognizer\n",
    "from preprocessing import *\n",
    "from preprocessing_GAN import *"
   ]
  },
  {
   "cell_type": "code",
   "execution_count": 5,
   "metadata": {},
   "outputs": [
    {
     "data": {
      "text/plain": [
       "torch.Size([280, 1, 1, 64, 64])"
      ]
     },
     "execution_count": 5,
     "metadata": {},
     "output_type": "execute_result"
    }
   ],
   "source": [
    "train_data.shape"
   ]
  },
  {
   "cell_type": "code",
   "execution_count": 6,
   "metadata": {},
   "outputs": [],
   "source": [
    "import torch_dct as dct"
   ]
  },
  {
   "cell_type": "code",
   "execution_count": 7,
   "metadata": {},
   "outputs": [],
   "source": [
    "for i in range(train_data.shape[0]):\n",
    "    train_data[i] = dct.idct(train_data[i])"
   ]
  },
  {
   "cell_type": "code",
   "execution_count": 8,
   "metadata": {},
   "outputs": [],
   "source": [
    "def epoch_time(start_time, end_time):\n",
    "    elapsed_time = end_time - start_time\n",
    "    elapsed_mins = int(elapsed_time / 60)\n",
    "    elapsed_secs = int(elapsed_time - (elapsed_mins * 60))\n",
    "    return elapsed_mins, elapsed_secs"
   ]
  },
  {
   "cell_type": "code",
   "execution_count": 9,
   "metadata": {},
   "outputs": [],
   "source": [
    "d, l = discriminator_make_dataset()"
   ]
  },
  {
   "cell_type": "code",
   "execution_count": 10,
   "metadata": {},
   "outputs": [],
   "source": [
    "def train_discriminator(model, data, targets, optimizer, criterion):  \n",
    "    model.train()\n",
    "    epoch_loss = 0\n",
    "    sampling = list(range(data.shape[0]))\n",
    "    random.shuffle(sampling)\n",
    "    print(\"training ...\")\n",
    "    for i, selected_batch_index in tqdm(enumerate(sampling)):\n",
    "        optimizer.zero_grad()\n",
    "        z = model.forward(data[selected_batch_index])\n",
    "        loss=criterion(z,targets[selected_batch_index].long())\n",
    "        loss.backward()\n",
    "        optimizer.step()\n",
    "        epoch_loss += loss.item()\n",
    "    return epoch_loss"
   ]
  },
  {
   "cell_type": "code",
   "execution_count": 11,
   "metadata": {},
   "outputs": [],
   "source": [
    "training_losses = []\n",
    "def train_discriminator_eps(model, eps, lr, reg, train_data, train_target):\n",
    "    optimizer = optim.SGD(model.parameters(), lr=lr, momentum=0.9, weight_decay=reg, nesterov=False)\n",
    "    criterion = nn.CrossEntropyLoss(reduction = 'sum')\n",
    "    best_train_loss = 999999\n",
    "    for epoch in range(eps):  \n",
    "        print(\"epoch start: \", epoch)  \n",
    "        start_time = time.time()\n",
    "        training_loss = train_discriminator(model, train_data, train_target, optimizer, criterion)\n",
    "        training_losses.append(training_loss)  \n",
    "        end_time = time.time()\n",
    "        epoch_mins, epoch_secs = epoch_time(start_time, end_time)\n",
    "        torch.save(model.state_dict(), 'best_model_discriminator.pt')\n",
    "        print(f'Epoch: {epoch+1:02} | Time: {epoch_mins}m {epoch_secs}s', end='')\n",
    "        print(f'\\tTrain Loss: {training_loss:.3f}')"
   ]
  },
  {
   "cell_type": "code",
   "execution_count": 12,
   "metadata": {
    "scrolled": true
   },
   "outputs": [
    {
     "name": "stderr",
     "output_type": "stream",
     "text": [
      "10it [00:00, 94.67it/s]"
     ]
    },
    {
     "name": "stdout",
     "output_type": "stream",
     "text": [
      "epoch start:  0\n",
      "training ...\n"
     ]
    },
    {
     "name": "stderr",
     "output_type": "stream",
     "text": [
      "400it [00:02, 157.99it/s]\n",
      "17it [00:00, 165.33it/s]"
     ]
    },
    {
     "name": "stdout",
     "output_type": "stream",
     "text": [
      "Epoch: 01 | Time: 0m 2s\tTrain Loss: 115.814\n",
      "epoch start:  1\n",
      "training ...\n"
     ]
    },
    {
     "name": "stderr",
     "output_type": "stream",
     "text": [
      "400it [00:02, 166.86it/s]\n",
      "17it [00:00, 168.09it/s]"
     ]
    },
    {
     "name": "stdout",
     "output_type": "stream",
     "text": [
      "Epoch: 02 | Time: 0m 2s\tTrain Loss: 5.894\n",
      "epoch start:  2\n",
      "training ...\n"
     ]
    },
    {
     "name": "stderr",
     "output_type": "stream",
     "text": [
      "400it [00:02, 158.27it/s]\n",
      "18it [00:00, 171.08it/s]"
     ]
    },
    {
     "name": "stdout",
     "output_type": "stream",
     "text": [
      "Epoch: 03 | Time: 0m 2s\tTrain Loss: 1.017\n",
      "epoch start:  3\n",
      "training ...\n"
     ]
    },
    {
     "name": "stderr",
     "output_type": "stream",
     "text": [
      "400it [00:02, 161.91it/s]\n",
      "16it [00:00, 151.71it/s]"
     ]
    },
    {
     "name": "stdout",
     "output_type": "stream",
     "text": [
      "Epoch: 04 | Time: 0m 2s\tTrain Loss: 0.481\n",
      "epoch start:  4\n",
      "training ...\n"
     ]
    },
    {
     "name": "stderr",
     "output_type": "stream",
     "text": [
      "400it [00:02, 170.84it/s]\n",
      "16it [00:00, 150.66it/s]"
     ]
    },
    {
     "name": "stdout",
     "output_type": "stream",
     "text": [
      "Epoch: 05 | Time: 0m 2s\tTrain Loss: 0.303\n",
      "epoch start:  5\n",
      "training ...\n"
     ]
    },
    {
     "name": "stderr",
     "output_type": "stream",
     "text": [
      "400it [00:02, 159.92it/s]\n",
      "18it [00:00, 174.77it/s]"
     ]
    },
    {
     "name": "stdout",
     "output_type": "stream",
     "text": [
      "Epoch: 06 | Time: 0m 2s\tTrain Loss: 0.217\n",
      "epoch start:  6\n",
      "training ...\n"
     ]
    },
    {
     "name": "stderr",
     "output_type": "stream",
     "text": [
      "400it [00:02, 162.10it/s]\n",
      "16it [00:00, 157.69it/s]"
     ]
    },
    {
     "name": "stdout",
     "output_type": "stream",
     "text": [
      "Epoch: 07 | Time: 0m 2s\tTrain Loss: 0.165\n",
      "epoch start:  7\n",
      "training ...\n"
     ]
    },
    {
     "name": "stderr",
     "output_type": "stream",
     "text": [
      "400it [00:02, 164.31it/s]\n",
      "16it [00:00, 158.20it/s]"
     ]
    },
    {
     "name": "stdout",
     "output_type": "stream",
     "text": [
      "Epoch: 08 | Time: 0m 2s\tTrain Loss: 0.133\n",
      "epoch start:  8\n",
      "training ...\n"
     ]
    },
    {
     "name": "stderr",
     "output_type": "stream",
     "text": [
      "400it [00:02, 164.65it/s]\n",
      "15it [00:00, 146.47it/s]"
     ]
    },
    {
     "name": "stdout",
     "output_type": "stream",
     "text": [
      "Epoch: 09 | Time: 0m 2s\tTrain Loss: 0.110\n",
      "epoch start:  9\n",
      "training ...\n"
     ]
    },
    {
     "name": "stderr",
     "output_type": "stream",
     "text": [
      "400it [00:02, 158.91it/s]\n",
      "16it [00:00, 154.67it/s]"
     ]
    },
    {
     "name": "stdout",
     "output_type": "stream",
     "text": [
      "Epoch: 10 | Time: 0m 2s\tTrain Loss: 0.093\n",
      "epoch start:  10\n",
      "training ...\n"
     ]
    },
    {
     "name": "stderr",
     "output_type": "stream",
     "text": [
      "400it [00:02, 163.72it/s]\n",
      "15it [00:00, 145.60it/s]"
     ]
    },
    {
     "name": "stdout",
     "output_type": "stream",
     "text": [
      "Epoch: 11 | Time: 0m 2s\tTrain Loss: 0.081\n",
      "epoch start:  11\n",
      "training ...\n"
     ]
    },
    {
     "name": "stderr",
     "output_type": "stream",
     "text": [
      "400it [00:02, 168.08it/s]\n",
      "16it [00:00, 157.01it/s]"
     ]
    },
    {
     "name": "stdout",
     "output_type": "stream",
     "text": [
      "Epoch: 12 | Time: 0m 2s\tTrain Loss: 0.071\n",
      "epoch start:  12\n",
      "training ...\n"
     ]
    },
    {
     "name": "stderr",
     "output_type": "stream",
     "text": [
      "400it [00:02, 160.06it/s]\n",
      "18it [00:00, 178.04it/s]"
     ]
    },
    {
     "name": "stdout",
     "output_type": "stream",
     "text": [
      "Epoch: 13 | Time: 0m 2s\tTrain Loss: 0.063\n",
      "epoch start:  13\n",
      "training ...\n"
     ]
    },
    {
     "name": "stderr",
     "output_type": "stream",
     "text": [
      "400it [00:02, 161.89it/s]\n",
      "15it [00:00, 141.17it/s]"
     ]
    },
    {
     "name": "stdout",
     "output_type": "stream",
     "text": [
      "Epoch: 14 | Time: 0m 2s\tTrain Loss: 0.057\n",
      "epoch start:  14\n",
      "training ...\n"
     ]
    },
    {
     "name": "stderr",
     "output_type": "stream",
     "text": [
      "400it [00:02, 158.60it/s]\n",
      "16it [00:00, 158.30it/s]"
     ]
    },
    {
     "name": "stdout",
     "output_type": "stream",
     "text": [
      "Epoch: 15 | Time: 0m 2s\tTrain Loss: 0.051\n",
      "epoch start:  15\n",
      "training ...\n"
     ]
    },
    {
     "name": "stderr",
     "output_type": "stream",
     "text": [
      "400it [00:02, 146.89it/s]\n",
      "17it [00:00, 163.24it/s]"
     ]
    },
    {
     "name": "stdout",
     "output_type": "stream",
     "text": [
      "Epoch: 16 | Time: 0m 2s\tTrain Loss: 0.047\n",
      "epoch start:  16\n",
      "training ...\n"
     ]
    },
    {
     "name": "stderr",
     "output_type": "stream",
     "text": [
      "400it [00:02, 156.22it/s]\n",
      "16it [00:00, 155.26it/s]"
     ]
    },
    {
     "name": "stdout",
     "output_type": "stream",
     "text": [
      "Epoch: 17 | Time: 0m 2s\tTrain Loss: 0.043\n",
      "epoch start:  17\n",
      "training ...\n"
     ]
    },
    {
     "name": "stderr",
     "output_type": "stream",
     "text": [
      "400it [00:02, 144.14it/s]\n",
      "15it [00:00, 149.38it/s]"
     ]
    },
    {
     "name": "stdout",
     "output_type": "stream",
     "text": [
      "Epoch: 18 | Time: 0m 2s\tTrain Loss: 0.040\n",
      "epoch start:  18\n",
      "training ...\n"
     ]
    },
    {
     "name": "stderr",
     "output_type": "stream",
     "text": [
      "400it [00:02, 152.56it/s]\n",
      "16it [00:00, 155.36it/s]"
     ]
    },
    {
     "name": "stdout",
     "output_type": "stream",
     "text": [
      "Epoch: 19 | Time: 0m 2s\tTrain Loss: 0.037\n",
      "epoch start:  19\n",
      "training ...\n"
     ]
    },
    {
     "name": "stderr",
     "output_type": "stream",
     "text": [
      "400it [00:02, 146.97it/s]"
     ]
    },
    {
     "name": "stdout",
     "output_type": "stream",
     "text": [
      "Epoch: 20 | Time: 0m 2s\tTrain Loss: 0.035\n"
     ]
    },
    {
     "name": "stderr",
     "output_type": "stream",
     "text": [
      "\n"
     ]
    }
   ],
   "source": [
    "train_discriminator_eps(discriminator, 20, 0.001, 0.00001, d, l)"
   ]
  },
  {
   "cell_type": "code",
   "execution_count": 14,
   "metadata": {},
   "outputs": [
    {
     "data": {
      "text/plain": [
       "tensor([[5.8449e-04, 9.9942e-01]], grad_fn=<SoftmaxBackward0>)"
      ]
     },
     "execution_count": 14,
     "metadata": {},
     "output_type": "execute_result"
    }
   ],
   "source": [
    "torch.softmax(discriminator(d[3]),-1)"
   ]
  },
  {
   "cell_type": "code",
   "execution_count": 15,
   "metadata": {},
   "outputs": [],
   "source": [
    "def evolve_generator_1ep(generator, faceRecognizer, discriminator, attack_targets, optimizer, criterion, alpha):\n",
    "    gan_input = torch.normal(0, 1, size=(1,1,64, 64)) # noise\n",
    "    faceRecognizer.eval()\n",
    "    discriminator.eval()\n",
    "    generator.train()\n",
    "    optimizer.zero_grad()\n",
    "    generated_imgs = generator.forward(gan_input)\n",
    "    loss = 0\n",
    "    for i in range(attack_targets.shape[0]):\n",
    "        z1 = faceRecognizer.forward(generated_imgs[0][i].reshape(1,1,64,64))\n",
    "        loss+=criterion(z1,attack_targets[i])\n",
    "        z2 = discriminator.forward(generated_imgs[0][i].reshape(1,1,64,64))\n",
    "        loss+= alpha*criterion(z2,torch.tensor([1]))\n",
    "    loss.backward()\n",
    "    optimizer.step()\n",
    "    epoch_loss = loss.item()/len(attack_targets) \n",
    "    return epoch_loss\n",
    "    "
   ]
  },
  {
   "cell_type": "code",
   "execution_count": 16,
   "metadata": {},
   "outputs": [],
   "source": [
    "def evolve_generator(eps, lr, reg, lr_decay, alpha):\n",
    "    for epoch in range(eps): \n",
    "        optimizer = optim.SGD(generator.parameters(), lr=lr*lr_decay**epoch, momentum=0.9, weight_decay=reg, nesterov=False)\n",
    "        criterion = nn.CrossEntropyLoss(reduction = 'sum')\n",
    "        epoch_loss = 0\n",
    "        epoch_loss += evolve_generator_1ep(generator, faceRecognizer, discriminator, attack_targets, optimizer, criterion, alpha)\n",
    "        print(\"loss(generator): \", epoch_loss)\n",
    "\n"
   ]
  },
  {
   "cell_type": "code",
   "execution_count": 13,
   "metadata": {},
   "outputs": [
    {
     "name": "stdout",
     "output_type": "stream",
     "text": [
      "loss(generator):  22.553071594238283\n",
      "loss(generator):  17.264419555664062\n",
      "loss(generator):  14.379428100585937\n",
      "loss(generator):  13.22655792236328\n",
      "loss(generator):  11.791796112060547\n",
      "loss(generator):  10.302708435058594\n",
      "loss(generator):  8.719108581542969\n",
      "loss(generator):  7.595701599121094\n",
      "loss(generator):  6.908092498779297\n",
      "loss(generator):  6.59422607421875\n"
     ]
    }
   ],
   "source": [
    "evolve_generator(10, 0.001, 0.0002, 0.98, 1)"
   ]
  },
  {
   "cell_type": "code",
   "execution_count": 14,
   "metadata": {},
   "outputs": [
    {
     "data": {
      "image/png": "[encoded data removed]",
      "text/plain": [
       "<Figure size 432x288 with 1 Axes>"
      ]
     },
     "metadata": {
      "needs_background": "light"
     },
     "output_type": "display_data"
    }
   ],
   "source": [
    "generated_image(1)"
   ]
  },
  {
   "cell_type": "code",
   "execution_count": 15,
   "metadata": {},
   "outputs": [
    {
     "name": "stdout",
     "output_type": "stream",
     "text": [
      "tensor([[0.0266, 0.0256, 0.0254, 0.0245, 0.0228, 0.0255, 0.0272, 0.0252, 0.0237,\n",
      "         0.0248, 0.0248, 0.0250, 0.0265, 0.0256, 0.0239, 0.0254, 0.0266, 0.0237,\n",
      "         0.0237, 0.0249, 0.0239, 0.0246, 0.0241, 0.0274, 0.0249, 0.0235, 0.0270,\n",
      "         0.0248, 0.0232, 0.0231, 0.0246, 0.0249, 0.0238, 0.0278, 0.0251, 0.0265,\n",
      "         0.0268, 0.0244, 0.0247, 0.0237]], grad_fn=<SoftmaxBackward0>)\n"
     ]
    }
   ],
   "source": [
    "print_confidence(9)"
   ]
  },
  {
   "cell_type": "code",
   "execution_count": 16,
   "metadata": {},
   "outputs": [
    {
     "data": {
      "text/plain": [
       "tensor([[0.9721, 0.0279]], grad_fn=<SoftmaxBackward0>)"
      ]
     },
     "execution_count": 16,
     "metadata": {},
     "output_type": "execute_result"
    }
   ],
   "source": [
    "torch.softmax(discriminator.forward(generate(1).reshape(1,1,64,64)),-1)"
   ]
  },
  {
   "cell_type": "code",
   "execution_count": 17,
   "metadata": {},
   "outputs": [],
   "source": [
    "d, l = discriminator_make_dataset()"
   ]
  },
  {
   "cell_type": "code",
   "execution_count": 18,
   "metadata": {
    "scrolled": true
   },
   "outputs": [
    {
     "name": "stderr",
     "output_type": "stream",
     "text": [
      "16it [00:00, 155.17it/s]"
     ]
    },
    {
     "name": "stdout",
     "output_type": "stream",
     "text": [
      "epoch start:  0\n",
      "training ...\n"
     ]
    },
    {
     "name": "stderr",
     "output_type": "stream",
     "text": [
      "400it [00:02, 157.00it/s]\n",
      "16it [00:00, 150.01it/s]"
     ]
    },
    {
     "name": "stdout",
     "output_type": "stream",
     "text": [
      "Epoch: 01 | Time: 0m 2s\tTrain Loss: 20.138\n",
      "epoch start:  1\n",
      "training ...\n"
     ]
    },
    {
     "name": "stderr",
     "output_type": "stream",
     "text": [
      "400it [00:02, 155.09it/s]\n",
      "16it [00:00, 156.37it/s]"
     ]
    },
    {
     "name": "stdout",
     "output_type": "stream",
     "text": [
      "Epoch: 02 | Time: 0m 2s\tTrain Loss: 0.228\n",
      "epoch start:  2\n",
      "training ...\n"
     ]
    },
    {
     "name": "stderr",
     "output_type": "stream",
     "text": [
      "400it [00:02, 147.46it/s]\n",
      "15it [00:00, 140.14it/s]"
     ]
    },
    {
     "name": "stdout",
     "output_type": "stream",
     "text": [
      "Epoch: 03 | Time: 0m 2s\tTrain Loss: 0.128\n",
      "epoch start:  3\n",
      "training ...\n"
     ]
    },
    {
     "name": "stderr",
     "output_type": "stream",
     "text": [
      "400it [00:02, 158.94it/s]\n",
      "20it [00:00, 194.44it/s]"
     ]
    },
    {
     "name": "stdout",
     "output_type": "stream",
     "text": [
      "Epoch: 04 | Time: 0m 2s\tTrain Loss: 0.082\n",
      "epoch start:  4\n",
      "training ...\n"
     ]
    },
    {
     "name": "stderr",
     "output_type": "stream",
     "text": [
      "400it [00:02, 161.93it/s]\n",
      "14it [00:00, 132.09it/s]"
     ]
    },
    {
     "name": "stdout",
     "output_type": "stream",
     "text": [
      "Epoch: 05 | Time: 0m 2s\tTrain Loss: 0.063\n",
      "epoch start:  5\n",
      "training ...\n"
     ]
    },
    {
     "name": "stderr",
     "output_type": "stream",
     "text": [
      "400it [00:02, 143.92it/s]\n",
      "16it [00:00, 149.26it/s]"
     ]
    },
    {
     "name": "stdout",
     "output_type": "stream",
     "text": [
      "Epoch: 06 | Time: 0m 2s\tTrain Loss: 0.051\n",
      "epoch start:  6\n",
      "training ...\n"
     ]
    },
    {
     "name": "stderr",
     "output_type": "stream",
     "text": [
      "400it [00:02, 164.73it/s]\n",
      "15it [00:00, 148.73it/s]"
     ]
    },
    {
     "name": "stdout",
     "output_type": "stream",
     "text": [
      "Epoch: 07 | Time: 0m 2s\tTrain Loss: 0.043\n",
      "epoch start:  7\n",
      "training ...\n"
     ]
    },
    {
     "name": "stderr",
     "output_type": "stream",
     "text": [
      "400it [00:02, 144.65it/s]\n",
      "16it [00:00, 155.93it/s]"
     ]
    },
    {
     "name": "stdout",
     "output_type": "stream",
     "text": [
      "Epoch: 08 | Time: 0m 2s\tTrain Loss: 0.037\n",
      "epoch start:  8\n",
      "training ...\n"
     ]
    },
    {
     "name": "stderr",
     "output_type": "stream",
     "text": [
      "400it [00:02, 153.38it/s]\n",
      "15it [00:00, 147.02it/s]"
     ]
    },
    {
     "name": "stdout",
     "output_type": "stream",
     "text": [
      "Epoch: 09 | Time: 0m 2s\tTrain Loss: 0.032\n",
      "epoch start:  9\n",
      "training ...\n"
     ]
    },
    {
     "name": "stderr",
     "output_type": "stream",
     "text": [
      "400it [00:01, 212.51it/s]\n",
      "25it [00:00, 238.39it/s]"
     ]
    },
    {
     "name": "stdout",
     "output_type": "stream",
     "text": [
      "Epoch: 10 | Time: 0m 1s\tTrain Loss: 0.029\n",
      "epoch start:  10\n",
      "training ...\n"
     ]
    },
    {
     "name": "stderr",
     "output_type": "stream",
     "text": [
      "400it [00:01, 239.07it/s]\n",
      "26it [00:00, 256.69it/s]"
     ]
    },
    {
     "name": "stdout",
     "output_type": "stream",
     "text": [
      "Epoch: 11 | Time: 0m 1s\tTrain Loss: 0.026\n",
      "epoch start:  11\n",
      "training ...\n"
     ]
    },
    {
     "name": "stderr",
     "output_type": "stream",
     "text": [
      "400it [00:01, 236.31it/s]\n",
      "19it [00:00, 185.44it/s]"
     ]
    },
    {
     "name": "stdout",
     "output_type": "stream",
     "text": [
      "Epoch: 12 | Time: 0m 1s\tTrain Loss: 0.023\n",
      "epoch start:  12\n",
      "training ...\n"
     ]
    },
    {
     "name": "stderr",
     "output_type": "stream",
     "text": [
      "400it [00:01, 207.19it/s]\n",
      "16it [00:00, 153.54it/s]"
     ]
    },
    {
     "name": "stdout",
     "output_type": "stream",
     "text": [
      "Epoch: 13 | Time: 0m 1s\tTrain Loss: 0.021\n",
      "epoch start:  13\n",
      "training ...\n"
     ]
    },
    {
     "name": "stderr",
     "output_type": "stream",
     "text": [
      "400it [00:02, 149.04it/s]\n",
      "15it [00:00, 143.84it/s]"
     ]
    },
    {
     "name": "stdout",
     "output_type": "stream",
     "text": [
      "Epoch: 14 | Time: 0m 2s\tTrain Loss: 0.020\n",
      "epoch start:  14\n",
      "training ...\n"
     ]
    },
    {
     "name": "stderr",
     "output_type": "stream",
     "text": [
      "400it [00:02, 142.73it/s]\n",
      "15it [00:00, 148.29it/s]"
     ]
    },
    {
     "name": "stdout",
     "output_type": "stream",
     "text": [
      "Epoch: 15 | Time: 0m 2s\tTrain Loss: 0.018\n",
      "epoch start:  15\n",
      "training ...\n"
     ]
    },
    {
     "name": "stderr",
     "output_type": "stream",
     "text": [
      "400it [00:02, 144.00it/s]\n",
      "15it [00:00, 149.81it/s]"
     ]
    },
    {
     "name": "stdout",
     "output_type": "stream",
     "text": [
      "Epoch: 16 | Time: 0m 2s\tTrain Loss: 0.017\n",
      "epoch start:  16\n",
      "training ...\n"
     ]
    },
    {
     "name": "stderr",
     "output_type": "stream",
     "text": [
      "400it [00:02, 149.73it/s]\n",
      "18it [00:00, 174.45it/s]"
     ]
    },
    {
     "name": "stdout",
     "output_type": "stream",
     "text": [
      "Epoch: 17 | Time: 0m 2s\tTrain Loss: 0.016\n",
      "epoch start:  17\n",
      "training ...\n"
     ]
    },
    {
     "name": "stderr",
     "output_type": "stream",
     "text": [
      "400it [00:02, 157.88it/s]\n",
      "18it [00:00, 178.13it/s]"
     ]
    },
    {
     "name": "stdout",
     "output_type": "stream",
     "text": [
      "Epoch: 18 | Time: 0m 2s\tTrain Loss: 0.015\n",
      "epoch start:  18\n",
      "training ...\n"
     ]
    },
    {
     "name": "stderr",
     "output_type": "stream",
     "text": [
      "400it [00:02, 152.12it/s]\n",
      "17it [00:00, 165.42it/s]"
     ]
    },
    {
     "name": "stdout",
     "output_type": "stream",
     "text": [
      "Epoch: 19 | Time: 0m 2s\tTrain Loss: 0.014\n",
      "epoch start:  19\n",
      "training ...\n"
     ]
    },
    {
     "name": "stderr",
     "output_type": "stream",
     "text": [
      "400it [00:02, 150.41it/s]"
     ]
    },
    {
     "name": "stdout",
     "output_type": "stream",
     "text": [
      "Epoch: 20 | Time: 0m 2s\tTrain Loss: 0.013\n"
     ]
    },
    {
     "name": "stderr",
     "output_type": "stream",
     "text": [
      "\n"
     ]
    }
   ],
   "source": [
    "train_discriminator_eps(discriminator, 20, 0.001, 0.00001, d, l)"
   ]
  },
  {
   "cell_type": "code",
   "execution_count": 19,
   "metadata": {},
   "outputs": [
    {
     "data": {
      "text/plain": [
       "tensor([[9.9993e-01, 7.3036e-05]], grad_fn=<SoftmaxBackward0>)"
      ]
     },
     "execution_count": 19,
     "metadata": {},
     "output_type": "execute_result"
    }
   ],
   "source": [
    "torch.softmax(discriminator.forward(generate(1).reshape(1,1,64,64)),-1)"
   ]
  },
  {
   "cell_type": "code",
   "execution_count": 18,
   "metadata": {
    "scrolled": true
   },
   "outputs": [
    {
     "name": "stdout",
     "output_type": "stream",
     "text": [
      "loss(generator):  22.88921356201172\n",
      "loss(generator):  4.080525207519531\n",
      "loss(generator):  3.8227565765380858\n",
      "loss(generator):  3.6839542388916016\n",
      "loss(generator):  3.7876960754394533\n",
      "loss(generator):  3.777068328857422\n",
      "loss(generator):  3.6604278564453123\n",
      "loss(generator):  3.671075439453125\n",
      "loss(generator):  3.672930908203125\n",
      "loss(generator):  3.673936462402344\n",
      "loss(generator):  3.6745021820068358\n",
      "loss(generator):  3.7017490386962892\n",
      "loss(generator):  3.67675895690918\n",
      "loss(generator):  3.6751548767089846\n",
      "loss(generator):  3.6742191314697266\n",
      "loss(generator):  3.6732112884521486\n",
      "loss(generator):  3.6694366455078127\n",
      "loss(generator):  3.658894729614258\n",
      "loss(generator):  3.6803733825683596\n",
      "loss(generator):  3.6680797576904296\n",
      "loss(generator):  3.6975681304931642\n",
      "loss(generator):  3.666181182861328\n",
      "loss(generator):  3.6583175659179688\n",
      "loss(generator):  3.664295959472656\n",
      "loss(generator):  3.662492370605469\n",
      "loss(generator):  3.6645587921142577\n",
      "loss(generator):  3.650502395629883\n",
      "loss(generator):  3.6694480895996096\n",
      "loss(generator):  3.667533111572266\n",
      "loss(generator):  3.672193908691406\n",
      "loss(generator):  3.664500045776367\n",
      "loss(generator):  3.6631229400634764\n",
      "loss(generator):  3.6590476989746095\n",
      "loss(generator):  3.6715702056884765\n",
      "loss(generator):  3.6629695892333984\n",
      "loss(generator):  3.667061996459961\n",
      "loss(generator):  3.6592784881591798\n",
      "loss(generator):  3.6637943267822264\n",
      "loss(generator):  3.663827896118164\n",
      "loss(generator):  3.6703765869140623\n",
      "loss(generator):  3.66723518371582\n",
      "loss(generator):  3.665651321411133\n",
      "loss(generator):  3.661539840698242\n",
      "loss(generator):  3.6518898010253906\n",
      "loss(generator):  3.662606048583984\n",
      "loss(generator):  3.652199554443359\n",
      "loss(generator):  3.6704959869384766\n",
      "loss(generator):  3.665579605102539\n",
      "loss(generator):  3.6717975616455076\n",
      "loss(generator):  3.664499282836914\n",
      "loss(generator):  3.6585865020751953\n",
      "loss(generator):  3.6614311218261717\n",
      "loss(generator):  3.6671676635742188\n",
      "loss(generator):  3.6526683807373046\n",
      "loss(generator):  3.6578067779541015\n",
      "loss(generator):  3.665089797973633\n",
      "loss(generator):  3.6555442810058594\n",
      "loss(generator):  3.6673557281494142\n",
      "loss(generator):  3.666033935546875\n",
      "loss(generator):  3.689952087402344\n",
      "loss(generator):  3.6605552673339843\n",
      "loss(generator):  3.6679744720458984\n",
      "loss(generator):  3.6654632568359373\n",
      "loss(generator):  3.658346939086914\n",
      "loss(generator):  3.6588699340820314\n",
      "loss(generator):  3.656393814086914\n",
      "loss(generator):  3.6480453491210936\n",
      "loss(generator):  3.6630020141601562\n",
      "loss(generator):  3.6580268859863283\n",
      "loss(generator):  3.663433074951172\n",
      "loss(generator):  3.6683956146240235\n",
      "loss(generator):  3.6657436370849608\n",
      "loss(generator):  3.6637619018554686\n",
      "loss(generator):  3.649741363525391\n",
      "loss(generator):  3.6537429809570314\n",
      "loss(generator):  3.6770751953125\n",
      "loss(generator):  3.6652740478515624\n",
      "loss(generator):  3.6562477111816407\n",
      "loss(generator):  3.6618656158447265\n",
      "loss(generator):  3.6616695404052733\n",
      "loss(generator):  3.653610610961914\n",
      "loss(generator):  3.662068176269531\n",
      "loss(generator):  3.65563850402832\n",
      "loss(generator):  3.6506729125976562\n",
      "loss(generator):  3.661876678466797\n",
      "loss(generator):  3.6597820281982423\n",
      "loss(generator):  3.6550846099853516\n",
      "loss(generator):  3.660964584350586\n",
      "loss(generator):  3.6637413024902346\n",
      "loss(generator):  3.6522499084472657\n",
      "loss(generator):  3.6650932312011717\n",
      "loss(generator):  3.6544898986816405\n",
      "loss(generator):  3.666489028930664\n",
      "loss(generator):  3.6636421203613283\n",
      "loss(generator):  3.658116912841797\n",
      "loss(generator):  3.659225082397461\n",
      "loss(generator):  3.6573532104492186\n",
      "loss(generator):  3.6666610717773436\n",
      "loss(generator):  3.6598644256591797\n",
      "loss(generator):  3.659623718261719\n"
     ]
    },
    {
     "name": "stderr",
     "output_type": "stream",
     "text": [
      "16it [00:00, 155.64it/s]"
     ]
    },
    {
     "name": "stdout",
     "output_type": "stream",
     "text": [
      "epoch start:  0\n",
      "training ...\n"
     ]
    },
    {
     "name": "stderr",
     "output_type": "stream",
     "text": [
      "400it [00:02, 163.51it/s]\n",
      "17it [00:00, 157.81it/s]"
     ]
    },
    {
     "name": "stdout",
     "output_type": "stream",
     "text": [
      "Epoch: 01 | Time: 0m 2s\tTrain Loss: 141.268\n",
      "epoch start:  1\n",
      "training ...\n"
     ]
    },
    {
     "name": "stderr",
     "output_type": "stream",
     "text": [
      "400it [00:02, 163.39it/s]\n",
      "17it [00:00, 169.83it/s]"
     ]
    },
    {
     "name": "stdout",
     "output_type": "stream",
     "text": [
      "Epoch: 02 | Time: 0m 2s\tTrain Loss: 4.836\n",
      "epoch start:  2\n",
      "training ...\n"
     ]
    },
    {
     "name": "stderr",
     "output_type": "stream",
     "text": [
      "400it [00:02, 169.04it/s]\n",
      "17it [00:00, 163.57it/s]"
     ]
    },
    {
     "name": "stdout",
     "output_type": "stream",
     "text": [
      "Epoch: 03 | Time: 0m 2s\tTrain Loss: 1.395\n",
      "epoch start:  3\n",
      "training ...\n"
     ]
    },
    {
     "name": "stderr",
     "output_type": "stream",
     "text": [
      "400it [00:02, 173.15it/s]\n",
      "19it [00:00, 186.89it/s]"
     ]
    },
    {
     "name": "stdout",
     "output_type": "stream",
     "text": [
      "Epoch: 04 | Time: 0m 2s\tTrain Loss: 0.749\n",
      "epoch start:  4\n",
      "training ...\n"
     ]
    },
    {
     "name": "stderr",
     "output_type": "stream",
     "text": [
      "400it [00:02, 171.65it/s]\n",
      "18it [00:00, 172.75it/s]"
     ]
    },
    {
     "name": "stdout",
     "output_type": "stream",
     "text": [
      "Epoch: 05 | Time: 0m 2s\tTrain Loss: 0.473\n",
      "epoch start:  5\n",
      "training ...\n"
     ]
    },
    {
     "name": "stderr",
     "output_type": "stream",
     "text": [
      "400it [00:02, 155.96it/s]\n",
      "17it [00:00, 160.92it/s]"
     ]
    },
    {
     "name": "stdout",
     "output_type": "stream",
     "text": [
      "Epoch: 06 | Time: 0m 2s\tTrain Loss: 0.336\n",
      "epoch start:  6\n",
      "training ...\n"
     ]
    },
    {
     "name": "stderr",
     "output_type": "stream",
     "text": [
      "400it [00:02, 161.65it/s]\n",
      "17it [00:00, 169.30it/s]"
     ]
    },
    {
     "name": "stdout",
     "output_type": "stream",
     "text": [
      "Epoch: 07 | Time: 0m 2s\tTrain Loss: 0.255\n",
      "epoch start:  7\n",
      "training ...\n"
     ]
    },
    {
     "name": "stderr",
     "output_type": "stream",
     "text": [
      "400it [00:02, 159.68it/s]\n",
      "18it [00:00, 169.05it/s]"
     ]
    },
    {
     "name": "stdout",
     "output_type": "stream",
     "text": [
      "Epoch: 08 | Time: 0m 2s\tTrain Loss: 0.206\n",
      "epoch start:  8\n",
      "training ...\n"
     ]
    },
    {
     "name": "stderr",
     "output_type": "stream",
     "text": [
      "400it [00:02, 160.29it/s]\n",
      "18it [00:00, 176.59it/s]"
     ]
    },
    {
     "name": "stdout",
     "output_type": "stream",
     "text": [
      "Epoch: 09 | Time: 0m 2s\tTrain Loss: 0.169\n",
      "epoch start:  9\n",
      "training ...\n"
     ]
    },
    {
     "name": "stderr",
     "output_type": "stream",
     "text": [
      "400it [00:01, 217.58it/s]\n",
      "23it [00:00, 224.21it/s]"
     ]
    },
    {
     "name": "stdout",
     "output_type": "stream",
     "text": [
      "Epoch: 10 | Time: 0m 1s\tTrain Loss: 0.142\n",
      "epoch start:  10\n",
      "training ...\n"
     ]
    },
    {
     "name": "stderr",
     "output_type": "stream",
     "text": [
      "400it [00:02, 198.24it/s]\n",
      "18it [00:00, 170.07it/s]"
     ]
    },
    {
     "name": "stdout",
     "output_type": "stream",
     "text": [
      "Epoch: 11 | Time: 0m 2s\tTrain Loss: 0.122\n",
      "epoch start:  11\n",
      "training ...\n"
     ]
    },
    {
     "name": "stderr",
     "output_type": "stream",
     "text": [
      "400it [00:02, 168.00it/s]\n",
      "16it [00:00, 159.12it/s]"
     ]
    },
    {
     "name": "stdout",
     "output_type": "stream",
     "text": [
      "Epoch: 12 | Time: 0m 2s\tTrain Loss: 0.108\n",
      "epoch start:  12\n",
      "training ...\n"
     ]
    },
    {
     "name": "stderr",
     "output_type": "stream",
     "text": [
      "400it [00:02, 163.87it/s]\n",
      "15it [00:00, 141.31it/s]"
     ]
    },
    {
     "name": "stdout",
     "output_type": "stream",
     "text": [
      "Epoch: 13 | Time: 0m 2s\tTrain Loss: 0.096\n",
      "epoch start:  13\n",
      "training ...\n"
     ]
    },
    {
     "name": "stderr",
     "output_type": "stream",
     "text": [
      "400it [00:02, 150.20it/s]\n",
      "15it [00:00, 147.12it/s]"
     ]
    },
    {
     "name": "stdout",
     "output_type": "stream",
     "text": [
      "Epoch: 14 | Time: 0m 2s\tTrain Loss: 0.087\n",
      "epoch start:  14\n",
      "training ...\n"
     ]
    },
    {
     "name": "stderr",
     "output_type": "stream",
     "text": [
      "400it [00:02, 158.11it/s]\n",
      "19it [00:00, 183.57it/s]"
     ]
    },
    {
     "name": "stdout",
     "output_type": "stream",
     "text": [
      "Epoch: 15 | Time: 0m 2s\tTrain Loss: 0.078\n",
      "epoch start:  15\n",
      "training ...\n"
     ]
    },
    {
     "name": "stderr",
     "output_type": "stream",
     "text": [
      "400it [00:02, 199.63it/s]\n",
      "23it [00:00, 222.93it/s]"
     ]
    },
    {
     "name": "stdout",
     "output_type": "stream",
     "text": [
      "Epoch: 16 | Time: 0m 2s\tTrain Loss: 0.071\n",
      "epoch start:  16\n",
      "training ...\n"
     ]
    },
    {
     "name": "stderr",
     "output_type": "stream",
     "text": [
      "400it [00:02, 167.15it/s]\n",
      "16it [00:00, 158.76it/s]"
     ]
    },
    {
     "name": "stdout",
     "output_type": "stream",
     "text": [
      "Epoch: 17 | Time: 0m 2s\tTrain Loss: 0.066\n",
      "epoch start:  17\n",
      "training ...\n"
     ]
    },
    {
     "name": "stderr",
     "output_type": "stream",
     "text": [
      "400it [00:02, 161.46it/s]\n",
      "17it [00:00, 166.24it/s]"
     ]
    },
    {
     "name": "stdout",
     "output_type": "stream",
     "text": [
      "Epoch: 18 | Time: 0m 2s\tTrain Loss: 0.061\n",
      "epoch start:  18\n",
      "training ...\n"
     ]
    },
    {
     "name": "stderr",
     "output_type": "stream",
     "text": [
      "400it [00:02, 174.76it/s]\n",
      "17it [00:00, 169.45it/s]"
     ]
    },
    {
     "name": "stdout",
     "output_type": "stream",
     "text": [
      "Epoch: 19 | Time: 0m 2s\tTrain Loss: 0.056\n",
      "epoch start:  19\n",
      "training ...\n"
     ]
    },
    {
     "name": "stderr",
     "output_type": "stream",
     "text": [
      "400it [00:02, 155.90it/s]\n"
     ]
    },
    {
     "name": "stdout",
     "output_type": "stream",
     "text": [
      "Epoch: 20 | Time: 0m 2s\tTrain Loss: 0.052\n",
      "loss(generator):  29.590142822265626\n",
      "loss(generator):  5.67371940612793\n",
      "loss(generator):  10.768902587890626\n",
      "loss(generator):  3.6994045257568358\n",
      "loss(generator):  3.8267173767089844\n",
      "loss(generator):  3.6745189666748046\n",
      "loss(generator):  3.671822357177734\n",
      "loss(generator):  3.6867416381835936\n",
      "loss(generator):  3.6864978790283205\n",
      "loss(generator):  3.693191146850586\n",
      "loss(generator):  3.7068622589111326\n",
      "loss(generator):  3.6673553466796873\n",
      "loss(generator):  3.67188720703125\n",
      "loss(generator):  3.6694774627685547\n",
      "loss(generator):  3.6739307403564454\n",
      "loss(generator):  3.671873092651367\n",
      "loss(generator):  3.6716686248779298\n",
      "loss(generator):  3.709730529785156\n",
      "loss(generator):  3.6769031524658202\n",
      "loss(generator):  3.6765750885009765\n",
      "loss(generator):  3.6659976959228517\n",
      "loss(generator):  3.6771381378173826\n",
      "loss(generator):  3.667829895019531\n",
      "loss(generator):  3.6714199066162108\n",
      "loss(generator):  3.6711692810058594\n",
      "loss(generator):  3.671721267700195\n",
      "loss(generator):  3.674972915649414\n",
      "loss(generator):  3.6739063262939453\n",
      "loss(generator):  3.677801513671875\n",
      "loss(generator):  3.6720767974853517\n",
      "loss(generator):  3.6718116760253907\n",
      "loss(generator):  3.6642696380615236\n",
      "loss(generator):  3.672193908691406\n",
      "loss(generator):  3.7272911071777344\n",
      "loss(generator):  3.673261260986328\n",
      "loss(generator):  3.672760009765625\n",
      "loss(generator):  3.678373336791992\n",
      "loss(generator):  3.6727153778076174\n",
      "loss(generator):  3.669081115722656\n",
      "loss(generator):  3.671559524536133\n",
      "loss(generator):  3.6789325714111327\n",
      "loss(generator):  3.674616241455078\n",
      "loss(generator):  3.670574951171875\n",
      "loss(generator):  3.671939468383789\n",
      "loss(generator):  3.6777244567871095\n",
      "loss(generator):  3.6728015899658204\n",
      "loss(generator):  3.666706085205078\n",
      "loss(generator):  3.6791759490966798\n",
      "loss(generator):  3.6670368194580076\n",
      "loss(generator):  3.6707759857177735\n",
      "loss(generator):  3.669596481323242\n",
      "loss(generator):  3.6676464080810547\n",
      "loss(generator):  3.6682994842529295\n",
      "loss(generator):  3.668752670288086\n",
      "loss(generator):  3.668345642089844\n",
      "loss(generator):  3.6716388702392577\n",
      "loss(generator):  3.6725395202636717\n",
      "loss(generator):  3.676858139038086\n",
      "loss(generator):  3.671591567993164\n",
      "loss(generator):  3.675302505493164\n",
      "loss(generator):  3.6739051818847654\n",
      "loss(generator):  3.6707340240478517\n",
      "loss(generator):  3.662473678588867\n",
      "loss(generator):  3.664340591430664\n",
      "loss(generator):  3.6686935424804688\n",
      "loss(generator):  3.6869129180908202\n",
      "loss(generator):  3.6787460327148436\n",
      "loss(generator):  3.6652267456054686\n",
      "loss(generator):  3.6693225860595704\n",
      "loss(generator):  3.665719985961914\n",
      "loss(generator):  3.6657970428466795\n",
      "loss(generator):  3.6687225341796874\n",
      "loss(generator):  3.6696422576904295\n",
      "loss(generator):  3.6752830505371095\n",
      "loss(generator):  3.6570503234863283\n",
      "loss(generator):  3.6584835052490234\n",
      "loss(generator):  3.671167755126953\n",
      "loss(generator):  3.672994613647461\n",
      "loss(generator):  3.6715065002441407\n",
      "loss(generator):  3.6694759368896483\n",
      "loss(generator):  3.6704349517822266\n",
      "loss(generator):  3.670294189453125\n",
      "loss(generator):  3.6634811401367187\n",
      "loss(generator):  3.666677474975586\n",
      "loss(generator):  3.6736560821533204\n",
      "loss(generator):  3.6760536193847657\n",
      "loss(generator):  3.6628582000732424\n",
      "loss(generator):  3.673278045654297\n",
      "loss(generator):  3.6750396728515624\n",
      "loss(generator):  3.6682010650634767\n",
      "loss(generator):  3.6672828674316404\n",
      "loss(generator):  3.6670108795166017\n",
      "loss(generator):  3.6608440399169924\n",
      "loss(generator):  3.666492462158203\n",
      "loss(generator):  3.6750133514404295\n",
      "loss(generator):  3.667794036865234\n",
      "loss(generator):  3.664232635498047\n",
      "loss(generator):  3.6742919921875\n",
      "loss(generator):  3.675546646118164\n",
      "loss(generator):  3.662053680419922\n"
     ]
    },
    {
     "name": "stderr",
     "output_type": "stream",
     "text": [
      "17it [00:00, 164.99it/s]"
     ]
    },
    {
     "name": "stdout",
     "output_type": "stream",
     "text": [
      "epoch start:  0\n",
      "training ...\n"
     ]
    },
    {
     "name": "stderr",
     "output_type": "stream",
     "text": [
      "400it [00:02, 163.98it/s]\n",
      "17it [00:00, 159.73it/s]"
     ]
    },
    {
     "name": "stdout",
     "output_type": "stream",
     "text": [
      "Epoch: 01 | Time: 0m 2s\tTrain Loss: 46.950\n",
      "epoch start:  1\n",
      "training ...\n"
     ]
    },
    {
     "name": "stderr",
     "output_type": "stream",
     "text": [
      "400it [00:02, 162.31it/s]\n",
      "18it [00:00, 177.12it/s]"
     ]
    },
    {
     "name": "stdout",
     "output_type": "stream",
     "text": [
      "Epoch: 02 | Time: 0m 2s\tTrain Loss: 1.905\n",
      "epoch start:  2\n",
      "training ...\n"
     ]
    },
    {
     "name": "stderr",
     "output_type": "stream",
     "text": [
      "400it [00:02, 160.08it/s]\n",
      "17it [00:00, 167.76it/s]"
     ]
    },
    {
     "name": "stdout",
     "output_type": "stream",
     "text": [
      "Epoch: 03 | Time: 0m 2s\tTrain Loss: 0.674\n",
      "epoch start:  3\n",
      "training ...\n"
     ]
    },
    {
     "name": "stderr",
     "output_type": "stream",
     "text": [
      "400it [00:02, 164.40it/s]\n",
      "16it [00:00, 158.76it/s]"
     ]
    },
    {
     "name": "stdout",
     "output_type": "stream",
     "text": [
      "Epoch: 04 | Time: 0m 2s\tTrain Loss: 0.374\n",
      "epoch start:  4\n",
      "training ...\n"
     ]
    },
    {
     "name": "stderr",
     "output_type": "stream",
     "text": [
      "400it [00:02, 169.98it/s]\n",
      "18it [00:00, 168.29it/s]"
     ]
    },
    {
     "name": "stdout",
     "output_type": "stream",
     "text": [
      "Epoch: 05 | Time: 0m 2s\tTrain Loss: 0.256\n",
      "epoch start:  5\n",
      "training ...\n"
     ]
    },
    {
     "name": "stderr",
     "output_type": "stream",
     "text": [
      "400it [00:02, 167.66it/s]\n",
      "16it [00:00, 157.92it/s]"
     ]
    },
    {
     "name": "stdout",
     "output_type": "stream",
     "text": [
      "Epoch: 06 | Time: 0m 2s\tTrain Loss: 0.191\n",
      "epoch start:  6\n",
      "training ...\n"
     ]
    },
    {
     "name": "stderr",
     "output_type": "stream",
     "text": [
      "400it [00:02, 156.20it/s]\n",
      "17it [00:00, 165.86it/s]"
     ]
    },
    {
     "name": "stdout",
     "output_type": "stream",
     "text": [
      "Epoch: 07 | Time: 0m 2s\tTrain Loss: 0.151\n",
      "epoch start:  7\n",
      "training ...\n"
     ]
    },
    {
     "name": "stderr",
     "output_type": "stream",
     "text": [
      "400it [00:02, 158.52it/s]\n",
      "17it [00:00, 167.83it/s]"
     ]
    },
    {
     "name": "stdout",
     "output_type": "stream",
     "text": [
      "Epoch: 08 | Time: 0m 2s\tTrain Loss: 0.125\n",
      "epoch start:  8\n",
      "training ...\n"
     ]
    },
    {
     "name": "stderr",
     "output_type": "stream",
     "text": [
      "400it [00:02, 160.66it/s]\n",
      "17it [00:00, 168.85it/s]"
     ]
    },
    {
     "name": "stdout",
     "output_type": "stream",
     "text": [
      "Epoch: 09 | Time: 0m 2s\tTrain Loss: 0.105\n",
      "epoch start:  9\n",
      "training ...\n"
     ]
    },
    {
     "name": "stderr",
     "output_type": "stream",
     "text": [
      "400it [00:02, 163.64it/s]\n",
      "19it [00:00, 187.78it/s]"
     ]
    },
    {
     "name": "stdout",
     "output_type": "stream",
     "text": [
      "Epoch: 10 | Time: 0m 2s\tTrain Loss: 0.091\n",
      "epoch start:  10\n",
      "training ...\n"
     ]
    },
    {
     "name": "stderr",
     "output_type": "stream",
     "text": [
      "400it [00:02, 167.40it/s]\n",
      "16it [00:00, 151.21it/s]"
     ]
    },
    {
     "name": "stdout",
     "output_type": "stream",
     "text": [
      "Epoch: 11 | Time: 0m 2s\tTrain Loss: 0.080\n",
      "epoch start:  11\n",
      "training ...\n"
     ]
    },
    {
     "name": "stderr",
     "output_type": "stream",
     "text": [
      "400it [00:02, 153.58it/s]\n",
      "16it [00:00, 149.44it/s]"
     ]
    },
    {
     "name": "stdout",
     "output_type": "stream",
     "text": [
      "Epoch: 12 | Time: 0m 2s\tTrain Loss: 0.071\n",
      "epoch start:  12\n",
      "training ...\n"
     ]
    },
    {
     "name": "stderr",
     "output_type": "stream",
     "text": [
      "400it [00:02, 156.99it/s]\n",
      "16it [00:00, 155.99it/s]"
     ]
    },
    {
     "name": "stdout",
     "output_type": "stream",
     "text": [
      "Epoch: 13 | Time: 0m 2s\tTrain Loss: 0.064\n",
      "epoch start:  13\n",
      "training ...\n"
     ]
    },
    {
     "name": "stderr",
     "output_type": "stream",
     "text": [
      "400it [00:02, 168.32it/s]\n",
      "16it [00:00, 155.75it/s]"
     ]
    },
    {
     "name": "stdout",
     "output_type": "stream",
     "text": [
      "Epoch: 14 | Time: 0m 2s\tTrain Loss: 0.058\n",
      "epoch start:  14\n",
      "training ...\n"
     ]
    },
    {
     "name": "stderr",
     "output_type": "stream",
     "text": [
      "400it [00:02, 149.71it/s]\n",
      "14it [00:00, 133.61it/s]"
     ]
    },
    {
     "name": "stdout",
     "output_type": "stream",
     "text": [
      "Epoch: 15 | Time: 0m 2s\tTrain Loss: 0.053\n",
      "epoch start:  15\n",
      "training ...\n"
     ]
    },
    {
     "name": "stderr",
     "output_type": "stream",
     "text": [
      "400it [00:02, 156.86it/s]\n",
      "17it [00:00, 166.39it/s]"
     ]
    },
    {
     "name": "stdout",
     "output_type": "stream",
     "text": [
      "Epoch: 16 | Time: 0m 2s\tTrain Loss: 0.049\n",
      "epoch start:  16\n",
      "training ...\n"
     ]
    },
    {
     "name": "stderr",
     "output_type": "stream",
     "text": [
      "400it [00:02, 158.01it/s]\n",
      "15it [00:00, 148.98it/s]"
     ]
    },
    {
     "name": "stdout",
     "output_type": "stream",
     "text": [
      "Epoch: 17 | Time: 0m 2s\tTrain Loss: 0.045\n",
      "epoch start:  17\n",
      "training ...\n"
     ]
    },
    {
     "name": "stderr",
     "output_type": "stream",
     "text": [
      "400it [00:02, 151.47it/s]\n",
      "18it [00:00, 175.00it/s]"
     ]
    },
    {
     "name": "stdout",
     "output_type": "stream",
     "text": [
      "Epoch: 18 | Time: 0m 2s\tTrain Loss: 0.042\n",
      "epoch start:  18\n",
      "training ...\n"
     ]
    },
    {
     "name": "stderr",
     "output_type": "stream",
     "text": [
      "400it [00:02, 152.70it/s]\n",
      "16it [00:00, 157.60it/s]"
     ]
    },
    {
     "name": "stdout",
     "output_type": "stream",
     "text": [
      "Epoch: 19 | Time: 0m 2s\tTrain Loss: 0.039\n",
      "epoch start:  19\n",
      "training ...\n"
     ]
    },
    {
     "name": "stderr",
     "output_type": "stream",
     "text": [
      "400it [00:02, 153.80it/s]\n"
     ]
    },
    {
     "name": "stdout",
     "output_type": "stream",
     "text": [
      "Epoch: 20 | Time: 0m 2s\tTrain Loss: 0.037\n",
      "loss(generator):  20.268522644042967\n",
      "loss(generator):  5.270151138305664\n",
      "loss(generator):  3.76551513671875\n",
      "loss(generator):  3.81490478515625\n",
      "loss(generator):  3.8811763763427733\n",
      "loss(generator):  3.7234317779541017\n",
      "loss(generator):  3.8871509552001955\n",
      "loss(generator):  3.6820514678955076\n",
      "loss(generator):  3.690583038330078\n",
      "loss(generator):  3.681640625\n",
      "loss(generator):  3.7087944030761717\n",
      "loss(generator):  3.6828739166259767\n",
      "loss(generator):  3.702067184448242\n",
      "loss(generator):  3.702288818359375\n",
      "loss(generator):  3.802045440673828\n",
      "loss(generator):  3.6901145935058595\n",
      "loss(generator):  3.6798824310302733\n",
      "loss(generator):  3.681824493408203\n",
      "loss(generator):  3.6786640167236326\n",
      "loss(generator):  3.742115783691406\n",
      "loss(generator):  3.7281246185302734\n",
      "loss(generator):  3.6800289154052734\n",
      "loss(generator):  3.6661666870117187\n",
      "loss(generator):  3.6874759674072264\n",
      "loss(generator):  3.6722862243652346\n",
      "loss(generator):  3.6886661529541014\n",
      "loss(generator):  3.6928688049316407\n",
      "loss(generator):  3.683811569213867\n",
      "loss(generator):  3.6804428100585938\n",
      "loss(generator):  3.668328857421875\n",
      "loss(generator):  3.690333938598633\n",
      "loss(generator):  3.681095504760742\n",
      "loss(generator):  3.680613708496094\n",
      "loss(generator):  3.6807846069335937\n",
      "loss(generator):  3.6929492950439453\n",
      "loss(generator):  3.681111526489258\n",
      "loss(generator):  4.219029235839844\n",
      "loss(generator):  3.7195178985595705\n",
      "loss(generator):  3.6790985107421874\n",
      "loss(generator):  3.6719818115234375\n",
      "loss(generator):  3.670461654663086\n",
      "loss(generator):  3.6687652587890627\n",
      "loss(generator):  3.669707107543945\n",
      "loss(generator):  3.669927978515625\n",
      "loss(generator):  3.669572448730469\n",
      "loss(generator):  3.671459197998047\n",
      "loss(generator):  3.6815872192382812\n",
      "loss(generator):  3.6728679656982424\n",
      "loss(generator):  3.6749549865722657\n",
      "loss(generator):  3.6683639526367187\n",
      "loss(generator):  3.66717414855957\n",
      "loss(generator):  3.663365936279297\n",
      "loss(generator):  3.665812301635742\n",
      "loss(generator):  3.673878479003906\n",
      "loss(generator):  3.665385437011719\n",
      "loss(generator):  3.668863296508789\n",
      "loss(generator):  3.6706592559814455\n",
      "loss(generator):  3.679716873168945\n",
      "loss(generator):  3.664866256713867\n",
      "loss(generator):  3.6650321960449217\n",
      "loss(generator):  3.671535110473633\n",
      "loss(generator):  3.668040466308594\n",
      "loss(generator):  3.6639808654785155\n",
      "loss(generator):  3.6658397674560548\n",
      "loss(generator):  3.668749237060547\n",
      "loss(generator):  3.6680370330810548\n",
      "loss(generator):  3.7078319549560548\n",
      "loss(generator):  3.6775794982910157\n",
      "loss(generator):  3.666366195678711\n",
      "loss(generator):  3.6813243865966796\n",
      "loss(generator):  3.6687080383300783\n",
      "loss(generator):  3.662782669067383\n",
      "loss(generator):  3.6624004364013674\n",
      "loss(generator):  3.668436813354492\n",
      "loss(generator):  3.6689456939697265\n",
      "loss(generator):  3.6666065216064454\n",
      "loss(generator):  3.6651676177978514\n",
      "loss(generator):  3.6592117309570313\n",
      "loss(generator):  3.6624446868896485\n",
      "loss(generator):  3.6783721923828123\n",
      "loss(generator):  3.666687774658203\n",
      "loss(generator):  3.6617298126220703\n",
      "loss(generator):  3.6674472808837892\n",
      "loss(generator):  3.669460678100586\n",
      "loss(generator):  3.6627952575683596\n",
      "loss(generator):  3.6696266174316405\n",
      "loss(generator):  3.6625511169433596\n",
      "loss(generator):  3.6660816192626955\n",
      "loss(generator):  3.6661022186279295\n",
      "loss(generator):  3.6600833892822267\n",
      "loss(generator):  3.6712162017822267\n",
      "loss(generator):  3.6644725799560547\n",
      "loss(generator):  3.6661445617675783\n",
      "loss(generator):  3.6697265625\n",
      "loss(generator):  3.664860153198242\n",
      "loss(generator):  3.6673519134521486\n",
      "loss(generator):  3.6574371337890623\n",
      "loss(generator):  3.6633018493652343\n",
      "loss(generator):  3.6670249938964843\n",
      "loss(generator):  3.683306884765625\n"
     ]
    },
    {
     "name": "stderr",
     "output_type": "stream",
     "text": [
      "16it [00:00, 159.65it/s]"
     ]
    },
    {
     "name": "stdout",
     "output_type": "stream",
     "text": [
      "epoch start:  0\n",
      "training ...\n"
     ]
    },
    {
     "name": "stderr",
     "output_type": "stream",
     "text": [
      "400it [00:02, 156.97it/s]\n",
      "17it [00:00, 162.53it/s]"
     ]
    },
    {
     "name": "stdout",
     "output_type": "stream",
     "text": [
      "Epoch: 01 | Time: 0m 2s\tTrain Loss: 117.555\n",
      "epoch start:  1\n",
      "training ...\n"
     ]
    },
    {
     "name": "stderr",
     "output_type": "stream",
     "text": [
      "400it [00:02, 168.86it/s]\n",
      "17it [00:00, 167.57it/s]"
     ]
    },
    {
     "name": "stdout",
     "output_type": "stream",
     "text": [
      "Epoch: 02 | Time: 0m 2s\tTrain Loss: 14.352\n",
      "epoch start:  2\n",
      "training ...\n"
     ]
    },
    {
     "name": "stderr",
     "output_type": "stream",
     "text": [
      "400it [00:02, 179.34it/s]\n",
      "18it [00:00, 177.36it/s]"
     ]
    },
    {
     "name": "stdout",
     "output_type": "stream",
     "text": [
      "Epoch: 03 | Time: 0m 2s\tTrain Loss: 2.878\n",
      "epoch start:  3\n",
      "training ...\n"
     ]
    },
    {
     "name": "stderr",
     "output_type": "stream",
     "text": [
      "400it [00:02, 174.64it/s]\n",
      "19it [00:00, 185.56it/s]"
     ]
    },
    {
     "name": "stdout",
     "output_type": "stream",
     "text": [
      "Epoch: 04 | Time: 0m 2s\tTrain Loss: 1.456\n",
      "epoch start:  4\n",
      "training ...\n"
     ]
    },
    {
     "name": "stderr",
     "output_type": "stream",
     "text": [
      "400it [00:02, 180.61it/s]\n",
      "20it [00:00, 196.37it/s]"
     ]
    },
    {
     "name": "stdout",
     "output_type": "stream",
     "text": [
      "Epoch: 05 | Time: 0m 2s\tTrain Loss: 0.795\n",
      "epoch start:  5\n",
      "training ...\n"
     ]
    },
    {
     "name": "stderr",
     "output_type": "stream",
     "text": [
      "400it [00:02, 197.42it/s]\n",
      "19it [00:00, 178.68it/s]"
     ]
    },
    {
     "name": "stdout",
     "output_type": "stream",
     "text": [
      "Epoch: 06 | Time: 0m 2s\tTrain Loss: 0.588\n",
      "epoch start:  6\n",
      "training ...\n"
     ]
    },
    {
     "name": "stderr",
     "output_type": "stream",
     "text": [
      "400it [00:02, 178.37it/s]\n",
      "18it [00:00, 175.96it/s]"
     ]
    },
    {
     "name": "stdout",
     "output_type": "stream",
     "text": [
      "Epoch: 07 | Time: 0m 2s\tTrain Loss: 0.446\n",
      "epoch start:  7\n",
      "training ...\n"
     ]
    },
    {
     "name": "stderr",
     "output_type": "stream",
     "text": [
      "400it [00:02, 177.81it/s]\n",
      "15it [00:00, 142.79it/s]"
     ]
    },
    {
     "name": "stdout",
     "output_type": "stream",
     "text": [
      "Epoch: 08 | Time: 0m 2s\tTrain Loss: 0.382\n",
      "epoch start:  8\n",
      "training ...\n"
     ]
    },
    {
     "name": "stderr",
     "output_type": "stream",
     "text": [
      "400it [00:02, 153.78it/s]\n",
      "16it [00:00, 151.10it/s]"
     ]
    },
    {
     "name": "stdout",
     "output_type": "stream",
     "text": [
      "Epoch: 09 | Time: 0m 2s\tTrain Loss: 0.317\n",
      "epoch start:  9\n",
      "training ...\n"
     ]
    },
    {
     "name": "stderr",
     "output_type": "stream",
     "text": [
      "400it [00:02, 156.33it/s]\n",
      "15it [00:00, 148.11it/s]"
     ]
    },
    {
     "name": "stdout",
     "output_type": "stream",
     "text": [
      "Epoch: 10 | Time: 0m 2s\tTrain Loss: 0.276\n",
      "epoch start:  10\n",
      "training ...\n"
     ]
    },
    {
     "name": "stderr",
     "output_type": "stream",
     "text": [
      "400it [00:02, 156.64it/s]\n",
      "17it [00:00, 160.54it/s]"
     ]
    },
    {
     "name": "stdout",
     "output_type": "stream",
     "text": [
      "Epoch: 11 | Time: 0m 2s\tTrain Loss: 0.250\n",
      "epoch start:  11\n",
      "training ...\n"
     ]
    },
    {
     "name": "stderr",
     "output_type": "stream",
     "text": [
      "400it [00:02, 159.07it/s]\n",
      "17it [00:00, 163.08it/s]"
     ]
    },
    {
     "name": "stdout",
     "output_type": "stream",
     "text": [
      "Epoch: 12 | Time: 0m 2s\tTrain Loss: 0.221\n",
      "epoch start:  12\n",
      "training ...\n"
     ]
    },
    {
     "name": "stderr",
     "output_type": "stream",
     "text": [
      "400it [00:02, 158.85it/s]\n",
      "17it [00:00, 168.18it/s]"
     ]
    },
    {
     "name": "stdout",
     "output_type": "stream",
     "text": [
      "Epoch: 13 | Time: 0m 2s\tTrain Loss: 0.198\n",
      "epoch start:  13\n",
      "training ...\n"
     ]
    },
    {
     "name": "stderr",
     "output_type": "stream",
     "text": [
      "400it [00:02, 158.50it/s]\n",
      "18it [00:00, 172.78it/s]"
     ]
    },
    {
     "name": "stdout",
     "output_type": "stream",
     "text": [
      "Epoch: 14 | Time: 0m 2s\tTrain Loss: 0.186\n",
      "epoch start:  14\n",
      "training ...\n"
     ]
    },
    {
     "name": "stderr",
     "output_type": "stream",
     "text": [
      "400it [00:02, 174.11it/s]\n",
      "17it [00:00, 167.32it/s]"
     ]
    },
    {
     "name": "stdout",
     "output_type": "stream",
     "text": [
      "Epoch: 15 | Time: 0m 2s\tTrain Loss: 0.165\n",
      "epoch start:  15\n",
      "training ...\n"
     ]
    },
    {
     "name": "stderr",
     "output_type": "stream",
     "text": [
      "400it [00:02, 157.66it/s]\n",
      "17it [00:00, 151.97it/s]"
     ]
    },
    {
     "name": "stdout",
     "output_type": "stream",
     "text": [
      "Epoch: 16 | Time: 0m 2s\tTrain Loss: 0.154\n",
      "epoch start:  16\n",
      "training ...\n"
     ]
    },
    {
     "name": "stderr",
     "output_type": "stream",
     "text": [
      "400it [00:02, 159.75it/s]\n",
      "16it [00:00, 158.69it/s]"
     ]
    },
    {
     "name": "stdout",
     "output_type": "stream",
     "text": [
      "Epoch: 17 | Time: 0m 2s\tTrain Loss: 0.142\n",
      "epoch start:  17\n",
      "training ...\n"
     ]
    },
    {
     "name": "stderr",
     "output_type": "stream",
     "text": [
      "400it [00:02, 159.84it/s]\n",
      "15it [00:00, 146.65it/s]"
     ]
    },
    {
     "name": "stdout",
     "output_type": "stream",
     "text": [
      "Epoch: 18 | Time: 0m 2s\tTrain Loss: 0.135\n",
      "epoch start:  18\n",
      "training ...\n"
     ]
    },
    {
     "name": "stderr",
     "output_type": "stream",
     "text": [
      "400it [00:02, 148.80it/s]\n",
      "15it [00:00, 148.07it/s]"
     ]
    },
    {
     "name": "stdout",
     "output_type": "stream",
     "text": [
      "Epoch: 19 | Time: 0m 2s\tTrain Loss: 0.124\n",
      "epoch start:  19\n",
      "training ...\n"
     ]
    },
    {
     "name": "stderr",
     "output_type": "stream",
     "text": [
      "400it [00:02, 153.18it/s]\n"
     ]
    },
    {
     "name": "stdout",
     "output_type": "stream",
     "text": [
      "Epoch: 20 | Time: 0m 2s\tTrain Loss: 0.118\n",
      "loss(generator):  14.380763244628906\n",
      "loss(generator):  4.165201187133789\n",
      "loss(generator):  3.684035873413086\n",
      "loss(generator):  3.68218994140625\n",
      "loss(generator):  4.0211952209472654\n",
      "loss(generator):  3.6864059448242186\n",
      "loss(generator):  3.6691837310791016\n",
      "loss(generator):  3.6734066009521484\n",
      "loss(generator):  3.6729564666748047\n",
      "loss(generator):  3.676769256591797\n",
      "loss(generator):  3.6735965728759767\n",
      "loss(generator):  3.6739124298095702\n",
      "loss(generator):  3.675353240966797\n",
      "loss(generator):  3.6715831756591797\n",
      "loss(generator):  3.6771804809570314\n",
      "loss(generator):  3.670362854003906\n",
      "loss(generator):  3.6710094451904296\n",
      "loss(generator):  3.672185516357422\n",
      "loss(generator):  3.671024703979492\n",
      "loss(generator):  3.67432861328125\n",
      "loss(generator):  3.6731910705566406\n",
      "loss(generator):  3.6692264556884764\n",
      "loss(generator):  3.6724437713623046\n",
      "loss(generator):  3.6719287872314452\n",
      "loss(generator):  3.6699554443359377\n",
      "loss(generator):  3.673585891723633\n",
      "loss(generator):  3.6654476165771483\n",
      "loss(generator):  3.6715251922607424\n",
      "loss(generator):  3.671329879760742\n",
      "loss(generator):  3.671479034423828\n",
      "loss(generator):  3.664533996582031\n",
      "loss(generator):  3.6744430541992186\n",
      "loss(generator):  3.6751049041748045\n",
      "loss(generator):  3.6689079284667967\n",
      "loss(generator):  3.6658252716064452\n",
      "loss(generator):  3.665476989746094\n",
      "loss(generator):  3.6757179260253907\n",
      "loss(generator):  3.6731449127197267\n",
      "loss(generator):  3.6611328125\n",
      "loss(generator):  3.671413803100586\n",
      "loss(generator):  3.671089935302734\n",
      "loss(generator):  3.6692150115966795\n",
      "loss(generator):  3.6678535461425783\n",
      "loss(generator):  3.674399185180664\n",
      "loss(generator):  3.6687881469726564\n",
      "loss(generator):  3.6705223083496095\n",
      "loss(generator):  3.6681304931640626\n",
      "loss(generator):  3.669799041748047\n",
      "loss(generator):  3.6701580047607423\n",
      "loss(generator):  3.6864177703857424\n",
      "loss(generator):  3.6713489532470702\n",
      "loss(generator):  3.6651893615722657\n",
      "loss(generator):  3.676666259765625\n",
      "loss(generator):  3.6731868743896485\n",
      "loss(generator):  3.673126220703125\n",
      "loss(generator):  3.6652774810791016\n",
      "loss(generator):  3.6634044647216797\n",
      "loss(generator):  3.669972610473633\n",
      "loss(generator):  3.669463348388672\n",
      "loss(generator):  3.663020706176758\n",
      "loss(generator):  3.670751953125\n",
      "loss(generator):  3.668539047241211\n",
      "loss(generator):  3.6673816680908202\n",
      "loss(generator):  3.6658676147460936\n",
      "loss(generator):  3.6664474487304686\n",
      "loss(generator):  3.66885986328125\n",
      "loss(generator):  3.668152618408203\n",
      "loss(generator):  3.665111541748047\n",
      "loss(generator):  3.667287826538086\n",
      "loss(generator):  3.667036437988281\n",
      "loss(generator):  3.668721389770508\n",
      "loss(generator):  3.664788818359375\n",
      "loss(generator):  3.6715366363525392\n",
      "loss(generator):  3.6734081268310548\n",
      "loss(generator):  3.6677791595458986\n",
      "loss(generator):  3.676169204711914\n",
      "loss(generator):  3.66467399597168\n",
      "loss(generator):  3.6643009185791016\n",
      "loss(generator):  3.665224075317383\n",
      "loss(generator):  3.6629863739013673\n",
      "loss(generator):  3.6683280944824217\n",
      "loss(generator):  3.677107238769531\n",
      "loss(generator):  3.6733688354492187\n",
      "loss(generator):  3.667562484741211\n",
      "loss(generator):  3.671194839477539\n",
      "loss(generator):  3.6683837890625\n",
      "loss(generator):  3.6700389862060545\n",
      "loss(generator):  3.6685070037841796\n",
      "loss(generator):  3.6637832641601564\n",
      "loss(generator):  3.66339111328125\n",
      "loss(generator):  3.668685531616211\n",
      "loss(generator):  3.6661231994628904\n",
      "loss(generator):  3.661802291870117\n",
      "loss(generator):  3.6675113677978515\n",
      "loss(generator):  3.667380523681641\n",
      "loss(generator):  3.6659469604492188\n",
      "loss(generator):  3.668833923339844\n",
      "loss(generator):  3.6676589965820314\n",
      "loss(generator):  3.6681427001953124\n",
      "loss(generator):  3.662699890136719\n"
     ]
    },
    {
     "name": "stderr",
     "output_type": "stream",
     "text": [
      "14it [00:00, 137.82it/s]"
     ]
    },
    {
     "name": "stdout",
     "output_type": "stream",
     "text": [
      "epoch start:  0\n",
      "training ...\n"
     ]
    },
    {
     "name": "stderr",
     "output_type": "stream",
     "text": [
      "400it [00:02, 148.53it/s]\n",
      "18it [00:00, 174.29it/s]"
     ]
    },
    {
     "name": "stdout",
     "output_type": "stream",
     "text": [
      "Epoch: 01 | Time: 0m 2s\tTrain Loss: 91.693\n",
      "epoch start:  1\n",
      "training ...\n"
     ]
    },
    {
     "name": "stderr",
     "output_type": "stream",
     "text": [
      "400it [00:02, 159.60it/s]\n",
      "20it [00:00, 196.94it/s]"
     ]
    },
    {
     "name": "stdout",
     "output_type": "stream",
     "text": [
      "Epoch: 02 | Time: 0m 2s\tTrain Loss: 3.467\n",
      "epoch start:  2\n",
      "training ...\n"
     ]
    },
    {
     "name": "stderr",
     "output_type": "stream",
     "text": [
      "400it [00:02, 159.85it/s]\n",
      "19it [00:00, 184.17it/s]"
     ]
    },
    {
     "name": "stdout",
     "output_type": "stream",
     "text": [
      "Epoch: 03 | Time: 0m 2s\tTrain Loss: 14.854\n",
      "epoch start:  3\n",
      "training ...\n"
     ]
    },
    {
     "name": "stderr",
     "output_type": "stream",
     "text": [
      "400it [00:02, 159.54it/s]\n",
      "16it [00:00, 151.90it/s]"
     ]
    },
    {
     "name": "stdout",
     "output_type": "stream",
     "text": [
      "Epoch: 04 | Time: 0m 2s\tTrain Loss: 0.831\n",
      "epoch start:  4\n",
      "training ...\n"
     ]
    },
    {
     "name": "stderr",
     "output_type": "stream",
     "text": [
      "400it [00:02, 158.32it/s]\n",
      "16it [00:00, 149.92it/s]"
     ]
    },
    {
     "name": "stdout",
     "output_type": "stream",
     "text": [
      "Epoch: 05 | Time: 0m 2s\tTrain Loss: 0.444\n",
      "epoch start:  5\n",
      "training ...\n"
     ]
    },
    {
     "name": "stderr",
     "output_type": "stream",
     "text": [
      "400it [00:02, 159.29it/s]\n",
      "16it [00:00, 155.55it/s]"
     ]
    },
    {
     "name": "stdout",
     "output_type": "stream",
     "text": [
      "Epoch: 06 | Time: 0m 2s\tTrain Loss: 0.309\n",
      "epoch start:  6\n",
      "training ...\n"
     ]
    },
    {
     "name": "stderr",
     "output_type": "stream",
     "text": [
      "400it [00:02, 162.15it/s]\n",
      "18it [00:00, 176.23it/s]"
     ]
    },
    {
     "name": "stdout",
     "output_type": "stream",
     "text": [
      "Epoch: 07 | Time: 0m 2s\tTrain Loss: 0.239\n",
      "epoch start:  7\n",
      "training ...\n"
     ]
    },
    {
     "name": "stderr",
     "output_type": "stream",
     "text": [
      "400it [00:02, 151.78it/s]\n",
      "15it [00:00, 143.11it/s]"
     ]
    },
    {
     "name": "stdout",
     "output_type": "stream",
     "text": [
      "Epoch: 08 | Time: 0m 2s\tTrain Loss: 0.197\n",
      "epoch start:  8\n",
      "training ...\n"
     ]
    },
    {
     "name": "stderr",
     "output_type": "stream",
     "text": [
      "400it [00:02, 169.95it/s]\n",
      "16it [00:00, 152.70it/s]"
     ]
    },
    {
     "name": "stdout",
     "output_type": "stream",
     "text": [
      "Epoch: 09 | Time: 0m 2s\tTrain Loss: 0.171\n",
      "epoch start:  9\n",
      "training ...\n"
     ]
    },
    {
     "name": "stderr",
     "output_type": "stream",
     "text": [
      "400it [00:02, 144.66it/s]\n",
      "14it [00:00, 136.13it/s]"
     ]
    },
    {
     "name": "stdout",
     "output_type": "stream",
     "text": [
      "Epoch: 10 | Time: 0m 2s\tTrain Loss: 0.151\n",
      "epoch start:  10\n",
      "training ...\n"
     ]
    },
    {
     "name": "stderr",
     "output_type": "stream",
     "text": [
      "400it [00:02, 153.73it/s]\n",
      "17it [00:00, 159.37it/s]"
     ]
    },
    {
     "name": "stdout",
     "output_type": "stream",
     "text": [
      "Epoch: 11 | Time: 0m 2s\tTrain Loss: 0.136\n",
      "epoch start:  11\n",
      "training ...\n"
     ]
    },
    {
     "name": "stderr",
     "output_type": "stream",
     "text": [
      "400it [00:02, 154.68it/s]\n",
      "16it [00:00, 157.89it/s]"
     ]
    },
    {
     "name": "stdout",
     "output_type": "stream",
     "text": [
      "Epoch: 12 | Time: 0m 2s\tTrain Loss: 0.124\n",
      "epoch start:  12\n",
      "training ...\n"
     ]
    },
    {
     "name": "stderr",
     "output_type": "stream",
     "text": [
      "400it [00:02, 153.27it/s]\n",
      "16it [00:00, 155.37it/s]"
     ]
    },
    {
     "name": "stdout",
     "output_type": "stream",
     "text": [
      "Epoch: 13 | Time: 0m 2s\tTrain Loss: 0.114\n",
      "epoch start:  13\n",
      "training ...\n"
     ]
    },
    {
     "name": "stderr",
     "output_type": "stream",
     "text": [
      "400it [00:02, 159.04it/s]\n",
      "15it [00:00, 146.89it/s]"
     ]
    },
    {
     "name": "stdout",
     "output_type": "stream",
     "text": [
      "Epoch: 14 | Time: 0m 2s\tTrain Loss: 0.106\n",
      "epoch start:  14\n",
      "training ...\n"
     ]
    },
    {
     "name": "stderr",
     "output_type": "stream",
     "text": [
      "400it [00:02, 164.42it/s]\n",
      "24it [00:00, 234.36it/s]"
     ]
    },
    {
     "name": "stdout",
     "output_type": "stream",
     "text": [
      "Epoch: 15 | Time: 0m 2s\tTrain Loss: 0.097\n",
      "epoch start:  15\n",
      "training ...\n"
     ]
    },
    {
     "name": "stderr",
     "output_type": "stream",
     "text": [
      "400it [00:02, 164.25it/s]\n",
      "14it [00:00, 135.32it/s]"
     ]
    },
    {
     "name": "stdout",
     "output_type": "stream",
     "text": [
      "Epoch: 16 | Time: 0m 2s\tTrain Loss: 0.090\n",
      "epoch start:  16\n",
      "training ...\n"
     ]
    },
    {
     "name": "stderr",
     "output_type": "stream",
     "text": [
      "400it [00:02, 146.62it/s]\n",
      "16it [00:00, 154.39it/s]"
     ]
    },
    {
     "name": "stdout",
     "output_type": "stream",
     "text": [
      "Epoch: 17 | Time: 0m 2s\tTrain Loss: 0.084\n",
      "epoch start:  17\n",
      "training ...\n"
     ]
    },
    {
     "name": "stderr",
     "output_type": "stream",
     "text": [
      "400it [00:02, 173.01it/s]\n",
      "16it [00:00, 151.23it/s]"
     ]
    },
    {
     "name": "stdout",
     "output_type": "stream",
     "text": [
      "Epoch: 18 | Time: 0m 2s\tTrain Loss: 0.079\n",
      "epoch start:  18\n",
      "training ...\n"
     ]
    },
    {
     "name": "stderr",
     "output_type": "stream",
     "text": [
      "400it [00:02, 151.63it/s]\n",
      "16it [00:00, 150.42it/s]"
     ]
    },
    {
     "name": "stdout",
     "output_type": "stream",
     "text": [
      "Epoch: 19 | Time: 0m 2s\tTrain Loss: 0.076\n",
      "epoch start:  19\n",
      "training ...\n"
     ]
    },
    {
     "name": "stderr",
     "output_type": "stream",
     "text": [
      "400it [00:02, 163.73it/s]\n"
     ]
    },
    {
     "name": "stdout",
     "output_type": "stream",
     "text": [
      "Epoch: 20 | Time: 0m 2s\tTrain Loss: 0.071\n",
      "loss(generator):  17.268722534179688\n",
      "loss(generator):  5.213003540039063\n",
      "loss(generator):  4.295839309692383\n",
      "loss(generator):  4.268479537963867\n",
      "loss(generator):  4.296580505371094\n",
      "loss(generator):  4.154639434814453\n",
      "loss(generator):  3.945820617675781\n",
      "loss(generator):  3.882538604736328\n",
      "loss(generator):  3.8633499145507812\n",
      "loss(generator):  3.983073043823242\n",
      "loss(generator):  3.8783733367919924\n",
      "loss(generator):  3.728133773803711\n",
      "loss(generator):  3.7704193115234377\n",
      "loss(generator):  3.699956512451172\n",
      "loss(generator):  3.6994434356689454\n",
      "loss(generator):  3.6955448150634767\n",
      "loss(generator):  3.698525238037109\n",
      "loss(generator):  3.6703014373779297\n",
      "loss(generator):  3.709700012207031\n",
      "loss(generator):  3.7072715759277344\n",
      "loss(generator):  3.6811763763427736\n",
      "loss(generator):  3.7116138458251955\n",
      "loss(generator):  3.6980049133300783\n",
      "loss(generator):  3.673390197753906\n",
      "loss(generator):  3.6770774841308596\n",
      "loss(generator):  3.7031665802001954\n",
      "loss(generator):  3.665569305419922\n",
      "loss(generator):  3.667939376831055\n",
      "loss(generator):  3.682985305786133\n",
      "loss(generator):  3.6780769348144533\n",
      "loss(generator):  3.6729511260986327\n",
      "loss(generator):  3.7225101470947264\n",
      "loss(generator):  3.667278289794922\n",
      "loss(generator):  3.668690872192383\n",
      "loss(generator):  3.691272735595703\n",
      "loss(generator):  3.663125228881836\n",
      "loss(generator):  3.6696487426757813\n",
      "loss(generator):  3.6745540618896486\n",
      "loss(generator):  3.6682323455810546\n",
      "loss(generator):  3.668502426147461\n",
      "loss(generator):  3.6708831787109375\n",
      "loss(generator):  3.6741348266601563\n",
      "loss(generator):  3.6645786285400392\n",
      "loss(generator):  3.6657989501953123\n",
      "loss(generator):  3.674639892578125\n",
      "loss(generator):  3.671692657470703\n",
      "loss(generator):  3.670479965209961\n",
      "loss(generator):  3.671736145019531\n",
      "loss(generator):  3.6651744842529297\n",
      "loss(generator):  3.675766372680664\n",
      "loss(generator):  3.6674312591552733\n",
      "loss(generator):  3.6652050018310547\n",
      "loss(generator):  3.674277114868164\n",
      "loss(generator):  3.6775821685791015\n",
      "loss(generator):  3.667327880859375\n",
      "loss(generator):  3.670423889160156\n",
      "loss(generator):  3.6640483856201174\n",
      "loss(generator):  3.6659778594970702\n",
      "loss(generator):  3.678463363647461\n",
      "loss(generator):  3.664500045776367\n",
      "loss(generator):  3.664977264404297\n",
      "loss(generator):  3.6696300506591797\n",
      "loss(generator):  3.666012191772461\n",
      "loss(generator):  3.663169097900391\n",
      "loss(generator):  3.696095275878906\n",
      "loss(generator):  3.667514419555664\n",
      "loss(generator):  3.6607471466064454\n",
      "loss(generator):  3.679567337036133\n",
      "loss(generator):  3.6662410736083983\n",
      "loss(generator):  3.692637252807617\n",
      "loss(generator):  3.6617351531982423\n",
      "loss(generator):  3.668207550048828\n",
      "loss(generator):  3.658422088623047\n",
      "loss(generator):  3.6651145935058596\n",
      "loss(generator):  3.6649402618408202\n",
      "loss(generator):  3.696916961669922\n",
      "loss(generator):  3.6584869384765626\n",
      "loss(generator):  3.665933609008789\n",
      "loss(generator):  3.6582416534423827\n",
      "loss(generator):  3.660456085205078\n",
      "loss(generator):  3.6677745819091796\n",
      "loss(generator):  3.6662220001220702\n",
      "loss(generator):  3.6646278381347654\n",
      "loss(generator):  3.6653770446777343\n",
      "loss(generator):  3.667185974121094\n",
      "loss(generator):  3.665487289428711\n",
      "loss(generator):  3.666563034057617\n",
      "loss(generator):  3.6744205474853517\n",
      "loss(generator):  3.6689311981201174\n",
      "loss(generator):  3.661722183227539\n",
      "loss(generator):  3.6706417083740233\n",
      "loss(generator):  3.669403076171875\n",
      "loss(generator):  3.6574405670166015\n",
      "loss(generator):  3.6655784606933595\n",
      "loss(generator):  3.6577648162841796\n",
      "loss(generator):  3.66412239074707\n",
      "loss(generator):  3.660711669921875\n",
      "loss(generator):  3.6688961029052733\n",
      "loss(generator):  3.661548614501953\n",
      "loss(generator):  3.669649124145508\n"
     ]
    },
    {
     "name": "stderr",
     "output_type": "stream",
     "text": [
      "17it [00:00, 167.05it/s]"
     ]
    },
    {
     "name": "stdout",
     "output_type": "stream",
     "text": [
      "epoch start:  0\n",
      "training ...\n"
     ]
    },
    {
     "name": "stderr",
     "output_type": "stream",
     "text": [
      "400it [00:02, 169.09it/s]\n",
      "18it [00:00, 176.79it/s]"
     ]
    },
    {
     "name": "stdout",
     "output_type": "stream",
     "text": [
      "Epoch: 01 | Time: 0m 2s\tTrain Loss: 103.632\n",
      "epoch start:  1\n",
      "training ...\n"
     ]
    },
    {
     "name": "stderr",
     "output_type": "stream",
     "text": [
      "400it [00:02, 181.22it/s]\n",
      "18it [00:00, 178.04it/s]"
     ]
    },
    {
     "name": "stdout",
     "output_type": "stream",
     "text": [
      "Epoch: 02 | Time: 0m 2s\tTrain Loss: 5.983\n",
      "epoch start:  2\n",
      "training ...\n"
     ]
    },
    {
     "name": "stderr",
     "output_type": "stream",
     "text": [
      "400it [00:02, 159.17it/s]\n",
      "17it [00:00, 161.62it/s]"
     ]
    },
    {
     "name": "stdout",
     "output_type": "stream",
     "text": [
      "Epoch: 03 | Time: 0m 2s\tTrain Loss: 0.964\n",
      "epoch start:  3\n",
      "training ...\n"
     ]
    },
    {
     "name": "stderr",
     "output_type": "stream",
     "text": [
      "400it [00:02, 155.48it/s]\n",
      "17it [00:00, 159.95it/s]"
     ]
    },
    {
     "name": "stdout",
     "output_type": "stream",
     "text": [
      "Epoch: 04 | Time: 0m 2s\tTrain Loss: 0.464\n",
      "epoch start:  4\n",
      "training ...\n"
     ]
    },
    {
     "name": "stderr",
     "output_type": "stream",
     "text": [
      "400it [00:02, 153.99it/s]\n",
      "16it [00:00, 150.81it/s]"
     ]
    },
    {
     "name": "stdout",
     "output_type": "stream",
     "text": [
      "Epoch: 05 | Time: 0m 2s\tTrain Loss: 0.333\n",
      "epoch start:  5\n",
      "training ...\n"
     ]
    },
    {
     "name": "stderr",
     "output_type": "stream",
     "text": [
      "400it [00:02, 153.09it/s]\n",
      "17it [00:00, 167.35it/s]"
     ]
    },
    {
     "name": "stdout",
     "output_type": "stream",
     "text": [
      "Epoch: 06 | Time: 0m 2s\tTrain Loss: 0.259\n",
      "epoch start:  6\n",
      "training ...\n"
     ]
    },
    {
     "name": "stderr",
     "output_type": "stream",
     "text": [
      "400it [00:02, 156.63it/s]\n",
      "16it [00:00, 150.80it/s]"
     ]
    },
    {
     "name": "stdout",
     "output_type": "stream",
     "text": [
      "Epoch: 07 | Time: 0m 2s\tTrain Loss: 0.212\n",
      "epoch start:  7\n",
      "training ...\n"
     ]
    },
    {
     "name": "stderr",
     "output_type": "stream",
     "text": [
      "400it [00:02, 168.53it/s]\n",
      "17it [00:00, 166.40it/s]"
     ]
    },
    {
     "name": "stdout",
     "output_type": "stream",
     "text": [
      "Epoch: 08 | Time: 0m 2s\tTrain Loss: 0.178\n",
      "epoch start:  8\n",
      "training ...\n"
     ]
    },
    {
     "name": "stderr",
     "output_type": "stream",
     "text": [
      "400it [00:02, 157.28it/s]\n",
      "17it [00:00, 167.28it/s]"
     ]
    },
    {
     "name": "stdout",
     "output_type": "stream",
     "text": [
      "Epoch: 09 | Time: 0m 2s\tTrain Loss: 0.157\n",
      "epoch start:  9\n",
      "training ...\n"
     ]
    },
    {
     "name": "stderr",
     "output_type": "stream",
     "text": [
      "400it [00:02, 156.54it/s]\n",
      "15it [00:00, 145.82it/s]"
     ]
    },
    {
     "name": "stdout",
     "output_type": "stream",
     "text": [
      "Epoch: 10 | Time: 0m 2s\tTrain Loss: 0.134\n",
      "epoch start:  10\n",
      "training ...\n"
     ]
    },
    {
     "name": "stderr",
     "output_type": "stream",
     "text": [
      "400it [00:02, 164.15it/s]\n",
      "16it [00:00, 149.13it/s]"
     ]
    },
    {
     "name": "stdout",
     "output_type": "stream",
     "text": [
      "Epoch: 11 | Time: 0m 2s\tTrain Loss: 0.130\n",
      "epoch start:  11\n",
      "training ...\n"
     ]
    },
    {
     "name": "stderr",
     "output_type": "stream",
     "text": [
      "400it [00:02, 152.06it/s]\n",
      "17it [00:00, 162.98it/s]"
     ]
    },
    {
     "name": "stdout",
     "output_type": "stream",
     "text": [
      "Epoch: 12 | Time: 0m 2s\tTrain Loss: 0.113\n",
      "epoch start:  12\n",
      "training ...\n"
     ]
    },
    {
     "name": "stderr",
     "output_type": "stream",
     "text": [
      "400it [00:02, 160.70it/s]\n",
      "16it [00:00, 156.26it/s]"
     ]
    },
    {
     "name": "stdout",
     "output_type": "stream",
     "text": [
      "Epoch: 13 | Time: 0m 2s\tTrain Loss: 0.104\n",
      "epoch start:  13\n",
      "training ...\n"
     ]
    },
    {
     "name": "stderr",
     "output_type": "stream",
     "text": [
      "400it [00:02, 175.80it/s]\n",
      "20it [00:00, 190.37it/s]"
     ]
    },
    {
     "name": "stdout",
     "output_type": "stream",
     "text": [
      "Epoch: 14 | Time: 0m 2s\tTrain Loss: 0.096\n",
      "epoch start:  14\n",
      "training ...\n"
     ]
    },
    {
     "name": "stderr",
     "output_type": "stream",
     "text": [
      "400it [00:02, 148.01it/s]\n",
      "15it [00:00, 145.98it/s]"
     ]
    },
    {
     "name": "stdout",
     "output_type": "stream",
     "text": [
      "Epoch: 15 | Time: 0m 2s\tTrain Loss: 0.087\n",
      "epoch start:  15\n",
      "training ...\n"
     ]
    },
    {
     "name": "stderr",
     "output_type": "stream",
     "text": [
      "400it [00:02, 148.24it/s]\n",
      "16it [00:00, 155.99it/s]"
     ]
    },
    {
     "name": "stdout",
     "output_type": "stream",
     "text": [
      "Epoch: 16 | Time: 0m 2s\tTrain Loss: 0.081\n",
      "epoch start:  16\n",
      "training ...\n"
     ]
    },
    {
     "name": "stderr",
     "output_type": "stream",
     "text": [
      "400it [00:02, 155.35it/s]\n",
      "15it [00:00, 146.81it/s]"
     ]
    },
    {
     "name": "stdout",
     "output_type": "stream",
     "text": [
      "Epoch: 17 | Time: 0m 2s\tTrain Loss: 0.076\n",
      "epoch start:  17\n",
      "training ...\n"
     ]
    },
    {
     "name": "stderr",
     "output_type": "stream",
     "text": [
      "400it [00:02, 153.60it/s]\n",
      "15it [00:00, 141.46it/s]"
     ]
    },
    {
     "name": "stdout",
     "output_type": "stream",
     "text": [
      "Epoch: 18 | Time: 0m 2s\tTrain Loss: 0.071\n",
      "epoch start:  18\n",
      "training ...\n"
     ]
    },
    {
     "name": "stderr",
     "output_type": "stream",
     "text": [
      "400it [00:02, 156.84it/s]\n",
      "17it [00:00, 161.62it/s]"
     ]
    },
    {
     "name": "stdout",
     "output_type": "stream",
     "text": [
      "Epoch: 19 | Time: 0m 2s\tTrain Loss: 0.067\n",
      "epoch start:  19\n",
      "training ...\n"
     ]
    },
    {
     "name": "stderr",
     "output_type": "stream",
     "text": [
      "400it [00:02, 165.18it/s]\n"
     ]
    },
    {
     "name": "stdout",
     "output_type": "stream",
     "text": [
      "Epoch: 20 | Time: 0m 2s\tTrain Loss: 0.063\n",
      "loss(generator):  16.411358642578126\n",
      "loss(generator):  6.546335601806641\n",
      "loss(generator):  3.8845726013183595\n",
      "loss(generator):  4.382489395141602\n",
      "loss(generator):  3.703653335571289\n",
      "loss(generator):  3.6714553833007812\n",
      "loss(generator):  3.6877796173095705\n",
      "loss(generator):  3.685586166381836\n",
      "loss(generator):  3.66871337890625\n",
      "loss(generator):  3.6673118591308596\n",
      "loss(generator):  3.671553039550781\n",
      "loss(generator):  3.737040328979492\n",
      "loss(generator):  3.663400650024414\n",
      "loss(generator):  3.6817474365234375\n",
      "loss(generator):  3.6687103271484376\n",
      "loss(generator):  3.6675201416015626\n",
      "loss(generator):  3.6657691955566407\n",
      "loss(generator):  3.6698482513427733\n",
      "loss(generator):  3.7804290771484377\n",
      "loss(generator):  3.6758102416992187\n",
      "loss(generator):  3.6700214385986327\n",
      "loss(generator):  3.663130187988281\n",
      "loss(generator):  3.671506881713867\n",
      "loss(generator):  3.66400146484375\n",
      "loss(generator):  3.6706169128417967\n",
      "loss(generator):  3.6669601440429687\n",
      "loss(generator):  3.7039409637451173\n",
      "loss(generator):  3.6667640686035154\n",
      "loss(generator):  3.656779098510742\n",
      "loss(generator):  3.656245803833008\n",
      "loss(generator):  3.6609565734863283\n",
      "loss(generator):  3.661465072631836\n",
      "loss(generator):  3.6541648864746095\n",
      "loss(generator):  3.686422348022461\n",
      "loss(generator):  3.6763027191162108\n",
      "loss(generator):  3.6651805877685546\n",
      "loss(generator):  3.6637935638427734\n",
      "loss(generator):  3.6593181610107424\n",
      "loss(generator):  3.6657150268554686\n",
      "loss(generator):  3.6711380004882814\n",
      "loss(generator):  3.6598957061767576\n",
      "loss(generator):  3.6688323974609376\n",
      "loss(generator):  3.676458740234375\n",
      "loss(generator):  3.655549240112305\n",
      "loss(generator):  3.657806396484375\n",
      "loss(generator):  3.6577438354492187\n",
      "loss(generator):  3.660450744628906\n",
      "loss(generator):  3.661164474487305\n",
      "loss(generator):  3.6626487731933595\n",
      "loss(generator):  3.6666915893554686\n",
      "loss(generator):  3.642146682739258\n",
      "loss(generator):  3.653721237182617\n",
      "loss(generator):  3.660971832275391\n",
      "loss(generator):  3.6539688110351562\n",
      "loss(generator):  3.6624935150146483\n",
      "loss(generator):  3.667005920410156\n",
      "loss(generator):  3.6569145202636717\n",
      "loss(generator):  3.654759979248047\n",
      "loss(generator):  3.655253601074219\n",
      "loss(generator):  3.6572269439697265\n",
      "loss(generator):  3.6549285888671874\n",
      "loss(generator):  3.6607433319091798\n",
      "loss(generator):  3.6469562530517576\n",
      "loss(generator):  3.662725067138672\n",
      "loss(generator):  3.661612701416016\n",
      "loss(generator):  3.6583690643310547\n",
      "loss(generator):  3.6580741882324217\n",
      "loss(generator):  3.654637908935547\n",
      "loss(generator):  3.6600662231445313\n",
      "loss(generator):  3.661399078369141\n",
      "loss(generator):  3.6640464782714846\n",
      "loss(generator):  3.6627086639404296\n",
      "loss(generator):  3.6623310089111327\n",
      "loss(generator):  3.6599525451660155\n",
      "loss(generator):  3.66414794921875\n",
      "loss(generator):  3.657693099975586\n",
      "loss(generator):  3.6585742950439455\n",
      "loss(generator):  3.660619354248047\n",
      "loss(generator):  3.666500473022461\n",
      "loss(generator):  3.6578125\n",
      "loss(generator):  3.6508487701416015\n",
      "loss(generator):  3.6582260131835938\n",
      "loss(generator):  3.6592117309570313\n",
      "loss(generator):  3.65875358581543\n",
      "loss(generator):  3.660904312133789\n",
      "loss(generator):  3.648252487182617\n",
      "loss(generator):  3.6613616943359375\n",
      "loss(generator):  3.658885955810547\n",
      "loss(generator):  3.6584339141845703\n",
      "loss(generator):  3.663227844238281\n",
      "loss(generator):  3.6603504180908204\n",
      "loss(generator):  3.6585758209228514\n",
      "loss(generator):  3.651559066772461\n",
      "loss(generator):  3.6500720977783203\n",
      "loss(generator):  3.6472312927246096\n",
      "loss(generator):  3.655730056762695\n",
      "loss(generator):  3.662279510498047\n",
      "loss(generator):  3.653249740600586\n",
      "loss(generator):  3.657837677001953\n",
      "loss(generator):  3.6575355529785156\n"
     ]
    },
    {
     "name": "stderr",
     "output_type": "stream",
     "text": [
      "16it [00:00, 159.65it/s]"
     ]
    },
    {
     "name": "stdout",
     "output_type": "stream",
     "text": [
      "epoch start:  0\n",
      "training ...\n"
     ]
    },
    {
     "name": "stderr",
     "output_type": "stream",
     "text": [
      "400it [00:02, 170.42it/s]\n",
      "17it [00:00, 167.16it/s]"
     ]
    },
    {
     "name": "stdout",
     "output_type": "stream",
     "text": [
      "Epoch: 01 | Time: 0m 2s\tTrain Loss: 173.146\n",
      "epoch start:  1\n",
      "training ...\n"
     ]
    },
    {
     "name": "stderr",
     "output_type": "stream",
     "text": [
      "400it [00:02, 179.41it/s]\n",
      "17it [00:00, 164.32it/s]"
     ]
    },
    {
     "name": "stdout",
     "output_type": "stream",
     "text": [
      "Epoch: 02 | Time: 0m 2s\tTrain Loss: 19.664\n",
      "epoch start:  2\n",
      "training ...\n"
     ]
    },
    {
     "name": "stderr",
     "output_type": "stream",
     "text": [
      "400it [00:02, 171.50it/s]\n",
      "16it [00:00, 157.99it/s]"
     ]
    },
    {
     "name": "stdout",
     "output_type": "stream",
     "text": [
      "Epoch: 03 | Time: 0m 2s\tTrain Loss: 5.021\n",
      "epoch start:  3\n",
      "training ...\n"
     ]
    },
    {
     "name": "stderr",
     "output_type": "stream",
     "text": [
      "400it [00:02, 172.53it/s]\n",
      "20it [00:00, 191.51it/s]"
     ]
    },
    {
     "name": "stdout",
     "output_type": "stream",
     "text": [
      "Epoch: 04 | Time: 0m 2s\tTrain Loss: 2.444\n",
      "epoch start:  4\n",
      "training ...\n"
     ]
    },
    {
     "name": "stderr",
     "output_type": "stream",
     "text": [
      "400it [00:02, 183.49it/s]\n",
      "21it [00:00, 205.90it/s]"
     ]
    },
    {
     "name": "stdout",
     "output_type": "stream",
     "text": [
      "Epoch: 05 | Time: 0m 2s\tTrain Loss: 1.548\n",
      "epoch start:  5\n",
      "training ...\n"
     ]
    },
    {
     "name": "stderr",
     "output_type": "stream",
     "text": [
      "400it [00:02, 178.08it/s]\n",
      "18it [00:00, 171.45it/s]"
     ]
    },
    {
     "name": "stdout",
     "output_type": "stream",
     "text": [
      "Epoch: 06 | Time: 0m 2s\tTrain Loss: 1.037\n",
      "epoch start:  6\n",
      "training ...\n"
     ]
    },
    {
     "name": "stderr",
     "output_type": "stream",
     "text": [
      "400it [00:02, 152.76it/s]\n",
      "15it [00:00, 142.50it/s]"
     ]
    },
    {
     "name": "stdout",
     "output_type": "stream",
     "text": [
      "Epoch: 07 | Time: 0m 2s\tTrain Loss: 0.802\n",
      "epoch start:  7\n",
      "training ...\n"
     ]
    },
    {
     "name": "stderr",
     "output_type": "stream",
     "text": [
      "400it [00:02, 157.06it/s]\n",
      "17it [00:00, 158.78it/s]"
     ]
    },
    {
     "name": "stdout",
     "output_type": "stream",
     "text": [
      "Epoch: 08 | Time: 0m 2s\tTrain Loss: 0.635\n",
      "epoch start:  8\n",
      "training ...\n"
     ]
    },
    {
     "name": "stderr",
     "output_type": "stream",
     "text": [
      "400it [00:02, 156.41it/s]\n",
      "15it [00:00, 148.46it/s]"
     ]
    },
    {
     "name": "stdout",
     "output_type": "stream",
     "text": [
      "Epoch: 09 | Time: 0m 2s\tTrain Loss: 0.522\n",
      "epoch start:  9\n",
      "training ...\n"
     ]
    },
    {
     "name": "stderr",
     "output_type": "stream",
     "text": [
      "400it [00:02, 159.77it/s]\n",
      "20it [00:00, 187.16it/s]"
     ]
    },
    {
     "name": "stdout",
     "output_type": "stream",
     "text": [
      "Epoch: 10 | Time: 0m 2s\tTrain Loss: 0.448\n",
      "epoch start:  10\n",
      "training ...\n"
     ]
    },
    {
     "name": "stderr",
     "output_type": "stream",
     "text": [
      "400it [00:02, 170.63it/s]\n",
      "18it [00:00, 179.45it/s]"
     ]
    },
    {
     "name": "stdout",
     "output_type": "stream",
     "text": [
      "Epoch: 11 | Time: 0m 2s\tTrain Loss: 0.381\n",
      "epoch start:  11\n",
      "training ...\n"
     ]
    },
    {
     "name": "stderr",
     "output_type": "stream",
     "text": [
      "400it [00:02, 150.74it/s]\n",
      "15it [00:00, 140.97it/s]"
     ]
    },
    {
     "name": "stdout",
     "output_type": "stream",
     "text": [
      "Epoch: 12 | Time: 0m 2s\tTrain Loss: 0.335\n",
      "epoch start:  12\n",
      "training ...\n"
     ]
    },
    {
     "name": "stderr",
     "output_type": "stream",
     "text": [
      "400it [00:02, 174.90it/s]\n",
      "17it [00:00, 160.67it/s]"
     ]
    },
    {
     "name": "stdout",
     "output_type": "stream",
     "text": [
      "Epoch: 13 | Time: 0m 2s\tTrain Loss: 0.296\n",
      "epoch start:  13\n",
      "training ...\n"
     ]
    },
    {
     "name": "stderr",
     "output_type": "stream",
     "text": [
      "400it [00:02, 151.62it/s]\n",
      "16it [00:00, 155.40it/s]"
     ]
    },
    {
     "name": "stdout",
     "output_type": "stream",
     "text": [
      "Epoch: 14 | Time: 0m 2s\tTrain Loss: 0.267\n",
      "epoch start:  14\n",
      "training ...\n"
     ]
    },
    {
     "name": "stderr",
     "output_type": "stream",
     "text": [
      "400it [00:02, 161.41it/s]\n",
      "14it [00:00, 139.85it/s]"
     ]
    },
    {
     "name": "stdout",
     "output_type": "stream",
     "text": [
      "Epoch: 15 | Time: 0m 2s\tTrain Loss: 0.239\n",
      "epoch start:  15\n",
      "training ...\n"
     ]
    },
    {
     "name": "stderr",
     "output_type": "stream",
     "text": [
      "400it [00:02, 179.71it/s]\n",
      "16it [00:00, 151.04it/s]"
     ]
    },
    {
     "name": "stdout",
     "output_type": "stream",
     "text": [
      "Epoch: 16 | Time: 0m 2s\tTrain Loss: 0.219\n",
      "epoch start:  16\n",
      "training ...\n"
     ]
    },
    {
     "name": "stderr",
     "output_type": "stream",
     "text": [
      "400it [00:02, 149.30it/s]\n",
      "16it [00:00, 152.85it/s]"
     ]
    },
    {
     "name": "stdout",
     "output_type": "stream",
     "text": [
      "Epoch: 17 | Time: 0m 2s\tTrain Loss: 0.200\n",
      "epoch start:  17\n",
      "training ...\n"
     ]
    },
    {
     "name": "stderr",
     "output_type": "stream",
     "text": [
      "400it [00:02, 158.22it/s]\n",
      "17it [00:00, 162.68it/s]"
     ]
    },
    {
     "name": "stdout",
     "output_type": "stream",
     "text": [
      "Epoch: 18 | Time: 0m 2s\tTrain Loss: 0.185\n",
      "epoch start:  18\n",
      "training ...\n"
     ]
    },
    {
     "name": "stderr",
     "output_type": "stream",
     "text": [
      "400it [00:02, 163.31it/s]\n",
      "20it [00:00, 187.16it/s]"
     ]
    },
    {
     "name": "stdout",
     "output_type": "stream",
     "text": [
      "Epoch: 19 | Time: 0m 2s\tTrain Loss: 0.171\n",
      "epoch start:  19\n",
      "training ...\n"
     ]
    },
    {
     "name": "stderr",
     "output_type": "stream",
     "text": [
      "400it [00:02, 172.25it/s]\n"
     ]
    },
    {
     "name": "stdout",
     "output_type": "stream",
     "text": [
      "Epoch: 20 | Time: 0m 2s\tTrain Loss: 0.159\n",
      "loss(generator):  14.405227661132812\n",
      "loss(generator):  6.094102478027343\n",
      "loss(generator):  5.474428939819336\n",
      "loss(generator):  5.208426666259766\n",
      "loss(generator):  4.886000442504883\n",
      "loss(generator):  4.423743438720703\n",
      "loss(generator):  4.3333698272705075\n",
      "loss(generator):  4.382540130615235\n",
      "loss(generator):  4.357481384277344\n",
      "loss(generator):  4.345626449584961\n",
      "loss(generator):  4.345515441894531\n",
      "loss(generator):  4.060922622680664\n",
      "loss(generator):  4.533480453491211\n",
      "loss(generator):  3.975503158569336\n",
      "loss(generator):  4.27094841003418\n",
      "loss(generator):  3.9540946960449217\n",
      "loss(generator):  4.19633903503418\n",
      "loss(generator):  4.055774307250976\n",
      "loss(generator):  4.0196178436279295\n",
      "loss(generator):  3.9600624084472655\n",
      "loss(generator):  3.829549789428711\n",
      "loss(generator):  3.8383602142333983\n",
      "loss(generator):  3.8021724700927733\n",
      "loss(generator):  3.918511962890625\n",
      "loss(generator):  3.821074676513672\n",
      "loss(generator):  3.836336135864258\n",
      "loss(generator):  3.8058971405029296\n",
      "loss(generator):  3.885837936401367\n",
      "loss(generator):  3.8673702239990235\n",
      "loss(generator):  3.8303295135498048\n",
      "loss(generator):  3.797855758666992\n",
      "loss(generator):  3.832498550415039\n",
      "loss(generator):  3.816568374633789\n",
      "loss(generator):  3.7988372802734376\n",
      "loss(generator):  3.7939308166503904\n",
      "loss(generator):  3.800196075439453\n",
      "loss(generator):  3.7889938354492188\n",
      "loss(generator):  3.812091064453125\n",
      "loss(generator):  3.8258651733398437\n",
      "loss(generator):  3.7287033081054686\n",
      "loss(generator):  3.8385284423828123\n",
      "loss(generator):  3.7999271392822265\n",
      "loss(generator):  3.798508071899414\n",
      "loss(generator):  3.7667396545410154\n",
      "loss(generator):  3.7853736877441406\n",
      "loss(generator):  3.794786834716797\n",
      "loss(generator):  3.750635528564453\n",
      "loss(generator):  3.7141544342041017\n",
      "loss(generator):  3.7590362548828127\n",
      "loss(generator):  3.7780715942382814\n",
      "loss(generator):  3.7873844146728515\n",
      "loss(generator):  3.8129161834716796\n",
      "loss(generator):  3.8056171417236326\n",
      "loss(generator):  3.67852783203125\n",
      "loss(generator):  3.6977184295654295\n",
      "loss(generator):  3.693411636352539\n",
      "loss(generator):  3.672979736328125\n",
      "loss(generator):  3.6850940704345705\n",
      "loss(generator):  3.669930267333984\n",
      "loss(generator):  3.6800437927246095\n",
      "loss(generator):  3.671853256225586\n",
      "loss(generator):  3.7767024993896485\n",
      "loss(generator):  3.6662097930908204\n",
      "loss(generator):  3.676005554199219\n",
      "loss(generator):  3.667197418212891\n",
      "loss(generator):  3.6647205352783203\n",
      "loss(generator):  3.6952030181884767\n",
      "loss(generator):  3.6870330810546874\n",
      "loss(generator):  3.6713638305664062\n",
      "loss(generator):  3.683847427368164\n",
      "loss(generator):  3.6751155853271484\n",
      "loss(generator):  3.667405700683594\n",
      "loss(generator):  3.6719100952148436\n",
      "loss(generator):  3.6681095123291017\n",
      "loss(generator):  3.6666938781738283\n",
      "loss(generator):  3.6911396026611327\n",
      "loss(generator):  3.657787322998047\n",
      "loss(generator):  3.66292724609375\n",
      "loss(generator):  3.678359603881836\n",
      "loss(generator):  3.6691699981689454\n",
      "loss(generator):  3.674854278564453\n",
      "loss(generator):  3.6780464172363283\n",
      "loss(generator):  3.665751647949219\n",
      "loss(generator):  3.6694671630859377\n",
      "loss(generator):  3.667284393310547\n",
      "loss(generator):  3.6696414947509766\n",
      "loss(generator):  3.6700504302978514\n",
      "loss(generator):  3.6633331298828127\n",
      "loss(generator):  3.6805259704589846\n",
      "loss(generator):  3.6704978942871094\n",
      "loss(generator):  3.6726612091064452\n",
      "loss(generator):  3.6596004486083986\n",
      "loss(generator):  3.7490474700927736\n",
      "loss(generator):  3.671710968017578\n",
      "loss(generator):  3.6691333770751955\n",
      "loss(generator):  3.6612342834472655\n",
      "loss(generator):  3.673815155029297\n",
      "loss(generator):  3.6660194396972656\n",
      "loss(generator):  3.6606170654296877\n",
      "loss(generator):  3.6561798095703124\n"
     ]
    },
    {
     "name": "stderr",
     "output_type": "stream",
     "text": [
      "20it [00:00, 196.97it/s]"
     ]
    },
    {
     "name": "stdout",
     "output_type": "stream",
     "text": [
      "epoch start:  0\n",
      "training ...\n"
     ]
    },
    {
     "name": "stderr",
     "output_type": "stream",
     "text": [
      "400it [00:02, 164.08it/s]\n",
      "18it [00:00, 171.87it/s]"
     ]
    },
    {
     "name": "stdout",
     "output_type": "stream",
     "text": [
      "Epoch: 01 | Time: 0m 2s\tTrain Loss: 112.162\n",
      "epoch start:  1\n",
      "training ...\n"
     ]
    },
    {
     "name": "stderr",
     "output_type": "stream",
     "text": [
      "400it [00:02, 167.78it/s]\n",
      "18it [00:00, 175.35it/s]"
     ]
    },
    {
     "name": "stdout",
     "output_type": "stream",
     "text": [
      "Epoch: 02 | Time: 0m 2s\tTrain Loss: 5.006\n",
      "epoch start:  2\n",
      "training ...\n"
     ]
    },
    {
     "name": "stderr",
     "output_type": "stream",
     "text": [
      "400it [00:02, 166.18it/s]\n",
      "17it [00:00, 159.54it/s]"
     ]
    },
    {
     "name": "stdout",
     "output_type": "stream",
     "text": [
      "Epoch: 03 | Time: 0m 2s\tTrain Loss: 1.256\n",
      "epoch start:  3\n",
      "training ...\n"
     ]
    },
    {
     "name": "stderr",
     "output_type": "stream",
     "text": [
      "400it [00:02, 152.28it/s]\n",
      "16it [00:00, 150.00it/s]"
     ]
    },
    {
     "name": "stdout",
     "output_type": "stream",
     "text": [
      "Epoch: 04 | Time: 0m 2s\tTrain Loss: 0.672\n",
      "epoch start:  4\n",
      "training ...\n"
     ]
    },
    {
     "name": "stderr",
     "output_type": "stream",
     "text": [
      "400it [00:02, 156.88it/s]\n",
      "16it [00:00, 157.06it/s]"
     ]
    },
    {
     "name": "stdout",
     "output_type": "stream",
     "text": [
      "Epoch: 05 | Time: 0m 2s\tTrain Loss: 0.463\n",
      "epoch start:  5\n",
      "training ...\n"
     ]
    },
    {
     "name": "stderr",
     "output_type": "stream",
     "text": [
      "400it [00:02, 167.73it/s]\n",
      "18it [00:00, 167.82it/s]"
     ]
    },
    {
     "name": "stdout",
     "output_type": "stream",
     "text": [
      "Epoch: 06 | Time: 0m 2s\tTrain Loss: 0.350\n",
      "epoch start:  6\n",
      "training ...\n"
     ]
    },
    {
     "name": "stderr",
     "output_type": "stream",
     "text": [
      "400it [00:02, 173.00it/s]\n",
      "18it [00:00, 172.16it/s]"
     ]
    },
    {
     "name": "stdout",
     "output_type": "stream",
     "text": [
      "Epoch: 07 | Time: 0m 2s\tTrain Loss: 0.281\n",
      "epoch start:  7\n",
      "training ...\n"
     ]
    },
    {
     "name": "stderr",
     "output_type": "stream",
     "text": [
      "400it [00:02, 180.70it/s]\n",
      "19it [00:00, 184.27it/s]"
     ]
    },
    {
     "name": "stdout",
     "output_type": "stream",
     "text": [
      "Epoch: 08 | Time: 0m 2s\tTrain Loss: 0.233\n",
      "epoch start:  8\n",
      "training ...\n"
     ]
    },
    {
     "name": "stderr",
     "output_type": "stream",
     "text": [
      "400it [00:02, 175.59it/s]\n",
      "20it [00:00, 190.36it/s]"
     ]
    },
    {
     "name": "stdout",
     "output_type": "stream",
     "text": [
      "Epoch: 09 | Time: 0m 2s\tTrain Loss: 0.198\n",
      "epoch start:  9\n",
      "training ...\n"
     ]
    },
    {
     "name": "stderr",
     "output_type": "stream",
     "text": [
      "400it [00:02, 164.47it/s]\n",
      "14it [00:00, 137.65it/s]"
     ]
    },
    {
     "name": "stdout",
     "output_type": "stream",
     "text": [
      "Epoch: 10 | Time: 0m 2s\tTrain Loss: 0.173\n",
      "epoch start:  10\n",
      "training ...\n"
     ]
    },
    {
     "name": "stderr",
     "output_type": "stream",
     "text": [
      "400it [00:02, 156.68it/s]\n",
      "20it [00:00, 194.04it/s]"
     ]
    },
    {
     "name": "stdout",
     "output_type": "stream",
     "text": [
      "Epoch: 11 | Time: 0m 2s\tTrain Loss: 0.152\n",
      "epoch start:  11\n",
      "training ...\n"
     ]
    },
    {
     "name": "stderr",
     "output_type": "stream",
     "text": [
      "400it [00:02, 154.45it/s]\n",
      "16it [00:00, 156.21it/s]"
     ]
    },
    {
     "name": "stdout",
     "output_type": "stream",
     "text": [
      "Epoch: 12 | Time: 0m 2s\tTrain Loss: 0.136\n",
      "epoch start:  12\n",
      "training ...\n"
     ]
    },
    {
     "name": "stderr",
     "output_type": "stream",
     "text": [
      "400it [00:02, 153.35it/s]\n",
      "16it [00:00, 151.46it/s]"
     ]
    },
    {
     "name": "stdout",
     "output_type": "stream",
     "text": [
      "Epoch: 13 | Time: 0m 2s\tTrain Loss: 0.123\n",
      "epoch start:  13\n",
      "training ...\n"
     ]
    },
    {
     "name": "stderr",
     "output_type": "stream",
     "text": [
      "400it [00:02, 152.99it/s]\n",
      "17it [00:00, 167.35it/s]"
     ]
    },
    {
     "name": "stdout",
     "output_type": "stream",
     "text": [
      "Epoch: 14 | Time: 0m 2s\tTrain Loss: 0.111\n",
      "epoch start:  14\n",
      "training ...\n"
     ]
    },
    {
     "name": "stderr",
     "output_type": "stream",
     "text": [
      "400it [00:02, 161.68it/s]\n",
      "16it [00:00, 157.07it/s]"
     ]
    },
    {
     "name": "stdout",
     "output_type": "stream",
     "text": [
      "Epoch: 15 | Time: 0m 2s\tTrain Loss: 0.102\n",
      "epoch start:  15\n",
      "training ...\n"
     ]
    },
    {
     "name": "stderr",
     "output_type": "stream",
     "text": [
      "400it [00:02, 153.49it/s]\n",
      "16it [00:00, 159.12it/s]"
     ]
    },
    {
     "name": "stdout",
     "output_type": "stream",
     "text": [
      "Epoch: 16 | Time: 0m 2s\tTrain Loss: 0.094\n",
      "epoch start:  16\n",
      "training ...\n"
     ]
    },
    {
     "name": "stderr",
     "output_type": "stream",
     "text": [
      "400it [00:02, 153.76it/s]\n",
      "15it [00:00, 149.10it/s]"
     ]
    },
    {
     "name": "stdout",
     "output_type": "stream",
     "text": [
      "Epoch: 17 | Time: 0m 2s\tTrain Loss: 0.087\n",
      "epoch start:  17\n",
      "training ...\n"
     ]
    },
    {
     "name": "stderr",
     "output_type": "stream",
     "text": [
      "400it [00:02, 150.65it/s]\n",
      "17it [00:00, 158.81it/s]"
     ]
    },
    {
     "name": "stdout",
     "output_type": "stream",
     "text": [
      "Epoch: 18 | Time: 0m 2s\tTrain Loss: 0.080\n",
      "epoch start:  18\n",
      "training ...\n"
     ]
    },
    {
     "name": "stderr",
     "output_type": "stream",
     "text": [
      "400it [00:02, 156.97it/s]\n",
      "14it [00:00, 139.26it/s]"
     ]
    },
    {
     "name": "stdout",
     "output_type": "stream",
     "text": [
      "Epoch: 19 | Time: 0m 2s\tTrain Loss: 0.075\n",
      "epoch start:  19\n",
      "training ...\n"
     ]
    },
    {
     "name": "stderr",
     "output_type": "stream",
     "text": [
      "400it [00:02, 159.80it/s]\n"
     ]
    },
    {
     "name": "stdout",
     "output_type": "stream",
     "text": [
      "Epoch: 20 | Time: 0m 2s\tTrain Loss: 0.070\n",
      "loss(generator):  13.294140625\n",
      "loss(generator):  5.309190368652343\n",
      "loss(generator):  3.9274951934814455\n",
      "loss(generator):  4.623191070556641\n",
      "loss(generator):  3.9617637634277343\n",
      "loss(generator):  3.894802474975586\n",
      "loss(generator):  4.706378555297851\n",
      "loss(generator):  3.8697132110595702\n",
      "loss(generator):  3.7020748138427733\n",
      "loss(generator):  3.6620609283447267\n",
      "loss(generator):  3.673688507080078\n",
      "loss(generator):  3.661004638671875\n",
      "loss(generator):  3.6582382202148436\n",
      "loss(generator):  4.037187957763672\n",
      "loss(generator):  3.662763214111328\n",
      "loss(generator):  3.660076904296875\n",
      "loss(generator):  3.9873523712158203\n",
      "loss(generator):  3.661533737182617\n",
      "loss(generator):  3.672254180908203\n",
      "loss(generator):  3.774318313598633\n",
      "loss(generator):  3.6810150146484375\n",
      "loss(generator):  3.6570911407470703\n",
      "loss(generator):  3.6641208648681642\n",
      "loss(generator):  3.7061740875244142\n",
      "loss(generator):  3.6489463806152345\n",
      "loss(generator):  3.6566219329833984\n",
      "loss(generator):  3.680703353881836\n",
      "loss(generator):  3.6751026153564452\n",
      "loss(generator):  3.674600601196289\n",
      "loss(generator):  3.666727828979492\n",
      "loss(generator):  3.6642276763916017\n",
      "loss(generator):  3.670558547973633\n",
      "loss(generator):  3.6589466094970704\n",
      "loss(generator):  3.6621120452880858\n",
      "loss(generator):  3.6552570343017576\n",
      "loss(generator):  3.659901809692383\n",
      "loss(generator):  3.65600471496582\n",
      "loss(generator):  3.691548156738281\n",
      "loss(generator):  3.6648433685302733\n",
      "loss(generator):  3.6680492401123046\n",
      "loss(generator):  3.6611068725585936\n",
      "loss(generator):  3.6481761932373047\n",
      "loss(generator):  3.6668148040771484\n",
      "loss(generator):  3.6521316528320313\n",
      "loss(generator):  3.650313949584961\n",
      "loss(generator):  3.656993865966797\n",
      "loss(generator):  3.663443756103516\n",
      "loss(generator):  3.6459388732910156\n",
      "loss(generator):  3.649525833129883\n",
      "loss(generator):  3.655487060546875\n",
      "loss(generator):  3.661665344238281\n",
      "loss(generator):  3.712617111206055\n",
      "loss(generator):  3.6558361053466797\n",
      "loss(generator):  3.6503677368164062\n",
      "loss(generator):  3.6589290618896486\n",
      "loss(generator):  3.6555103302001952\n",
      "loss(generator):  3.654541015625\n",
      "loss(generator):  3.652540588378906\n",
      "loss(generator):  3.6536113739013674\n",
      "loss(generator):  3.6569595336914062\n",
      "loss(generator):  3.6454017639160154\n",
      "loss(generator):  3.6479824066162108\n",
      "loss(generator):  3.648607635498047\n",
      "loss(generator):  3.6521732330322267\n",
      "loss(generator):  3.6528030395507813\n",
      "loss(generator):  3.6470046997070313\n",
      "loss(generator):  3.6515220642089843\n",
      "loss(generator):  3.677394485473633\n",
      "loss(generator):  3.650281524658203\n",
      "loss(generator):  3.6453231811523437\n",
      "loss(generator):  3.6511512756347657\n",
      "loss(generator):  3.662455368041992\n",
      "loss(generator):  3.659246826171875\n",
      "loss(generator):  3.691639709472656\n",
      "loss(generator):  3.6482479095458986\n",
      "loss(generator):  3.6576923370361327\n",
      "loss(generator):  3.656002426147461\n",
      "loss(generator):  3.65417594909668\n",
      "loss(generator):  3.651671600341797\n",
      "loss(generator):  3.64721794128418\n",
      "loss(generator):  3.6475498199462892\n",
      "loss(generator):  3.655504608154297\n",
      "loss(generator):  3.6509426116943358\n",
      "loss(generator):  3.6455852508544924\n",
      "loss(generator):  3.651418685913086\n",
      "loss(generator):  3.6561653137207033\n",
      "loss(generator):  3.6553924560546873\n",
      "loss(generator):  3.6474067687988283\n",
      "loss(generator):  3.6477386474609377\n",
      "loss(generator):  3.650009536743164\n",
      "loss(generator):  3.655406951904297\n",
      "loss(generator):  3.6445377349853514\n",
      "loss(generator):  3.642443084716797\n",
      "loss(generator):  3.6470489501953125\n",
      "loss(generator):  3.6540290832519533\n",
      "loss(generator):  3.638628387451172\n",
      "loss(generator):  3.6493797302246094\n",
      "loss(generator):  3.648518371582031\n",
      "loss(generator):  3.6697856903076174\n",
      "loss(generator):  3.644206237792969\n"
     ]
    },
    {
     "name": "stderr",
     "output_type": "stream",
     "text": [
      "14it [00:00, 135.69it/s]"
     ]
    },
    {
     "name": "stdout",
     "output_type": "stream",
     "text": [
      "epoch start:  0\n",
      "training ...\n"
     ]
    },
    {
     "name": "stderr",
     "output_type": "stream",
     "text": [
      "400it [00:02, 169.53it/s]\n",
      "18it [00:00, 179.74it/s]"
     ]
    },
    {
     "name": "stdout",
     "output_type": "stream",
     "text": [
      "Epoch: 01 | Time: 0m 2s\tTrain Loss: 60.108\n",
      "epoch start:  1\n",
      "training ...\n"
     ]
    },
    {
     "name": "stderr",
     "output_type": "stream",
     "text": [
      "400it [00:02, 172.21it/s]\n",
      "17it [00:00, 168.74it/s]"
     ]
    },
    {
     "name": "stdout",
     "output_type": "stream",
     "text": [
      "Epoch: 02 | Time: 0m 2s\tTrain Loss: 2.232\n",
      "epoch start:  2\n",
      "training ...\n"
     ]
    },
    {
     "name": "stderr",
     "output_type": "stream",
     "text": [
      "400it [00:02, 174.96it/s]\n",
      "20it [00:00, 197.04it/s]"
     ]
    },
    {
     "name": "stdout",
     "output_type": "stream",
     "text": [
      "Epoch: 03 | Time: 0m 2s\tTrain Loss: 0.674\n",
      "epoch start:  3\n",
      "training ...\n"
     ]
    },
    {
     "name": "stderr",
     "output_type": "stream",
     "text": [
      "400it [00:02, 165.55it/s]\n",
      "14it [00:00, 137.88it/s]"
     ]
    },
    {
     "name": "stdout",
     "output_type": "stream",
     "text": [
      "Epoch: 04 | Time: 0m 2s\tTrain Loss: 0.422\n",
      "epoch start:  4\n",
      "training ...\n"
     ]
    },
    {
     "name": "stderr",
     "output_type": "stream",
     "text": [
      "400it [00:02, 142.62it/s]\n",
      "14it [00:00, 137.52it/s]"
     ]
    },
    {
     "name": "stdout",
     "output_type": "stream",
     "text": [
      "Epoch: 05 | Time: 0m 2s\tTrain Loss: 0.322\n",
      "epoch start:  5\n",
      "training ...\n"
     ]
    },
    {
     "name": "stderr",
     "output_type": "stream",
     "text": [
      "400it [00:02, 142.12it/s]\n",
      "15it [00:00, 141.92it/s]"
     ]
    },
    {
     "name": "stdout",
     "output_type": "stream",
     "text": [
      "Epoch: 06 | Time: 0m 2s\tTrain Loss: 0.256\n",
      "epoch start:  6\n",
      "training ...\n"
     ]
    },
    {
     "name": "stderr",
     "output_type": "stream",
     "text": [
      "400it [00:02, 140.53it/s]\n",
      "15it [00:00, 144.71it/s]"
     ]
    },
    {
     "name": "stdout",
     "output_type": "stream",
     "text": [
      "Epoch: 07 | Time: 0m 2s\tTrain Loss: 0.214\n",
      "epoch start:  7\n",
      "training ...\n"
     ]
    },
    {
     "name": "stderr",
     "output_type": "stream",
     "text": [
      "400it [00:02, 139.87it/s]\n",
      "16it [00:00, 154.85it/s]"
     ]
    },
    {
     "name": "stdout",
     "output_type": "stream",
     "text": [
      "Epoch: 08 | Time: 0m 2s\tTrain Loss: 0.184\n",
      "epoch start:  8\n",
      "training ...\n"
     ]
    },
    {
     "name": "stderr",
     "output_type": "stream",
     "text": [
      "400it [00:02, 150.12it/s]\n",
      "15it [00:00, 142.95it/s]"
     ]
    },
    {
     "name": "stdout",
     "output_type": "stream",
     "text": [
      "Epoch: 09 | Time: 0m 2s\tTrain Loss: 0.159\n",
      "epoch start:  9\n",
      "training ...\n"
     ]
    },
    {
     "name": "stderr",
     "output_type": "stream",
     "text": [
      "400it [00:02, 148.13it/s]\n",
      "16it [00:00, 153.27it/s]"
     ]
    },
    {
     "name": "stdout",
     "output_type": "stream",
     "text": [
      "Epoch: 10 | Time: 0m 2s\tTrain Loss: 0.140\n",
      "epoch start:  10\n",
      "training ...\n"
     ]
    },
    {
     "name": "stderr",
     "output_type": "stream",
     "text": [
      "400it [00:02, 154.27it/s]\n",
      "16it [00:00, 155.38it/s]"
     ]
    },
    {
     "name": "stdout",
     "output_type": "stream",
     "text": [
      "Epoch: 11 | Time: 0m 2s\tTrain Loss: 0.125\n",
      "epoch start:  11\n",
      "training ...\n"
     ]
    },
    {
     "name": "stderr",
     "output_type": "stream",
     "text": [
      "400it [00:02, 154.42it/s]\n",
      "16it [00:00, 155.46it/s]"
     ]
    },
    {
     "name": "stdout",
     "output_type": "stream",
     "text": [
      "Epoch: 12 | Time: 0m 2s\tTrain Loss: 0.114\n",
      "epoch start:  12\n",
      "training ...\n"
     ]
    },
    {
     "name": "stderr",
     "output_type": "stream",
     "text": [
      "400it [00:02, 152.94it/s]\n",
      "14it [00:00, 135.58it/s]"
     ]
    },
    {
     "name": "stdout",
     "output_type": "stream",
     "text": [
      "Epoch: 13 | Time: 0m 2s\tTrain Loss: 0.104\n",
      "epoch start:  13\n",
      "training ...\n"
     ]
    },
    {
     "name": "stderr",
     "output_type": "stream",
     "text": [
      "400it [00:02, 146.87it/s]\n",
      "16it [00:00, 151.49it/s]"
     ]
    },
    {
     "name": "stdout",
     "output_type": "stream",
     "text": [
      "Epoch: 14 | Time: 0m 2s\tTrain Loss: 0.095\n",
      "epoch start:  14\n",
      "training ...\n"
     ]
    },
    {
     "name": "stderr",
     "output_type": "stream",
     "text": [
      "400it [00:02, 154.86it/s]\n",
      "16it [00:00, 156.81it/s]"
     ]
    },
    {
     "name": "stdout",
     "output_type": "stream",
     "text": [
      "Epoch: 15 | Time: 0m 2s\tTrain Loss: 0.088\n",
      "epoch start:  15\n",
      "training ...\n"
     ]
    },
    {
     "name": "stderr",
     "output_type": "stream",
     "text": [
      "400it [00:02, 154.49it/s]\n",
      "15it [00:00, 142.10it/s]"
     ]
    },
    {
     "name": "stdout",
     "output_type": "stream",
     "text": [
      "Epoch: 16 | Time: 0m 2s\tTrain Loss: 0.081\n",
      "epoch start:  16\n",
      "training ...\n"
     ]
    },
    {
     "name": "stderr",
     "output_type": "stream",
     "text": [
      "400it [00:02, 164.25it/s]\n",
      "15it [00:00, 142.53it/s]"
     ]
    },
    {
     "name": "stdout",
     "output_type": "stream",
     "text": [
      "Epoch: 17 | Time: 0m 2s\tTrain Loss: 0.076\n",
      "epoch start:  17\n",
      "training ...\n"
     ]
    },
    {
     "name": "stderr",
     "output_type": "stream",
     "text": [
      "400it [00:02, 152.20it/s]\n",
      "15it [00:00, 147.46it/s]"
     ]
    },
    {
     "name": "stdout",
     "output_type": "stream",
     "text": [
      "Epoch: 18 | Time: 0m 2s\tTrain Loss: 0.071\n",
      "epoch start:  18\n",
      "training ...\n"
     ]
    },
    {
     "name": "stderr",
     "output_type": "stream",
     "text": [
      "400it [00:02, 155.04it/s]\n",
      "16it [00:00, 157.07it/s]"
     ]
    },
    {
     "name": "stdout",
     "output_type": "stream",
     "text": [
      "Epoch: 19 | Time: 0m 2s\tTrain Loss: 0.067\n",
      "epoch start:  19\n",
      "training ...\n"
     ]
    },
    {
     "name": "stderr",
     "output_type": "stream",
     "text": [
      "400it [00:02, 159.09it/s]\n"
     ]
    },
    {
     "name": "stdout",
     "output_type": "stream",
     "text": [
      "Epoch: 20 | Time: 0m 2s\tTrain Loss: 0.063\n",
      "loss(generator):  13.6095947265625\n",
      "loss(generator):  4.400479888916015\n",
      "loss(generator):  4.545080947875976\n",
      "loss(generator):  5.019511032104492\n",
      "loss(generator):  4.115054321289063\n",
      "loss(generator):  3.8130767822265623\n",
      "loss(generator):  3.649802398681641\n",
      "loss(generator):  3.6533836364746093\n",
      "loss(generator):  3.8012619018554688\n",
      "loss(generator):  3.6495853424072267\n",
      "loss(generator):  3.647479248046875\n",
      "loss(generator):  3.650605010986328\n",
      "loss(generator):  3.6471584320068358\n",
      "loss(generator):  3.661894989013672\n",
      "loss(generator):  3.650006866455078\n",
      "loss(generator):  3.6473873138427733\n",
      "loss(generator):  3.6470462799072267\n",
      "loss(generator):  3.6496681213378905\n",
      "loss(generator):  3.6531978607177735\n",
      "loss(generator):  3.6527801513671876\n",
      "loss(generator):  3.6509773254394533\n",
      "loss(generator):  3.6567169189453126\n",
      "loss(generator):  3.6538482666015626\n",
      "loss(generator):  3.6514610290527343\n",
      "loss(generator):  3.652204895019531\n",
      "loss(generator):  3.6573657989501953\n",
      "loss(generator):  3.646673583984375\n",
      "loss(generator):  3.6539615631103515\n",
      "loss(generator):  3.6537216186523436\n",
      "loss(generator):  3.650521087646484\n",
      "loss(generator):  3.651308059692383\n",
      "loss(generator):  3.642194366455078\n",
      "loss(generator):  3.6449634552001955\n",
      "loss(generator):  3.6554527282714844\n",
      "loss(generator):  3.6672523498535154\n",
      "loss(generator):  3.6460445404052733\n",
      "loss(generator):  3.644424057006836\n",
      "loss(generator):  3.652497482299805\n",
      "loss(generator):  3.651572036743164\n",
      "loss(generator):  3.6489654541015626\n",
      "loss(generator):  3.6415279388427733\n",
      "loss(generator):  3.655004119873047\n",
      "loss(generator):  3.639003372192383\n",
      "loss(generator):  3.6498947143554688\n",
      "loss(generator):  3.647896957397461\n",
      "loss(generator):  3.66351203918457\n",
      "loss(generator):  3.6471405029296875\n",
      "loss(generator):  3.643548583984375\n",
      "loss(generator):  3.652484130859375\n",
      "loss(generator):  3.643815612792969\n",
      "loss(generator):  3.651499938964844\n",
      "loss(generator):  3.659879684448242\n",
      "loss(generator):  3.648323822021484\n",
      "loss(generator):  3.6462120056152343\n",
      "loss(generator):  3.6494094848632814\n",
      "loss(generator):  3.6448238372802733\n",
      "loss(generator):  3.6430633544921873\n",
      "loss(generator):  3.6516162872314455\n",
      "loss(generator):  3.652583694458008\n",
      "loss(generator):  3.6450119018554688\n",
      "loss(generator):  3.6431884765625\n",
      "loss(generator):  3.644760513305664\n",
      "loss(generator):  3.6464969635009767\n",
      "loss(generator):  3.6422470092773436\n",
      "loss(generator):  3.6517189025878904\n",
      "loss(generator):  3.6515426635742188\n",
      "loss(generator):  3.644980621337891\n",
      "loss(generator):  3.6414894104003905\n",
      "loss(generator):  3.6483585357666017\n",
      "loss(generator):  3.648215103149414\n",
      "loss(generator):  3.6491230010986326\n",
      "loss(generator):  3.643174743652344\n",
      "loss(generator):  3.6486862182617186\n",
      "loss(generator):  3.6511310577392577\n",
      "loss(generator):  3.6539142608642576\n",
      "loss(generator):  3.643709182739258\n",
      "loss(generator):  3.648960494995117\n",
      "loss(generator):  3.6377410888671875\n",
      "loss(generator):  3.6585140228271484\n",
      "loss(generator):  3.6517707824707033\n",
      "loss(generator):  3.648395538330078\n",
      "loss(generator):  3.6511348724365233\n",
      "loss(generator):  3.6464916229248048\n",
      "loss(generator):  3.647080993652344\n",
      "loss(generator):  3.644948959350586\n",
      "loss(generator):  3.6459217071533203\n",
      "loss(generator):  3.646192932128906\n",
      "loss(generator):  3.640695571899414\n",
      "loss(generator):  3.651215362548828\n",
      "loss(generator):  3.641243743896484\n",
      "loss(generator):  3.648001861572266\n",
      "loss(generator):  3.64940185546875\n",
      "loss(generator):  3.649445343017578\n",
      "loss(generator):  3.645244598388672\n",
      "loss(generator):  3.643499755859375\n",
      "loss(generator):  3.646905517578125\n",
      "loss(generator):  3.6427276611328123\n",
      "loss(generator):  3.64114990234375\n",
      "loss(generator):  3.6452693939208984\n",
      "loss(generator):  3.650157928466797\n"
     ]
    },
    {
     "name": "stderr",
     "output_type": "stream",
     "text": [
      "14it [00:00, 132.01it/s]"
     ]
    },
    {
     "name": "stdout",
     "output_type": "stream",
     "text": [
      "epoch start:  0\n",
      "training ...\n"
     ]
    },
    {
     "name": "stderr",
     "output_type": "stream",
     "text": [
      "400it [00:02, 153.70it/s]\n",
      "16it [00:00, 151.10it/s]"
     ]
    },
    {
     "name": "stdout",
     "output_type": "stream",
     "text": [
      "Epoch: 01 | Time: 0m 2s\tTrain Loss: 94.402\n",
      "epoch start:  1\n",
      "training ...\n"
     ]
    },
    {
     "name": "stderr",
     "output_type": "stream",
     "text": [
      "400it [00:02, 152.98it/s]\n",
      "16it [00:00, 149.48it/s]"
     ]
    },
    {
     "name": "stdout",
     "output_type": "stream",
     "text": [
      "Epoch: 02 | Time: 0m 2s\tTrain Loss: 5.599\n",
      "epoch start:  2\n",
      "training ...\n"
     ]
    },
    {
     "name": "stderr",
     "output_type": "stream",
     "text": [
      "400it [00:02, 155.48it/s]\n",
      "14it [00:00, 136.99it/s]"
     ]
    },
    {
     "name": "stdout",
     "output_type": "stream",
     "text": [
      "Epoch: 03 | Time: 0m 2s\tTrain Loss: 1.041\n",
      "epoch start:  3\n",
      "training ...\n"
     ]
    },
    {
     "name": "stderr",
     "output_type": "stream",
     "text": [
      "400it [00:02, 176.11it/s]\n",
      "18it [00:00, 172.78it/s]"
     ]
    },
    {
     "name": "stdout",
     "output_type": "stream",
     "text": [
      "Epoch: 04 | Time: 0m 2s\tTrain Loss: 0.553\n",
      "epoch start:  4\n",
      "training ...\n"
     ]
    },
    {
     "name": "stderr",
     "output_type": "stream",
     "text": [
      "400it [00:02, 152.52it/s]\n",
      "19it [00:00, 180.97it/s]"
     ]
    },
    {
     "name": "stdout",
     "output_type": "stream",
     "text": [
      "Epoch: 05 | Time: 0m 2s\tTrain Loss: 0.393\n",
      "epoch start:  5\n",
      "training ...\n"
     ]
    },
    {
     "name": "stderr",
     "output_type": "stream",
     "text": [
      "400it [00:02, 157.66it/s]\n",
      "17it [00:00, 166.44it/s]"
     ]
    },
    {
     "name": "stdout",
     "output_type": "stream",
     "text": [
      "Epoch: 06 | Time: 0m 2s\tTrain Loss: 0.306\n",
      "epoch start:  6\n",
      "training ...\n"
     ]
    },
    {
     "name": "stderr",
     "output_type": "stream",
     "text": [
      "400it [00:02, 151.52it/s]\n",
      "15it [00:00, 149.92it/s]"
     ]
    },
    {
     "name": "stdout",
     "output_type": "stream",
     "text": [
      "Epoch: 07 | Time: 0m 2s\tTrain Loss: 0.248\n",
      "epoch start:  7\n",
      "training ...\n"
     ]
    },
    {
     "name": "stderr",
     "output_type": "stream",
     "text": [
      "400it [00:02, 148.86it/s]\n",
      "15it [00:00, 143.57it/s]"
     ]
    },
    {
     "name": "stdout",
     "output_type": "stream",
     "text": [
      "Epoch: 08 | Time: 0m 2s\tTrain Loss: 0.208\n",
      "epoch start:  8\n",
      "training ...\n"
     ]
    },
    {
     "name": "stderr",
     "output_type": "stream",
     "text": [
      "400it [00:02, 163.06it/s]\n",
      "16it [00:00, 158.05it/s]"
     ]
    },
    {
     "name": "stdout",
     "output_type": "stream",
     "text": [
      "Epoch: 09 | Time: 0m 2s\tTrain Loss: 0.180\n",
      "epoch start:  9\n",
      "training ...\n"
     ]
    },
    {
     "name": "stderr",
     "output_type": "stream",
     "text": [
      "400it [00:01, 216.26it/s]\n",
      "23it [00:00, 220.96it/s]"
     ]
    },
    {
     "name": "stdout",
     "output_type": "stream",
     "text": [
      "Epoch: 10 | Time: 0m 1s\tTrain Loss: 0.158\n",
      "epoch start:  10\n",
      "training ...\n"
     ]
    },
    {
     "name": "stderr",
     "output_type": "stream",
     "text": [
      "400it [00:02, 199.54it/s]\n",
      "17it [00:00, 163.46it/s]"
     ]
    },
    {
     "name": "stdout",
     "output_type": "stream",
     "text": [
      "Epoch: 11 | Time: 0m 2s\tTrain Loss: 0.141\n",
      "epoch start:  11\n",
      "training ...\n"
     ]
    },
    {
     "name": "stderr",
     "output_type": "stream",
     "text": [
      "400it [00:02, 154.48it/s]\n",
      "17it [00:00, 165.53it/s]"
     ]
    },
    {
     "name": "stdout",
     "output_type": "stream",
     "text": [
      "Epoch: 12 | Time: 0m 2s\tTrain Loss: 0.127\n",
      "epoch start:  12\n",
      "training ...\n"
     ]
    },
    {
     "name": "stderr",
     "output_type": "stream",
     "text": [
      "400it [00:02, 155.30it/s]\n",
      "16it [00:00, 157.06it/s]"
     ]
    },
    {
     "name": "stdout",
     "output_type": "stream",
     "text": [
      "Epoch: 13 | Time: 0m 2s\tTrain Loss: 0.115\n",
      "epoch start:  13\n",
      "training ...\n"
     ]
    },
    {
     "name": "stderr",
     "output_type": "stream",
     "text": [
      "400it [00:02, 159.31it/s]\n",
      "16it [00:00, 154.29it/s]"
     ]
    },
    {
     "name": "stdout",
     "output_type": "stream",
     "text": [
      "Epoch: 14 | Time: 0m 2s\tTrain Loss: 0.105\n",
      "epoch start:  14\n",
      "training ...\n"
     ]
    },
    {
     "name": "stderr",
     "output_type": "stream",
     "text": [
      "400it [00:02, 159.34it/s]\n",
      "15it [00:00, 142.70it/s]"
     ]
    },
    {
     "name": "stdout",
     "output_type": "stream",
     "text": [
      "Epoch: 15 | Time: 0m 2s\tTrain Loss: 0.097\n",
      "epoch start:  15\n",
      "training ...\n"
     ]
    },
    {
     "name": "stderr",
     "output_type": "stream",
     "text": [
      "400it [00:02, 149.80it/s]\n",
      "16it [00:00, 159.66it/s]"
     ]
    },
    {
     "name": "stdout",
     "output_type": "stream",
     "text": [
      "Epoch: 16 | Time: 0m 2s\tTrain Loss: 0.090\n",
      "epoch start:  16\n",
      "training ...\n"
     ]
    },
    {
     "name": "stderr",
     "output_type": "stream",
     "text": [
      "400it [00:02, 156.13it/s]\n",
      "18it [00:00, 170.02it/s]"
     ]
    },
    {
     "name": "stdout",
     "output_type": "stream",
     "text": [
      "Epoch: 17 | Time: 0m 2s\tTrain Loss: 0.084\n",
      "epoch start:  17\n",
      "training ...\n"
     ]
    },
    {
     "name": "stderr",
     "output_type": "stream",
     "text": [
      "400it [00:02, 162.44it/s]\n",
      "14it [00:00, 138.85it/s]"
     ]
    },
    {
     "name": "stdout",
     "output_type": "stream",
     "text": [
      "Epoch: 18 | Time: 0m 2s\tTrain Loss: 0.079\n",
      "epoch start:  18\n",
      "training ...\n"
     ]
    },
    {
     "name": "stderr",
     "output_type": "stream",
     "text": [
      "400it [00:02, 180.93it/s]\n",
      "19it [00:00, 189.01it/s]"
     ]
    },
    {
     "name": "stdout",
     "output_type": "stream",
     "text": [
      "Epoch: 19 | Time: 0m 2s\tTrain Loss: 0.074\n",
      "epoch start:  19\n",
      "training ...\n"
     ]
    },
    {
     "name": "stderr",
     "output_type": "stream",
     "text": [
      "400it [00:02, 177.96it/s]\n"
     ]
    },
    {
     "name": "stdout",
     "output_type": "stream",
     "text": [
      "Epoch: 20 | Time: 0m 2s\tTrain Loss: 0.070\n",
      "loss(generator):  13.918464660644531\n",
      "loss(generator):  5.031552124023437\n",
      "loss(generator):  3.696990203857422\n",
      "loss(generator):  3.7659378051757812\n",
      "loss(generator):  3.6485645294189455\n",
      "loss(generator):  3.669697570800781\n",
      "loss(generator):  3.6543048858642577\n",
      "loss(generator):  3.657509994506836\n",
      "loss(generator):  3.928274917602539\n",
      "loss(generator):  3.8618324279785154\n",
      "loss(generator):  3.637674331665039\n",
      "loss(generator):  3.6420631408691406\n",
      "loss(generator):  3.655233383178711\n",
      "loss(generator):  3.6507499694824217\n",
      "loss(generator):  3.650249481201172\n",
      "loss(generator):  3.6626201629638673\n",
      "loss(generator):  3.6655296325683593\n",
      "loss(generator):  3.663770294189453\n",
      "loss(generator):  3.642400360107422\n",
      "loss(generator):  3.643147277832031\n",
      "loss(generator):  3.6442569732666015\n",
      "loss(generator):  3.7107276916503906\n",
      "loss(generator):  3.643583297729492\n",
      "loss(generator):  3.6394927978515623\n",
      "loss(generator):  3.636798858642578\n",
      "loss(generator):  3.635508728027344\n",
      "loss(generator):  3.6498077392578123\n",
      "loss(generator):  3.63098030090332\n",
      "loss(generator):  3.6423694610595705\n",
      "loss(generator):  3.6372600555419923\n",
      "loss(generator):  3.7629737854003906\n",
      "loss(generator):  3.6506160736083983\n",
      "loss(generator):  3.6552623748779296\n",
      "loss(generator):  3.653331756591797\n",
      "loss(generator):  3.6405559539794923\n",
      "loss(generator):  3.6419795989990233\n",
      "loss(generator):  3.644396209716797\n",
      "loss(generator):  3.6383945465087892\n",
      "loss(generator):  3.6489696502685547\n",
      "loss(generator):  3.635493850708008\n",
      "loss(generator):  3.643611526489258\n",
      "loss(generator):  3.6316303253173827\n",
      "loss(generator):  3.635986328125\n",
      "loss(generator):  3.636837387084961\n",
      "loss(generator):  3.650039291381836\n",
      "loss(generator):  3.639016342163086\n",
      "loss(generator):  3.639250946044922\n",
      "loss(generator):  3.6450271606445312\n",
      "loss(generator):  3.640498733520508\n",
      "loss(generator):  3.634896469116211\n",
      "loss(generator):  3.653586196899414\n",
      "loss(generator):  3.626050567626953\n",
      "loss(generator):  3.6334842681884765\n",
      "loss(generator):  3.6308502197265624\n",
      "loss(generator):  3.64166145324707\n",
      "loss(generator):  3.6362564086914064\n",
      "loss(generator):  3.6399906158447264\n",
      "loss(generator):  3.63153076171875\n",
      "loss(generator):  3.6406131744384767\n",
      "loss(generator):  3.635167694091797\n",
      "loss(generator):  3.6264202117919924\n",
      "loss(generator):  3.799974060058594\n",
      "loss(generator):  3.634725570678711\n",
      "loss(generator):  3.631727600097656\n",
      "loss(generator):  3.6362499237060546\n",
      "loss(generator):  3.6377758026123046\n",
      "loss(generator):  3.632938766479492\n",
      "loss(generator):  3.6424633026123048\n",
      "loss(generator):  3.6407508850097656\n",
      "loss(generator):  3.638215255737305\n",
      "loss(generator):  3.638973617553711\n",
      "loss(generator):  3.623566436767578\n",
      "loss(generator):  3.634649658203125\n",
      "loss(generator):  3.630069351196289\n",
      "loss(generator):  3.6362548828125\n",
      "loss(generator):  3.628026580810547\n",
      "loss(generator):  3.6331905364990233\n",
      "loss(generator):  3.6302967071533203\n",
      "loss(generator):  3.6442855834960937\n",
      "loss(generator):  3.6312103271484375\n",
      "loss(generator):  3.643068313598633\n",
      "loss(generator):  3.642782211303711\n",
      "loss(generator):  3.6299095153808594\n",
      "loss(generator):  3.6337772369384767\n",
      "loss(generator):  3.637089157104492\n",
      "loss(generator):  3.635481262207031\n",
      "loss(generator):  3.6305831909179687\n",
      "loss(generator):  3.638539505004883\n",
      "loss(generator):  3.6381595611572264\n",
      "loss(generator):  3.628712844848633\n",
      "loss(generator):  3.636605453491211\n",
      "loss(generator):  3.639314651489258\n",
      "loss(generator):  3.6271221160888674\n",
      "loss(generator):  3.6379188537597655\n",
      "loss(generator):  3.6330379486083983\n",
      "loss(generator):  3.6366958618164062\n",
      "loss(generator):  3.638114166259766\n",
      "loss(generator):  3.6377159118652345\n",
      "loss(generator):  3.6478546142578123\n",
      "loss(generator):  3.6284793853759765\n"
     ]
    },
    {
     "name": "stderr",
     "output_type": "stream",
     "text": [
      "13it [00:00, 129.56it/s]"
     ]
    },
    {
     "name": "stdout",
     "output_type": "stream",
     "text": [
      "epoch start:  0\n",
      "training ...\n"
     ]
    },
    {
     "name": "stderr",
     "output_type": "stream",
     "text": [
      "400it [00:02, 140.64it/s]\n",
      "14it [00:00, 134.98it/s]"
     ]
    },
    {
     "name": "stdout",
     "output_type": "stream",
     "text": [
      "Epoch: 01 | Time: 0m 2s\tTrain Loss: 53.217\n",
      "epoch start:  1\n",
      "training ...\n"
     ]
    },
    {
     "name": "stderr",
     "output_type": "stream",
     "text": [
      "400it [00:02, 138.30it/s]\n",
      "16it [00:00, 152.90it/s]"
     ]
    },
    {
     "name": "stdout",
     "output_type": "stream",
     "text": [
      "Epoch: 02 | Time: 0m 2s\tTrain Loss: 1.873\n",
      "epoch start:  2\n",
      "training ...\n"
     ]
    },
    {
     "name": "stderr",
     "output_type": "stream",
     "text": [
      "400it [00:02, 138.78it/s]\n",
      "15it [00:00, 141.09it/s]"
     ]
    },
    {
     "name": "stdout",
     "output_type": "stream",
     "text": [
      "Epoch: 03 | Time: 0m 2s\tTrain Loss: 0.613\n",
      "epoch start:  3\n",
      "training ...\n"
     ]
    },
    {
     "name": "stderr",
     "output_type": "stream",
     "text": [
      "400it [00:02, 138.39it/s]\n",
      "14it [00:00, 139.83it/s]"
     ]
    },
    {
     "name": "stdout",
     "output_type": "stream",
     "text": [
      "Epoch: 04 | Time: 0m 2s\tTrain Loss: 0.404\n",
      "epoch start:  4\n",
      "training ...\n"
     ]
    },
    {
     "name": "stderr",
     "output_type": "stream",
     "text": [
      "400it [00:02, 137.37it/s]\n",
      "14it [00:00, 136.00it/s]"
     ]
    },
    {
     "name": "stdout",
     "output_type": "stream",
     "text": [
      "Epoch: 05 | Time: 0m 2s\tTrain Loss: 0.302\n",
      "epoch start:  5\n",
      "training ...\n"
     ]
    },
    {
     "name": "stderr",
     "output_type": "stream",
     "text": [
      "400it [00:02, 138.32it/s]\n",
      "15it [00:00, 142.65it/s]"
     ]
    },
    {
     "name": "stdout",
     "output_type": "stream",
     "text": [
      "Epoch: 06 | Time: 0m 2s\tTrain Loss: 0.241\n",
      "epoch start:  6\n",
      "training ...\n"
     ]
    },
    {
     "name": "stderr",
     "output_type": "stream",
     "text": [
      "400it [00:02, 140.93it/s]\n",
      "14it [00:00, 135.76it/s]"
     ]
    },
    {
     "name": "stdout",
     "output_type": "stream",
     "text": [
      "Epoch: 07 | Time: 0m 2s\tTrain Loss: 0.199\n",
      "epoch start:  7\n",
      "training ...\n"
     ]
    },
    {
     "name": "stderr",
     "output_type": "stream",
     "text": [
      "400it [00:02, 139.94it/s]\n",
      "15it [00:00, 146.06it/s]"
     ]
    },
    {
     "name": "stdout",
     "output_type": "stream",
     "text": [
      "Epoch: 08 | Time: 0m 2s\tTrain Loss: 0.169\n",
      "epoch start:  8\n",
      "training ...\n"
     ]
    },
    {
     "name": "stderr",
     "output_type": "stream",
     "text": [
      "400it [00:02, 138.28it/s]\n",
      "15it [00:00, 146.59it/s]"
     ]
    },
    {
     "name": "stdout",
     "output_type": "stream",
     "text": [
      "Epoch: 09 | Time: 0m 2s\tTrain Loss: 0.147\n",
      "epoch start:  9\n",
      "training ...\n"
     ]
    },
    {
     "name": "stderr",
     "output_type": "stream",
     "text": [
      "400it [00:02, 140.62it/s]\n",
      "14it [00:00, 138.62it/s]"
     ]
    },
    {
     "name": "stdout",
     "output_type": "stream",
     "text": [
      "Epoch: 10 | Time: 0m 2s\tTrain Loss: 0.130\n",
      "epoch start:  10\n",
      "training ...\n"
     ]
    },
    {
     "name": "stderr",
     "output_type": "stream",
     "text": [
      "400it [00:02, 140.90it/s]\n",
      "15it [00:00, 140.01it/s]"
     ]
    },
    {
     "name": "stdout",
     "output_type": "stream",
     "text": [
      "Epoch: 11 | Time: 0m 2s\tTrain Loss: 0.116\n",
      "epoch start:  11\n",
      "training ...\n"
     ]
    },
    {
     "name": "stderr",
     "output_type": "stream",
     "text": [
      "400it [00:02, 140.98it/s]\n",
      "14it [00:00, 138.02it/s]"
     ]
    },
    {
     "name": "stdout",
     "output_type": "stream",
     "text": [
      "Epoch: 12 | Time: 0m 2s\tTrain Loss: 0.104\n",
      "epoch start:  12\n",
      "training ...\n"
     ]
    },
    {
     "name": "stderr",
     "output_type": "stream",
     "text": [
      "400it [00:02, 141.99it/s]\n",
      "15it [00:00, 142.63it/s]"
     ]
    },
    {
     "name": "stdout",
     "output_type": "stream",
     "text": [
      "Epoch: 13 | Time: 0m 2s\tTrain Loss: 0.095\n",
      "epoch start:  13\n",
      "training ...\n"
     ]
    },
    {
     "name": "stderr",
     "output_type": "stream",
     "text": [
      "400it [00:02, 142.34it/s]\n",
      "14it [00:00, 138.58it/s]"
     ]
    },
    {
     "name": "stdout",
     "output_type": "stream",
     "text": [
      "Epoch: 14 | Time: 0m 2s\tTrain Loss: 0.087\n",
      "epoch start:  14\n",
      "training ...\n"
     ]
    },
    {
     "name": "stderr",
     "output_type": "stream",
     "text": [
      "400it [00:02, 138.15it/s]\n",
      "14it [00:00, 137.05it/s]"
     ]
    },
    {
     "name": "stdout",
     "output_type": "stream",
     "text": [
      "Epoch: 15 | Time: 0m 2s\tTrain Loss: 0.080\n",
      "epoch start:  15\n",
      "training ...\n"
     ]
    },
    {
     "name": "stderr",
     "output_type": "stream",
     "text": [
      "400it [00:02, 139.43it/s]\n",
      "15it [00:00, 145.63it/s]"
     ]
    },
    {
     "name": "stdout",
     "output_type": "stream",
     "text": [
      "Epoch: 16 | Time: 0m 2s\tTrain Loss: 0.074\n",
      "epoch start:  16\n",
      "training ...\n"
     ]
    },
    {
     "name": "stderr",
     "output_type": "stream",
     "text": [
      "400it [00:02, 140.45it/s]\n",
      "14it [00:00, 138.55it/s]"
     ]
    },
    {
     "name": "stdout",
     "output_type": "stream",
     "text": [
      "Epoch: 17 | Time: 0m 2s\tTrain Loss: 0.069\n",
      "epoch start:  17\n",
      "training ...\n"
     ]
    },
    {
     "name": "stderr",
     "output_type": "stream",
     "text": [
      "400it [00:02, 138.44it/s]\n",
      "15it [00:00, 143.15it/s]"
     ]
    },
    {
     "name": "stdout",
     "output_type": "stream",
     "text": [
      "Epoch: 18 | Time: 0m 2s\tTrain Loss: 0.064\n",
      "epoch start:  18\n",
      "training ...\n"
     ]
    },
    {
     "name": "stderr",
     "output_type": "stream",
     "text": [
      "400it [00:02, 138.76it/s]\n",
      "14it [00:00, 137.23it/s]"
     ]
    },
    {
     "name": "stdout",
     "output_type": "stream",
     "text": [
      "Epoch: 19 | Time: 0m 2s\tTrain Loss: 0.060\n",
      "epoch start:  19\n",
      "training ...\n"
     ]
    },
    {
     "name": "stderr",
     "output_type": "stream",
     "text": [
      "400it [00:02, 138.51it/s]"
     ]
    },
    {
     "name": "stdout",
     "output_type": "stream",
     "text": [
      "Epoch: 20 | Time: 0m 2s\tTrain Loss: 0.057\n"
     ]
    },
    {
     "name": "stderr",
     "output_type": "stream",
     "text": [
      "\n"
     ]
    }
   ],
   "source": [
    "for i in range(10):\n",
    "    evolve_generator(100, 0.001, 0.0002, 0.99, 1)\n",
    "    d, l = discriminator_make_dataset()\n",
    "    train_discriminator_eps(discriminator, 20, 0.001, 0.00001, d, l)"
   ]
  },
  {
   "cell_type": "code",
   "execution_count": 19,
   "metadata": {
    "scrolled": false
   },
   "outputs": [
    {
     "data": {
      "image/png": "[encoded data removed]",
      "text/plain": [
       "<Figure size 432x288 with 1 Axes>"
      ]
     },
     "metadata": {
      "needs_background": "light"
     },
     "output_type": "display_data"
    },
    {
     "data": {
      "image/png": "[encoded data removed]",
      "text/plain": [
       "<Figure size 432x288 with 1 Axes>"
      ]
     },
     "metadata": {
      "needs_background": "light"
     },
     "output_type": "display_data"
    },
    {
     "data": {
      "image/png": "[encoded data removed]",
      "text/plain": [
       "<Figure size 432x288 with 1 Axes>"
      ]
     },
     "metadata": {
      "needs_background": "light"
     },
     "output_type": "display_data"
    },
    {
     "data": {
      "image/png": "[encoded data removed]",
      "text/plain": [
       "<Figure size 432x288 with 1 Axes>"
      ]
     },
     "metadata": {
      "needs_background": "light"
     },
     "output_type": "display_data"
    },
    {
     "data": {
      "image/png": "[encoded data removed]",
      "text/plain": [
       "<Figure size 432x288 with 1 Axes>"
      ]
     },
     "metadata": {
      "needs_background": "light"
     },
     "output_type": "display_data"
    },
    {
     "data": {
      "image/png": "[encoded data removed]",
      "text/plain": [
       "<Figure size 432x288 with 1 Axes>"
      ]
     },
     "metadata": {
      "needs_background": "light"
     },
     "output_type": "display_data"
    },
    {
     "data": {
      "image/png": "[encoded data removed]",
      "text/plain": [
       "<Figure size 432x288 with 1 Axes>"
      ]
     },
     "metadata": {
      "needs_background": "light"
     },
     "output_type": "display_data"
    },
    {
     "data": {
      "image/png": "[encoded data removed]",
      "text/plain": [
       "<Figure size 432x288 with 1 Axes>"
      ]
     },
     "metadata": {
      "needs_background": "light"
     },
     "output_type": "display_data"
    },
    {
     "data": {
      "image/png": "[encoded data removed]",
      "text/plain": [
       "<Figure size 432x288 with 1 Axes>"
      ]
     },
     "metadata": {
      "needs_background": "light"
     },
     "output_type": "display_data"
    },
    {
     "data": {
      "image/png": "[encoded data removed]",
      "text/plain": [
       "<Figure size 432x288 with 1 Axes>"
      ]
     },
     "metadata": {
      "needs_background": "light"
     },
     "output_type": "display_data"
    },
    {
     "data": {
      "image/png": "[encoded data removed]",
      "text/plain": [
       "<Figure size 432x288 with 1 Axes>"
      ]
     },
     "metadata": {
      "needs_background": "light"
     },
     "output_type": "display_data"
    },
    {
     "data": {
      "image/png": "[encoded data removed]",
      "text/plain": [
       "<Figure size 432x288 with 1 Axes>"
      ]
     },
     "metadata": {
      "needs_background": "light"
     },
     "output_type": "display_data"
    },
    {
     "data": {
      "image/png": "[encoded data removed]",
      "text/plain": [
       "<Figure size 432x288 with 1 Axes>"
      ]
     },
     "metadata": {
      "needs_background": "light"
     },
     "output_type": "display_data"
    },
    {
     "data": {
      "image/png": "[encoded data removed]",
      "text/plain": [
       "<Figure size 432x288 with 1 Axes>"
      ]
     },
     "metadata": {
      "needs_background": "light"
     },
     "output_type": "display_data"
    },
    {
     "data": {
      "image/png": "[encoded data removed]",
      "text/plain": [
       "<Figure size 432x288 with 1 Axes>"
      ]
     },
     "metadata": {
      "needs_background": "light"
     },
     "output_type": "display_data"
    },
    {
     "data": {
      "image/png": "[encoded data removed]",
      "text/plain": [
       "<Figure size 432x288 with 1 Axes>"
      ]
     },
     "metadata": {
      "needs_background": "light"
     },
     "output_type": "display_data"
    },
    {
     "data": {
      "image/png": "[encoded data removed]",
      "text/plain": [
       "<Figure size 432x288 with 1 Axes>"
      ]
     },
     "metadata": {
      "needs_background": "light"
     },
     "output_type": "display_data"
    },
    {
     "data": {
      "image/png": "[encoded data removed]",
      "text/plain": [
       "<Figure size 432x288 with 1 Axes>"
      ]
     },
     "metadata": {
      "needs_background": "light"
     },
     "output_type": "display_data"
    },
    {
     "data": {
      "image/png": "[encoded data removed]",
      "text/plain": [
       "<Figure size 432x288 with 1 Axes>"
      ]
     },
     "metadata": {
      "needs_background": "light"
     },
     "output_type": "display_data"
    },
    {
     "data": {
      "image/png": "[encoded data removed]",
      "text/plain": [
       "<Figure size 432x288 with 1 Axes>"
      ]
     },
     "metadata": {
      "needs_background": "light"
     },
     "output_type": "display_data"
    }
   ],
   "source": [
    "for i in range(10):\n",
    "    label_to_picture(i)\n",
    "    generated_image(i)"
   ]
  },
  {
   "cell_type": "code",
   "execution_count": 28,
   "metadata": {},
   "outputs": [],
   "source": [
    "################"
   ]
  },
  {
   "cell_type": "code",
   "execution_count": null,
   "metadata": {},
   "outputs": [],
   "source": [
    "#####################"
   ]
  },
  {
   "cell_type": "code",
   "execution_count": 20,
   "metadata": {},
   "outputs": [],
   "source": [
    "torch.save(generator.state_dict(), 'generator_1e-8.pt')\n",
    "torch.save(discriminator.state_dict(), 'discriminator_1e-8.pt')"
   ]
  },
  {
   "cell_type": "code",
   "execution_count": null,
   "metadata": {},
   "outputs": [],
   "source": []
  }
 ],
 "metadata": {
  "kernelspec": {
   "display_name": "Python 3",
   "language": "python",
   "name": "python3"
  },
  "language_info": {
   "codemirror_mode": {
    "name": "ipython",
    "version": 3
   },
   "file_extension": ".py",
   "mimetype": "text/x-python",
   "name": "python",
   "nbconvert_exporter": "python",
   "pygments_lexer": "ipython3",
   "version": "3.7.6"
  }
 },
 "nbformat": 4,
 "nbformat_minor": 4
}
